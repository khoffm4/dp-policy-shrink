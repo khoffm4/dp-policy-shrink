{
 "cells": [
  {
   "cell_type": "markdown",
   "id": "ade7e8e0",
   "metadata": {},
   "source": [
    "# Title I Allocations w/ DP ACS"
   ]
  },
  {
   "cell_type": "code",
   "execution_count": 48,
   "id": "b76c0ac7-232a-451c-b878-e84f6c2104db",
   "metadata": {},
   "outputs": [],
   "source": [
    "from dp_policy.api import titlei_funding as funding\n",
    "from dp_policy.titlei.allocators import AbowdAllocator, SonnenbergAuthorizer\n",
    "from dp_policy.titlei.utils import weighting\n",
    "from dp_policy.titlei.mechanisms import Laplace, Gaussian, GroundTruth\n",
    "\n",
    "import numpy as np\n",
    "import matplotlib.pyplot as plt\n",
    "import scipy.stats as stats\n",
    "from tqdm import tqdm"
   ]
  },
  {
   "cell_type": "markdown",
   "id": "14463d1d",
   "metadata": {
    "tags": []
   },
   "source": [
    "## Allocation Algorithm"
   ]
  },
  {
   "cell_type": "markdown",
   "id": "3777f9b9",
   "metadata": {
    "tags": []
   },
   "source": [
    "### Data\n",
    "Need state per-pupil expenditure (SPPE) from the NCES. Most recent I can find in <5min is the [FY '18 data](https://nces.ed.gov/pubsearch/pubsinfo.asp?pubid=2020308).\n",
    "\n",
    "Had to use an online tool to convert Table 2 of [this report](https://nces.ed.gov/pubs2020/2020308.pdf)."
   ]
  },
  {
   "cell_type": "code",
   "execution_count": 2,
   "id": "c2eb04d8",
   "metadata": {},
   "outputs": [
    {
     "data": {
      "text/html": [
       "<div>\n",
       "<style scoped>\n",
       "    .dataframe tbody tr th:only-of-type {\n",
       "        vertical-align: middle;\n",
       "    }\n",
       "\n",
       "    .dataframe tbody tr th {\n",
       "        vertical-align: top;\n",
       "    }\n",
       "\n",
       "    .dataframe thead th {\n",
       "        text-align: right;\n",
       "    }\n",
       "</style>\n",
       "<table border=\"1\" class=\"dataframe\">\n",
       "  <thead>\n",
       "    <tr style=\"text-align: right;\">\n",
       "      <th></th>\n",
       "      <th>state</th>\n",
       "      <th>ppe</th>\n",
       "      <th>abbrv</th>\n",
       "    </tr>\n",
       "  </thead>\n",
       "  <tbody>\n",
       "    <tr>\n",
       "      <th>0</th>\n",
       "      <td>Alabama</td>\n",
       "      <td>9697</td>\n",
       "      <td>AL</td>\n",
       "    </tr>\n",
       "    <tr>\n",
       "      <th>1</th>\n",
       "      <td>Alaska</td>\n",
       "      <td>17726</td>\n",
       "      <td>AK</td>\n",
       "    </tr>\n",
       "    <tr>\n",
       "      <th>2</th>\n",
       "      <td>American Samoa</td>\n",
       "      <td>NaN</td>\n",
       "      <td>AS</td>\n",
       "    </tr>\n",
       "    <tr>\n",
       "      <th>3</th>\n",
       "      <td>Arizona</td>\n",
       "      <td>8296</td>\n",
       "      <td>AZ</td>\n",
       "    </tr>\n",
       "    <tr>\n",
       "      <th>4</th>\n",
       "      <td>Arkansas</td>\n",
       "      <td>10072</td>\n",
       "      <td>AR</td>\n",
       "    </tr>\n",
       "  </tbody>\n",
       "</table>\n",
       "</div>"
      ],
      "text/plain": [
       "            state    ppe abbrv\n",
       "0         Alabama   9697    AL\n",
       "1          Alaska  17726    AK\n",
       "2  American Samoa    NaN    AS\n",
       "3         Arizona   8296    AZ\n",
       "4        Arkansas  10072    AR"
      ]
     },
     "execution_count": 2,
     "metadata": {},
     "output_type": "execute_result"
    }
   ],
   "source": [
    "%load_ext autoreload\n",
    "%autoreload 2\n",
    "\n",
    "from dp_policy.titlei.utils import get_sppe\n",
    "import pandas as pd\n",
    "\n",
    "sppe = get_sppe(\"../data/sppe18.xlsx\")\n",
    "sppe.head()"
   ]
  },
  {
   "cell_type": "markdown",
   "id": "5743b85a",
   "metadata": {},
   "source": [
    "Also need a dict matching district IDs to district names to states. Simplest to use [SAIPE 2019](https://www2.census.gov/programs-surveys/saipe/datasets/2019/2019-school-districts/) ground-truth."
   ]
  },
  {
   "cell_type": "markdown",
   "id": "39553b65",
   "metadata": {},
   "source": [
    "Also, a method for roughly estimating standard errors for the SAIPE estimates, based on [these published docs](https://www.census.gov/programs-surveys/saipe/guidance/district-estimates.html). This could be improved - but start with this as a shortcut."
   ]
  },
  {
   "cell_type": "code",
   "execution_count": 3,
   "id": "e66810fa",
   "metadata": {},
   "outputs": [
    {
     "data": {
      "text/html": [
       "<div>\n",
       "<style scoped>\n",
       "    .dataframe tbody tr th:only-of-type {\n",
       "        vertical-align: middle;\n",
       "    }\n",
       "\n",
       "    .dataframe tbody tr th {\n",
       "        vertical-align: top;\n",
       "    }\n",
       "\n",
       "    .dataframe thead th {\n",
       "        text-align: right;\n",
       "    }\n",
       "</style>\n",
       "<table border=\"1\" class=\"dataframe\">\n",
       "  <thead>\n",
       "    <tr style=\"text-align: right;\">\n",
       "      <th></th>\n",
       "      <th></th>\n",
       "      <th>State Postal Code</th>\n",
       "      <th>Name</th>\n",
       "      <th>Estimated Total Population</th>\n",
       "      <th>Estimated Population 5-17</th>\n",
       "      <th>Estimated number of relevant children 5 to 17 years old in poverty who are related to the householder</th>\n",
       "      <th>cv</th>\n",
       "    </tr>\n",
       "    <tr>\n",
       "      <th>State FIPS Code</th>\n",
       "      <th>District ID</th>\n",
       "      <th></th>\n",
       "      <th></th>\n",
       "      <th></th>\n",
       "      <th></th>\n",
       "      <th></th>\n",
       "      <th></th>\n",
       "    </tr>\n",
       "  </thead>\n",
       "  <tbody>\n",
       "    <tr>\n",
       "      <th rowspan=\"5\" valign=\"top\">1</th>\n",
       "      <th>190</th>\n",
       "      <td>AL</td>\n",
       "      <td>Alabaster City School District</td>\n",
       "      <td>34669</td>\n",
       "      <td>6710</td>\n",
       "      <td>649</td>\n",
       "      <td>0.23</td>\n",
       "    </tr>\n",
       "    <tr>\n",
       "      <th>5</th>\n",
       "      <td>AL</td>\n",
       "      <td>Albertville City School District</td>\n",
       "      <td>22051</td>\n",
       "      <td>4131</td>\n",
       "      <td>957</td>\n",
       "      <td>0.23</td>\n",
       "    </tr>\n",
       "    <tr>\n",
       "      <th>30</th>\n",
       "      <td>AL</td>\n",
       "      <td>Alexander City City School District</td>\n",
       "      <td>16920</td>\n",
       "      <td>2575</td>\n",
       "      <td>703</td>\n",
       "      <td>0.28</td>\n",
       "    </tr>\n",
       "    <tr>\n",
       "      <th>60</th>\n",
       "      <td>AL</td>\n",
       "      <td>Andalusia City School District</td>\n",
       "      <td>8842</td>\n",
       "      <td>1465</td>\n",
       "      <td>406</td>\n",
       "      <td>0.35</td>\n",
       "    </tr>\n",
       "    <tr>\n",
       "      <th>90</th>\n",
       "      <td>AL</td>\n",
       "      <td>Anniston City School District</td>\n",
       "      <td>22043</td>\n",
       "      <td>3065</td>\n",
       "      <td>1057</td>\n",
       "      <td>0.23</td>\n",
       "    </tr>\n",
       "  </tbody>\n",
       "</table>\n",
       "</div>"
      ],
      "text/plain": [
       "                            State Postal Code  \\\n",
       "State FIPS Code District ID                     \n",
       "1               190                        AL   \n",
       "                5                          AL   \n",
       "                30                         AL   \n",
       "                60                         AL   \n",
       "                90                         AL   \n",
       "\n",
       "                                                            Name  \\\n",
       "State FIPS Code District ID                                        \n",
       "1               190               Alabaster City School District   \n",
       "                5               Albertville City School District   \n",
       "                30           Alexander City City School District   \n",
       "                60                Andalusia City School District   \n",
       "                90                 Anniston City School District   \n",
       "\n",
       "                             Estimated Total Population  \\\n",
       "State FIPS Code District ID                               \n",
       "1               190                               34669   \n",
       "                5                                 22051   \n",
       "                30                                16920   \n",
       "                60                                 8842   \n",
       "                90                                22043   \n",
       "\n",
       "                             Estimated Population 5-17  \\\n",
       "State FIPS Code District ID                              \n",
       "1               190                               6710   \n",
       "                5                                 4131   \n",
       "                30                                2575   \n",
       "                60                                1465   \n",
       "                90                                3065   \n",
       "\n",
       "                             Estimated number of relevant children 5 to 17 years old in poverty who are related to the householder  \\\n",
       "State FIPS Code District ID                                                                                                          \n",
       "1               190                                                        649                                                       \n",
       "                5                                                          957                                                       \n",
       "                30                                                         703                                                       \n",
       "                60                                                         406                                                       \n",
       "                90                                                        1057                                                       \n",
       "\n",
       "                               cv  \n",
       "State FIPS Code District ID        \n",
       "1               190          0.23  \n",
       "                5            0.23  \n",
       "                30           0.28  \n",
       "                60           0.35  \n",
       "                90           0.23  "
      ]
     },
     "execution_count": 3,
     "metadata": {},
     "output_type": "execute_result"
    }
   ],
   "source": [
    "from dp_policy.titlei.utils import get_saipe\n",
    "\n",
    "saipe = get_saipe(\"../data/saipe19.xls\")\n",
    "saipe.head()"
   ]
  },
  {
   "cell_type": "code",
   "execution_count": 4,
   "id": "5e84592a",
   "metadata": {},
   "outputs": [
    {
     "data": {
      "text/plain": [
       "645.2559921116505"
      ]
     },
     "execution_count": 4,
     "metadata": {},
     "output_type": "execute_result"
    }
   ],
   "source": [
    "# average school district student pop\n",
    "saipe[\"Estimated Population 5-17\"].mean()\n",
    "saipe[\"Estimated number of relevant children 5 to 17 years old in poverty who are related to the householder\"].mean()"
   ]
  },
  {
   "cell_type": "markdown",
   "id": "41a6fc25",
   "metadata": {
    "jp-MarkdownHeadingCollapsed": true,
    "tags": []
   },
   "source": [
    "### Code"
   ]
  },
  {
   "cell_type": "markdown",
   "id": "7cc8633c",
   "metadata": {},
   "source": [
    "Next, a class for the different ways we might allocate funds based on the poverty estimates (e.g. Abowd's shortcut method vs. the full Sonnenberg method)."
   ]
  },
  {
   "cell_type": "code",
   "execution_count": 12,
   "id": "720d1a51",
   "metadata": {},
   "outputs": [
    {
     "data": {
      "text/plain": [
       "1993.0"
      ]
     },
     "execution_count": 12,
     "metadata": {},
     "output_type": "execute_result"
    }
   ],
   "source": [
    "weighting(1559, 10000)"
   ]
  },
  {
   "cell_type": "markdown",
   "id": "0aebfe2f",
   "metadata": {},
   "source": [
    "Finally, the main method for computing estimates, then grant amounts."
   ]
  },
  {
   "cell_type": "code",
   "execution_count": 14,
   "id": "da974593",
   "metadata": {},
   "outputs": [
    {
     "name": "stdout",
     "output_type": "stream",
     "text": [
      "[WARN] Dropping districts with missing SPPE data: ['Puerto Rico']\n"
     ]
    },
    {
     "data": {
      "image/png": "[encoded data removed]",
      "text/plain": [
       "<Figure size 432x288 with 1 Axes>"
      ]
     },
     "metadata": {
      "needs_background": "light"
     },
     "output_type": "display_data"
    },
    {
     "data": {
      "image/png": "[encoded data removed]",
      "text/plain": [
       "<Figure size 432x288 with 1 Axes>"
      ]
     },
     "metadata": {
      "needs_background": "light"
     },
     "output_type": "display_data"
    },
    {
     "data": {
      "image/png": "[encoded data removed]",
      "text/plain": [
       "<Figure size 432x288 with 1 Axes>"
      ]
     },
     "metadata": {
      "needs_background": "light"
     },
     "output_type": "display_data"
    }
   ],
   "source": [
    "import numpy as np\n",
    "import matplotlib.pyplot as plt\n",
    "\n",
    "from dp_policy.api import titlei_funding as funding\n",
    "\n",
    "# Test with ground truth mechanism\n",
    "grants = funding(SonnenbergAuthorizer, saipe, GroundTruth(saipe), get_sppe(\"../data/sppe18.xlsx\"))\n",
    "grants.boxplot('true_grant_basic')\n",
    "plt.show()\n",
    "grants.boxplot('true_grant_concentration')\n",
    "plt.show()\n",
    "grants.boxplot('true_grant_targeted')\n",
    "plt.show()"
   ]
  },
  {
   "cell_type": "markdown",
   "id": "4c135c6e",
   "metadata": {
    "jp-MarkdownHeadingCollapsed": true,
    "tags": []
   },
   "source": [
    "## Laplace\n",
    "### Data\n",
    "From [SAIPE 2019](https://www2.census.gov/programs-surveys/saipe/datasets/2019/2019-school-districts/) release."
   ]
  },
  {
   "cell_type": "markdown",
   "id": "f2ff3458",
   "metadata": {
    "tags": []
   },
   "source": [
    "### Mechanism"
   ]
  },
  {
   "cell_type": "code",
   "execution_count": 24,
   "id": "b4e6f13b",
   "metadata": {
    "tags": []
   },
   "outputs": [
    {
     "data": {
      "text/plain": [
       "(State FIPS Code  District ID\n",
       " 1                190            3.466310e+04\n",
       "                  5              2.204851e+04\n",
       "                  30             1.691907e+04\n",
       "                  60             8.846642e+03\n",
       "                  90             2.204514e+04\n",
       "                                     ...     \n",
       " 56               6240           7.129927e+03\n",
       "                  5820           6.520007e+02\n",
       "                  4830           5.489508e+03\n",
       "                  6090           1.435926e+03\n",
       " 72               30             3.193688e+06\n",
       " Name: Estimated Total Population, Length: 13184, dtype: float64,\n",
       " State FIPS Code  District ID\n",
       " 1                190              6709.803011\n",
       "                  5                4098.321127\n",
       "                  30               2585.856639\n",
       "                  60               1466.951013\n",
       "                  90               3067.759224\n",
       "                                     ...      \n",
       " 56               6240             1269.258241\n",
       "                  5820               90.815062\n",
       "                  4830              799.516588\n",
       "                  6090              248.568618\n",
       " 72               30             455240.055522\n",
       " Name: Estimated Population 5-17, Length: 13184, dtype: float64,\n",
       " State FIPS Code  District ID\n",
       " 1                190               676.196331\n",
       "                  5                 938.270620\n",
       "                  30                719.984601\n",
       "                  60                418.793737\n",
       "                  90               1048.338693\n",
       "                                     ...      \n",
       " 56               6240              147.236290\n",
       "                  5820               14.917257\n",
       "                  4830              105.389441\n",
       "                  6090               13.915179\n",
       " 72               30             248596.765750\n",
       " Name: Estimated number of relevant children 5 to 17 years old in poverty who are related to the householder, Length: 13184, dtype: float64)"
      ]
     },
     "execution_count": 24,
     "metadata": {},
     "output_type": "execute_result"
    }
   ],
   "source": [
    "from dp_policy.titlei.mechanisms import Laplace\n",
    "        \n",
    "Laplace(saipe, 0.1, 0).poverty_estimates()"
   ]
  },
  {
   "cell_type": "markdown",
   "id": "188d77b9",
   "metadata": {
    "tags": []
   },
   "source": [
    "### Results\n",
    "First, using the full Sonnenberg authorization algo."
   ]
  },
  {
   "cell_type": "code",
   "execution_count": 26,
   "id": "89569dc5",
   "metadata": {},
   "outputs": [
    {
     "name": "stdout",
     "output_type": "stream",
     "text": [
      "[WARN] Dropping districts with missing SPPE data: ['Puerto Rico']\n",
      "136021116192.56747 authorized reduced to 15999020221.60293 allocated.\n"
     ]
    },
    {
     "data": {
      "text/html": [
       "<div>\n",
       "<style scoped>\n",
       "    .dataframe tbody tr th:only-of-type {\n",
       "        vertical-align: middle;\n",
       "    }\n",
       "\n",
       "    .dataframe tbody tr th {\n",
       "        vertical-align: top;\n",
       "    }\n",
       "\n",
       "    .dataframe thead th {\n",
       "        text-align: right;\n",
       "    }\n",
       "</style>\n",
       "<table border=\"1\" class=\"dataframe\">\n",
       "  <thead>\n",
       "    <tr style=\"text-align: right;\">\n",
       "      <th></th>\n",
       "      <th>true_pop_total</th>\n",
       "      <th>true_children_total</th>\n",
       "      <th>true_children_poverty</th>\n",
       "      <th>cv</th>\n",
       "      <th>est_pop_total</th>\n",
       "      <th>est_children_total</th>\n",
       "      <th>est_children_poverty</th>\n",
       "      <th>true_children_eligible</th>\n",
       "      <th>est_children_eligible</th>\n",
       "      <th>sppe</th>\n",
       "      <th>...</th>\n",
       "      <th>true_ci_upper</th>\n",
       "      <th>true_ci_lower</th>\n",
       "      <th>est_grant_basic_ci_upper</th>\n",
       "      <th>est_grant_basic_ci_lower</th>\n",
       "      <th>est_grant_concentration_ci_upper</th>\n",
       "      <th>est_grant_concentration_ci_lower</th>\n",
       "      <th>est_grant_targeted_ci_upper</th>\n",
       "      <th>est_grant_targeted_ci_lower</th>\n",
       "      <th>est_ci_upper</th>\n",
       "      <th>est_ci_lower</th>\n",
       "    </tr>\n",
       "  </thead>\n",
       "  <tbody>\n",
       "    <tr>\n",
       "      <th>count</th>\n",
       "      <td>1.318200e+04</td>\n",
       "      <td>1.318200e+04</td>\n",
       "      <td>13182.000000</td>\n",
       "      <td>13182.000000</td>\n",
       "      <td>1.318200e+04</td>\n",
       "      <td>1.318200e+04</td>\n",
       "      <td>13182.000000</td>\n",
       "      <td>13182.000000</td>\n",
       "      <td>13182.000000</td>\n",
       "      <td>13182.000000</td>\n",
       "      <td>...</td>\n",
       "      <td>1.318200e+04</td>\n",
       "      <td>1.318200e+04</td>\n",
       "      <td>1.318200e+04</td>\n",
       "      <td>1.318200e+04</td>\n",
       "      <td>1.318200e+04</td>\n",
       "      <td>1.318200e+04</td>\n",
       "      <td>1.318200e+04</td>\n",
       "      <td>1.318200e+04</td>\n",
       "      <td>1.318200e+04</td>\n",
       "      <td>1.318200e+04</td>\n",
       "    </tr>\n",
       "    <tr>\n",
       "      <th>mean</th>\n",
       "      <td>2.651938e+04</td>\n",
       "      <td>4.049290e+03</td>\n",
       "      <td>625.253224</td>\n",
       "      <td>0.383360</td>\n",
       "      <td>2.651938e+04</td>\n",
       "      <td>4.049291e+03</td>\n",
       "      <td>625.256346</td>\n",
       "      <td>625.253224</td>\n",
       "      <td>625.256346</td>\n",
       "      <td>13027.845092</td>\n",
       "      <td>...</td>\n",
       "      <td>1.213702e+06</td>\n",
       "      <td>1.213702e+06</td>\n",
       "      <td>1.213702e+06</td>\n",
       "      <td>1.213702e+06</td>\n",
       "      <td>1.213702e+06</td>\n",
       "      <td>1.213702e+06</td>\n",
       "      <td>1.213702e+06</td>\n",
       "      <td>1.213702e+06</td>\n",
       "      <td>1.581198e+07</td>\n",
       "      <td>5.569131e+06</td>\n",
       "    </tr>\n",
       "    <tr>\n",
       "      <th>std</th>\n",
       "      <td>1.155746e+05</td>\n",
       "      <td>1.728792e+04</td>\n",
       "      <td>3467.140325</td>\n",
       "      <td>0.171494</td>\n",
       "      <td>1.155746e+05</td>\n",
       "      <td>1.728792e+04</td>\n",
       "      <td>3467.140597</td>\n",
       "      <td>3467.140325</td>\n",
       "      <td>3467.140597</td>\n",
       "      <td>3667.794832</td>\n",
       "      <td>...</td>\n",
       "      <td>9.072442e+06</td>\n",
       "      <td>1.368358e+07</td>\n",
       "      <td>7.106615e+06</td>\n",
       "      <td>9.053746e+06</td>\n",
       "      <td>8.260585e+06</td>\n",
       "      <td>1.692069e+07</td>\n",
       "      <td>1.052004e+07</td>\n",
       "      <td>1.565711e+07</td>\n",
       "      <td>1.181959e+08</td>\n",
       "      <td>6.279018e+07</td>\n",
       "    </tr>\n",
       "    <tr>\n",
       "      <th>min</th>\n",
       "      <td>0.000000e+00</td>\n",
       "      <td>0.000000e+00</td>\n",
       "      <td>0.000000</td>\n",
       "      <td>0.150000</td>\n",
       "      <td>0.000000e+00</td>\n",
       "      <td>0.000000e+00</td>\n",
       "      <td>0.000000</td>\n",
       "      <td>0.000000</td>\n",
       "      <td>0.000000</td>\n",
       "      <td>7525.000000</td>\n",
       "      <td>...</td>\n",
       "      <td>0.000000e+00</td>\n",
       "      <td>-1.877257e+05</td>\n",
       "      <td>0.000000e+00</td>\n",
       "      <td>-2.891403e+05</td>\n",
       "      <td>0.000000e+00</td>\n",
       "      <td>-5.441109e+05</td>\n",
       "      <td>0.000000e+00</td>\n",
       "      <td>0.000000e+00</td>\n",
       "      <td>0.000000e+00</td>\n",
       "      <td>-8.628742e+05</td>\n",
       "    </tr>\n",
       "    <tr>\n",
       "      <th>25%</th>\n",
       "      <td>2.802000e+03</td>\n",
       "      <td>4.260000e+02</td>\n",
       "      <td>52.000000</td>\n",
       "      <td>0.230000</td>\n",
       "      <td>2.801732e+03</td>\n",
       "      <td>4.259967e+02</td>\n",
       "      <td>52.095602</td>\n",
       "      <td>52.000000</td>\n",
       "      <td>52.095602</td>\n",
       "      <td>10157.000000</td>\n",
       "      <td>...</td>\n",
       "      <td>1.129982e+05</td>\n",
       "      <td>0.000000e+00</td>\n",
       "      <td>1.474605e+05</td>\n",
       "      <td>0.000000e+00</td>\n",
       "      <td>0.000000e+00</td>\n",
       "      <td>0.000000e+00</td>\n",
       "      <td>9.845538e+04</td>\n",
       "      <td>0.000000e+00</td>\n",
       "      <td>1.474764e+06</td>\n",
       "      <td>0.000000e+00</td>\n",
       "    </tr>\n",
       "    <tr>\n",
       "      <th>50%</th>\n",
       "      <td>7.911000e+03</td>\n",
       "      <td>1.186000e+03</td>\n",
       "      <td>147.000000</td>\n",
       "      <td>0.350000</td>\n",
       "      <td>7.910749e+03</td>\n",
       "      <td>1.185937e+03</td>\n",
       "      <td>147.175757</td>\n",
       "      <td>147.000000</td>\n",
       "      <td>147.175757</td>\n",
       "      <td>12159.000000</td>\n",
       "      <td>...</td>\n",
       "      <td>2.893157e+05</td>\n",
       "      <td>5.307207e+04</td>\n",
       "      <td>3.598144e+05</td>\n",
       "      <td>1.448226e+05</td>\n",
       "      <td>2.370775e+05</td>\n",
       "      <td>0.000000e+00</td>\n",
       "      <td>2.579910e+05</td>\n",
       "      <td>0.000000e+00</td>\n",
       "      <td>3.765837e+06</td>\n",
       "      <td>2.438032e+05</td>\n",
       "    </tr>\n",
       "    <tr>\n",
       "      <th>75%</th>\n",
       "      <td>2.101825e+04</td>\n",
       "      <td>3.222000e+03</td>\n",
       "      <td>411.000000</td>\n",
       "      <td>0.420000</td>\n",
       "      <td>2.101805e+04</td>\n",
       "      <td>3.221968e+03</td>\n",
       "      <td>411.297458</td>\n",
       "      <td>411.000000</td>\n",
       "      <td>411.297458</td>\n",
       "      <td>15780.000000</td>\n",
       "      <td>...</td>\n",
       "      <td>7.866296e+05</td>\n",
       "      <td>3.663781e+05</td>\n",
       "      <td>9.061392e+05</td>\n",
       "      <td>6.559345e+05</td>\n",
       "      <td>8.112468e+05</td>\n",
       "      <td>0.000000e+00</td>\n",
       "      <td>7.120474e+05</td>\n",
       "      <td>3.210211e+05</td>\n",
       "      <td>1.025504e+07</td>\n",
       "      <td>1.680841e+06</td>\n",
       "    </tr>\n",
       "    <tr>\n",
       "      <th>max</th>\n",
       "      <td>8.336817e+06</td>\n",
       "      <td>1.193045e+06</td>\n",
       "      <td>259012.000000</td>\n",
       "      <td>0.670000</td>\n",
       "      <td>8.336817e+06</td>\n",
       "      <td>1.193045e+06</td>\n",
       "      <td>259011.973719</td>\n",
       "      <td>259012.000000</td>\n",
       "      <td>259011.973719</td>\n",
       "      <td>22845.000000</td>\n",
       "      <td>...</td>\n",
       "      <td>7.932588e+08</td>\n",
       "      <td>1.214449e+09</td>\n",
       "      <td>6.018906e+08</td>\n",
       "      <td>7.663601e+08</td>\n",
       "      <td>6.998595e+08</td>\n",
       "      <td>1.442154e+09</td>\n",
       "      <td>9.376912e+08</td>\n",
       "      <td>1.426419e+09</td>\n",
       "      <td>1.033459e+10</td>\n",
       "      <td>5.572770e+09</td>\n",
       "    </tr>\n",
       "  </tbody>\n",
       "</table>\n",
       "<p>8 rows × 34 columns</p>\n",
       "</div>"
      ],
      "text/plain": [
       "       true_pop_total  true_children_total  true_children_poverty  \\\n",
       "count    1.318200e+04         1.318200e+04           13182.000000   \n",
       "mean     2.651938e+04         4.049290e+03             625.253224   \n",
       "std      1.155746e+05         1.728792e+04            3467.140325   \n",
       "min      0.000000e+00         0.000000e+00               0.000000   \n",
       "25%      2.802000e+03         4.260000e+02              52.000000   \n",
       "50%      7.911000e+03         1.186000e+03             147.000000   \n",
       "75%      2.101825e+04         3.222000e+03             411.000000   \n",
       "max      8.336817e+06         1.193045e+06          259012.000000   \n",
       "\n",
       "                 cv  est_pop_total  est_children_total  est_children_poverty  \\\n",
       "count  13182.000000   1.318200e+04        1.318200e+04          13182.000000   \n",
       "mean       0.383360   2.651938e+04        4.049291e+03            625.256346   \n",
       "std        0.171494   1.155746e+05        1.728792e+04           3467.140597   \n",
       "min        0.150000   0.000000e+00        0.000000e+00              0.000000   \n",
       "25%        0.230000   2.801732e+03        4.259967e+02             52.095602   \n",
       "50%        0.350000   7.910749e+03        1.185937e+03            147.175757   \n",
       "75%        0.420000   2.101805e+04        3.221968e+03            411.297458   \n",
       "max        0.670000   8.336817e+06        1.193045e+06         259011.973719   \n",
       "\n",
       "       true_children_eligible  est_children_eligible          sppe  ...  \\\n",
       "count            13182.000000           13182.000000  13182.000000  ...   \n",
       "mean               625.253224             625.256346  13027.845092  ...   \n",
       "std               3467.140325            3467.140597   3667.794832  ...   \n",
       "min                  0.000000               0.000000   7525.000000  ...   \n",
       "25%                 52.000000              52.095602  10157.000000  ...   \n",
       "50%                147.000000             147.175757  12159.000000  ...   \n",
       "75%                411.000000             411.297458  15780.000000  ...   \n",
       "max             259012.000000          259011.973719  22845.000000  ...   \n",
       "\n",
       "       true_ci_upper  true_ci_lower  est_grant_basic_ci_upper  \\\n",
       "count   1.318200e+04   1.318200e+04              1.318200e+04   \n",
       "mean    1.213702e+06   1.213702e+06              1.213702e+06   \n",
       "std     9.072442e+06   1.368358e+07              7.106615e+06   \n",
       "min     0.000000e+00  -1.877257e+05              0.000000e+00   \n",
       "25%     1.129982e+05   0.000000e+00              1.474605e+05   \n",
       "50%     2.893157e+05   5.307207e+04              3.598144e+05   \n",
       "75%     7.866296e+05   3.663781e+05              9.061392e+05   \n",
       "max     7.932588e+08   1.214449e+09              6.018906e+08   \n",
       "\n",
       "       est_grant_basic_ci_lower  est_grant_concentration_ci_upper  \\\n",
       "count              1.318200e+04                      1.318200e+04   \n",
       "mean               1.213702e+06                      1.213702e+06   \n",
       "std                9.053746e+06                      8.260585e+06   \n",
       "min               -2.891403e+05                      0.000000e+00   \n",
       "25%                0.000000e+00                      0.000000e+00   \n",
       "50%                1.448226e+05                      2.370775e+05   \n",
       "75%                6.559345e+05                      8.112468e+05   \n",
       "max                7.663601e+08                      6.998595e+08   \n",
       "\n",
       "       est_grant_concentration_ci_lower  est_grant_targeted_ci_upper  \\\n",
       "count                      1.318200e+04                 1.318200e+04   \n",
       "mean                       1.213702e+06                 1.213702e+06   \n",
       "std                        1.692069e+07                 1.052004e+07   \n",
       "min                       -5.441109e+05                 0.000000e+00   \n",
       "25%                        0.000000e+00                 9.845538e+04   \n",
       "50%                        0.000000e+00                 2.579910e+05   \n",
       "75%                        0.000000e+00                 7.120474e+05   \n",
       "max                        1.442154e+09                 9.376912e+08   \n",
       "\n",
       "       est_grant_targeted_ci_lower  est_ci_upper  est_ci_lower  \n",
       "count                 1.318200e+04  1.318200e+04  1.318200e+04  \n",
       "mean                  1.213702e+06  1.581198e+07  5.569131e+06  \n",
       "std                   1.565711e+07  1.181959e+08  6.279018e+07  \n",
       "min                   0.000000e+00  0.000000e+00 -8.628742e+05  \n",
       "25%                   0.000000e+00  1.474764e+06  0.000000e+00  \n",
       "50%                   0.000000e+00  3.765837e+06  2.438032e+05  \n",
       "75%                   3.210211e+05  1.025504e+07  1.680841e+06  \n",
       "max                   1.426419e+09  1.033459e+10  5.572770e+09  \n",
       "\n",
       "[8 rows x 34 columns]"
      ]
     },
     "execution_count": 26,
     "metadata": {},
     "output_type": "execute_result"
    }
   ],
   "source": [
    "grants = funding(SonnenbergAuthorizer, saipe, Laplace(saipe, 5, 0), get_sppe(\"../data/sppe18.xlsx\"))\n",
    "grants.describe()"
   ]
  },
  {
   "cell_type": "code",
   "execution_count": 46,
   "id": "b30e2b10",
   "metadata": {},
   "outputs": [
    {
     "name": "stdout",
     "output_type": "stream",
     "text": [
      "2 iters:\n",
      "0 136021116192.56747 authorized reduced to 15999020221.60293 allocated.\n",
      "1 136021116192.56747 authorized reduced to 15999020221.60293 allocated.\n"
     ]
    },
    {
     "data": {
      "text/html": [
       "<div>\n",
       "<style scoped>\n",
       "    .dataframe tbody tr th:only-of-type {\n",
       "        vertical-align: middle;\n",
       "    }\n",
       "\n",
       "    .dataframe tbody tr th {\n",
       "        vertical-align: top;\n",
       "    }\n",
       "\n",
       "    .dataframe thead th {\n",
       "        text-align: right;\n",
       "    }\n",
       "</style>\n",
       "<table border=\"1\" class=\"dataframe\">\n",
       "  <thead>\n",
       "    <tr style=\"text-align: right;\">\n",
       "      <th></th>\n",
       "      <th></th>\n",
       "      <th></th>\n",
       "      <th>State FIPS Code</th>\n",
       "      <th>District ID</th>\n",
       "      <th>State Postal Code</th>\n",
       "      <th>Name</th>\n",
       "      <th>true_pop_total</th>\n",
       "      <th>true_children_total</th>\n",
       "      <th>true_children_poverty</th>\n",
       "      <th>cv</th>\n",
       "      <th>est_pop_total</th>\n",
       "      <th>est_children_total</th>\n",
       "      <th>...</th>\n",
       "      <th>est_children_eligible</th>\n",
       "      <th>sppe</th>\n",
       "      <th>true_grant_basic</th>\n",
       "      <th>true_grant_concentration</th>\n",
       "      <th>true_grant_targeted</th>\n",
       "      <th>est_grant_basic</th>\n",
       "      <th>est_grant_concentration</th>\n",
       "      <th>est_grant_targeted</th>\n",
       "      <th>true_grant_total</th>\n",
       "      <th>est_grant_total</th>\n",
       "    </tr>\n",
       "    <tr>\n",
       "      <th>delta</th>\n",
       "      <th>epsilon</th>\n",
       "      <th>id</th>\n",
       "      <th></th>\n",
       "      <th></th>\n",
       "      <th></th>\n",
       "      <th></th>\n",
       "      <th></th>\n",
       "      <th></th>\n",
       "      <th></th>\n",
       "      <th></th>\n",
       "      <th></th>\n",
       "      <th></th>\n",
       "      <th></th>\n",
       "      <th></th>\n",
       "      <th></th>\n",
       "      <th></th>\n",
       "      <th></th>\n",
       "      <th></th>\n",
       "      <th></th>\n",
       "      <th></th>\n",
       "      <th></th>\n",
       "      <th></th>\n",
       "      <th></th>\n",
       "    </tr>\n",
       "  </thead>\n",
       "  <tbody>\n",
       "    <tr>\n",
       "      <th rowspan=\"5\" valign=\"top\">0.0</th>\n",
       "      <th rowspan=\"5\" valign=\"top\">0.1</th>\n",
       "      <th>0</th>\n",
       "      <td>1</td>\n",
       "      <td>190</td>\n",
       "      <td>AL</td>\n",
       "      <td>Alabaster City School District</td>\n",
       "      <td>34669</td>\n",
       "      <td>6710</td>\n",
       "      <td>649</td>\n",
       "      <td>0.23</td>\n",
       "      <td>34661.480759</td>\n",
       "      <td>6709.133148</td>\n",
       "      <td>...</td>\n",
       "      <td>663.221939</td>\n",
       "      <td>9697.0</td>\n",
       "      <td>1.085565e+06</td>\n",
       "      <td>0.000000e+00</td>\n",
       "      <td>6.487332e+05</td>\n",
       "      <td>1.108703e+06</td>\n",
       "      <td>0.000000e+00</td>\n",
       "      <td>6.618146e+05</td>\n",
       "      <td>6.364793e+05</td>\n",
       "      <td>6.495153e+05</td>\n",
       "    </tr>\n",
       "    <tr>\n",
       "      <th>1</th>\n",
       "      <td>1</td>\n",
       "      <td>5</td>\n",
       "      <td>AL</td>\n",
       "      <td>Albertville City School District</td>\n",
       "      <td>22051</td>\n",
       "      <td>4131</td>\n",
       "      <td>957</td>\n",
       "      <td>0.23</td>\n",
       "      <td>22048.271749</td>\n",
       "      <td>4140.314291</td>\n",
       "      <td>...</td>\n",
       "      <td>949.322063</td>\n",
       "      <td>9697.0</td>\n",
       "      <td>1.600748e+06</td>\n",
       "      <td>2.169641e+06</td>\n",
       "      <td>1.220748e+06</td>\n",
       "      <td>1.586974e+06</td>\n",
       "      <td>2.148357e+06</td>\n",
       "      <td>1.196511e+06</td>\n",
       "      <td>1.537382e+06</td>\n",
       "      <td>1.516840e+06</td>\n",
       "    </tr>\n",
       "    <tr>\n",
       "      <th>2</th>\n",
       "      <td>1</td>\n",
       "      <td>30</td>\n",
       "      <td>AL</td>\n",
       "      <td>Alexander City City School District</td>\n",
       "      <td>16920</td>\n",
       "      <td>2575</td>\n",
       "      <td>703</td>\n",
       "      <td>0.28</td>\n",
       "      <td>16923.566600</td>\n",
       "      <td>2572.990046</td>\n",
       "      <td>...</td>\n",
       "      <td>709.032443</td>\n",
       "      <td>9697.0</td>\n",
       "      <td>1.175889e+06</td>\n",
       "      <td>1.593791e+06</td>\n",
       "      <td>1.025328e+06</td>\n",
       "      <td>1.185284e+06</td>\n",
       "      <td>1.604571e+06</td>\n",
       "      <td>1.040119e+06</td>\n",
       "      <td>1.192418e+06</td>\n",
       "      <td>1.204774e+06</td>\n",
       "    </tr>\n",
       "    <tr>\n",
       "      <th>3</th>\n",
       "      <td>1</td>\n",
       "      <td>60</td>\n",
       "      <td>AL</td>\n",
       "      <td>Andalusia City School District</td>\n",
       "      <td>8842</td>\n",
       "      <td>1465</td>\n",
       "      <td>406</td>\n",
       "      <td>0.35</td>\n",
       "      <td>8848.283904</td>\n",
       "      <td>1457.579485</td>\n",
       "      <td>...</td>\n",
       "      <td>421.506404</td>\n",
       "      <td>9697.0</td>\n",
       "      <td>6.791052e+05</td>\n",
       "      <td>9.204538e+05</td>\n",
       "      <td>5.972544e+05</td>\n",
       "      <td>7.046289e+05</td>\n",
       "      <td>9.538871e+05</td>\n",
       "      <td>6.364127e+05</td>\n",
       "      <td>6.911538e+05</td>\n",
       "      <td>7.250880e+05</td>\n",
       "    </tr>\n",
       "    <tr>\n",
       "      <th>4</th>\n",
       "      <td>1</td>\n",
       "      <td>90</td>\n",
       "      <td>AL</td>\n",
       "      <td>Anniston City School District</td>\n",
       "      <td>22043</td>\n",
       "      <td>3065</td>\n",
       "      <td>1057</td>\n",
       "      <td>0.23</td>\n",
       "      <td>22018.679435</td>\n",
       "      <td>3076.223373</td>\n",
       "      <td>...</td>\n",
       "      <td>1056.576713</td>\n",
       "      <td>9697.0</td>\n",
       "      <td>1.768015e+06</td>\n",
       "      <td>2.396354e+06</td>\n",
       "      <td>1.868482e+06</td>\n",
       "      <td>1.766271e+06</td>\n",
       "      <td>2.391079e+06</td>\n",
       "      <td>1.857923e+06</td>\n",
       "      <td>1.953202e+06</td>\n",
       "      <td>1.946438e+06</td>\n",
       "    </tr>\n",
       "  </tbody>\n",
       "</table>\n",
       "<p>5 rows × 22 columns</p>\n",
       "</div>"
      ],
      "text/plain": [
       "                  State FIPS Code  District ID State Postal Code  \\\n",
       "delta epsilon id                                                   \n",
       "0.0   0.1     0                 1          190                AL   \n",
       "              1                 1            5                AL   \n",
       "              2                 1           30                AL   \n",
       "              3                 1           60                AL   \n",
       "              4                 1           90                AL   \n",
       "\n",
       "                                                 Name  true_pop_total  \\\n",
       "delta epsilon id                                                        \n",
       "0.0   0.1     0        Alabaster City School District           34669   \n",
       "              1      Albertville City School District           22051   \n",
       "              2   Alexander City City School District           16920   \n",
       "              3        Andalusia City School District            8842   \n",
       "              4         Anniston City School District           22043   \n",
       "\n",
       "                  true_children_total  true_children_poverty    cv  \\\n",
       "delta epsilon id                                                     \n",
       "0.0   0.1     0                  6710                    649  0.23   \n",
       "              1                  4131                    957  0.23   \n",
       "              2                  2575                    703  0.28   \n",
       "              3                  1465                    406  0.35   \n",
       "              4                  3065                   1057  0.23   \n",
       "\n",
       "                  est_pop_total  est_children_total  ...  \\\n",
       "delta epsilon id                                     ...   \n",
       "0.0   0.1     0    34661.480759         6709.133148  ...   \n",
       "              1    22048.271749         4140.314291  ...   \n",
       "              2    16923.566600         2572.990046  ...   \n",
       "              3     8848.283904         1457.579485  ...   \n",
       "              4    22018.679435         3076.223373  ...   \n",
       "\n",
       "                  est_children_eligible    sppe  true_grant_basic  \\\n",
       "delta epsilon id                                                    \n",
       "0.0   0.1     0              663.221939  9697.0      1.085565e+06   \n",
       "              1              949.322063  9697.0      1.600748e+06   \n",
       "              2              709.032443  9697.0      1.175889e+06   \n",
       "              3              421.506404  9697.0      6.791052e+05   \n",
       "              4             1056.576713  9697.0      1.768015e+06   \n",
       "\n",
       "                  true_grant_concentration  true_grant_targeted  \\\n",
       "delta epsilon id                                                  \n",
       "0.0   0.1     0               0.000000e+00         6.487332e+05   \n",
       "              1               2.169641e+06         1.220748e+06   \n",
       "              2               1.593791e+06         1.025328e+06   \n",
       "              3               9.204538e+05         5.972544e+05   \n",
       "              4               2.396354e+06         1.868482e+06   \n",
       "\n",
       "                  est_grant_basic  est_grant_concentration  \\\n",
       "delta epsilon id                                             \n",
       "0.0   0.1     0      1.108703e+06             0.000000e+00   \n",
       "              1      1.586974e+06             2.148357e+06   \n",
       "              2      1.185284e+06             1.604571e+06   \n",
       "              3      7.046289e+05             9.538871e+05   \n",
       "              4      1.766271e+06             2.391079e+06   \n",
       "\n",
       "                  est_grant_targeted  true_grant_total  est_grant_total  \n",
       "delta epsilon id                                                         \n",
       "0.0   0.1     0         6.618146e+05      6.364793e+05     6.495153e+05  \n",
       "              1         1.196511e+06      1.537382e+06     1.516840e+06  \n",
       "              2         1.040119e+06      1.192418e+06     1.204774e+06  \n",
       "              3         6.364127e+05      6.911538e+05     7.250880e+05  \n",
       "              4         1.857923e+06      1.953202e+06     1.946438e+06  \n",
       "\n",
       "[5 rows x 22 columns]"
      ]
     },
     "execution_count": 46,
     "metadata": {},
     "output_type": "execute_result"
    }
   ],
   "source": [
    "import itertools\n",
    "from dp_policy.titlei.allocators import Allocator\n",
    "\n",
    "def test_params(saipe, mech, eps=list(np.logspace(-3, 1)) + [2.5], delta=[0.0]):\n",
    "    allocations = []\n",
    "    print(f\"{len(eps)*len(delta)} iters:\")\n",
    "    i = 0\n",
    "    for d in delta:\n",
    "        for e in eps:\n",
    "            print(i, end=\" \")\n",
    "            i += 1\n",
    "            allocations.append(funding(\n",
    "                SonnenbergAuthorizer,\n",
    "                saipe,  \n",
    "                mech(saipe, e, d), \n",
    "                get_sppe(\"../data/sppe18.xlsx\"), \n",
    "                verbose=False,\n",
    "                uncertainty=False\n",
    "            ).reset_index())\n",
    "    return pd.concat(allocations, axis=0, join=\"inner\", keys=itertools.product(delta, eps), names=[\"delta\", \"epsilon\", \"id\"])\n",
    "\n",
    "calc_total = SonnenbergAuthorizer.calc_total\n",
    "\n",
    "def plot_results(results, delta=False):\n",
    "    results = calc_total(results)\n",
    "    \n",
    "    eps, allocations = list(zip(*results.groupby(\"epsilon\")))\n",
    "    \n",
    "    mse = []\n",
    "    \n",
    "    for e, alloc in results.groupby(\"epsilon\"):\n",
    "        for grant_type in (\"basic\", \"concentration\", \"targeted\", \"total\"):\n",
    "            error = alloc[f\"true_grant_{grant_type}\"] - alloc[f\"est_grant_{grant_type}\"]\n",
    "            error_prop = alloc[f\"true_grant_{grant_type}\"]/sum(alloc[f\"true_grant_{grant_type}\"])\\\n",
    "                - alloc[f\"est_grant_{grant_type}\"]/sum(alloc[f\"est_grant_{grant_type}\"])\n",
    "            if (e == 2.5) or (e > 0.1 and e < 0.11):\n",
    "                print(f\"## {grant_type} grants ##\")\n",
    "                print(f\"RMSE at eps={e}:\", np.sqrt(np.mean(error**2)))\n",
    "                print(f\"RMSE prop eps={e}:\", sum(abs(error_prop)))\n",
    "                print(f\"Total misalloc at eps={e}:\", sum(abs(error)))\n",
    "                print(\"Total true alloc:\", sum(alloc[f\"true_grant_{grant_type}\"]))\n",
    "        \n",
    "            if grant_type == \"total\":\n",
    "                mse.append(np.sqrt(sum(error**2)/alloc.shape[0]))\n",
    "    \n",
    "    grant_type = \"total\"\n",
    "    plt.plot(eps, mse)\n",
    "    ax = plt.gca()\n",
    "    ax.set_xscale('log')\n",
    "    plt.xlabel(\"Epsilon\")\n",
    "    plt.ylabel(f\"{grant_type} grant RMSE, nationally\")\n",
    "    plt.show()\n",
    "\n",
    "    for i in [0, 25, -2]:\n",
    "        e = eps[i]\n",
    "        alloc = allocations[i][allocations[i][\"State Postal Code\"] == \"MI\"]\n",
    "        alloc = alloc.sort_values(f\"true_grant_{grant_type}\")\n",
    "        ids = alloc.index.get_level_values(\"id\").astype('str')\n",
    "        plt.scatter(ids, alloc[f\"est_grant_{grant_type}\"]/sum(alloc[f\"est_grant_{grant_type}\"]), s=2, alpha=0.3, label=f\"eps={e}\")\n",
    "    plt.scatter(ids, alloc[f\"true_grant_{grant_type}\"]/sum(alloc[f\"true_grant_{grant_type}\"]), s=2, alpha=0.3, label=\"true\")\n",
    "    ax = plt.gca()\n",
    "    ax.legend()\n",
    "    ax.axes.xaxis.set_ticks([])\n",
    "    ax.set_yscale('log')\n",
    "    plt.xlabel(\"District (sorted by true alloc)\")\n",
    "    plt.ylabel(\"Allocation as % of total\")\n",
    "    plt.title(f\"{grant_type} grants for Michigan\")\n",
    "    plt.show()\n",
    "\n",
    "    for i in [0, 25, -2]:\n",
    "        e = eps[i]\n",
    "        alloc = allocations[i][allocations[i][\"State Postal Code\"] == \"MI\"]\n",
    "        alloc['err_prop'] = (alloc[f\"est_grant_{grant_type}\"]/sum(alloc[f\"est_grant_{grant_type}\"]) - alloc[f\"true_grant_{grant_type}\"]/sum(alloc[f\"true_grant_{grant_type}\"])) * 1e6\n",
    "        plt.scatter(alloc[f\"true_grant_{grant_type}\"]/sum(alloc[f\"true_grant_{grant_type}\"]), alloc.err_prop, s=3, alpha=0.4, label=f\"eps={e}\")\n",
    "    ax = plt.gca()\n",
    "    ax.legend()\n",
    "    ax.set_xscale('log')\n",
    "    ax.set_yscale('log')\n",
    "    plt.xlabel(\"True allocation as % of total\")\n",
    "    plt.ylabel(\"Misallocation per million as % of total\")\n",
    "    plt.title(f\"{grant_type} grants for Michigan\")\n",
    "    plt.show()\n",
    "\n",
    "test_params(saipe, Laplace, eps=[0.1, 1.0], delta=[0.0]).head()"
   ]
  },
  {
   "cell_type": "code",
   "execution_count": 30,
   "id": "84037b74",
   "metadata": {},
   "outputs": [
    {
     "name": "stdout",
     "output_type": "stream",
     "text": [
      "5 iters:\n",
      "0 136021116192.56747 authorized reduced to 15999020221.60293 allocated.\n",
      "1 136021116192.56747 authorized reduced to 15999020221.60293 allocated.\n",
      "2 136021116192.56747 authorized reduced to 15999020221.60293 allocated.\n",
      "3 136021116192.56747 authorized reduced to 15999020221.60293 allocated.\n",
      "4 136021116192.56747 authorized reduced to 15999020221.60293 allocated.\n"
     ]
    }
   ],
   "source": [
    "results = test_params(saipe, Laplace, eps=[0.1, 1.0, 5.0, 10.0, 20.0])\n",
    "results.to_csv(\"../results/titlei_laplace.csv\")"
   ]
  },
  {
   "cell_type": "markdown",
   "id": "4d8aa763",
   "metadata": {
    "tags": []
   },
   "source": [
    "### Sanity check: using Abowd's method\n",
    "\n",
    "Abowd reported a mean squared SPPE of 20 million from 2014-15 data."
   ]
  },
  {
   "cell_type": "code",
   "execution_count": 36,
   "id": "330e4451",
   "metadata": {},
   "outputs": [
    {
     "name": "stdout",
     "output_type": "stream",
     "text": [
      "[WARN] Dropping districts with missing SPPE data: ['Puerto Rico']\n",
      "Mean Sq. SPPE (2018): 26235395.69087739\n"
     ]
    }
   ],
   "source": [
    "grants = funding(AbowdAllocator, saipe, Laplace(saipe, 2.52, 0), get_sppe(\"../data/sppe18.xlsx\"))\n",
    "print(\"Mean Sq. SPPE (2018):\", np.mean(grants.adj_sppe**2))"
   ]
  },
  {
   "cell_type": "markdown",
   "id": "bbbcc735",
   "metadata": {},
   "source": [
    "They also report an RMSE at e=2.52 of 2509 (again, using 2014-15 Common Core data, which I can't replicate) and 1334 at e=4.74 and 63000 at e=0.1. "
   ]
  },
  {
   "cell_type": "code",
   "execution_count": 37,
   "id": "61e01951",
   "metadata": {},
   "outputs": [
    {
     "data": {
      "text/plain": [
       "2912.5684564322705"
      ]
     },
     "execution_count": 37,
     "metadata": {},
     "output_type": "execute_result"
    }
   ],
   "source": [
    "# RMSE\n",
    "error = grants.true_grant_total - grants.est_grant_total\n",
    "np.sqrt(np.mean(error**2))"
   ]
  },
  {
   "cell_type": "code",
   "execution_count": 38,
   "id": "c748eb1c",
   "metadata": {},
   "outputs": [
    {
     "name": "stdout",
     "output_type": "stream",
     "text": [
      "Total misalloc at eps=2.52: 26638180.87756897\n"
     ]
    }
   ],
   "source": [
    "print(\"Total misalloc at eps=2.52:\", sum(abs(error)))"
   ]
  },
  {
   "cell_type": "code",
   "execution_count": 41,
   "id": "01b69fcb",
   "metadata": {},
   "outputs": [
    {
     "name": "stdout",
     "output_type": "stream",
     "text": [
      "[WARN] Dropping districts with missing SPPE data: ['Puerto Rico']\n"
     ]
    },
    {
     "data": {
      "text/plain": [
       "1557.1297884973883"
      ]
     },
     "execution_count": 41,
     "metadata": {},
     "output_type": "execute_result"
    }
   ],
   "source": [
    "grants = funding(AbowdAllocator, saipe, Laplace(saipe, 4.74, 0), get_sppe(\"../data/sppe18.xlsx\"))\n",
    "error = grants.true_grant_total - grants.est_grant_total\n",
    "np.sqrt(np.mean(error**2))"
   ]
  },
  {
   "cell_type": "code",
   "execution_count": 42,
   "id": "be0113be",
   "metadata": {},
   "outputs": [
    {
     "name": "stdout",
     "output_type": "stream",
     "text": [
      "[WARN] Dropping districts with missing SPPE data: ['Puerto Rico']\n"
     ]
    },
    {
     "data": {
      "text/plain": [
       "70606.82647769673"
      ]
     },
     "execution_count": 42,
     "metadata": {},
     "output_type": "execute_result"
    }
   ],
   "source": [
    "grants = funding(AbowdAllocator, saipe, Laplace(saipe, 0.1, 0), get_sppe(\"../data/sppe18.xlsx\"))\n",
    "error = grants.true_grant_total - grants.est_grant_total\n",
    "np.sqrt(np.mean(error**2))"
   ]
  },
  {
   "cell_type": "markdown",
   "id": "96ab5e34",
   "metadata": {},
   "source": [
    "So we get some small differences due to inflation or due to other differences in data, but roughly the same values. Biggest difference is in SPPE - apparenlty spending has increased since 2014."
   ]
  },
  {
   "cell_type": "markdown",
   "id": "835d1b95",
   "metadata": {
    "jp-MarkdownHeadingCollapsed": true,
    "tags": []
   },
   "source": [
    "## Gaussian (Advanced Composition, Approx. DP)\n",
    "\n",
    "Add Gaussian noise ln(1/delta)/epsilon for better accuracy bound."
   ]
  },
  {
   "cell_type": "code",
   "execution_count": 47,
   "id": "b0347b7a",
   "metadata": {
    "collapsed": true,
    "jupyter": {
     "outputs_hidden": true
    },
    "tags": []
   },
   "outputs": [
    {
     "name": "stdout",
     "output_type": "stream",
     "text": [
      "510 iters:\n",
      "0 136021116192.56747 authorized reduced to 15999020221.60293 allocated.\n",
      "1 136021116192.56747 authorized reduced to 15999020221.60293 allocated.\n",
      "2 136021116192.56747 authorized reduced to 15999020221.60293 allocated.\n",
      "3 136021116192.56747 authorized reduced to 15999020221.60293 allocated.\n",
      "4 136021116192.56747 authorized reduced to 15999020221.60293 allocated.\n",
      "5 136021116192.56747 authorized reduced to 15999020221.60293 allocated.\n",
      "6 136021116192.56747 authorized reduced to 15999020221.60293 allocated.\n",
      "7 136021116192.56747 authorized reduced to 15999020221.60293 allocated.\n",
      "8 136021116192.56747 authorized reduced to 15999020221.60293 allocated.\n",
      "9 136021116192.56747 authorized reduced to 15999020221.60293 allocated.\n",
      "10 136021116192.56747 authorized reduced to 15999020221.60293 allocated.\n",
      "11 136021116192.56747 authorized reduced to 15999020221.60293 allocated.\n",
      "12 136021116192.56747 authorized reduced to 15999020221.60293 allocated.\n",
      "13 136021116192.56747 authorized reduced to 15999020221.60293 allocated.\n",
      "14 136021116192.56747 authorized reduced to 15999020221.60293 allocated.\n",
      "15 136021116192.56747 authorized reduced to 15999020221.60293 allocated.\n",
      "16 136021116192.56747 authorized reduced to 15999020221.60293 allocated.\n",
      "17 136021116192.56747 authorized reduced to 15999020221.60293 allocated.\n",
      "18 136021116192.56747 authorized reduced to 15999020221.60293 allocated.\n",
      "19 136021116192.56747 authorized reduced to 15999020221.60293 allocated.\n",
      "20 136021116192.56747 authorized reduced to 15999020221.60293 allocated.\n",
      "21 136021116192.56747 authorized reduced to 15999020221.60293 allocated.\n",
      "22 136021116192.56747 authorized reduced to 15999020221.60293 allocated.\n",
      "23 136021116192.56747 authorized reduced to 15999020221.60293 allocated.\n",
      "24 136021116192.56747 authorized reduced to 15999020221.60293 allocated.\n",
      "25 136021116192.56747 authorized reduced to 15999020221.60293 allocated.\n",
      "26 136021116192.56747 authorized reduced to 15999020221.60293 allocated.\n",
      "27 136021116192.56747 authorized reduced to 15999020221.60293 allocated.\n",
      "28 136021116192.56747 authorized reduced to 15999020221.60293 allocated.\n",
      "29 136021116192.56747 authorized reduced to 15999020221.60293 allocated.\n",
      "30 136021116192.56747 authorized reduced to 15999020221.60293 allocated.\n",
      "31 136021116192.56747 authorized reduced to 15999020221.60293 allocated.\n",
      "32 136021116192.56747 authorized reduced to 15999020221.60293 allocated.\n",
      "33 136021116192.56747 authorized reduced to 15999020221.60293 allocated.\n",
      "34 136021116192.56747 authorized reduced to 15999020221.60293 allocated.\n",
      "35 136021116192.56747 authorized reduced to 15999020221.60293 allocated.\n",
      "36 136021116192.56747 authorized reduced to 15999020221.60293 allocated.\n",
      "37 136021116192.56747 authorized reduced to 15999020221.60293 allocated.\n",
      "38 136021116192.56747 authorized reduced to 15999020221.60293 allocated.\n",
      "39 136021116192.56747 authorized reduced to 15999020221.60293 allocated.\n",
      "40 136021116192.56747 authorized reduced to 15999020221.60293 allocated.\n",
      "41 136021116192.56747 authorized reduced to 15999020221.60293 allocated.\n",
      "42 136021116192.56747 authorized reduced to 15999020221.60293 allocated.\n",
      "43 136021116192.56747 authorized reduced to 15999020221.60293 allocated.\n",
      "44 136021116192.56747 authorized reduced to 15999020221.60293 allocated.\n",
      "45 136021116192.56747 authorized reduced to 15999020221.60293 allocated.\n",
      "46 136021116192.56747 authorized reduced to 15999020221.60293 allocated.\n",
      "47 136021116192.56747 authorized reduced to 15999020221.60293 allocated.\n",
      "48 136021116192.56747 authorized reduced to 15999020221.60293 allocated.\n",
      "49 136021116192.56747 authorized reduced to 15999020221.60293 allocated.\n",
      "50 136021116192.56747 authorized reduced to 15999020221.60293 allocated.\n",
      "51 136021116192.56747 authorized reduced to 15999020221.60293 allocated.\n",
      "52 136021116192.56747 authorized reduced to 15999020221.60293 allocated.\n",
      "53 136021116192.56747 authorized reduced to 15999020221.60293 allocated.\n",
      "54 136021116192.56747 authorized reduced to 15999020221.60293 allocated.\n",
      "55 136021116192.56747 authorized reduced to 15999020221.60293 allocated.\n",
      "56 136021116192.56747 authorized reduced to 15999020221.60293 allocated.\n",
      "57 136021116192.56747 authorized reduced to 15999020221.60293 allocated.\n",
      "58 136021116192.56747 authorized reduced to 15999020221.60293 allocated.\n",
      "59 136021116192.56747 authorized reduced to 15999020221.60293 allocated.\n",
      "60 136021116192.56747 authorized reduced to 15999020221.60293 allocated.\n",
      "61 136021116192.56747 authorized reduced to 15999020221.60293 allocated.\n",
      "62 136021116192.56747 authorized reduced to 15999020221.60293 allocated.\n",
      "63 136021116192.56747 authorized reduced to 15999020221.60293 allocated.\n",
      "64 136021116192.56747 authorized reduced to 15999020221.60293 allocated.\n",
      "65 136021116192.56747 authorized reduced to 15999020221.60293 allocated.\n",
      "66 136021116192.56747 authorized reduced to 15999020221.60293 allocated.\n",
      "67 136021116192.56747 authorized reduced to 15999020221.60293 allocated.\n",
      "68 136021116192.56747 authorized reduced to 15999020221.60293 allocated.\n",
      "69 136021116192.56747 authorized reduced to 15999020221.60293 allocated.\n",
      "70 136021116192.56747 authorized reduced to 15999020221.60293 allocated.\n",
      "71 136021116192.56747 authorized reduced to 15999020221.60293 allocated.\n",
      "72 136021116192.56747 authorized reduced to 15999020221.60293 allocated.\n",
      "73 136021116192.56747 authorized reduced to 15999020221.60293 allocated.\n",
      "74 136021116192.56747 authorized reduced to 15999020221.60293 allocated.\n",
      "75 136021116192.56747 authorized reduced to 15999020221.60293 allocated.\n",
      "76 136021116192.56747 authorized reduced to 15999020221.60293 allocated.\n",
      "77 136021116192.56747 authorized reduced to 15999020221.60293 allocated.\n",
      "78 136021116192.56747 authorized reduced to 15999020221.60293 allocated.\n",
      "79 136021116192.56747 authorized reduced to 15999020221.60293 allocated.\n",
      "80 136021116192.56747 authorized reduced to 15999020221.60293 allocated.\n",
      "81 136021116192.56747 authorized reduced to 15999020221.60293 allocated.\n",
      "82 136021116192.56747 authorized reduced to 15999020221.60293 allocated.\n",
      "83 136021116192.56747 authorized reduced to 15999020221.60293 allocated.\n",
      "84 136021116192.56747 authorized reduced to 15999020221.60293 allocated.\n",
      "85 136021116192.56747 authorized reduced to 15999020221.60293 allocated.\n",
      "86 136021116192.56747 authorized reduced to 15999020221.60293 allocated.\n",
      "87 136021116192.56747 authorized reduced to 15999020221.60293 allocated.\n",
      "88 136021116192.56747 authorized reduced to 15999020221.60293 allocated.\n",
      "89 136021116192.56747 authorized reduced to 15999020221.60293 allocated.\n",
      "90 136021116192.56747 authorized reduced to 15999020221.60293 allocated.\n",
      "91 136021116192.56747 authorized reduced to 15999020221.60293 allocated.\n",
      "92 136021116192.56747 authorized reduced to 15999020221.60293 allocated.\n",
      "93 136021116192.56747 authorized reduced to 15999020221.60293 allocated.\n",
      "94 136021116192.56747 authorized reduced to 15999020221.60293 allocated.\n",
      "95 136021116192.56747 authorized reduced to 15999020221.60293 allocated.\n",
      "96 136021116192.56747 authorized reduced to 15999020221.60293 allocated.\n",
      "97 136021116192.56747 authorized reduced to 15999020221.60293 allocated.\n",
      "98 136021116192.56747 authorized reduced to 15999020221.60293 allocated.\n",
      "99 136021116192.56747 authorized reduced to 15999020221.60293 allocated.\n",
      "100 136021116192.56747 authorized reduced to 15999020221.60293 allocated.\n",
      "101 136021116192.56747 authorized reduced to 15999020221.60293 allocated.\n",
      "102 136021116192.56747 authorized reduced to 15999020221.60293 allocated.\n",
      "103 136021116192.56747 authorized reduced to 15999020221.60293 allocated.\n",
      "104 136021116192.56747 authorized reduced to 15999020221.60293 allocated.\n",
      "105 136021116192.56747 authorized reduced to 15999020221.60293 allocated.\n",
      "106 136021116192.56747 authorized reduced to 15999020221.60293 allocated.\n",
      "107 136021116192.56747 authorized reduced to 15999020221.60293 allocated.\n",
      "108 136021116192.56747 authorized reduced to 15999020221.60293 allocated.\n",
      "109 136021116192.56747 authorized reduced to 15999020221.60293 allocated.\n",
      "110 136021116192.56747 authorized reduced to 15999020221.60293 allocated.\n",
      "111 136021116192.56747 authorized reduced to 15999020221.60293 allocated.\n",
      "112 136021116192.56747 authorized reduced to 15999020221.60293 allocated.\n",
      "113 136021116192.56747 authorized reduced to 15999020221.60293 allocated.\n",
      "114 136021116192.56747 authorized reduced to 15999020221.60293 allocated.\n",
      "115 136021116192.56747 authorized reduced to 15999020221.60293 allocated.\n",
      "116 136021116192.56747 authorized reduced to 15999020221.60293 allocated.\n",
      "117 136021116192.56747 authorized reduced to 15999020221.60293 allocated.\n",
      "118 136021116192.56747 authorized reduced to 15999020221.60293 allocated.\n",
      "119 136021116192.56747 authorized reduced to 15999020221.60293 allocated.\n",
      "120 136021116192.56747 authorized reduced to 15999020221.60293 allocated.\n",
      "121 136021116192.56747 authorized reduced to 15999020221.60293 allocated.\n",
      "122 136021116192.56747 authorized reduced to 15999020221.60293 allocated.\n",
      "123 136021116192.56747 authorized reduced to 15999020221.60293 allocated.\n",
      "124 136021116192.56747 authorized reduced to 15999020221.60293 allocated.\n",
      "125 136021116192.56747 authorized reduced to 15999020221.60293 allocated.\n",
      "126 136021116192.56747 authorized reduced to 15999020221.60293 allocated.\n",
      "127 136021116192.56747 authorized reduced to 15999020221.60293 allocated.\n",
      "128 136021116192.56747 authorized reduced to 15999020221.60293 allocated.\n",
      "129 136021116192.56747 authorized reduced to 15999020221.60293 allocated.\n",
      "130 136021116192.56747 authorized reduced to 15999020221.60293 allocated.\n",
      "131 136021116192.56747 authorized reduced to 15999020221.60293 allocated.\n",
      "132 136021116192.56747 authorized reduced to 15999020221.60293 allocated.\n",
      "133 136021116192.56747 authorized reduced to 15999020221.60293 allocated.\n",
      "134 136021116192.56747 authorized reduced to 15999020221.60293 allocated.\n",
      "135 136021116192.56747 authorized reduced to 15999020221.60293 allocated.\n",
      "136 136021116192.56747 authorized reduced to 15999020221.60293 allocated.\n",
      "137 136021116192.56747 authorized reduced to 15999020221.60293 allocated.\n",
      "138 136021116192.56747 authorized reduced to 15999020221.60293 allocated.\n",
      "139 136021116192.56747 authorized reduced to 15999020221.60293 allocated.\n",
      "140 136021116192.56747 authorized reduced to 15999020221.60293 allocated.\n",
      "141 136021116192.56747 authorized reduced to 15999020221.60293 allocated.\n",
      "142 136021116192.56747 authorized reduced to 15999020221.60293 allocated.\n",
      "143 136021116192.56747 authorized reduced to 15999020221.60293 allocated.\n",
      "144 136021116192.56747 authorized reduced to 15999020221.60293 allocated.\n",
      "145 136021116192.56747 authorized reduced to 15999020221.60293 allocated.\n",
      "146 136021116192.56747 authorized reduced to 15999020221.60293 allocated.\n",
      "147 136021116192.56747 authorized reduced to 15999020221.60293 allocated.\n",
      "148 136021116192.56747 authorized reduced to 15999020221.60293 allocated.\n",
      "149 136021116192.56747 authorized reduced to 15999020221.60293 allocated.\n",
      "150 136021116192.56747 authorized reduced to 15999020221.60293 allocated.\n",
      "151 136021116192.56747 authorized reduced to 15999020221.60293 allocated.\n",
      "152 136021116192.56747 authorized reduced to 15999020221.60293 allocated.\n",
      "153 136021116192.56747 authorized reduced to 15999020221.60293 allocated.\n",
      "154 136021116192.56747 authorized reduced to 15999020221.60293 allocated.\n",
      "155 136021116192.56747 authorized reduced to 15999020221.60293 allocated.\n",
      "156 136021116192.56747 authorized reduced to 15999020221.60293 allocated.\n",
      "157 136021116192.56747 authorized reduced to 15999020221.60293 allocated.\n",
      "158 136021116192.56747 authorized reduced to 15999020221.60293 allocated.\n",
      "159 136021116192.56747 authorized reduced to 15999020221.60293 allocated.\n",
      "160 136021116192.56747 authorized reduced to 15999020221.60293 allocated.\n",
      "161 136021116192.56747 authorized reduced to 15999020221.60293 allocated.\n",
      "162 136021116192.56747 authorized reduced to 15999020221.60293 allocated.\n",
      "163 136021116192.56747 authorized reduced to 15999020221.60293 allocated.\n",
      "164 136021116192.56747 authorized reduced to 15999020221.60293 allocated.\n",
      "165 136021116192.56747 authorized reduced to 15999020221.60293 allocated.\n",
      "166 136021116192.56747 authorized reduced to 15999020221.60293 allocated.\n",
      "167 136021116192.56747 authorized reduced to 15999020221.60293 allocated.\n",
      "168 136021116192.56747 authorized reduced to 15999020221.60293 allocated.\n",
      "169 136021116192.56747 authorized reduced to 15999020221.60293 allocated.\n",
      "170 136021116192.56747 authorized reduced to 15999020221.60293 allocated.\n",
      "171 136021116192.56747 authorized reduced to 15999020221.60293 allocated.\n",
      "172 136021116192.56747 authorized reduced to 15999020221.60293 allocated.\n",
      "173 136021116192.56747 authorized reduced to 15999020221.60293 allocated.\n",
      "174 136021116192.56747 authorized reduced to 15999020221.60293 allocated.\n",
      "175 136021116192.56747 authorized reduced to 15999020221.60293 allocated.\n",
      "176 136021116192.56747 authorized reduced to 15999020221.60293 allocated.\n",
      "177 136021116192.56747 authorized reduced to 15999020221.60293 allocated.\n",
      "178 136021116192.56747 authorized reduced to 15999020221.60293 allocated.\n",
      "179 136021116192.56747 authorized reduced to 15999020221.60293 allocated.\n",
      "180 136021116192.56747 authorized reduced to 15999020221.60293 allocated.\n",
      "181 136021116192.56747 authorized reduced to 15999020221.60293 allocated.\n",
      "182 136021116192.56747 authorized reduced to 15999020221.60293 allocated.\n",
      "183 136021116192.56747 authorized reduced to 15999020221.60293 allocated.\n",
      "184 136021116192.56747 authorized reduced to 15999020221.60293 allocated.\n",
      "185 136021116192.56747 authorized reduced to 15999020221.60293 allocated.\n",
      "186 136021116192.56747 authorized reduced to 15999020221.60293 allocated.\n",
      "187 136021116192.56747 authorized reduced to 15999020221.60293 allocated.\n",
      "188 136021116192.56747 authorized reduced to 15999020221.60293 allocated.\n",
      "189 136021116192.56747 authorized reduced to 15999020221.60293 allocated.\n",
      "190 136021116192.56747 authorized reduced to 15999020221.60293 allocated.\n",
      "191 136021116192.56747 authorized reduced to 15999020221.60293 allocated.\n",
      "192 136021116192.56747 authorized reduced to 15999020221.60293 allocated.\n",
      "193 136021116192.56747 authorized reduced to 15999020221.60293 allocated.\n",
      "194 136021116192.56747 authorized reduced to 15999020221.60293 allocated.\n",
      "195 136021116192.56747 authorized reduced to 15999020221.60293 allocated.\n",
      "196 136021116192.56747 authorized reduced to 15999020221.60293 allocated.\n",
      "197 136021116192.56747 authorized reduced to 15999020221.60293 allocated.\n",
      "198 136021116192.56747 authorized reduced to 15999020221.60293 allocated.\n",
      "199 136021116192.56747 authorized reduced to 15999020221.60293 allocated.\n",
      "200 136021116192.56747 authorized reduced to 15999020221.60293 allocated.\n",
      "201 136021116192.56747 authorized reduced to 15999020221.60293 allocated.\n",
      "202 136021116192.56747 authorized reduced to 15999020221.60293 allocated.\n",
      "203 136021116192.56747 authorized reduced to 15999020221.60293 allocated.\n",
      "204 136021116192.56747 authorized reduced to 15999020221.60293 allocated.\n",
      "205 136021116192.56747 authorized reduced to 15999020221.60293 allocated.\n",
      "206 136021116192.56747 authorized reduced to 15999020221.60293 allocated.\n",
      "207 136021116192.56747 authorized reduced to 15999020221.60293 allocated.\n",
      "208 136021116192.56747 authorized reduced to 15999020221.60293 allocated.\n",
      "209 136021116192.56747 authorized reduced to 15999020221.60293 allocated.\n",
      "210 136021116192.56747 authorized reduced to 15999020221.60293 allocated.\n",
      "211 136021116192.56747 authorized reduced to 15999020221.60293 allocated.\n",
      "212 136021116192.56747 authorized reduced to 15999020221.60293 allocated.\n",
      "213 136021116192.56747 authorized reduced to 15999020221.60293 allocated.\n",
      "214 136021116192.56747 authorized reduced to 15999020221.60293 allocated.\n",
      "215 136021116192.56747 authorized reduced to 15999020221.60293 allocated.\n",
      "216 136021116192.56747 authorized reduced to 15999020221.60293 allocated.\n",
      "217 136021116192.56747 authorized reduced to 15999020221.60293 allocated.\n",
      "218 136021116192.56747 authorized reduced to 15999020221.60293 allocated.\n",
      "219 136021116192.56747 authorized reduced to 15999020221.60293 allocated.\n",
      "220 136021116192.56747 authorized reduced to 15999020221.60293 allocated.\n",
      "221 136021116192.56747 authorized reduced to 15999020221.60293 allocated.\n",
      "222 136021116192.56747 authorized reduced to 15999020221.60293 allocated.\n",
      "223 136021116192.56747 authorized reduced to 15999020221.60293 allocated.\n",
      "224 136021116192.56747 authorized reduced to 15999020221.60293 allocated.\n",
      "225 136021116192.56747 authorized reduced to 15999020221.60293 allocated.\n",
      "226 136021116192.56747 authorized reduced to 15999020221.60293 allocated.\n",
      "227 136021116192.56747 authorized reduced to 15999020221.60293 allocated.\n",
      "228 136021116192.56747 authorized reduced to 15999020221.60293 allocated.\n",
      "229 136021116192.56747 authorized reduced to 15999020221.60293 allocated.\n",
      "230 136021116192.56747 authorized reduced to 15999020221.60293 allocated.\n",
      "231 136021116192.56747 authorized reduced to 15999020221.60293 allocated.\n",
      "232 136021116192.56747 authorized reduced to 15999020221.60293 allocated.\n",
      "233 136021116192.56747 authorized reduced to 15999020221.60293 allocated.\n",
      "234 136021116192.56747 authorized reduced to 15999020221.60293 allocated.\n",
      "235 136021116192.56747 authorized reduced to 15999020221.60293 allocated.\n",
      "236 136021116192.56747 authorized reduced to 15999020221.60293 allocated.\n",
      "237 136021116192.56747 authorized reduced to 15999020221.60293 allocated.\n",
      "238 136021116192.56747 authorized reduced to 15999020221.60293 allocated.\n",
      "239 136021116192.56747 authorized reduced to 15999020221.60293 allocated.\n",
      "240 136021116192.56747 authorized reduced to 15999020221.60293 allocated.\n",
      "241 136021116192.56747 authorized reduced to 15999020221.60293 allocated.\n",
      "242 136021116192.56747 authorized reduced to 15999020221.60293 allocated.\n",
      "243 136021116192.56747 authorized reduced to 15999020221.60293 allocated.\n",
      "244 136021116192.56747 authorized reduced to 15999020221.60293 allocated.\n",
      "245 136021116192.56747 authorized reduced to 15999020221.60293 allocated.\n",
      "246 136021116192.56747 authorized reduced to 15999020221.60293 allocated.\n",
      "247 136021116192.56747 authorized reduced to 15999020221.60293 allocated.\n",
      "248 136021116192.56747 authorized reduced to 15999020221.60293 allocated.\n",
      "249 136021116192.56747 authorized reduced to 15999020221.60293 allocated.\n",
      "250 136021116192.56747 authorized reduced to 15999020221.60293 allocated.\n",
      "251 136021116192.56747 authorized reduced to 15999020221.60293 allocated.\n",
      "252 136021116192.56747 authorized reduced to 15999020221.60293 allocated.\n",
      "253 136021116192.56747 authorized reduced to 15999020221.60293 allocated.\n",
      "254 136021116192.56747 authorized reduced to 15999020221.60293 allocated.\n",
      "255 136021116192.56747 authorized reduced to 15999020221.60293 allocated.\n",
      "256 136021116192.56747 authorized reduced to 15999020221.60293 allocated.\n",
      "257 136021116192.56747 authorized reduced to 15999020221.60293 allocated.\n",
      "258 136021116192.56747 authorized reduced to 15999020221.60293 allocated.\n",
      "259 136021116192.56747 authorized reduced to 15999020221.60293 allocated.\n",
      "260 136021116192.56747 authorized reduced to 15999020221.60293 allocated.\n",
      "261 136021116192.56747 authorized reduced to 15999020221.60293 allocated.\n",
      "262 136021116192.56747 authorized reduced to 15999020221.60293 allocated.\n",
      "263 136021116192.56747 authorized reduced to 15999020221.60293 allocated.\n",
      "264 136021116192.56747 authorized reduced to 15999020221.60293 allocated.\n",
      "265 136021116192.56747 authorized reduced to 15999020221.60293 allocated.\n",
      "266 136021116192.56747 authorized reduced to 15999020221.60293 allocated.\n",
      "267 136021116192.56747 authorized reduced to 15999020221.60293 allocated.\n",
      "268 136021116192.56747 authorized reduced to 15999020221.60293 allocated.\n",
      "269 136021116192.56747 authorized reduced to 15999020221.60293 allocated.\n",
      "270 136021116192.56747 authorized reduced to 15999020221.60293 allocated.\n",
      "271 136021116192.56747 authorized reduced to 15999020221.60293 allocated.\n",
      "272 136021116192.56747 authorized reduced to 15999020221.60293 allocated.\n",
      "273 136021116192.56747 authorized reduced to 15999020221.60293 allocated.\n",
      "274 136021116192.56747 authorized reduced to 15999020221.60293 allocated.\n",
      "275 136021116192.56747 authorized reduced to 15999020221.60293 allocated.\n",
      "276 136021116192.56747 authorized reduced to 15999020221.60293 allocated.\n",
      "277 136021116192.56747 authorized reduced to 15999020221.60293 allocated.\n",
      "278 136021116192.56747 authorized reduced to 15999020221.60293 allocated.\n",
      "279 136021116192.56747 authorized reduced to 15999020221.60293 allocated.\n",
      "280 136021116192.56747 authorized reduced to 15999020221.60293 allocated.\n",
      "281 136021116192.56747 authorized reduced to 15999020221.60293 allocated.\n",
      "282 136021116192.56747 authorized reduced to 15999020221.60293 allocated.\n",
      "283 136021116192.56747 authorized reduced to 15999020221.60293 allocated.\n",
      "284 136021116192.56747 authorized reduced to 15999020221.60293 allocated.\n",
      "285 136021116192.56747 authorized reduced to 15999020221.60293 allocated.\n",
      "286 136021116192.56747 authorized reduced to 15999020221.60293 allocated.\n",
      "287 136021116192.56747 authorized reduced to 15999020221.60293 allocated.\n",
      "288 136021116192.56747 authorized reduced to 15999020221.60293 allocated.\n",
      "289 136021116192.56747 authorized reduced to 15999020221.60293 allocated.\n",
      "290 136021116192.56747 authorized reduced to 15999020221.60293 allocated.\n",
      "291 136021116192.56747 authorized reduced to 15999020221.60293 allocated.\n",
      "292 136021116192.56747 authorized reduced to 15999020221.60293 allocated.\n",
      "293 136021116192.56747 authorized reduced to 15999020221.60293 allocated.\n",
      "294 136021116192.56747 authorized reduced to 15999020221.60293 allocated.\n",
      "295 136021116192.56747 authorized reduced to 15999020221.60293 allocated.\n",
      "296 136021116192.56747 authorized reduced to 15999020221.60293 allocated.\n",
      "297 136021116192.56747 authorized reduced to 15999020221.60293 allocated.\n",
      "298 136021116192.56747 authorized reduced to 15999020221.60293 allocated.\n",
      "299 136021116192.56747 authorized reduced to 15999020221.60293 allocated.\n",
      "300 136021116192.56747 authorized reduced to 15999020221.60293 allocated.\n",
      "301 136021116192.56747 authorized reduced to 15999020221.60293 allocated.\n",
      "302 136021116192.56747 authorized reduced to 15999020221.60293 allocated.\n",
      "303 136021116192.56747 authorized reduced to 15999020221.60293 allocated.\n",
      "304 136021116192.56747 authorized reduced to 15999020221.60293 allocated.\n",
      "305 136021116192.56747 authorized reduced to 15999020221.60293 allocated.\n",
      "306 136021116192.56747 authorized reduced to 15999020221.60293 allocated.\n",
      "307 136021116192.56747 authorized reduced to 15999020221.60293 allocated.\n",
      "308 136021116192.56747 authorized reduced to 15999020221.60293 allocated.\n",
      "309 136021116192.56747 authorized reduced to 15999020221.60293 allocated.\n",
      "310 136021116192.56747 authorized reduced to 15999020221.60293 allocated.\n",
      "311 136021116192.56747 authorized reduced to 15999020221.60293 allocated.\n",
      "312 136021116192.56747 authorized reduced to 15999020221.60293 allocated.\n",
      "313 136021116192.56747 authorized reduced to 15999020221.60293 allocated.\n",
      "314 136021116192.56747 authorized reduced to 15999020221.60293 allocated.\n",
      "315 136021116192.56747 authorized reduced to 15999020221.60293 allocated.\n",
      "316 136021116192.56747 authorized reduced to 15999020221.60293 allocated.\n",
      "317 136021116192.56747 authorized reduced to 15999020221.60293 allocated.\n",
      "318 136021116192.56747 authorized reduced to 15999020221.60293 allocated.\n",
      "319 136021116192.56747 authorized reduced to 15999020221.60293 allocated.\n",
      "320 136021116192.56747 authorized reduced to 15999020221.60293 allocated.\n",
      "321 136021116192.56747 authorized reduced to 15999020221.60293 allocated.\n",
      "322 136021116192.56747 authorized reduced to 15999020221.60293 allocated.\n",
      "323 136021116192.56747 authorized reduced to 15999020221.60293 allocated.\n",
      "324 136021116192.56747 authorized reduced to 15999020221.60293 allocated.\n",
      "325 136021116192.56747 authorized reduced to 15999020221.60293 allocated.\n",
      "326 136021116192.56747 authorized reduced to 15999020221.60293 allocated.\n",
      "327 136021116192.56747 authorized reduced to 15999020221.60293 allocated.\n",
      "328 136021116192.56747 authorized reduced to 15999020221.60293 allocated.\n",
      "329 136021116192.56747 authorized reduced to 15999020221.60293 allocated.\n",
      "330 136021116192.56747 authorized reduced to 15999020221.60293 allocated.\n",
      "331 136021116192.56747 authorized reduced to 15999020221.60293 allocated.\n",
      "332 136021116192.56747 authorized reduced to 15999020221.60293 allocated.\n",
      "333 136021116192.56747 authorized reduced to 15999020221.60293 allocated.\n",
      "334 136021116192.56747 authorized reduced to 15999020221.60293 allocated.\n",
      "335 136021116192.56747 authorized reduced to 15999020221.60293 allocated.\n",
      "336 136021116192.56747 authorized reduced to 15999020221.60293 allocated.\n",
      "337 136021116192.56747 authorized reduced to 15999020221.60293 allocated.\n",
      "338 136021116192.56747 authorized reduced to 15999020221.60293 allocated.\n",
      "339 136021116192.56747 authorized reduced to 15999020221.60293 allocated.\n",
      "340 136021116192.56747 authorized reduced to 15999020221.60293 allocated.\n",
      "341 136021116192.56747 authorized reduced to 15999020221.60293 allocated.\n",
      "342 136021116192.56747 authorized reduced to 15999020221.60293 allocated.\n",
      "343 136021116192.56747 authorized reduced to 15999020221.60293 allocated.\n",
      "344 136021116192.56747 authorized reduced to 15999020221.60293 allocated.\n",
      "345 136021116192.56747 authorized reduced to 15999020221.60293 allocated.\n",
      "346 136021116192.56747 authorized reduced to 15999020221.60293 allocated.\n",
      "347 136021116192.56747 authorized reduced to 15999020221.60293 allocated.\n",
      "348 136021116192.56747 authorized reduced to 15999020221.60293 allocated.\n",
      "349 136021116192.56747 authorized reduced to 15999020221.60293 allocated.\n",
      "350 136021116192.56747 authorized reduced to 15999020221.60293 allocated.\n",
      "351 136021116192.56747 authorized reduced to 15999020221.60293 allocated.\n",
      "352 136021116192.56747 authorized reduced to 15999020221.60293 allocated.\n",
      "353 136021116192.56747 authorized reduced to 15999020221.60293 allocated.\n",
      "354 136021116192.56747 authorized reduced to 15999020221.60293 allocated.\n",
      "355 136021116192.56747 authorized reduced to 15999020221.60293 allocated.\n",
      "356 136021116192.56747 authorized reduced to 15999020221.60293 allocated.\n",
      "357 136021116192.56747 authorized reduced to 15999020221.60293 allocated.\n",
      "358 136021116192.56747 authorized reduced to 15999020221.60293 allocated.\n",
      "359 136021116192.56747 authorized reduced to 15999020221.60293 allocated.\n",
      "360 136021116192.56747 authorized reduced to 15999020221.60293 allocated.\n",
      "361 136021116192.56747 authorized reduced to 15999020221.60293 allocated.\n",
      "362 136021116192.56747 authorized reduced to 15999020221.60293 allocated.\n",
      "363 136021116192.56747 authorized reduced to 15999020221.60293 allocated.\n",
      "364 136021116192.56747 authorized reduced to 15999020221.60293 allocated.\n",
      "365 136021116192.56747 authorized reduced to 15999020221.60293 allocated.\n",
      "366 136021116192.56747 authorized reduced to 15999020221.60293 allocated.\n",
      "367 136021116192.56747 authorized reduced to 15999020221.60293 allocated.\n",
      "368 136021116192.56747 authorized reduced to 15999020221.60293 allocated.\n",
      "369 136021116192.56747 authorized reduced to 15999020221.60293 allocated.\n",
      "370 136021116192.56747 authorized reduced to 15999020221.60293 allocated.\n",
      "371 136021116192.56747 authorized reduced to 15999020221.60293 allocated.\n",
      "372 136021116192.56747 authorized reduced to 15999020221.60293 allocated.\n",
      "373 136021116192.56747 authorized reduced to 15999020221.60293 allocated.\n",
      "374 136021116192.56747 authorized reduced to 15999020221.60293 allocated.\n",
      "375 136021116192.56747 authorized reduced to 15999020221.60293 allocated.\n",
      "376 136021116192.56747 authorized reduced to 15999020221.60293 allocated.\n",
      "377 136021116192.56747 authorized reduced to 15999020221.60293 allocated.\n",
      "378 136021116192.56747 authorized reduced to 15999020221.60293 allocated.\n",
      "379 136021116192.56747 authorized reduced to 15999020221.60293 allocated.\n",
      "380 136021116192.56747 authorized reduced to 15999020221.60293 allocated.\n",
      "381 136021116192.56747 authorized reduced to 15999020221.60293 allocated.\n",
      "382 136021116192.56747 authorized reduced to 15999020221.60293 allocated.\n",
      "383 136021116192.56747 authorized reduced to 15999020221.60293 allocated.\n",
      "384 136021116192.56747 authorized reduced to 15999020221.60293 allocated.\n",
      "385 136021116192.56747 authorized reduced to 15999020221.60293 allocated.\n",
      "386 136021116192.56747 authorized reduced to 15999020221.60293 allocated.\n",
      "387 136021116192.56747 authorized reduced to 15999020221.60293 allocated.\n",
      "388 136021116192.56747 authorized reduced to 15999020221.60293 allocated.\n",
      "389 136021116192.56747 authorized reduced to 15999020221.60293 allocated.\n",
      "390 136021116192.56747 authorized reduced to 15999020221.60293 allocated.\n",
      "391 136021116192.56747 authorized reduced to 15999020221.60293 allocated.\n",
      "392 136021116192.56747 authorized reduced to 15999020221.60293 allocated.\n",
      "393 136021116192.56747 authorized reduced to 15999020221.60293 allocated.\n",
      "394 136021116192.56747 authorized reduced to 15999020221.60293 allocated.\n",
      "395 136021116192.56747 authorized reduced to 15999020221.60293 allocated.\n",
      "396 136021116192.56747 authorized reduced to 15999020221.60293 allocated.\n",
      "397 136021116192.56747 authorized reduced to 15999020221.60293 allocated.\n",
      "398 136021116192.56747 authorized reduced to 15999020221.60293 allocated.\n",
      "399 136021116192.56747 authorized reduced to 15999020221.60293 allocated.\n",
      "400 136021116192.56747 authorized reduced to 15999020221.60293 allocated.\n",
      "401 136021116192.56747 authorized reduced to 15999020221.60293 allocated.\n",
      "402 136021116192.56747 authorized reduced to 15999020221.60293 allocated.\n",
      "403 136021116192.56747 authorized reduced to 15999020221.60293 allocated.\n",
      "404 136021116192.56747 authorized reduced to 15999020221.60293 allocated.\n",
      "405 136021116192.56747 authorized reduced to 15999020221.60293 allocated.\n",
      "406 136021116192.56747 authorized reduced to 15999020221.60293 allocated.\n",
      "407 136021116192.56747 authorized reduced to 15999020221.60293 allocated.\n",
      "408 136021116192.56747 authorized reduced to 15999020221.60293 allocated.\n",
      "409 136021116192.56747 authorized reduced to 15999020221.60293 allocated.\n",
      "410 136021116192.56747 authorized reduced to 15999020221.60293 allocated.\n",
      "411 136021116192.56747 authorized reduced to 15999020221.60293 allocated.\n",
      "412 136021116192.56747 authorized reduced to 15999020221.60293 allocated.\n",
      "413 136021116192.56747 authorized reduced to 15999020221.60293 allocated.\n",
      "414 136021116192.56747 authorized reduced to 15999020221.60293 allocated.\n",
      "415 136021116192.56747 authorized reduced to 15999020221.60293 allocated.\n",
      "416 136021116192.56747 authorized reduced to 15999020221.60293 allocated.\n",
      "417 136021116192.56747 authorized reduced to 15999020221.60293 allocated.\n",
      "418 136021116192.56747 authorized reduced to 15999020221.60293 allocated.\n",
      "419 136021116192.56747 authorized reduced to 15999020221.60293 allocated.\n",
      "420 136021116192.56747 authorized reduced to 15999020221.60293 allocated.\n",
      "421 136021116192.56747 authorized reduced to 15999020221.60293 allocated.\n",
      "422 136021116192.56747 authorized reduced to 15999020221.60293 allocated.\n",
      "423 136021116192.56747 authorized reduced to 15999020221.60293 allocated.\n",
      "424 136021116192.56747 authorized reduced to 15999020221.60293 allocated.\n",
      "425 136021116192.56747 authorized reduced to 15999020221.60293 allocated.\n",
      "426 136021116192.56747 authorized reduced to 15999020221.60293 allocated.\n",
      "427 136021116192.56747 authorized reduced to 15999020221.60293 allocated.\n",
      "428 136021116192.56747 authorized reduced to 15999020221.60293 allocated.\n",
      "429 136021116192.56747 authorized reduced to 15999020221.60293 allocated.\n",
      "430 136021116192.56747 authorized reduced to 15999020221.60293 allocated.\n",
      "431 136021116192.56747 authorized reduced to 15999020221.60293 allocated.\n",
      "432 136021116192.56747 authorized reduced to 15999020221.60293 allocated.\n",
      "433 136021116192.56747 authorized reduced to 15999020221.60293 allocated.\n",
      "434 136021116192.56747 authorized reduced to 15999020221.60293 allocated.\n",
      "435 136021116192.56747 authorized reduced to 15999020221.60293 allocated.\n",
      "436 136021116192.56747 authorized reduced to 15999020221.60293 allocated.\n",
      "437 136021116192.56747 authorized reduced to 15999020221.60293 allocated.\n",
      "438 136021116192.56747 authorized reduced to 15999020221.60293 allocated.\n",
      "439 136021116192.56747 authorized reduced to 15999020221.60293 allocated.\n",
      "440 136021116192.56747 authorized reduced to 15999020221.60293 allocated.\n",
      "441 136021116192.56747 authorized reduced to 15999020221.60293 allocated.\n",
      "442 136021116192.56747 authorized reduced to 15999020221.60293 allocated.\n",
      "443 136021116192.56747 authorized reduced to 15999020221.60293 allocated.\n",
      "444 136021116192.56747 authorized reduced to 15999020221.60293 allocated.\n",
      "445 136021116192.56747 authorized reduced to 15999020221.60293 allocated.\n",
      "446 136021116192.56747 authorized reduced to 15999020221.60293 allocated.\n",
      "447 136021116192.56747 authorized reduced to 15999020221.60293 allocated.\n",
      "448 136021116192.56747 authorized reduced to 15999020221.60293 allocated.\n",
      "449 136021116192.56747 authorized reduced to 15999020221.60293 allocated.\n",
      "450 136021116192.56747 authorized reduced to 15999020221.60293 allocated.\n",
      "451 136021116192.56747 authorized reduced to 15999020221.60293 allocated.\n",
      "452 136021116192.56747 authorized reduced to 15999020221.60293 allocated.\n",
      "453 136021116192.56747 authorized reduced to 15999020221.60293 allocated.\n",
      "454 136021116192.56747 authorized reduced to 15999020221.60293 allocated.\n",
      "455 136021116192.56747 authorized reduced to 15999020221.60293 allocated.\n",
      "456 136021116192.56747 authorized reduced to 15999020221.60293 allocated.\n",
      "457 136021116192.56747 authorized reduced to 15999020221.60293 allocated.\n",
      "458 136021116192.56747 authorized reduced to 15999020221.60293 allocated.\n",
      "459 136021116192.56747 authorized reduced to 15999020221.60293 allocated.\n",
      "460 136021116192.56747 authorized reduced to 15999020221.60293 allocated.\n",
      "461 136021116192.56747 authorized reduced to 15999020221.60293 allocated.\n",
      "462 136021116192.56747 authorized reduced to 15999020221.60293 allocated.\n",
      "463 136021116192.56747 authorized reduced to 15999020221.60293 allocated.\n",
      "464 136021116192.56747 authorized reduced to 15999020221.60293 allocated.\n",
      "465 136021116192.56747 authorized reduced to 15999020221.60293 allocated.\n",
      "466 136021116192.56747 authorized reduced to 15999020221.60293 allocated.\n",
      "467 136021116192.56747 authorized reduced to 15999020221.60293 allocated.\n",
      "468 136021116192.56747 authorized reduced to 15999020221.60293 allocated.\n",
      "469 136021116192.56747 authorized reduced to 15999020221.60293 allocated.\n",
      "470 136021116192.56747 authorized reduced to 15999020221.60293 allocated.\n",
      "471 136021116192.56747 authorized reduced to 15999020221.60293 allocated.\n",
      "472 136021116192.56747 authorized reduced to 15999020221.60293 allocated.\n",
      "473 136021116192.56747 authorized reduced to 15999020221.60293 allocated.\n",
      "474 136021116192.56747 authorized reduced to 15999020221.60293 allocated.\n",
      "475 136021116192.56747 authorized reduced to 15999020221.60293 allocated.\n",
      "476 136021116192.56747 authorized reduced to 15999020221.60293 allocated.\n",
      "477 136021116192.56747 authorized reduced to 15999020221.60293 allocated.\n",
      "478 136021116192.56747 authorized reduced to 15999020221.60293 allocated.\n",
      "479 136021116192.56747 authorized reduced to 15999020221.60293 allocated.\n",
      "480 136021116192.56747 authorized reduced to 15999020221.60293 allocated.\n",
      "481 136021116192.56747 authorized reduced to 15999020221.60293 allocated.\n",
      "482 136021116192.56747 authorized reduced to 15999020221.60293 allocated.\n",
      "483 136021116192.56747 authorized reduced to 15999020221.60293 allocated.\n",
      "484 136021116192.56747 authorized reduced to 15999020221.60293 allocated.\n",
      "485 136021116192.56747 authorized reduced to 15999020221.60293 allocated.\n",
      "486 136021116192.56747 authorized reduced to 15999020221.60293 allocated.\n",
      "487 136021116192.56747 authorized reduced to 15999020221.60293 allocated.\n",
      "488 136021116192.56747 authorized reduced to 15999020221.60293 allocated.\n",
      "489 136021116192.56747 authorized reduced to 15999020221.60293 allocated.\n",
      "490 136021116192.56747 authorized reduced to 15999020221.60293 allocated.\n",
      "491 136021116192.56747 authorized reduced to 15999020221.60293 allocated.\n",
      "492 136021116192.56747 authorized reduced to 15999020221.60293 allocated.\n",
      "493 136021116192.56747 authorized reduced to 15999020221.60293 allocated.\n",
      "494 136021116192.56747 authorized reduced to 15999020221.60293 allocated.\n",
      "495 136021116192.56747 authorized reduced to 15999020221.60293 allocated.\n",
      "496 136021116192.56747 authorized reduced to 15999020221.60293 allocated.\n",
      "497 136021116192.56747 authorized reduced to 15999020221.60293 allocated.\n",
      "498 136021116192.56747 authorized reduced to 15999020221.60293 allocated.\n",
      "499 136021116192.56747 authorized reduced to 15999020221.60293 allocated.\n",
      "500 136021116192.56747 authorized reduced to 15999020221.60293 allocated.\n",
      "501 136021116192.56747 authorized reduced to 15999020221.60293 allocated.\n",
      "502 136021116192.56747 authorized reduced to 15999020221.60293 allocated.\n",
      "503 136021116192.56747 authorized reduced to 15999020221.60293 allocated.\n",
      "504 136021116192.56747 authorized reduced to 15999020221.60293 allocated.\n",
      "505 136021116192.56747 authorized reduced to 15999020221.60293 allocated.\n",
      "506 136021116192.56747 authorized reduced to 15999020221.60293 allocated.\n",
      "507 136021116192.56747 authorized reduced to 15999020221.60293 allocated.\n",
      "508 136021116192.56747 authorized reduced to 15999020221.60293 allocated.\n",
      "509 136021116192.56747 authorized reduced to 15999020221.60293 allocated.\n"
     ]
    }
   ],
   "source": [
    "from dp_policy.titlei.mechanisms import Gaussian\n",
    "\n",
    "# with delta = 0\n",
    "results = test_params(\n",
    "    saipe,\n",
    "    Gaussian, \n",
    "    delta=list(np.linspace(0.02, 1, endpoint=False, num=10))\n",
    ")\n",
    "results.to_csv(\"../results/titlei_gaussian.csv\")"
   ]
  },
  {
   "cell_type": "code",
   "execution_count": 48,
   "id": "3004080f",
   "metadata": {
    "tags": []
   },
   "outputs": [],
   "source": [
    "results = pd.read_csv(\"../results/titlei_gaussian.csv\").set_index(['delta', 'epsilon', 'id'])"
   ]
  },
  {
   "cell_type": "code",
   "execution_count": 49,
   "id": "59e9dee2",
   "metadata": {},
   "outputs": [
    {
     "name": "stdout",
     "output_type": "stream",
     "text": [
      "0.216\n"
     ]
    },
    {
     "name": "stderr",
     "output_type": "stream",
     "text": [
      "/Users/steed/dp-acs/dp_policy/titlei/allocators.py:307: SettingWithCopyWarning: \n",
      "A value is trying to be set on a copy of a slice from a DataFrame.\n",
      "Try using .loc[row_indexer,col_indexer] = value instead\n",
      "\n",
      "See the caveats in the documentation: https://pandas.pydata.org/pandas-docs/stable/user_guide/indexing.html#returning-a-view-versus-a-copy\n",
      "  results[\"est_grant_total\"] = \\\n",
      "/Users/steed/dp-acs/dp_policy/titlei/allocators.py:311: SettingWithCopyWarning: \n",
      "A value is trying to be set on a copy of a slice from a DataFrame.\n",
      "Try using .loc[row_indexer,col_indexer] = value instead\n",
      "\n",
      "See the caveats in the documentation: https://pandas.pydata.org/pandas-docs/stable/user_guide/indexing.html#returning-a-view-versus-a-copy\n",
      "  return results\n"
     ]
    },
    {
     "name": "stdout",
     "output_type": "stream",
     "text": [
      "## basic grants ##\n",
      "RMSE at eps=0.1098541141987558: 4953.4271241568695\n",
      "RMSE prop eps=0.1098541141987558: 0.002122312163062364\n",
      "Total misalloc at eps=0.1098541141987558: 33954915.21336697\n",
      "Total true alloc: 15999020221.602888\n",
      "## concentration grants ##\n",
      "RMSE at eps=0.1098541141987558: 39277.555679401965\n",
      "RMSE prop eps=0.1098541141987558: 0.0028441625983425464\n",
      "Total misalloc at eps=0.1098541141987558: 45503814.9244583\n",
      "Total true alloc: 15999020221.602951\n",
      "## targeted grants ##\n",
      "RMSE at eps=0.1098541141987558: 9486.464102303416\n",
      "RMSE prop eps=0.1098541141987558: 0.0020396857693591145\n",
      "Total misalloc at eps=0.1098541141987558: 32632973.869694978\n",
      "Total true alloc: 15999020221.602936\n",
      "## total grants ##\n",
      "RMSE at eps=0.1098541141987558: 41652.27636737446\n",
      "RMSE prop eps=0.1098541141987558: 0.0023271099813417795\n",
      "Total misalloc at eps=0.1098541141987558: 111694438.94816954\n",
      "Total true alloc: 47997060664.80879\n",
      "## basic grants ##\n",
      "RMSE at eps=2.5: 3234.2428799605013\n",
      "RMSE prop eps=2.5: 0.000770537123684657\n",
      "Total misalloc at eps=2.5: 12327839.023291478\n",
      "Total true alloc: 15999020221.602888\n",
      "## concentration grants ##\n",
      "RMSE at eps=2.5: 32791.23862286733\n",
      "RMSE prop eps=2.5: 0.001080385701446189\n",
      "Total misalloc at eps=2.5: 17285112.68457753\n",
      "Total true alloc: 15999020221.602951\n",
      "## targeted grants ##\n",
      "RMSE at eps=2.5: 5698.547399005842\n",
      "RMSE prop eps=2.5: 0.000739199140443674\n",
      "Total misalloc at eps=2.5: 11826461.995751733\n",
      "Total true alloc: 15999020221.602936\n",
      "## total grants ##\n",
      "RMSE at eps=2.5: 33611.472619610904\n",
      "RMSE prop eps=2.5: 0.0008471217691456327\n",
      "Total misalloc at eps=2.5: 40659354.9441654\n",
      "Total true alloc: 47997060664.80879\n"
     ]
    },
    {
     "data": {
      "image/png": "[encoded data removed]",
      "text/plain": [
       "<Figure size 432x288 with 1 Axes>"
      ]
     },
     "metadata": {
      "needs_background": "light"
     },
     "output_type": "display_data"
    },
    {
     "data": {
      "image/png": "[encoded data removed]",
      "text/plain": [
       "<Figure size 432x288 with 1 Axes>"
      ]
     },
     "metadata": {
      "needs_background": "light"
     },
     "output_type": "display_data"
    },
    {
     "name": "stderr",
     "output_type": "stream",
     "text": [
      "<ipython-input-46-0d755cf381cb>:73: SettingWithCopyWarning: \n",
      "A value is trying to be set on a copy of a slice from a DataFrame.\n",
      "Try using .loc[row_indexer,col_indexer] = value instead\n",
      "\n",
      "See the caveats in the documentation: https://pandas.pydata.org/pandas-docs/stable/user_guide/indexing.html#returning-a-view-versus-a-copy\n",
      "  alloc['err_prop'] = (alloc[f\"est_grant_{grant_type}\"]/sum(alloc[f\"est_grant_{grant_type}\"]) - alloc[f\"true_grant_{grant_type}\"]/sum(alloc[f\"true_grant_{grant_type}\"])) * 1e6\n"
     ]
    },
    {
     "data": {
      "image/png": "[encoded data removed]",
      "text/plain": [
       "<Figure size 432x288 with 1 Axes>"
      ]
     },
     "metadata": {
      "needs_background": "light"
     },
     "output_type": "display_data"
    }
   ],
   "source": [
    "print(results.index.get_level_values('delta').unique()[2])\n",
    "plot_results(results.xs(results.index.get_level_values('delta').unique()[2], level='delta'))"
   ]
  },
  {
   "cell_type": "code",
   "execution_count": 50,
   "id": "5768b9bc",
   "metadata": {},
   "outputs": [
    {
     "name": "stdout",
     "output_type": "stream",
     "text": [
      "## basic grants ##\n",
      "RMSE at eps=0.1098541141987558: 2694.021156058769\n",
      "RMSE prop eps=0.1098541141987558: 0.0005744917289693\n",
      "Total misalloc at eps=0.1098541141987558: 9191304.788918719\n",
      "Total true alloc: 15999020221.602888\n",
      "## concentration grants ##\n",
      "RMSE at eps=0.1098541141987558: 30413.056062151958\n",
      "RMSE prop eps=0.1098541141987558: 0.001035801611448218\n",
      "Total misalloc at eps=0.1098541141987558: 16571810.927151449\n",
      "Total true alloc: 15999020221.602951\n",
      "## targeted grants ##\n",
      "RMSE at eps=0.1098541141987558: 2783.0982858553443\n",
      "RMSE prop eps=0.1098541141987558: 0.0005081627848486202\n",
      "Total misalloc at eps=0.1098541141987558: 8130106.670651772\n",
      "Total true alloc: 15999020221.602936\n",
      "## total grants ##\n",
      "RMSE at eps=0.1098541141987558: 30913.825522253726\n",
      "RMSE prop eps=0.1098541141987558: 0.000700057093690702\n",
      "Total misalloc at eps=0.1098541141987558: 33600682.7948952\n",
      "Total true alloc: 47997060664.80879\n",
      "## basic grants ##\n",
      "RMSE at eps=2.5: 2625.3297052786256\n",
      "RMSE prop eps=2.5: 0.0004395581842232353\n",
      "Total misalloc at eps=2.5: 7032500.277940612\n",
      "Total true alloc: 15999020221.602888\n",
      "## concentration grants ##\n",
      "RMSE at eps=2.5: 12981.108720179223\n",
      "RMSE prop eps=2.5: 0.0005195753544589048\n",
      "Total misalloc at eps=2.5: 8312696.602621169\n",
      "Total true alloc: 15999020221.602951\n",
      "## targeted grants ##\n",
      "RMSE at eps=2.5: 1934.05839581085\n",
      "RMSE prop eps=2.5: 0.0003516460608817097\n",
      "Total misalloc at eps=2.5: 5625992.438885964\n",
      "Total true alloc: 15999020221.602936\n",
      "## total grants ##\n",
      "RMSE at eps=2.5: 13594.20782341701\n",
      "RMSE prop eps=2.5: 0.0004314210178753215\n",
      "Total misalloc at eps=2.5: 20706940.767148543\n",
      "Total true alloc: 47997060664.80879\n"
     ]
    },
    {
     "data": {
      "image/png": "[encoded data removed]",
      "text/plain": [
       "<Figure size 432x288 with 1 Axes>"
      ]
     },
     "metadata": {
      "needs_background": "light"
     },
     "output_type": "display_data"
    },
    {
     "data": {
      "image/png": "[encoded data removed]",
      "text/plain": [
       "<Figure size 432x288 with 1 Axes>"
      ]
     },
     "metadata": {
      "needs_background": "light"
     },
     "output_type": "display_data"
    },
    {
     "name": "stderr",
     "output_type": "stream",
     "text": [
      "<ipython-input-46-0d755cf381cb>:73: SettingWithCopyWarning: \n",
      "A value is trying to be set on a copy of a slice from a DataFrame.\n",
      "Try using .loc[row_indexer,col_indexer] = value instead\n",
      "\n",
      "See the caveats in the documentation: https://pandas.pydata.org/pandas-docs/stable/user_guide/indexing.html#returning-a-view-versus-a-copy\n",
      "  alloc['err_prop'] = (alloc[f\"est_grant_{grant_type}\"]/sum(alloc[f\"est_grant_{grant_type}\"]) - alloc[f\"true_grant_{grant_type}\"]/sum(alloc[f\"true_grant_{grant_type}\"])) * 1e6\n"
     ]
    },
    {
     "data": {
      "image/png": "[encoded data removed]",
      "text/plain": [
       "<Figure size 432x288 with 1 Axes>"
      ]
     },
     "metadata": {
      "needs_background": "light"
     },
     "output_type": "display_data"
    }
   ],
   "source": [
    "plot_results(results.xs(0.804))"
   ]
  },
  {
   "cell_type": "code",
   "execution_count": 51,
   "id": "7916eed3",
   "metadata": {},
   "outputs": [
    {
     "data": {
      "image/png": "[encoded data removed]",
      "text/plain": [
       "<Figure size 432x288 with 2 Axes>"
      ]
     },
     "metadata": {
      "needs_background": "light"
     },
     "output_type": "display_data"
    }
   ],
   "source": [
    "from matplotlib.ticker import FormatStrFormatter\n",
    "\n",
    "results = calc_total(results)\n",
    "eps = list(results.index.get_level_values(\"epsilon\").unique())\n",
    "\n",
    "delts = list(results.index.get_level_values(\"delta\").unique())\n",
    "mse = np.zeros((len(eps), len(delts)))\n",
    "for params, alloc in results.groupby([\"epsilon\", \"delta\"]):\n",
    "    \n",
    "    e, d = params\n",
    "    error = alloc[f\"true_grant_{grant_type}\"]/sum(alloc[f\"true_grant_{grant_type}\"]) \\\n",
    "        - alloc[f\"est_grant_{grant_type}\"]/sum(alloc[f\"est_grant_{grant_type}\"])\n",
    "    mse[eps.index(e), delts.index(d)] = np.sqrt(sum(error**2)/alloc.shape[0])\n",
    "    \n",
    "plt.contourf(eps, delts, mse.transpose(), cmap=\"coolwarm\")\n",
    "ax = plt.gca()\n",
    "ax.set_xscale('log')\n",
    "ax.set_yscale('log')\n",
    "ax.set_yticks([0.05, 0.1, 0.2, 0.8])\n",
    "ax.yaxis.set_major_formatter(FormatStrFormatter(\"%.2f\"))\n",
    "plt.xlim(None, 2.5)\n",
    "plt.xlabel(\"Epsilon\")\n",
    "plt.ylabel(\"Delta\")\n",
    "plt.title(\"RMSE in total grants by privacy setting\")\n",
    "plt.colorbar(label=\"RMSE in total grant share\")\n",
    "plt.show()"
   ]
  },
  {
   "cell_type": "markdown",
   "id": "2f5d8a50-3e9c-4979-a21b-bc7ad2c0b7af",
   "metadata": {
    "jp-MarkdownHeadingCollapsed": true,
    "tags": []
   },
   "source": [
    "# Ground Truth Comparison\n",
    "How close are our allocation estimates to the actual allocations from 2019? Note that we only have 2020's allocations, when really we need 2021's allocations, which will use the 2019 ACS data (see [here](https://www.nd.gov/dpi/sites/www/files/documents/Educational%20Equity%20%26%20Support/Title%20I/USED%20Census%202019%20Memo.pdf)). But historically the numbers are close."
   ]
  },
  {
   "cell_type": "code",
   "execution_count": 147,
   "id": "153e3120-56e9-487b-a042-be45dcf6a2a3",
   "metadata": {},
   "outputs": [
    {
     "name": "stdout",
     "output_type": "stream",
     "text": [
      "Index(['LEAID', 'District', 'Allocation_2020', 'state'], dtype='object')\n"
     ]
    },
    {
     "data": {
      "text/plain": [
       "15999020221.602928"
      ]
     },
     "execution_count": 147,
     "metadata": {},
     "output_type": "execute_result"
    }
   ],
   "source": [
    "from dp_policy.titlei.utils import get_allocation_data\n",
    "\n",
    "true_allocations = get_allocation_data(\"../data/titlei-allocations_20\")\n",
    "print(true_allocations.columns)\n",
    "true_allocations[\"Allocation_2020\"].sum()"
   ]
  },
  {
   "cell_type": "code",
   "execution_count": 148,
   "id": "99e818b6-4246-474b-ab67-a2e67693144a",
   "metadata": {},
   "outputs": [
    {
     "name": "stdout",
     "output_type": "stream",
     "text": [
      "[WARN] Dropping districts with missing SPPE data: ['Puerto Rico']\n",
      "136021116192.56747 authorized reducedto 15999020221.602928 allocated.\n",
      "136021116192.56747 authorized reducedto 15999020221.602928 allocated.\n"
     ]
    },
    {
     "data": {
      "text/plain": [
       "15999046700.71252"
      ]
     },
     "execution_count": 148,
     "metadata": {},
     "output_type": "execute_result"
    }
   ],
   "source": [
    "from dp_policy.api import titlei_funding as funding\n",
    "from dp_policy.titlei.allocators import SonnenbergAuthorizer\n",
    "\n",
    "allocations = funding(\n",
    "    SonnenbergAuthorizer, saipe, GroundTruth(saipe), get_sppe(\"../data/sppe18.xlsx\")\n",
    ")\n",
    "allocs = allocations[\n",
    "    [\"true_grant_total\", \"true_grant_basic\", \"true_grant_concentration\", \"true_grant_targeted\", \"true_children_total\", \"true_children_eligible\"]\n",
    "].join(true_allocations[[\"Allocation_2020\", \"District\"]])\n",
    "allocs[\"error\"] = allocs.Allocation_2020 - allocs.true_grant_total\n",
    "allocs.true_grant_total.sum()"
   ]
  },
  {
   "cell_type": "code",
   "execution_count": 136,
   "id": "2fbd5a96-65a9-4a97-af87-cb613057f39c",
   "metadata": {},
   "outputs": [
    {
     "data": {
      "image/png": "[encoded data removed]",
      "text/plain": [
       "<Figure size 432x288 with 1 Axes>"
      ]
     },
     "metadata": {
      "needs_background": "light"
     },
     "output_type": "display_data"
    },
    {
     "data": {
      "image/png": "[encoded data removed]",
      "text/plain": [
       "<Figure size 432x288 with 1 Axes>"
      ]
     },
     "metadata": {
      "needs_background": "light"
     },
     "output_type": "display_data"
    }
   ],
   "source": [
    "ax = plt.gca()\n",
    "ax.set_yscale('log')\n",
    "ax.set_xscale('log')\n",
    "plt.scatter(allocs.Allocation_2020, allocs.true_grant_total)\n",
    "plt.xlabel(\"Actual 2020 Allocation\")\n",
    "plt.ylabel(\"Predicted allocation using our code (no DP)\")\n",
    "plt.show()\n",
    "plt.hist(allocs.error)\n",
    "plt.show()"
   ]
  },
  {
   "cell_type": "markdown",
   "id": "35b78b70-cad3-4b19-abf2-52eb513b6a9f",
   "metadata": {},
   "source": [
    "Our method seems to be a little heteroskedastic. Variation could be due to 1) approximations in our funding algo; 2) differences in data."
   ]
  },
  {
   "cell_type": "code",
   "execution_count": 137,
   "id": "da9233bb-d132-41d4-a0a0-569227c53392",
   "metadata": {},
   "outputs": [
    {
     "data": {
      "text/plain": [
       "(20.879231455964167, 148.36257841383988)"
      ]
     },
     "execution_count": 137,
     "metadata": {},
     "output_type": "execute_result"
    }
   ],
   "source": [
    "# error per student\n",
    "allocs[\"error_per_capita\"] = allocs.error / allocs.true_children_total\n",
    "np.mean(allocs.error_per_capita), np.sqrt(np.mean(allocs.error_per_capita**2))"
   ]
  },
  {
   "cell_type": "code",
   "execution_count": 138,
   "id": "8e0bc206-4aa5-4ba6-b70a-740c56081211",
   "metadata": {},
   "outputs": [
    {
     "data": {
      "text/html": [
       "<div>\n",
       "<style scoped>\n",
       "    .dataframe tbody tr th:only-of-type {\n",
       "        vertical-align: middle;\n",
       "    }\n",
       "\n",
       "    .dataframe tbody tr th {\n",
       "        vertical-align: top;\n",
       "    }\n",
       "\n",
       "    .dataframe thead th {\n",
       "        text-align: right;\n",
       "    }\n",
       "</style>\n",
       "<table border=\"1\" class=\"dataframe\">\n",
       "  <thead>\n",
       "    <tr style=\"text-align: right;\">\n",
       "      <th></th>\n",
       "      <th></th>\n",
       "      <th>true_grant_total</th>\n",
       "      <th>true_grant_basic</th>\n",
       "      <th>true_grant_concentration</th>\n",
       "      <th>true_grant_targeted</th>\n",
       "      <th>true_children_total</th>\n",
       "      <th>true_children_eligible</th>\n",
       "      <th>Allocation_2020</th>\n",
       "      <th>District</th>\n",
       "      <th>error</th>\n",
       "      <th>error_per_capita</th>\n",
       "    </tr>\n",
       "    <tr>\n",
       "      <th>State FIPS Code</th>\n",
       "      <th>District ID</th>\n",
       "      <th></th>\n",
       "      <th></th>\n",
       "      <th></th>\n",
       "      <th></th>\n",
       "      <th></th>\n",
       "      <th></th>\n",
       "      <th></th>\n",
       "      <th></th>\n",
       "      <th></th>\n",
       "      <th></th>\n",
       "    </tr>\n",
       "  </thead>\n",
       "  <tbody>\n",
       "    <tr>\n",
       "      <th>30</th>\n",
       "      <th>9210</th>\n",
       "      <td>5.259479e+04</td>\n",
       "      <td>46843.071951</td>\n",
       "      <td>6.349072e+04</td>\n",
       "      <td>5.122794e+04</td>\n",
       "      <td>55</td>\n",
       "      <td>25</td>\n",
       "      <td>1308.576975</td>\n",
       "      <td>Drummond High School District</td>\n",
       "      <td>-51286.211907</td>\n",
       "      <td>-932.476580</td>\n",
       "    </tr>\n",
       "    <tr>\n",
       "      <th>35</th>\n",
       "      <th>330</th>\n",
       "      <td>2.510612e+05</td>\n",
       "      <td>182321.355553</td>\n",
       "      <td>2.471169e+05</td>\n",
       "      <td>2.938792e+05</td>\n",
       "      <td>166</td>\n",
       "      <td>109</td>\n",
       "      <td>119891.947939</td>\n",
       "      <td>Carrizozo Municipal Schools</td>\n",
       "      <td>-131169.239279</td>\n",
       "      <td>-790.176140</td>\n",
       "    </tr>\n",
       "    <tr>\n",
       "      <th>41</th>\n",
       "      <th>3630</th>\n",
       "      <td>8.201031e+04</td>\n",
       "      <td>68626.885861</td>\n",
       "      <td>9.301633e+04</td>\n",
       "      <td>8.515564e+04</td>\n",
       "      <td>74</td>\n",
       "      <td>36</td>\n",
       "      <td>24329.785959</td>\n",
       "      <td>Harney County Union High School District 1J</td>\n",
       "      <td>-57680.528122</td>\n",
       "      <td>-779.466596</td>\n",
       "    </tr>\n",
       "    <tr>\n",
       "      <th>35</th>\n",
       "      <th>1</th>\n",
       "      <td>1.175623e+05</td>\n",
       "      <td>93669.687257</td>\n",
       "      <td>1.269591e+05</td>\n",
       "      <td>1.276975e+05</td>\n",
       "      <td>109</td>\n",
       "      <td>56</td>\n",
       "      <td>37999.407212</td>\n",
       "      <td>Vaughn Municipal Schools</td>\n",
       "      <td>-79562.935826</td>\n",
       "      <td>-729.935191</td>\n",
       "    </tr>\n",
       "    <tr>\n",
       "      <th>6</th>\n",
       "      <th>19920</th>\n",
       "      <td>4.708628e+04</td>\n",
       "      <td>38146.911424</td>\n",
       "      <td>5.170402e+04</td>\n",
       "      <td>5.039245e+04</td>\n",
       "      <td>31</td>\n",
       "      <td>19</td>\n",
       "      <td>25151.928704</td>\n",
       "      <td>Klamath River Union Elementary School District</td>\n",
       "      <td>-21934.346974</td>\n",
       "      <td>-707.559580</td>\n",
       "    </tr>\n",
       "    <tr>\n",
       "      <th>30</th>\n",
       "      <th>13140</th>\n",
       "      <td>2.705267e+04</td>\n",
       "      <td>28105.843171</td>\n",
       "      <td>3.809443e+04</td>\n",
       "      <td>2.155492e+04</td>\n",
       "      <td>39</td>\n",
       "      <td>15</td>\n",
       "      <td>0.000000</td>\n",
       "      <td>Greycliff Elementary School District</td>\n",
       "      <td>-27052.672088</td>\n",
       "      <td>-693.658259</td>\n",
       "    </tr>\n",
       "    <tr>\n",
       "      <th>6</th>\n",
       "      <th>37470</th>\n",
       "      <td>3.366669e+05</td>\n",
       "      <td>273051.576512</td>\n",
       "      <td>3.700919e+05</td>\n",
       "      <td>3.599461e+05</td>\n",
       "      <td>295</td>\n",
       "      <td>136</td>\n",
       "      <td>142635.600476</td>\n",
       "      <td>South Fork Union School District</td>\n",
       "      <td>-194031.270623</td>\n",
       "      <td>-657.733121</td>\n",
       "    </tr>\n",
       "    <tr>\n",
       "      <th>13</th>\n",
       "      <th>5100</th>\n",
       "      <td>1.278281e+06</td>\n",
       "      <td>996370.877624</td>\n",
       "      <td>1.350473e+06</td>\n",
       "      <td>1.414921e+06</td>\n",
       "      <td>1167</td>\n",
       "      <td>578</td>\n",
       "      <td>533694.657463</td>\n",
       "      <td>Treutlen County School District</td>\n",
       "      <td>-744586.668896</td>\n",
       "      <td>-638.034849</td>\n",
       "    </tr>\n",
       "    <tr>\n",
       "      <th>30</th>\n",
       "      <th>19740</th>\n",
       "      <td>2.142242e+04</td>\n",
       "      <td>22484.674536</td>\n",
       "      <td>3.047555e+04</td>\n",
       "      <td>1.679604e+04</td>\n",
       "      <td>34</td>\n",
       "      <td>12</td>\n",
       "      <td>0.000000</td>\n",
       "      <td>Opheim K-12 Schools</td>\n",
       "      <td>-21422.420537</td>\n",
       "      <td>-630.071192</td>\n",
       "    </tr>\n",
       "    <tr>\n",
       "      <th>48</th>\n",
       "      <th>31950</th>\n",
       "      <td>2.047227e+04</td>\n",
       "      <td>21744.748827</td>\n",
       "      <td>2.947266e+04</td>\n",
       "      <td>1.574353e+04</td>\n",
       "      <td>33</td>\n",
       "      <td>13</td>\n",
       "      <td>0.000000</td>\n",
       "      <td>Mumford Independent School District</td>\n",
       "      <td>-20472.274544</td>\n",
       "      <td>-620.371956</td>\n",
       "    </tr>\n",
       "  </tbody>\n",
       "</table>\n",
       "</div>"
      ],
      "text/plain": [
       "                             true_grant_total  true_grant_basic  \\\n",
       "State FIPS Code District ID                                       \n",
       "30              9210             5.259479e+04      46843.071951   \n",
       "35              330              2.510612e+05     182321.355553   \n",
       "41              3630             8.201031e+04      68626.885861   \n",
       "35              1                1.175623e+05      93669.687257   \n",
       "6               19920            4.708628e+04      38146.911424   \n",
       "30              13140            2.705267e+04      28105.843171   \n",
       "6               37470            3.366669e+05     273051.576512   \n",
       "13              5100             1.278281e+06     996370.877624   \n",
       "30              19740            2.142242e+04      22484.674536   \n",
       "48              31950            2.047227e+04      21744.748827   \n",
       "\n",
       "                             true_grant_concentration  true_grant_targeted  \\\n",
       "State FIPS Code District ID                                                  \n",
       "30              9210                     6.349072e+04         5.122794e+04   \n",
       "35              330                      2.471169e+05         2.938792e+05   \n",
       "41              3630                     9.301633e+04         8.515564e+04   \n",
       "35              1                        1.269591e+05         1.276975e+05   \n",
       "6               19920                    5.170402e+04         5.039245e+04   \n",
       "30              13140                    3.809443e+04         2.155492e+04   \n",
       "6               37470                    3.700919e+05         3.599461e+05   \n",
       "13              5100                     1.350473e+06         1.414921e+06   \n",
       "30              19740                    3.047555e+04         1.679604e+04   \n",
       "48              31950                    2.947266e+04         1.574353e+04   \n",
       "\n",
       "                             true_children_total  true_children_eligible  \\\n",
       "State FIPS Code District ID                                                \n",
       "30              9210                          55                      25   \n",
       "35              330                          166                     109   \n",
       "41              3630                          74                      36   \n",
       "35              1                            109                      56   \n",
       "6               19920                         31                      19   \n",
       "30              13140                         39                      15   \n",
       "6               37470                        295                     136   \n",
       "13              5100                        1167                     578   \n",
       "30              19740                         34                      12   \n",
       "48              31950                         33                      13   \n",
       "\n",
       "                             Allocation_2020  \\\n",
       "State FIPS Code District ID                    \n",
       "30              9210             1308.576975   \n",
       "35              330            119891.947939   \n",
       "41              3630            24329.785959   \n",
       "35              1               37999.407212   \n",
       "6               19920           25151.928704   \n",
       "30              13140               0.000000   \n",
       "6               37470          142635.600476   \n",
       "13              5100           533694.657463   \n",
       "30              19740               0.000000   \n",
       "48              31950               0.000000   \n",
       "\n",
       "                                                                   District  \\\n",
       "State FIPS Code District ID                                                   \n",
       "30              9210                          Drummond High School District   \n",
       "35              330                             Carrizozo Municipal Schools   \n",
       "41              3630            Harney County Union High School District 1J   \n",
       "35              1                                  Vaughn Municipal Schools   \n",
       "6               19920        Klamath River Union Elementary School District   \n",
       "30              13140                  Greycliff Elementary School District   \n",
       "6               37470                      South Fork Union School District   \n",
       "13              5100                        Treutlen County School District   \n",
       "30              19740                                   Opheim K-12 Schools   \n",
       "48              31950                   Mumford Independent School District   \n",
       "\n",
       "                                     error  error_per_capita  \n",
       "State FIPS Code District ID                                   \n",
       "30              9210         -51286.211907       -932.476580  \n",
       "35              330         -131169.239279       -790.176140  \n",
       "41              3630         -57680.528122       -779.466596  \n",
       "35              1            -79562.935826       -729.935191  \n",
       "6               19920        -21934.346974       -707.559580  \n",
       "30              13140        -27052.672088       -693.658259  \n",
       "6               37470       -194031.270623       -657.733121  \n",
       "13              5100        -744586.668896       -638.034849  \n",
       "30              19740        -21422.420537       -630.071192  \n",
       "48              31950        -20472.274544       -620.371956  "
      ]
     },
     "execution_count": 138,
     "metadata": {},
     "output_type": "execute_result"
    }
   ],
   "source": [
    "allocs.sort_values(\"error_per_capita\").head(10)"
   ]
  },
  {
   "cell_type": "code",
   "execution_count": null,
   "id": "25964815-0dcd-4438-a0df-fb9be979aba1",
   "metadata": {},
   "outputs": [],
   "source": []
  },
  {
   "cell_type": "markdown",
   "id": "10abc6d8",
   "metadata": {
    "tags": []
   },
   "source": [
    "# Uncertainty"
   ]
  },
  {
   "cell_type": "markdown",
   "id": "0aaa07bc-d451-4017-b9a3-186bf16ecf09",
   "metadata": {
    "jp-MarkdownHeadingCollapsed": true,
    "tags": []
   },
   "source": [
    "## Calculating confidence intervals"
   ]
  },
  {
   "cell_type": "markdown",
   "id": "24f04d8a",
   "metadata": {},
   "source": [
    "The simplest approximate measure of uncertainty is given by the Census's median coefficient of varation in the poverty estimates for each district. We can construct a confidence interval for each allocation as follows, ignoring variance due to missing cutoffs (for now) by using the Abowd method."
   ]
  },
  {
   "cell_type": "code",
   "execution_count": 149,
   "id": "f1c38339-2619-4a25-912d-4886e31e616b",
   "metadata": {},
   "outputs": [
    {
     "name": "stdout",
     "output_type": "stream",
     "text": [
      "[WARN] Dropping districts with missing SPPE data: ['Puerto Rico']\n"
     ]
    },
    {
     "data": {
      "image/png": "[encoded data removed]",
      "text/plain": [
       "<Figure size 432x288 with 1 Axes>"
      ]
     },
     "metadata": {
      "needs_background": "light"
     },
     "output_type": "display_data"
    }
   ],
   "source": [
    "from dp_policy.api import titlei_data as data\n",
    "\n",
    "# test with one run of abowd\n",
    "allocator = AbowdAllocator(\n",
    "    data(saipe, Laplace(saipe, 2.52, 0), get_sppe(\"../data/sppe18.xlsx\"))\n",
    ")\n",
    "allocator.calc_auth()\n",
    "allocator.calc_uncertainty()\n",
    "estimates = allocator.estimates[allocator.estimates[\"State Postal Code\"] == \"MI\"].sort_values(\"true_grant_total\")\n",
    "y = estimates.true_grant_total\n",
    "x = estimates.index.get_level_values(\"District ID\").astype('str')\n",
    "ax = plt.gca()\n",
    "\n",
    "plt.plot(x, y, color='green', label=\"True allocation\")\n",
    "ax.fill_between(x, estimates.true_ci_lower, estimates.true_ci_upper, color='b', alpha=0.1, label=\"95% CI, relative error\")\n",
    "ax.axes.xaxis.set_ticks([])\n",
    "ax.set_yscale('log')\n",
    "plt.xlabel(\"District (sorted by true alloc)\")\n",
    "plt.ylabel(\"True allocation (as %)\")\n",
    "plt.title(f\"Grants for Michigan - Abowd\")\n",
    "ax.legend()\n",
    "plt.show()"
   ]
  },
  {
   "cell_type": "code",
   "execution_count": 150,
   "id": "a98814b6-7407-4604-86f9-05289ab90dee",
   "metadata": {},
   "outputs": [
    {
     "name": "stdout",
     "output_type": "stream",
     "text": [
      "[WARN] Dropping districts with missing SPPE data: ['Puerto Rico']\n"
     ]
    },
    {
     "data": {
      "image/png": "[encoded data removed]",
      "text/plain": [
       "<Figure size 432x288 with 1 Axes>"
      ]
     },
     "metadata": {
      "needs_background": "light"
     },
     "output_type": "display_data"
    },
    {
     "data": {
      "image/png": "[encoded data removed]",
      "text/plain": [
       "<Figure size 432x288 with 1 Axes>"
      ]
     },
     "metadata": {
      "needs_background": "light"
     },
     "output_type": "display_data"
    },
    {
     "data": {
      "image/png": "[encoded data removed]",
      "text/plain": [
       "<Figure size 432x288 with 1 Axes>"
      ]
     },
     "metadata": {
      "needs_background": "light"
     },
     "output_type": "display_data"
    }
   ],
   "source": [
    "# test with one run of Sonnenberg\n",
    "allocator = SonnenbergAuthorizer(\n",
    "    data(saipe, Laplace(saipe, 2.52, 0), get_sppe(\"../data/sppe18.xlsx\"))\n",
    ")\n",
    "allocator.calc_auth()\n",
    "allocator.calc_uncertainty()\n",
    "\n",
    "for grant_type in [\"basic\", \"concentration\", \"targeted\"]:\n",
    "    estimates = allocator.estimates[allocator.estimates[\"State Postal Code\"] == \"MI\"].sort_values(f\"true_grant_{grant_type}\")\n",
    "    y = estimates[f\"true_grant_{grant_type}\"]\n",
    "    x = estimates.index.get_level_values(\"District ID\").astype('str')\n",
    "    ax = plt.gca()\n",
    "\n",
    "    plt.plot(x, y, color='green', label=\"True allocation\")\n",
    "    ax.fill_between(x, estimates[f\"true_grant_{grant_type}_ci_upper\"], estimates[f\"true_grant_{grant_type}_ci_lower\"], color='b', alpha=0.1, label=\"95% CI, relative error\")\n",
    "    ax.axes.xaxis.set_ticks([])\n",
    "    ax.set_yscale('log')\n",
    "    plt.xlabel(\"District (sorted by true alloc)\")\n",
    "    plt.ylabel(\"True allocation (as %)\")\n",
    "    plt.title(f\"{grant_type} Grants for Michigan - Abowd\")\n",
    "    ax.legend()\n",
    "    plt.show()"
   ]
  },
  {
   "cell_type": "markdown",
   "id": "d3043116-bda4-46f6-9aa2-f60bcbf97c39",
   "metadata": {
    "tags": []
   },
   "source": [
    "## Measures of \"cheating\" - districts receiving less than they should, if data were perfect"
   ]
  },
  {
   "cell_type": "markdown",
   "id": "df3b9cb1-43f6-49c4-98ec-2720b19b6b3f",
   "metadata": {},
   "source": [
    "One method (see notes) is to compute the expected value of $y$ (the expected allocation) given the following assumptions:\n",
    "1. $\\mu$ is normally distributed\n",
    "2. $\\hat{\\mu}$ is unbiased\n",
    "3. $\\hat{\\nu}$ is unbiased and a point mass\n",
    "\n",
    "See notes for the expectation math.\n",
    "\n",
    "An example for basic grants:"
   ]
  },
  {
   "cell_type": "code",
   "execution_count": 138,
   "id": "fc5af8c9-b893-4b4f-8c7f-80666a70f70b",
   "metadata": {},
   "outputs": [
    {
     "name": "stdout",
     "output_type": "stream",
     "text": [
      "[WARN] Dropping districts with missing SPPE data: ['Puerto Rico']\n"
     ]
    },
    {
     "data": {
      "image/png": "[encoded data removed]",
      "text/plain": [
       "<Figure size 432x288 with 1 Axes>"
      ]
     },
     "metadata": {
      "needs_background": "light"
     },
     "output_type": "display_data"
    },
    {
     "data": {
      "image/png": "[encoded data removed]",
      "text/plain": [
       "<Figure size 432x288 with 1 Axes>"
      ]
     },
     "metadata": {
      "needs_background": "light"
     },
     "output_type": "display_data"
    },
    {
     "data": {
      "text/plain": [
       "19360997.330312345"
      ]
     },
     "execution_count": 138,
     "metadata": {},
     "output_type": "execute_result"
    }
   ],
   "source": [
    "from dp_policy.api import titlei_data as data\n",
    "\n",
    "allocator = SonnenbergAuthorizer(\n",
    "    data(saipe, Laplace(saipe, 2.52, 0), get_sppe(\"../data/sppe18.xlsx\"))\n",
    ")\n",
    "allocator.calc_auth()\n",
    "\n",
    "df = allocator.estimates\n",
    "mu_hat = df.true_children_eligible\n",
    "nu_hat = df.true_children_total\n",
    "k, _ = allocator.adj_sppe()\n",
    "sigma_mu = df.cv * mu_hat\n",
    "\n",
    "expected_y = k*mu_hat*np.where(\n",
    "    nu_hat <= 500,\n",
    "    1 - stats.norm.cdf((10-mu_hat)/sigma_mu),\n",
    "    1 - stats.norm.cdf((mu_hat - 0.02*nu_hat)/sigma_mu)\n",
    ")\n",
    "y_hat = allocator.estimates.true_grant_basic\n",
    "df[\"expected_loss\"] = expected_y - y_hat\n",
    "df = df.sort_values(\"expected_loss\")\n",
    "ax = plt.gca()\n",
    "ax.axes.xaxis.set_ticks([])\n",
    "# ax.set_yscale('log')\n",
    "plt.scatter(range(len(expected_y)), df[\"expected_loss\"])\n",
    "plt.xlabel(\"Districts\")\n",
    "plt.ylabel(\"Expected loss\")\n",
    "plt.show()\n",
    "\n",
    "ax = plt.gca()\n",
    "ax.axes.xaxis.set_ticks([])\n",
    "plt.scatter(allocator.estimates.true_pop_total, df[\"expected_loss\"])\n",
    "ax.set_xscale('log')\n",
    "plt.xlabel(\"District population\")\n",
    "plt.ylabel(\"Expected loss\")\n",
    "plt.show()\n",
    "\n",
    "# RMSE\n",
    "np.sqrt(np.mean((expected_y - y_hat)**2))"
   ]
  },
  {
   "cell_type": "code",
   "execution_count": 139,
   "id": "bd7f1aa5-fbcf-4262-8452-35cff47b3439",
   "metadata": {},
   "outputs": [
    {
     "data": {
      "text/html": [
       "<div>\n",
       "<style scoped>\n",
       "    .dataframe tbody tr th:only-of-type {\n",
       "        vertical-align: middle;\n",
       "    }\n",
       "\n",
       "    .dataframe tbody tr th {\n",
       "        vertical-align: top;\n",
       "    }\n",
       "\n",
       "    .dataframe thead th {\n",
       "        text-align: right;\n",
       "    }\n",
       "</style>\n",
       "<table border=\"1\" class=\"dataframe\">\n",
       "  <thead>\n",
       "    <tr style=\"text-align: right;\">\n",
       "      <th></th>\n",
       "      <th></th>\n",
       "      <th>State Postal Code</th>\n",
       "      <th>Name</th>\n",
       "      <th>true_pop_total</th>\n",
       "      <th>true_children_total</th>\n",
       "      <th>true_children_poverty</th>\n",
       "      <th>cv</th>\n",
       "      <th>est_pop_total</th>\n",
       "      <th>est_children_total</th>\n",
       "      <th>est_children_poverty</th>\n",
       "      <th>true_children_eligible</th>\n",
       "      <th>...</th>\n",
       "      <th>sppe</th>\n",
       "      <th>true_grant_basic</th>\n",
       "      <th>true_grant_concentration</th>\n",
       "      <th>true_grant_targeted</th>\n",
       "      <th>est_grant_basic</th>\n",
       "      <th>est_grant_concentration</th>\n",
       "      <th>est_grant_targeted</th>\n",
       "      <th>true_grant_total</th>\n",
       "      <th>est_grant_total</th>\n",
       "      <th>expected_loss</th>\n",
       "    </tr>\n",
       "    <tr>\n",
       "      <th>State FIPS Code</th>\n",
       "      <th>District ID</th>\n",
       "      <th></th>\n",
       "      <th></th>\n",
       "      <th></th>\n",
       "      <th></th>\n",
       "      <th></th>\n",
       "      <th></th>\n",
       "      <th></th>\n",
       "      <th></th>\n",
       "      <th></th>\n",
       "      <th></th>\n",
       "      <th></th>\n",
       "      <th></th>\n",
       "      <th></th>\n",
       "      <th></th>\n",
       "      <th></th>\n",
       "      <th></th>\n",
       "      <th></th>\n",
       "      <th></th>\n",
       "      <th></th>\n",
       "      <th></th>\n",
       "      <th></th>\n",
       "    </tr>\n",
       "  </thead>\n",
       "  <tbody>\n",
       "    <tr>\n",
       "      <th>25</th>\n",
       "      <th>8370</th>\n",
       "      <td>MA</td>\n",
       "      <td>Needham School District</td>\n",
       "      <td>30520</td>\n",
       "      <td>6005</td>\n",
       "      <td>119</td>\n",
       "      <td>0.23</td>\n",
       "      <td>30520.0</td>\n",
       "      <td>6004.0</td>\n",
       "      <td>119.0</td>\n",
       "      <td>119</td>\n",
       "      <td>...</td>\n",
       "      <td>16973.0</td>\n",
       "      <td>0.0</td>\n",
       "      <td>0.0</td>\n",
       "      <td>0.0</td>\n",
       "      <td>0.0</td>\n",
       "      <td>0.0</td>\n",
       "      <td>0.0</td>\n",
       "      <td>0.0</td>\n",
       "      <td>0.0</td>\n",
       "      <td>384003.371335</td>\n",
       "    </tr>\n",
       "    <tr>\n",
       "      <th rowspan=\"2\" valign=\"top\">34</th>\n",
       "      <th>13830</th>\n",
       "      <td>NJ</td>\n",
       "      <td>Ridgewood Village School District</td>\n",
       "      <td>25697</td>\n",
       "      <td>5825</td>\n",
       "      <td>108</td>\n",
       "      <td>0.23</td>\n",
       "      <td>25696.0</td>\n",
       "      <td>5826.0</td>\n",
       "      <td>109.0</td>\n",
       "      <td>108</td>\n",
       "      <td>...</td>\n",
       "      <td>19407.0</td>\n",
       "      <td>0.0</td>\n",
       "      <td>0.0</td>\n",
       "      <td>0.0</td>\n",
       "      <td>0.0</td>\n",
       "      <td>0.0</td>\n",
       "      <td>0.0</td>\n",
       "      <td>0.0</td>\n",
       "      <td>0.0</td>\n",
       "      <td>428110.248948</td>\n",
       "    </tr>\n",
       "    <tr>\n",
       "      <th>1650</th>\n",
       "      <td>NJ</td>\n",
       "      <td>Bernards Township School District</td>\n",
       "      <td>27153</td>\n",
       "      <td>5567</td>\n",
       "      <td>86</td>\n",
       "      <td>0.23</td>\n",
       "      <td>27152.0</td>\n",
       "      <td>5567.0</td>\n",
       "      <td>86.0</td>\n",
       "      <td>86</td>\n",
       "      <td>...</td>\n",
       "      <td>19407.0</td>\n",
       "      <td>0.0</td>\n",
       "      <td>0.0</td>\n",
       "      <td>0.0</td>\n",
       "      <td>0.0</td>\n",
       "      <td>0.0</td>\n",
       "      <td>0.0</td>\n",
       "      <td>0.0</td>\n",
       "      <td>0.0</td>\n",
       "      <td>483967.114897</td>\n",
       "    </tr>\n",
       "    <tr>\n",
       "      <th>31</th>\n",
       "      <th>70110</th>\n",
       "      <td>NE</td>\n",
       "      <td>Elkhorn Public Schools</td>\n",
       "      <td>34297</td>\n",
       "      <td>7396</td>\n",
       "      <td>125</td>\n",
       "      <td>0.23</td>\n",
       "      <td>34297.0</td>\n",
       "      <td>7396.0</td>\n",
       "      <td>126.0</td>\n",
       "      <td>125</td>\n",
       "      <td>...</td>\n",
       "      <td>12801.0</td>\n",
       "      <td>0.0</td>\n",
       "      <td>0.0</td>\n",
       "      <td>0.0</td>\n",
       "      <td>0.0</td>\n",
       "      <td>0.0</td>\n",
       "      <td>0.0</td>\n",
       "      <td>0.0</td>\n",
       "      <td>0.0</td>\n",
       "      <td>503935.434936</td>\n",
       "    </tr>\n",
       "    <tr>\n",
       "      <th>36</th>\n",
       "      <th>18630</th>\n",
       "      <td>NY</td>\n",
       "      <td>Massapequa Union Free School District</td>\n",
       "      <td>47720</td>\n",
       "      <td>8357</td>\n",
       "      <td>153</td>\n",
       "      <td>0.23</td>\n",
       "      <td>47719.0</td>\n",
       "      <td>8357.0</td>\n",
       "      <td>153.0</td>\n",
       "      <td>153</td>\n",
       "      <td>...</td>\n",
       "      <td>22845.0</td>\n",
       "      <td>0.0</td>\n",
       "      <td>0.0</td>\n",
       "      <td>0.0</td>\n",
       "      <td>0.0</td>\n",
       "      <td>0.0</td>\n",
       "      <td>0.0</td>\n",
       "      <td>0.0</td>\n",
       "      <td>0.0</td>\n",
       "      <td>627725.126925</td>\n",
       "    </tr>\n",
       "  </tbody>\n",
       "</table>\n",
       "<p>5 rows × 21 columns</p>\n",
       "</div>"
      ],
      "text/plain": [
       "                            State Postal Code  \\\n",
       "State FIPS Code District ID                     \n",
       "25              8370                       MA   \n",
       "34              13830                      NJ   \n",
       "                1650                       NJ   \n",
       "31              70110                      NE   \n",
       "36              18630                      NY   \n",
       "\n",
       "                                                              Name  \\\n",
       "State FIPS Code District ID                                          \n",
       "25              8370                       Needham School District   \n",
       "34              13830            Ridgewood Village School District   \n",
       "                1650             Bernards Township School District   \n",
       "31              70110                       Elkhorn Public Schools   \n",
       "36              18630        Massapequa Union Free School District   \n",
       "\n",
       "                             true_pop_total  true_children_total  \\\n",
       "State FIPS Code District ID                                        \n",
       "25              8370                  30520                 6005   \n",
       "34              13830                 25697                 5825   \n",
       "                1650                  27153                 5567   \n",
       "31              70110                 34297                 7396   \n",
       "36              18630                 47720                 8357   \n",
       "\n",
       "                             true_children_poverty    cv  est_pop_total  \\\n",
       "State FIPS Code District ID                                               \n",
       "25              8370                           119  0.23        30520.0   \n",
       "34              13830                          108  0.23        25696.0   \n",
       "                1650                            86  0.23        27152.0   \n",
       "31              70110                          125  0.23        34297.0   \n",
       "36              18630                          153  0.23        47719.0   \n",
       "\n",
       "                             est_children_total  est_children_poverty  \\\n",
       "State FIPS Code District ID                                             \n",
       "25              8370                     6004.0                 119.0   \n",
       "34              13830                    5826.0                 109.0   \n",
       "                1650                     5567.0                  86.0   \n",
       "31              70110                    7396.0                 126.0   \n",
       "36              18630                    8357.0                 153.0   \n",
       "\n",
       "                             true_children_eligible  ...     sppe  \\\n",
       "State FIPS Code District ID                          ...            \n",
       "25              8370                            119  ...  16973.0   \n",
       "34              13830                           108  ...  19407.0   \n",
       "                1650                             86  ...  19407.0   \n",
       "31              70110                           125  ...  12801.0   \n",
       "36              18630                           153  ...  22845.0   \n",
       "\n",
       "                             true_grant_basic  true_grant_concentration  \\\n",
       "State FIPS Code District ID                                               \n",
       "25              8370                      0.0                       0.0   \n",
       "34              13830                     0.0                       0.0   \n",
       "                1650                      0.0                       0.0   \n",
       "31              70110                     0.0                       0.0   \n",
       "36              18630                     0.0                       0.0   \n",
       "\n",
       "                             true_grant_targeted  est_grant_basic  \\\n",
       "State FIPS Code District ID                                         \n",
       "25              8370                         0.0              0.0   \n",
       "34              13830                        0.0              0.0   \n",
       "                1650                         0.0              0.0   \n",
       "31              70110                        0.0              0.0   \n",
       "36              18630                        0.0              0.0   \n",
       "\n",
       "                             est_grant_concentration  est_grant_targeted  \\\n",
       "State FIPS Code District ID                                                \n",
       "25              8370                             0.0                 0.0   \n",
       "34              13830                            0.0                 0.0   \n",
       "                1650                             0.0                 0.0   \n",
       "31              70110                            0.0                 0.0   \n",
       "36              18630                            0.0                 0.0   \n",
       "\n",
       "                             true_grant_total  est_grant_total  expected_loss  \n",
       "State FIPS Code District ID                                                    \n",
       "25              8370                      0.0              0.0  384003.371335  \n",
       "34              13830                     0.0              0.0  428110.248948  \n",
       "                1650                      0.0              0.0  483967.114897  \n",
       "31              70110                     0.0              0.0  503935.434936  \n",
       "36              18630                     0.0              0.0  627725.126925  \n",
       "\n",
       "[5 rows x 21 columns]"
      ]
     },
     "execution_count": 139,
     "metadata": {},
     "output_type": "execute_result"
    }
   ],
   "source": [
    "df.tail()"
   ]
  },
  {
   "cell_type": "markdown",
   "id": "625cac8b-f3bd-469b-b4e1-ee9f58391503",
   "metadata": {},
   "source": [
    "Another method is just to try to compute the probability of eligibility. This might tell us if some districts are getting lucky, unlucky in receiving funding."
   ]
  },
  {
   "cell_type": "code",
   "execution_count": 140,
   "id": "2dc28b66-00b9-4b2a-a876-9d582fa89104",
   "metadata": {},
   "outputs": [
    {
     "data": {
      "image/png": "[encoded data removed]",
      "text/plain": [
       "<Figure size 432x288 with 1 Axes>"
      ]
     },
     "metadata": {
      "needs_background": "light"
     },
     "output_type": "display_data"
    },
    {
     "data": {
      "image/png": "[encoded data removed]",
      "text/plain": [
       "<Figure size 432x288 with 1 Axes>"
      ]
     },
     "metadata": {
      "needs_background": "light"
     },
     "output_type": "display_data"
    },
    {
     "data": {
      "image/png": "[encoded data removed]",
      "text/plain": [
       "<Figure size 432x288 with 1 Axes>"
      ]
     },
     "metadata": {
      "needs_background": "light"
     },
     "output_type": "display_data"
    },
    {
     "data": {
      "image/png": "[encoded data removed]",
      "text/plain": [
       "<Figure size 432x288 with 1 Axes>"
      ]
     },
     "metadata": {
      "needs_background": "light"
     },
     "output_type": "display_data"
    }
   ],
   "source": [
    "# basic, without second eligibility condition\n",
    "mu_hat = df.true_children_eligible\n",
    "nu_hat = df.true_children_total\n",
    "k, _ = allocator.adj_sppe()\n",
    "sigma_mu = df.cv * mu_hat\n",
    "\n",
    "prob_el = 1 - stats.norm.cdf((mu_hat - 10)/sigma_mu)\n",
    "\n",
    "df[\"prob_el_basic\"] = prob_el\n",
    "df = df.sort_values(\"prob_el_basic\")\n",
    "ax = plt.gca()\n",
    "ax.axes.xaxis.set_ticks([])\n",
    "# ax.set_yscale('log')\n",
    "plt.scatter(range(len(expected_y)), df[\"prob_el_basic\"])\n",
    "plt.xlabel(\"Districts\")\n",
    "plt.ylabel(\"Prob. Eligible\")\n",
    "plt.show()\n",
    "\n",
    "ax = plt.gca()\n",
    "ax.axes.xaxis.set_ticks([])\n",
    "plt.scatter(allocator.estimates.true_pop_total, df[\"prob_el_basic\"])\n",
    "ax.set_xscale('log')\n",
    "plt.xlabel(\"District population\")\n",
    "plt.ylabel(\"Prob. Eligible\")\n",
    "plt.show()\n",
    "\n",
    "# basic, with both eligibility conditions\n",
    "mu_hat = df.true_children_eligible\n",
    "nu_hat = df.true_children_total\n",
    "k, _ = allocator.adj_sppe()\n",
    "sigma_mu = df.cv * mu_hat\n",
    "prob_el = np.where(\n",
    "    nu_hat <= 500,\n",
    "    1 - stats.norm.cdf((10-mu_hat)/sigma_mu),\n",
    "    1 - stats.norm.cdf((mu_hat - 0.02*nu_hat)/sigma_mu)\n",
    ")  # nu is point mass\n",
    "\n",
    "\n",
    "df[\"prob_el_basic\"] = prob_el\n",
    "df = df.sort_values(\"prob_el_basic\")\n",
    "ax = plt.gca()\n",
    "ax.axes.xaxis.set_ticks([])\n",
    "# ax.set_yscale('log')\n",
    "plt.scatter(range(len(expected_y)), df[\"prob_el_basic\"])\n",
    "plt.xlabel(\"Districts\")\n",
    "plt.ylabel(\"Prob. Eligible\")\n",
    "plt.show()\n",
    "\n",
    "ax = plt.gca()\n",
    "ax.axes.xaxis.set_ticks([])\n",
    "plt.scatter(allocator.estimates.true_pop_total, df[\"prob_el_basic\"])\n",
    "ax.set_xscale('log')\n",
    "plt.xlabel(\"District population\")\n",
    "plt.ylabel(\"Prob. Eligible\")\n",
    "plt.show()"
   ]
  },
  {
   "cell_type": "code",
   "execution_count": 144,
   "id": "51817f28-1eaa-4fdb-b9b0-d8a1fd711027",
   "metadata": {
    "collapsed": true,
    "jupyter": {
     "outputs_hidden": true
    },
    "tags": []
   },
   "outputs": [
    {
     "name": "stdout",
     "output_type": "stream",
     "text": [
      "[WARN] Dropping districts with missing SPPE data: ['Puerto Rico']\n"
     ]
    },
    {
     "name": "stderr",
     "output_type": "stream",
     "text": [
      "  0%|          | 0/100 [00:00<?, ?it/s]"
     ]
    },
    {
     "name": "stdout",
     "output_type": "stream",
     "text": [
      "[WARN] Dropping districts with missing SPPE data: ['Puerto Rico']\n"
     ]
    },
    {
     "name": "stderr",
     "output_type": "stream",
     "text": [
      "  1%|          | 1/100 [00:01<02:01,  1.23s/it]"
     ]
    },
    {
     "name": "stdout",
     "output_type": "stream",
     "text": [
      "Num eligible 12415 12415 8242075.0\n",
      "669\n",
      "[WARN] Dropping districts with missing SPPE data: ['Puerto Rico']\n"
     ]
    },
    {
     "name": "stderr",
     "output_type": "stream",
     "text": [
      "  2%|▏         | 2/100 [00:02<02:00,  1.23s/it]"
     ]
    },
    {
     "name": "stdout",
     "output_type": "stream",
     "text": [
      "Num eligible 12414 12414 8242078.0\n",
      "670\n",
      "[WARN] Dropping districts with missing SPPE data: ['Puerto Rico']\n"
     ]
    },
    {
     "name": "stderr",
     "output_type": "stream",
     "text": [
      "  3%|▎         | 3/100 [00:03<01:58,  1.23s/it]"
     ]
    },
    {
     "name": "stdout",
     "output_type": "stream",
     "text": [
      "Num eligible 12415 12415 8242119.0\n",
      "669\n",
      "[WARN] Dropping districts with missing SPPE data: ['Puerto Rico']\n"
     ]
    },
    {
     "name": "stderr",
     "output_type": "stream",
     "text": [
      "  4%|▍         | 4/100 [00:04<01:59,  1.25s/it]"
     ]
    },
    {
     "name": "stdout",
     "output_type": "stream",
     "text": [
      "Num eligible 12415 12415 8242075.0\n",
      "669\n",
      "[WARN] Dropping districts with missing SPPE data: ['Puerto Rico']\n"
     ]
    },
    {
     "name": "stderr",
     "output_type": "stream",
     "text": [
      "  5%|▌         | 5/100 [00:06<01:57,  1.24s/it]"
     ]
    },
    {
     "name": "stdout",
     "output_type": "stream",
     "text": [
      "Num eligible 12415 12415 8242105.0\n",
      "669\n",
      "[WARN] Dropping districts with missing SPPE data: ['Puerto Rico']\n"
     ]
    },
    {
     "name": "stderr",
     "output_type": "stream",
     "text": [
      "  6%|▌         | 6/100 [00:07<01:55,  1.23s/it]"
     ]
    },
    {
     "name": "stdout",
     "output_type": "stream",
     "text": [
      "Num eligible 12414 12414 8242085.0\n",
      "670\n",
      "[WARN] Dropping districts with missing SPPE data: ['Puerto Rico']\n"
     ]
    },
    {
     "name": "stderr",
     "output_type": "stream",
     "text": [
      "  7%|▋         | 7/100 [00:08<01:59,  1.29s/it]"
     ]
    },
    {
     "name": "stdout",
     "output_type": "stream",
     "text": [
      "Num eligible 12415 12415 8242084.0\n",
      "669\n",
      "[WARN] Dropping districts with missing SPPE data: ['Puerto Rico']\n"
     ]
    },
    {
     "name": "stderr",
     "output_type": "stream",
     "text": [
      "  8%|▊         | 8/100 [00:10<01:59,  1.30s/it]"
     ]
    },
    {
     "name": "stdout",
     "output_type": "stream",
     "text": [
      "Num eligible 12415 12415 8242083.0\n",
      "669\n",
      "[WARN] Dropping districts with missing SPPE data: ['Puerto Rico']\n"
     ]
    },
    {
     "name": "stderr",
     "output_type": "stream",
     "text": [
      "  9%|▉         | 9/100 [00:11<01:57,  1.29s/it]"
     ]
    },
    {
     "name": "stdout",
     "output_type": "stream",
     "text": [
      "Num eligible 12415 12415 8242084.0\n",
      "669\n",
      "[WARN] Dropping districts with missing SPPE data: ['Puerto Rico']\n"
     ]
    },
    {
     "name": "stderr",
     "output_type": "stream",
     "text": [
      " 10%|█         | 10/100 [00:12<01:54,  1.27s/it]"
     ]
    },
    {
     "name": "stdout",
     "output_type": "stream",
     "text": [
      "Num eligible 12415 12415 8242092.0\n",
      "669\n",
      "[WARN] Dropping districts with missing SPPE data: ['Puerto Rico']\n"
     ]
    },
    {
     "name": "stderr",
     "output_type": "stream",
     "text": [
      " 11%|█         | 11/100 [00:13<01:51,  1.26s/it]"
     ]
    },
    {
     "name": "stdout",
     "output_type": "stream",
     "text": [
      "Num eligible 12414 12414 8242090.0\n",
      "670\n",
      "[WARN] Dropping districts with missing SPPE data: ['Puerto Rico']\n"
     ]
    },
    {
     "name": "stderr",
     "output_type": "stream",
     "text": [
      " 12%|█▏        | 12/100 [00:15<01:50,  1.25s/it]"
     ]
    },
    {
     "name": "stdout",
     "output_type": "stream",
     "text": [
      "Num eligible 12415 12415 8242090.0\n",
      "669\n",
      "[WARN] Dropping districts with missing SPPE data: ['Puerto Rico']\n"
     ]
    },
    {
     "name": "stderr",
     "output_type": "stream",
     "text": [
      " 13%|█▎        | 13/100 [00:16<01:48,  1.25s/it]"
     ]
    },
    {
     "name": "stdout",
     "output_type": "stream",
     "text": [
      "Num eligible 12415 12415 8242088.0\n",
      "669\n",
      "[WARN] Dropping districts with missing SPPE data: ['Puerto Rico']\n"
     ]
    },
    {
     "name": "stderr",
     "output_type": "stream",
     "text": [
      " 14%|█▍        | 14/100 [00:17<01:48,  1.26s/it]"
     ]
    },
    {
     "name": "stdout",
     "output_type": "stream",
     "text": [
      "Num eligible 12413 12413 8242083.0\n",
      "671\n",
      "[WARN] Dropping districts with missing SPPE data: ['Puerto Rico']\n"
     ]
    },
    {
     "name": "stderr",
     "output_type": "stream",
     "text": [
      " 15%|█▌        | 15/100 [00:18<01:47,  1.26s/it]"
     ]
    },
    {
     "name": "stdout",
     "output_type": "stream",
     "text": [
      "Num eligible 12417 12417 8242097.0\n",
      "667\n",
      "[WARN] Dropping districts with missing SPPE data: ['Puerto Rico']\n"
     ]
    },
    {
     "name": "stderr",
     "output_type": "stream",
     "text": [
      " 16%|█▌        | 16/100 [00:20<01:46,  1.26s/it]"
     ]
    },
    {
     "name": "stdout",
     "output_type": "stream",
     "text": [
      "Num eligible 12416 12416 8242097.0\n",
      "668\n",
      "[WARN] Dropping districts with missing SPPE data: ['Puerto Rico']\n"
     ]
    },
    {
     "name": "stderr",
     "output_type": "stream",
     "text": [
      " 17%|█▋        | 17/100 [00:21<01:43,  1.25s/it]"
     ]
    },
    {
     "name": "stdout",
     "output_type": "stream",
     "text": [
      "Num eligible 12415 12415 8242066.0\n",
      "669\n",
      "[WARN] Dropping districts with missing SPPE data: ['Puerto Rico']\n"
     ]
    },
    {
     "name": "stderr",
     "output_type": "stream",
     "text": [
      " 18%|█▊        | 18/100 [00:22<01:40,  1.23s/it]"
     ]
    },
    {
     "name": "stdout",
     "output_type": "stream",
     "text": [
      "Num eligible 12415 12415 8242081.0\n",
      "669\n",
      "[WARN] Dropping districts with missing SPPE data: ['Puerto Rico']\n"
     ]
    },
    {
     "name": "stderr",
     "output_type": "stream",
     "text": [
      " 19%|█▉        | 19/100 [00:23<01:42,  1.27s/it]"
     ]
    },
    {
     "name": "stdout",
     "output_type": "stream",
     "text": [
      "Num eligible 12415 12415 8242082.0\n",
      "669\n",
      "[WARN] Dropping districts with missing SPPE data: ['Puerto Rico']\n"
     ]
    },
    {
     "name": "stderr",
     "output_type": "stream",
     "text": [
      " 20%|██        | 20/100 [00:25<01:39,  1.24s/it]"
     ]
    },
    {
     "name": "stdout",
     "output_type": "stream",
     "text": [
      "Num eligible 12415 12415 8242088.0\n",
      "669\n",
      "[WARN] Dropping districts with missing SPPE data: ['Puerto Rico']\n"
     ]
    },
    {
     "name": "stderr",
     "output_type": "stream",
     "text": [
      " 21%|██        | 21/100 [00:26<01:37,  1.23s/it]"
     ]
    },
    {
     "name": "stdout",
     "output_type": "stream",
     "text": [
      "Num eligible 12415 12415 8242087.0\n",
      "669\n",
      "[WARN] Dropping districts with missing SPPE data: ['Puerto Rico']\n"
     ]
    },
    {
     "name": "stderr",
     "output_type": "stream",
     "text": [
      " 22%|██▏       | 22/100 [00:27<01:35,  1.22s/it]"
     ]
    },
    {
     "name": "stdout",
     "output_type": "stream",
     "text": [
      "Num eligible 12415 12415 8242096.0\n",
      "669\n",
      "[WARN] Dropping districts with missing SPPE data: ['Puerto Rico']\n"
     ]
    },
    {
     "name": "stderr",
     "output_type": "stream",
     "text": [
      " 23%|██▎       | 23/100 [00:28<01:33,  1.21s/it]"
     ]
    },
    {
     "name": "stdout",
     "output_type": "stream",
     "text": [
      "Num eligible 12417 12417 8242106.0\n",
      "667\n",
      "[WARN] Dropping districts with missing SPPE data: ['Puerto Rico']\n"
     ]
    },
    {
     "name": "stderr",
     "output_type": "stream",
     "text": [
      " 24%|██▍       | 24/100 [00:29<01:31,  1.20s/it]"
     ]
    },
    {
     "name": "stdout",
     "output_type": "stream",
     "text": [
      "Num eligible 12415 12415 8242095.0\n",
      "669\n",
      "[WARN] Dropping districts with missing SPPE data: ['Puerto Rico']\n"
     ]
    },
    {
     "name": "stderr",
     "output_type": "stream",
     "text": [
      " 25%|██▌       | 25/100 [00:31<01:30,  1.20s/it]"
     ]
    },
    {
     "name": "stdout",
     "output_type": "stream",
     "text": [
      "Num eligible 12414 12414 8242087.0\n",
      "670\n",
      "[WARN] Dropping districts with missing SPPE data: ['Puerto Rico']\n"
     ]
    },
    {
     "name": "stderr",
     "output_type": "stream",
     "text": [
      " 26%|██▌       | 26/100 [00:32<01:28,  1.20s/it]"
     ]
    },
    {
     "name": "stdout",
     "output_type": "stream",
     "text": [
      "Num eligible 12415 12415 8242081.0\n",
      "669\n",
      "[WARN] Dropping districts with missing SPPE data: ['Puerto Rico']\n"
     ]
    },
    {
     "name": "stderr",
     "output_type": "stream",
     "text": [
      " 27%|██▋       | 27/100 [00:33<01:27,  1.20s/it]"
     ]
    },
    {
     "name": "stdout",
     "output_type": "stream",
     "text": [
      "Num eligible 12416 12416 8242083.0\n",
      "668\n",
      "[WARN] Dropping districts with missing SPPE data: ['Puerto Rico']\n"
     ]
    },
    {
     "name": "stderr",
     "output_type": "stream",
     "text": [
      " 28%|██▊       | 28/100 [00:34<01:26,  1.20s/it]"
     ]
    },
    {
     "name": "stdout",
     "output_type": "stream",
     "text": [
      "Num eligible 12416 12416 8242078.0\n",
      "668\n",
      "[WARN] Dropping districts with missing SPPE data: ['Puerto Rico']\n"
     ]
    },
    {
     "name": "stderr",
     "output_type": "stream",
     "text": [
      " 29%|██▉       | 29/100 [00:35<01:25,  1.20s/it]"
     ]
    },
    {
     "name": "stdout",
     "output_type": "stream",
     "text": [
      "Num eligible 12415 12415 8242097.0\n",
      "669\n",
      "[WARN] Dropping districts with missing SPPE data: ['Puerto Rico']\n"
     ]
    },
    {
     "name": "stderr",
     "output_type": "stream",
     "text": [
      " 30%|███       | 30/100 [00:37<01:27,  1.26s/it]"
     ]
    },
    {
     "name": "stdout",
     "output_type": "stream",
     "text": [
      "Num eligible 12414 12414 8242079.0\n",
      "670\n",
      "[WARN] Dropping districts with missing SPPE data: ['Puerto Rico']\n"
     ]
    },
    {
     "name": "stderr",
     "output_type": "stream",
     "text": [
      " 31%|███       | 31/100 [00:38<01:25,  1.24s/it]"
     ]
    },
    {
     "name": "stdout",
     "output_type": "stream",
     "text": [
      "Num eligible 12414 12414 8242089.0\n",
      "670\n",
      "[WARN] Dropping districts with missing SPPE data: ['Puerto Rico']\n"
     ]
    },
    {
     "name": "stderr",
     "output_type": "stream",
     "text": [
      " 32%|███▏      | 32/100 [00:39<01:23,  1.23s/it]"
     ]
    },
    {
     "name": "stdout",
     "output_type": "stream",
     "text": [
      "Num eligible 12416 12416 8242093.0\n",
      "668\n",
      "[WARN] Dropping districts with missing SPPE data: ['Puerto Rico']\n"
     ]
    },
    {
     "name": "stderr",
     "output_type": "stream",
     "text": [
      " 33%|███▎      | 33/100 [00:40<01:21,  1.22s/it]"
     ]
    },
    {
     "name": "stdout",
     "output_type": "stream",
     "text": [
      "Num eligible 12414 12414 8242102.0\n",
      "670\n",
      "[WARN] Dropping districts with missing SPPE data: ['Puerto Rico']\n"
     ]
    },
    {
     "name": "stderr",
     "output_type": "stream",
     "text": [
      " 34%|███▍      | 34/100 [00:42<01:22,  1.25s/it]"
     ]
    },
    {
     "name": "stdout",
     "output_type": "stream",
     "text": [
      "Num eligible 12416 12416 8242079.0\n",
      "668\n",
      "[WARN] Dropping districts with missing SPPE data: ['Puerto Rico']\n"
     ]
    },
    {
     "name": "stderr",
     "output_type": "stream",
     "text": [
      " 35%|███▌      | 35/100 [00:43<01:22,  1.27s/it]"
     ]
    },
    {
     "name": "stdout",
     "output_type": "stream",
     "text": [
      "Num eligible 12413 12413 8242075.0\n",
      "671\n",
      "[WARN] Dropping districts with missing SPPE data: ['Puerto Rico']\n"
     ]
    },
    {
     "name": "stderr",
     "output_type": "stream",
     "text": [
      " 36%|███▌      | 36/100 [00:44<01:22,  1.28s/it]"
     ]
    },
    {
     "name": "stdout",
     "output_type": "stream",
     "text": [
      "Num eligible 12415 12415 8242080.0\n",
      "669\n",
      "[WARN] Dropping districts with missing SPPE data: ['Puerto Rico']\n"
     ]
    },
    {
     "name": "stderr",
     "output_type": "stream",
     "text": [
      " 37%|███▋      | 37/100 [00:46<01:24,  1.34s/it]"
     ]
    },
    {
     "name": "stdout",
     "output_type": "stream",
     "text": [
      "Num eligible 12415 12415 8242086.0\n",
      "669\n",
      "[WARN] Dropping districts with missing SPPE data: ['Puerto Rico']\n"
     ]
    },
    {
     "name": "stderr",
     "output_type": "stream",
     "text": [
      " 38%|███▊      | 38/100 [00:47<01:22,  1.33s/it]"
     ]
    },
    {
     "name": "stdout",
     "output_type": "stream",
     "text": [
      "Num eligible 12415 12415 8242103.0\n",
      "669\n",
      "[WARN] Dropping districts with missing SPPE data: ['Puerto Rico']\n"
     ]
    },
    {
     "name": "stderr",
     "output_type": "stream",
     "text": [
      " 39%|███▉      | 39/100 [00:48<01:19,  1.30s/it]"
     ]
    },
    {
     "name": "stdout",
     "output_type": "stream",
     "text": [
      "Num eligible 12415 12415 8242083.0\n",
      "669\n",
      "[WARN] Dropping districts with missing SPPE data: ['Puerto Rico']\n"
     ]
    },
    {
     "name": "stderr",
     "output_type": "stream",
     "text": [
      " 40%|████      | 40/100 [00:50<01:16,  1.28s/it]"
     ]
    },
    {
     "name": "stdout",
     "output_type": "stream",
     "text": [
      "Num eligible 12416 12416 8242079.0\n",
      "668\n",
      "[WARN] Dropping districts with missing SPPE data: ['Puerto Rico']\n"
     ]
    },
    {
     "name": "stderr",
     "output_type": "stream",
     "text": [
      " 41%|████      | 41/100 [00:51<01:14,  1.27s/it]"
     ]
    },
    {
     "name": "stdout",
     "output_type": "stream",
     "text": [
      "Num eligible 12415 12415 8242097.0\n",
      "669\n",
      "[WARN] Dropping districts with missing SPPE data: ['Puerto Rico']\n"
     ]
    },
    {
     "name": "stderr",
     "output_type": "stream",
     "text": [
      " 42%|████▏     | 42/100 [00:53<01:23,  1.45s/it]"
     ]
    },
    {
     "name": "stdout",
     "output_type": "stream",
     "text": [
      "Num eligible 12415 12415 8242085.0\n",
      "669\n",
      "[WARN] Dropping districts with missing SPPE data: ['Puerto Rico']\n"
     ]
    },
    {
     "name": "stderr",
     "output_type": "stream",
     "text": [
      " 43%|████▎     | 43/100 [00:54<01:20,  1.42s/it]"
     ]
    },
    {
     "name": "stdout",
     "output_type": "stream",
     "text": [
      "Num eligible 12416 12416 8242095.0\n",
      "668\n",
      "[WARN] Dropping districts with missing SPPE data: ['Puerto Rico']\n"
     ]
    },
    {
     "name": "stderr",
     "output_type": "stream",
     "text": [
      " 44%|████▍     | 44/100 [00:55<01:19,  1.42s/it]"
     ]
    },
    {
     "name": "stdout",
     "output_type": "stream",
     "text": [
      "Num eligible 12415 12415 8242104.0\n",
      "669\n",
      "[WARN] Dropping districts with missing SPPE data: ['Puerto Rico']\n"
     ]
    },
    {
     "name": "stderr",
     "output_type": "stream",
     "text": [
      " 45%|████▌     | 45/100 [00:57<01:18,  1.42s/it]"
     ]
    },
    {
     "name": "stdout",
     "output_type": "stream",
     "text": [
      "Num eligible 12416 12416 8242087.0\n",
      "668\n",
      "[WARN] Dropping districts with missing SPPE data: ['Puerto Rico']\n"
     ]
    },
    {
     "name": "stderr",
     "output_type": "stream",
     "text": [
      " 46%|████▌     | 46/100 [00:58<01:15,  1.40s/it]"
     ]
    },
    {
     "name": "stdout",
     "output_type": "stream",
     "text": [
      "Num eligible 12416 12416 8242094.0\n",
      "668\n",
      "[WARN] Dropping districts with missing SPPE data: ['Puerto Rico']\n"
     ]
    },
    {
     "name": "stderr",
     "output_type": "stream",
     "text": [
      " 47%|████▋     | 47/100 [01:00<01:13,  1.39s/it]"
     ]
    },
    {
     "name": "stdout",
     "output_type": "stream",
     "text": [
      "Num eligible 12415 12415 8242083.0\n",
      "669\n",
      "[WARN] Dropping districts with missing SPPE data: ['Puerto Rico']\n"
     ]
    },
    {
     "name": "stderr",
     "output_type": "stream",
     "text": [
      " 48%|████▊     | 48/100 [01:01<01:11,  1.38s/it]"
     ]
    },
    {
     "name": "stdout",
     "output_type": "stream",
     "text": [
      "Num eligible 12416 12416 8242095.0\n",
      "668\n",
      "[WARN] Dropping districts with missing SPPE data: ['Puerto Rico']\n"
     ]
    },
    {
     "name": "stderr",
     "output_type": "stream",
     "text": [
      " 49%|████▉     | 49/100 [01:02<01:09,  1.35s/it]"
     ]
    },
    {
     "name": "stdout",
     "output_type": "stream",
     "text": [
      "Num eligible 12415 12415 8242073.0\n",
      "669\n",
      "[WARN] Dropping districts with missing SPPE data: ['Puerto Rico']\n"
     ]
    },
    {
     "name": "stderr",
     "output_type": "stream",
     "text": [
      " 50%|█████     | 50/100 [01:04<01:07,  1.36s/it]"
     ]
    },
    {
     "name": "stdout",
     "output_type": "stream",
     "text": [
      "Num eligible 12416 12416 8242072.0\n",
      "668\n",
      "[WARN] Dropping districts with missing SPPE data: ['Puerto Rico']\n"
     ]
    },
    {
     "name": "stderr",
     "output_type": "stream",
     "text": [
      " 51%|█████     | 51/100 [01:05<01:06,  1.36s/it]"
     ]
    },
    {
     "name": "stdout",
     "output_type": "stream",
     "text": [
      "Num eligible 12415 12415 8242091.0\n",
      "669\n",
      "[WARN] Dropping districts with missing SPPE data: ['Puerto Rico']\n"
     ]
    },
    {
     "name": "stderr",
     "output_type": "stream",
     "text": [
      " 52%|█████▏    | 52/100 [01:06<01:04,  1.35s/it]"
     ]
    },
    {
     "name": "stdout",
     "output_type": "stream",
     "text": [
      "Num eligible 12416 12416 8242090.0\n",
      "668\n",
      "[WARN] Dropping districts with missing SPPE data: ['Puerto Rico']\n"
     ]
    },
    {
     "name": "stderr",
     "output_type": "stream",
     "text": [
      " 53%|█████▎    | 53/100 [01:08<01:05,  1.40s/it]"
     ]
    },
    {
     "name": "stdout",
     "output_type": "stream",
     "text": [
      "Num eligible 12415 12415 8242072.0\n",
      "669\n",
      "[WARN] Dropping districts with missing SPPE data: ['Puerto Rico']\n"
     ]
    },
    {
     "name": "stderr",
     "output_type": "stream",
     "text": [
      " 54%|█████▍    | 54/100 [01:09<01:03,  1.38s/it]"
     ]
    },
    {
     "name": "stdout",
     "output_type": "stream",
     "text": [
      "Num eligible 12416 12416 8242087.0\n",
      "668\n",
      "[WARN] Dropping districts with missing SPPE data: ['Puerto Rico']\n"
     ]
    },
    {
     "name": "stderr",
     "output_type": "stream",
     "text": [
      " 55%|█████▌    | 55/100 [01:10<01:01,  1.36s/it]"
     ]
    },
    {
     "name": "stdout",
     "output_type": "stream",
     "text": [
      "Num eligible 12414 12414 8242094.0\n",
      "670\n",
      "[WARN] Dropping districts with missing SPPE data: ['Puerto Rico']\n"
     ]
    },
    {
     "name": "stderr",
     "output_type": "stream",
     "text": [
      " 56%|█████▌    | 56/100 [01:12<00:59,  1.35s/it]"
     ]
    },
    {
     "name": "stdout",
     "output_type": "stream",
     "text": [
      "Num eligible 12415 12415 8242107.0\n",
      "669\n",
      "[WARN] Dropping districts with missing SPPE data: ['Puerto Rico']\n"
     ]
    },
    {
     "name": "stderr",
     "output_type": "stream",
     "text": [
      " 57%|█████▋    | 57/100 [01:13<00:57,  1.33s/it]"
     ]
    },
    {
     "name": "stdout",
     "output_type": "stream",
     "text": [
      "Num eligible 12414 12414 8242077.0\n",
      "670\n",
      "[WARN] Dropping districts with missing SPPE data: ['Puerto Rico']\n"
     ]
    },
    {
     "name": "stderr",
     "output_type": "stream",
     "text": [
      " 58%|█████▊    | 58/100 [01:14<00:55,  1.33s/it]"
     ]
    },
    {
     "name": "stdout",
     "output_type": "stream",
     "text": [
      "Num eligible 12415 12415 8242089.0\n",
      "669\n",
      "[WARN] Dropping districts with missing SPPE data: ['Puerto Rico']\n"
     ]
    },
    {
     "name": "stderr",
     "output_type": "stream",
     "text": [
      " 59%|█████▉    | 59/100 [01:16<00:54,  1.33s/it]"
     ]
    },
    {
     "name": "stdout",
     "output_type": "stream",
     "text": [
      "Num eligible 12415 12415 8242077.0\n",
      "669\n",
      "[WARN] Dropping districts with missing SPPE data: ['Puerto Rico']\n"
     ]
    },
    {
     "name": "stderr",
     "output_type": "stream",
     "text": [
      " 60%|██████    | 60/100 [01:17<00:53,  1.33s/it]"
     ]
    },
    {
     "name": "stdout",
     "output_type": "stream",
     "text": [
      "Num eligible 12413 12413 8242069.0\n",
      "671\n",
      "[WARN] Dropping districts with missing SPPE data: ['Puerto Rico']\n"
     ]
    },
    {
     "name": "stderr",
     "output_type": "stream",
     "text": [
      " 61%|██████    | 61/100 [01:18<00:51,  1.33s/it]"
     ]
    },
    {
     "name": "stdout",
     "output_type": "stream",
     "text": [
      "Num eligible 12415 12415 8242088.0\n",
      "669\n",
      "[WARN] Dropping districts with missing SPPE data: ['Puerto Rico']\n"
     ]
    },
    {
     "name": "stderr",
     "output_type": "stream",
     "text": [
      " 62%|██████▏   | 62/100 [01:20<00:50,  1.32s/it]"
     ]
    },
    {
     "name": "stdout",
     "output_type": "stream",
     "text": [
      "Num eligible 12415 12415 8242104.0\n",
      "669\n",
      "[WARN] Dropping districts with missing SPPE data: ['Puerto Rico']\n"
     ]
    },
    {
     "name": "stderr",
     "output_type": "stream",
     "text": [
      " 63%|██████▎   | 63/100 [01:21<00:48,  1.30s/it]"
     ]
    },
    {
     "name": "stdout",
     "output_type": "stream",
     "text": [
      "Num eligible 12415 12415 8242104.0\n",
      "669\n",
      "[WARN] Dropping districts with missing SPPE data: ['Puerto Rico']\n"
     ]
    },
    {
     "name": "stderr",
     "output_type": "stream",
     "text": [
      " 64%|██████▍   | 64/100 [01:22<00:46,  1.30s/it]"
     ]
    },
    {
     "name": "stdout",
     "output_type": "stream",
     "text": [
      "Num eligible 12416 12416 8242083.0\n",
      "668\n",
      "[WARN] Dropping districts with missing SPPE data: ['Puerto Rico']\n"
     ]
    },
    {
     "name": "stderr",
     "output_type": "stream",
     "text": [
      " 65%|██████▌   | 65/100 [01:24<00:47,  1.37s/it]"
     ]
    },
    {
     "name": "stdout",
     "output_type": "stream",
     "text": [
      "Num eligible 12414 12414 8242093.0\n",
      "670\n",
      "[WARN] Dropping districts with missing SPPE data: ['Puerto Rico']\n"
     ]
    },
    {
     "name": "stderr",
     "output_type": "stream",
     "text": [
      " 66%|██████▌   | 66/100 [01:25<00:47,  1.39s/it]"
     ]
    },
    {
     "name": "stdout",
     "output_type": "stream",
     "text": [
      "Num eligible 12414 12414 8242074.0\n",
      "670\n",
      "[WARN] Dropping districts with missing SPPE data: ['Puerto Rico']\n"
     ]
    },
    {
     "name": "stderr",
     "output_type": "stream",
     "text": [
      " 67%|██████▋   | 67/100 [01:27<00:45,  1.38s/it]"
     ]
    },
    {
     "name": "stdout",
     "output_type": "stream",
     "text": [
      "Num eligible 12412 12412 8242085.0\n",
      "672\n",
      "[WARN] Dropping districts with missing SPPE data: ['Puerto Rico']\n"
     ]
    },
    {
     "name": "stderr",
     "output_type": "stream",
     "text": [
      " 68%|██████▊   | 68/100 [01:28<00:43,  1.34s/it]"
     ]
    },
    {
     "name": "stdout",
     "output_type": "stream",
     "text": [
      "Num eligible 12416 12416 8242076.0\n",
      "668\n",
      "[WARN] Dropping districts with missing SPPE data: ['Puerto Rico']\n"
     ]
    },
    {
     "name": "stderr",
     "output_type": "stream",
     "text": [
      " 69%|██████▉   | 69/100 [01:29<00:40,  1.31s/it]"
     ]
    },
    {
     "name": "stdout",
     "output_type": "stream",
     "text": [
      "Num eligible 12417 12417 8242085.0\n",
      "667\n",
      "[WARN] Dropping districts with missing SPPE data: ['Puerto Rico']\n"
     ]
    },
    {
     "name": "stderr",
     "output_type": "stream",
     "text": [
      " 70%|███████   | 70/100 [01:30<00:38,  1.29s/it]"
     ]
    },
    {
     "name": "stdout",
     "output_type": "stream",
     "text": [
      "Num eligible 12415 12415 8242093.0\n",
      "669\n",
      "[WARN] Dropping districts with missing SPPE data: ['Puerto Rico']\n"
     ]
    },
    {
     "name": "stderr",
     "output_type": "stream",
     "text": [
      " 71%|███████   | 71/100 [01:32<00:36,  1.27s/it]"
     ]
    },
    {
     "name": "stdout",
     "output_type": "stream",
     "text": [
      "Num eligible 12415 12415 8242095.0\n",
      "669\n",
      "[WARN] Dropping districts with missing SPPE data: ['Puerto Rico']\n"
     ]
    },
    {
     "name": "stderr",
     "output_type": "stream",
     "text": [
      " 72%|███████▏  | 72/100 [01:33<00:37,  1.33s/it]"
     ]
    },
    {
     "name": "stdout",
     "output_type": "stream",
     "text": [
      "Num eligible 12415 12415 8242094.0\n",
      "669\n",
      "[WARN] Dropping districts with missing SPPE data: ['Puerto Rico']\n"
     ]
    },
    {
     "name": "stderr",
     "output_type": "stream",
     "text": [
      " 73%|███████▎  | 73/100 [01:35<00:37,  1.39s/it]"
     ]
    },
    {
     "name": "stdout",
     "output_type": "stream",
     "text": [
      "Num eligible 12416 12416 8242084.0\n",
      "668\n",
      "[WARN] Dropping districts with missing SPPE data: ['Puerto Rico']\n"
     ]
    },
    {
     "name": "stderr",
     "output_type": "stream",
     "text": [
      " 74%|███████▍  | 74/100 [01:36<00:35,  1.35s/it]"
     ]
    },
    {
     "name": "stdout",
     "output_type": "stream",
     "text": [
      "Num eligible 12414 12414 8242060.0\n",
      "670\n",
      "[WARN] Dropping districts with missing SPPE data: ['Puerto Rico']\n"
     ]
    },
    {
     "name": "stderr",
     "output_type": "stream",
     "text": [
      " 75%|███████▌  | 75/100 [01:37<00:33,  1.33s/it]"
     ]
    },
    {
     "name": "stdout",
     "output_type": "stream",
     "text": [
      "Num eligible 12415 12415 8242091.0\n",
      "669\n",
      "[WARN] Dropping districts with missing SPPE data: ['Puerto Rico']\n"
     ]
    },
    {
     "name": "stderr",
     "output_type": "stream",
     "text": [
      " 76%|███████▌  | 76/100 [01:38<00:32,  1.35s/it]"
     ]
    },
    {
     "name": "stdout",
     "output_type": "stream",
     "text": [
      "Num eligible 12416 12416 8242099.0\n",
      "668\n",
      "[WARN] Dropping districts with missing SPPE data: ['Puerto Rico']\n"
     ]
    },
    {
     "name": "stderr",
     "output_type": "stream",
     "text": [
      " 77%|███████▋  | 77/100 [01:40<00:30,  1.31s/it]"
     ]
    },
    {
     "name": "stdout",
     "output_type": "stream",
     "text": [
      "Num eligible 12415 12415 8242068.0\n",
      "669\n",
      "[WARN] Dropping districts with missing SPPE data: ['Puerto Rico']\n"
     ]
    },
    {
     "name": "stderr",
     "output_type": "stream",
     "text": [
      " 78%|███████▊  | 78/100 [01:41<00:28,  1.29s/it]"
     ]
    },
    {
     "name": "stdout",
     "output_type": "stream",
     "text": [
      "Num eligible 12412 12412 8242107.0\n",
      "672\n",
      "[WARN] Dropping districts with missing SPPE data: ['Puerto Rico']\n"
     ]
    },
    {
     "name": "stderr",
     "output_type": "stream",
     "text": [
      " 79%|███████▉  | 79/100 [01:42<00:26,  1.26s/it]"
     ]
    },
    {
     "name": "stdout",
     "output_type": "stream",
     "text": [
      "Num eligible 12416 12416 8242082.0\n",
      "668\n",
      "[WARN] Dropping districts with missing SPPE data: ['Puerto Rico']\n"
     ]
    },
    {
     "name": "stderr",
     "output_type": "stream",
     "text": [
      " 80%|████████  | 80/100 [01:43<00:24,  1.25s/it]"
     ]
    },
    {
     "name": "stdout",
     "output_type": "stream",
     "text": [
      "Num eligible 12415 12415 8242094.0\n",
      "669\n",
      "[WARN] Dropping districts with missing SPPE data: ['Puerto Rico']\n"
     ]
    },
    {
     "name": "stderr",
     "output_type": "stream",
     "text": [
      " 81%|████████  | 81/100 [01:45<00:23,  1.24s/it]"
     ]
    },
    {
     "name": "stdout",
     "output_type": "stream",
     "text": [
      "Num eligible 12415 12415 8242103.0\n",
      "669\n",
      "[WARN] Dropping districts with missing SPPE data: ['Puerto Rico']\n"
     ]
    },
    {
     "name": "stderr",
     "output_type": "stream",
     "text": [
      " 82%|████████▏ | 82/100 [01:46<00:22,  1.23s/it]"
     ]
    },
    {
     "name": "stdout",
     "output_type": "stream",
     "text": [
      "Num eligible 12415 12415 8242089.0\n",
      "669\n",
      "[WARN] Dropping districts with missing SPPE data: ['Puerto Rico']\n"
     ]
    },
    {
     "name": "stderr",
     "output_type": "stream",
     "text": [
      " 83%|████████▎ | 83/100 [01:47<00:20,  1.22s/it]"
     ]
    },
    {
     "name": "stdout",
     "output_type": "stream",
     "text": [
      "Num eligible 12415 12415 8242101.0\n",
      "669\n",
      "[WARN] Dropping districts with missing SPPE data: ['Puerto Rico']\n"
     ]
    },
    {
     "name": "stderr",
     "output_type": "stream",
     "text": [
      " 84%|████████▍ | 84/100 [01:48<00:19,  1.22s/it]"
     ]
    },
    {
     "name": "stdout",
     "output_type": "stream",
     "text": [
      "Num eligible 12416 12416 8242097.0\n",
      "668\n",
      "[WARN] Dropping districts with missing SPPE data: ['Puerto Rico']\n"
     ]
    },
    {
     "name": "stderr",
     "output_type": "stream",
     "text": [
      " 85%|████████▌ | 85/100 [01:49<00:18,  1.22s/it]"
     ]
    },
    {
     "name": "stdout",
     "output_type": "stream",
     "text": [
      "Num eligible 12416 12416 8242095.0\n",
      "668\n",
      "[WARN] Dropping districts with missing SPPE data: ['Puerto Rico']\n"
     ]
    },
    {
     "name": "stderr",
     "output_type": "stream",
     "text": [
      " 86%|████████▌ | 86/100 [01:51<00:16,  1.21s/it]"
     ]
    },
    {
     "name": "stdout",
     "output_type": "stream",
     "text": [
      "Num eligible 12414 12414 8242082.0\n",
      "670\n",
      "[WARN] Dropping districts with missing SPPE data: ['Puerto Rico']\n"
     ]
    },
    {
     "name": "stderr",
     "output_type": "stream",
     "text": [
      " 87%|████████▋ | 87/100 [01:52<00:15,  1.21s/it]"
     ]
    },
    {
     "name": "stdout",
     "output_type": "stream",
     "text": [
      "Num eligible 12416 12416 8242079.0\n",
      "668\n",
      "[WARN] Dropping districts with missing SPPE data: ['Puerto Rico']\n"
     ]
    },
    {
     "name": "stderr",
     "output_type": "stream",
     "text": [
      " 88%|████████▊ | 88/100 [01:53<00:15,  1.25s/it]"
     ]
    },
    {
     "name": "stdout",
     "output_type": "stream",
     "text": [
      "Num eligible 12415 12415 8242068.0\n",
      "669\n",
      "[WARN] Dropping districts with missing SPPE data: ['Puerto Rico']\n"
     ]
    },
    {
     "name": "stderr",
     "output_type": "stream",
     "text": [
      " 89%|████████▉ | 89/100 [01:54<00:13,  1.24s/it]"
     ]
    },
    {
     "name": "stdout",
     "output_type": "stream",
     "text": [
      "Num eligible 12415 12415 8242079.0\n",
      "669\n",
      "[WARN] Dropping districts with missing SPPE data: ['Puerto Rico']\n"
     ]
    },
    {
     "name": "stderr",
     "output_type": "stream",
     "text": [
      " 90%|█████████ | 90/100 [01:56<00:12,  1.23s/it]"
     ]
    },
    {
     "name": "stdout",
     "output_type": "stream",
     "text": [
      "Num eligible 12414 12414 8242105.0\n",
      "670\n",
      "[WARN] Dropping districts with missing SPPE data: ['Puerto Rico']\n"
     ]
    },
    {
     "name": "stderr",
     "output_type": "stream",
     "text": [
      " 91%|█████████ | 91/100 [01:57<00:10,  1.22s/it]"
     ]
    },
    {
     "name": "stdout",
     "output_type": "stream",
     "text": [
      "Num eligible 12415 12415 8242095.0\n",
      "669\n",
      "[WARN] Dropping districts with missing SPPE data: ['Puerto Rico']\n"
     ]
    },
    {
     "name": "stderr",
     "output_type": "stream",
     "text": [
      " 92%|█████████▏| 92/100 [01:58<00:09,  1.22s/it]"
     ]
    },
    {
     "name": "stdout",
     "output_type": "stream",
     "text": [
      "Num eligible 12413 12413 8242057.0\n",
      "671\n",
      "[WARN] Dropping districts with missing SPPE data: ['Puerto Rico']\n"
     ]
    },
    {
     "name": "stderr",
     "output_type": "stream",
     "text": [
      " 93%|█████████▎| 93/100 [01:59<00:08,  1.21s/it]"
     ]
    },
    {
     "name": "stdout",
     "output_type": "stream",
     "text": [
      "Num eligible 12415 12415 8242087.0\n",
      "669\n",
      "[WARN] Dropping districts with missing SPPE data: ['Puerto Rico']\n"
     ]
    },
    {
     "name": "stderr",
     "output_type": "stream",
     "text": [
      " 94%|█████████▍| 94/100 [02:00<00:07,  1.21s/it]"
     ]
    },
    {
     "name": "stdout",
     "output_type": "stream",
     "text": [
      "Num eligible 12413 12413 8242075.0\n",
      "671\n",
      "[WARN] Dropping districts with missing SPPE data: ['Puerto Rico']\n"
     ]
    },
    {
     "name": "stderr",
     "output_type": "stream",
     "text": [
      " 95%|█████████▌| 95/100 [02:02<00:06,  1.21s/it]"
     ]
    },
    {
     "name": "stdout",
     "output_type": "stream",
     "text": [
      "Num eligible 12415 12415 8242074.0\n",
      "669\n",
      "[WARN] Dropping districts with missing SPPE data: ['Puerto Rico']\n"
     ]
    },
    {
     "name": "stderr",
     "output_type": "stream",
     "text": [
      " 96%|█████████▌| 96/100 [02:03<00:04,  1.21s/it]"
     ]
    },
    {
     "name": "stdout",
     "output_type": "stream",
     "text": [
      "Num eligible 12414 12414 8242089.0\n",
      "670\n",
      "[WARN] Dropping districts with missing SPPE data: ['Puerto Rico']\n"
     ]
    },
    {
     "name": "stderr",
     "output_type": "stream",
     "text": [
      " 97%|█████████▋| 97/100 [02:04<00:03,  1.20s/it]"
     ]
    },
    {
     "name": "stdout",
     "output_type": "stream",
     "text": [
      "Num eligible 12414 12414 8242083.0\n",
      "670\n",
      "[WARN] Dropping districts with missing SPPE data: ['Puerto Rico']\n"
     ]
    },
    {
     "name": "stderr",
     "output_type": "stream",
     "text": [
      " 98%|█████████▊| 98/100 [02:05<00:02,  1.20s/it]"
     ]
    },
    {
     "name": "stdout",
     "output_type": "stream",
     "text": [
      "Num eligible 12414 12414 8242093.0\n",
      "670\n",
      "[WARN] Dropping districts with missing SPPE data: ['Puerto Rico']\n"
     ]
    },
    {
     "name": "stderr",
     "output_type": "stream",
     "text": [
      " 99%|█████████▉| 99/100 [02:07<00:01,  1.27s/it]"
     ]
    },
    {
     "name": "stdout",
     "output_type": "stream",
     "text": [
      "Num eligible 12415 12415 8242092.0\n",
      "669\n",
      "[WARN] Dropping districts with missing SPPE data: ['Puerto Rico']\n"
     ]
    },
    {
     "name": "stderr",
     "output_type": "stream",
     "text": [
      "100%|██████████| 100/100 [02:08<00:00,  1.28s/it]"
     ]
    },
    {
     "name": "stdout",
     "output_type": "stream",
     "text": [
      "Num eligible 12415 12415 8242071.0\n",
      "669\n"
     ]
    },
    {
     "name": "stderr",
     "output_type": "stream",
     "text": [
      "\n"
     ]
    }
   ],
   "source": [
    "# difference in prob of eligibility vs actual eligibility\n",
    "# df[\"eligible_basic\"] = df.true_grant_basic > 0.0\n",
    "eps = 18\n",
    "\n",
    "allocator = SonnenbergAuthorizer(\n",
    "    data(saipe, Laplace(saipe, eps, 0.5), get_sppe(\"../data/sppe18.xlsx\"))\n",
    ")\n",
    "allocator.calc_auth()\n",
    "\n",
    "df = allocator.estimates\n",
    "mu_hat = df.true_children_eligible\n",
    "nu_hat = df.true_children_total\n",
    "k, _ = allocator.adj_sppe()\n",
    "sigma_mu = df.cv * mu_hat\n",
    "prob_el = np.where(\n",
    "    nu_hat <= 500,\n",
    "    1 - stats.norm.cdf((10-mu_hat)/sigma_mu),\n",
    "    1 - stats.norm.cdf((mu_hat - 0.02*nu_hat)/sigma_mu)\n",
    ")  # nu is point mass\n",
    "df[\"prob_el_basic\"] = prob_el\n",
    "\n",
    "df[\"true_eligible_basic\"] = (df.true_children_eligible > 10) & (df.true_children_eligible > 0.02*df.true_children_total)\n",
    "df[\"est_eligible_basic\"] = (df.est_children_eligible > 10) & (df.est_children_eligible > 0.02*df.est_children_total)\n",
    "# calc prop. of districts with prob > k who were ineligible\n",
    "ks = np.linspace(0, 1)\n",
    "k_eligible_true = [((df.prob_el_basic > k) & ~df.true_eligible_basic).sum() for k in ks]\n",
    "\n",
    "trials = []\n",
    "hist = []\n",
    "n = 100\n",
    "for trial in tqdm(range(n)):\n",
    "    allocatort = SonnenbergAuthorizer(\n",
    "        data(saipe, Laplace(saipe, eps, 0), get_sppe(\"../data/sppe18.xlsx\"))\n",
    "    )\n",
    "    allocatort.calc_auth()\n",
    "    trial = allocatort.estimates\n",
    "    mu_hat = trial.true_children_eligible\n",
    "    nu_hat = trial.true_children_total\n",
    "    sigma_mu = trial.cv * mu_hat\n",
    "    trial[\"prob_el_basic\"] = np.where(\n",
    "        nu_hat <= 500,\n",
    "        1 - stats.norm.cdf((10-mu_hat)/sigma_mu),\n",
    "        1 - stats.norm.cdf((mu_hat - 0.02*nu_hat)/sigma_mu)\n",
    "    )  # nu is point mass\n",
    "    trial[\"est_eligible_basic\"] = (trial.est_children_eligible > 10) & (trial.est_children_eligible > 0.02*trial.est_children_total)\n",
    "    trial[\"true_eligible_basic\"] = (trial.true_children_eligible > 10) & (trial.true_children_eligible > 0.02*trial.true_children_total)\n",
    "    print(\"Num eligible\", trial.est_eligible_basic.sum(), (trial.est_grant_basic > 0.0).sum(), trial.est_children_eligible.sum())\n",
    "    \n",
    "    k_eligible_est = [((trial.prob_el_basic > k) & ~trial.est_eligible_basic).sum() for k in ks]\n",
    "    hist += list(trial.prob_el_basic[~trial.est_eligible_basic])\n",
    "    print(k_eligible_est[0])\n",
    "    trials.append(k_eligible_est)"
   ]
  },
  {
   "cell_type": "code",
   "execution_count": 146,
   "id": "444d41ef-1e24-4eb4-b787-9c8469be63e1",
   "metadata": {},
   "outputs": [
    {
     "data": {
      "image/png": "[encoded data removed]",
      "text/plain": [
       "<Figure size 432x288 with 1 Axes>"
      ]
     },
     "metadata": {
      "needs_background": "light"
     },
     "output_type": "display_data"
    },
    {
     "data": {
      "image/png": "[encoded data removed]",
      "text/plain": [
       "<Figure size 432x288 with 1 Axes>"
      ]
     },
     "metadata": {
      "needs_background": "light"
     },
     "output_type": "display_data"
    }
   ],
   "source": [
    "alpha = 0.01\n",
    "\n",
    "upper = np.percentile(np.array(trials), 1-alpha/2, axis=0)\n",
    "lower = np.percentile(np.array(trials), alpha/2, axis=0)\n",
    "mean = np.mean(np.array(trials), axis=0)\n",
    "\n",
    "plt.plot(ks, k_eligible_true, label=\"No DP\")\n",
    "plt.plot(ks, mean, color='orange', label=\"With DP, averaged\")\n",
    "plt.fill_between(ks, lower, upper, color='orange', alpha=0.2, label=\"95% bootstrap CI\")\n",
    "plt.legend()\n",
    "plt.ylabel(\"# ineligible of districts k-likely to be eligible\")\n",
    "plt.xlabel(\"k\")\n",
    "plt.title(\"'Cheated' districts at various confidence levels\")\n",
    "plt.show()\n",
    "\n",
    "\n",
    "# histogram\n",
    "plt.hist(df.prob_el_basic[~df.true_eligible_basic], bins=10, label=\"No DP\", alpha=0.5)\n",
    "plt.hist(hist, bins=10, weights=1/n*np.ones(len(hist)), label=f\"DP, averaged over {n} trials\", alpha=0.5)\n",
    "plt.title(\"No DP\")\n",
    "plt.xlabel(\"Prob. eligible\")\n",
    "plt.ylabel(\"# ineligible districts\")\n",
    "plt.legend()\n",
    "plt.show()"
   ]
  },
  {
   "cell_type": "markdown",
   "id": "cc2ec185-7bc8-4604-8991-d52d287cb993",
   "metadata": {},
   "source": [
    "what kinds of districts are in the 1% of \"cheated\" districts? let's look at k=0.5"
   ]
  },
  {
   "cell_type": "markdown",
   "id": "f2218065-1545-44eb-819e-5e22bcd60ab5",
   "metadata": {
    "tags": []
   },
   "source": [
    "## Results"
   ]
  },
  {
   "cell_type": "code",
   "execution_count": 151,
   "id": "c2c8d378",
   "metadata": {
    "collapsed": true,
    "jupyter": {
     "outputs_hidden": true
    },
    "tags": []
   },
   "outputs": [
    {
     "name": "stdout",
     "output_type": "stream",
     "text": [
      "[WARN] Dropping districts with missing SPPE data: ['Puerto Rico']\n",
      "136021116192.56747 authorized reducedto 15999020221.602928 allocated.\n",
      "136021636582.98068 authorized reducedto 15999020221.602928 allocated.\n",
      "[WARN] Dropping districts with missing SPPE data: ['Puerto Rico']\n",
      "136021116192.56747 authorized reducedto 15999020221.602928 allocated.\n",
      "136015183589.83414 authorized reducedto 15999020221.602928 allocated.\n",
      "[WARN] Dropping districts with missing SPPE data: ['Puerto Rico']\n",
      "136021116192.56747 authorized reducedto 15999020221.602928 allocated.\n",
      "136018847725.84697 authorized reducedto 15999020221.602928 allocated.\n",
      "[WARN] Dropping districts with missing SPPE data: ['Puerto Rico']\n",
      "136021116192.56747 authorized reducedto 15999020221.602928 allocated.\n",
      "136026553165.37878 authorized reducedto 15999020221.602928 allocated.\n",
      "[WARN] Dropping districts with missing SPPE data: ['Puerto Rico']\n",
      "136021116192.56747 authorized reducedto 15999020221.602928 allocated.\n",
      "136019298134.1442 authorized reducedto 15999020221.602928 allocated.\n",
      "[WARN] Dropping districts with missing SPPE data: ['Puerto Rico']\n",
      "136021116192.56747 authorized reducedto 15999020221.602928 allocated.\n",
      "136028934920.63821 authorized reducedto 15999020221.602928 allocated.\n",
      "[WARN] Dropping districts with missing SPPE data: ['Puerto Rico']\n",
      "136021116192.56747 authorized reducedto 15999020221.602928 allocated.\n",
      "136019942323.21048 authorized reducedto 15999020221.602928 allocated.\n",
      "[WARN] Dropping districts with missing SPPE data: ['Puerto Rico']\n",
      "136021116192.56747 authorized reducedto 15999020221.602928 allocated.\n",
      "136020576019.51933 authorized reducedto 15999020221.602928 allocated.\n",
      "[WARN] Dropping districts with missing SPPE data: ['Puerto Rico']\n",
      "136021116192.56747 authorized reducedto 15999020221.602928 allocated.\n",
      "136021981538.30092 authorized reducedto 15999020221.602928 allocated.\n",
      "[WARN] Dropping districts with missing SPPE data: ['Puerto Rico']\n",
      "136021116192.56747 authorized reducedto 15999020221.602928 allocated.\n",
      "136019234649.85925 authorized reducedto 15999020221.602928 allocated.\n",
      "[WARN] Dropping districts with missing SPPE data: ['Puerto Rico']\n",
      "136021116192.56747 authorized reducedto 15999020221.602928 allocated.\n",
      "136020043030.77545 authorized reducedto 15999020221.602928 allocated.\n",
      "[WARN] Dropping districts with missing SPPE data: ['Puerto Rico']\n",
      "136021116192.56747 authorized reducedto 15999020221.602928 allocated.\n",
      "136025404240.92447 authorized reducedto 15999020221.602928 allocated.\n",
      "[WARN] Dropping districts with missing SPPE data: ['Puerto Rico']\n",
      "136021116192.56747 authorized reducedto 15999020221.602928 allocated.\n",
      "136015376591.4768 authorized reducedto 15999020221.602928 allocated.\n",
      "[WARN] Dropping districts with missing SPPE data: ['Puerto Rico']\n",
      "136021116192.56747 authorized reducedto 15999020221.602928 allocated.\n",
      "136014809004.85994 authorized reducedto 15999020221.602928 allocated.\n",
      "[WARN] Dropping districts with missing SPPE data: ['Puerto Rico']\n",
      "136021116192.56747 authorized reducedto 15999020221.602928 allocated.\n",
      "136020948335.24078 authorized reducedto 15999020221.602928 allocated.\n",
      "[WARN] Dropping districts with missing SPPE data: ['Puerto Rico']\n",
      "136021116192.56747 authorized reducedto 15999020221.602928 allocated.\n",
      "136022652239.51746 authorized reducedto 15999020221.602928 allocated.\n",
      "[WARN] Dropping districts with missing SPPE data: ['Puerto Rico']\n",
      "136021116192.56747 authorized reducedto 15999020221.602928 allocated.\n",
      "136023634348.3055 authorized reducedto 15999020221.602928 allocated.\n",
      "[WARN] Dropping districts with missing SPPE data: ['Puerto Rico']\n",
      "136021116192.56747 authorized reducedto 15999020221.602928 allocated.\n",
      "136018611856.66046 authorized reducedto 15999020221.602928 allocated.\n",
      "[WARN] Dropping districts with missing SPPE data: ['Puerto Rico']\n",
      "136021116192.56747 authorized reducedto 15999020221.602928 allocated.\n",
      "136020941886.06656 authorized reducedto 15999020221.602928 allocated.\n",
      "[WARN] Dropping districts with missing SPPE data: ['Puerto Rico']\n",
      "136021116192.56747 authorized reducedto 15999020221.602928 allocated.\n",
      "136020935743.8871 authorized reducedto 15999020221.602928 allocated.\n",
      "[WARN] Dropping districts with missing SPPE data: ['Puerto Rico']\n",
      "136021116192.56747 authorized reducedto 15999020221.602928 allocated.\n",
      "136023078983.59293 authorized reducedto 15999020221.602928 allocated.\n",
      "[WARN] Dropping districts with missing SPPE data: ['Puerto Rico']\n",
      "136021116192.56747 authorized reducedto 15999020221.602928 allocated.\n",
      "136015648665.90532 authorized reducedto 15999020221.602928 allocated.\n",
      "[WARN] Dropping districts with missing SPPE data: ['Puerto Rico']\n",
      "136021116192.56747 authorized reducedto 15999020221.602928 allocated.\n",
      "136020792855.26749 authorized reducedto 15999020221.602928 allocated.\n",
      "[WARN] Dropping districts with missing SPPE data: ['Puerto Rico']\n",
      "136021116192.56747 authorized reducedto 15999020221.602928 allocated.\n",
      "136023683045.60155 authorized reducedto 15999020221.602928 allocated.\n",
      "[WARN] Dropping districts with missing SPPE data: ['Puerto Rico']\n",
      "136021116192.56747 authorized reducedto 15999020221.602928 allocated.\n",
      "136021099524.16287 authorized reducedto 15999020221.602928 allocated.\n",
      "[WARN] Dropping districts with missing SPPE data: ['Puerto Rico']\n",
      "136021116192.56747 authorized reducedto 15999020221.602928 allocated.\n",
      "136020017984.3031 authorized reducedto 15999020221.602928 allocated.\n",
      "[WARN] Dropping districts with missing SPPE data: ['Puerto Rico']\n",
      "136021116192.56747 authorized reducedto 15999020221.602928 allocated.\n",
      "136019565490.36293 authorized reducedto 15999020221.602928 allocated.\n",
      "[WARN] Dropping districts with missing SPPE data: ['Puerto Rico']\n",
      "136021116192.56747 authorized reducedto 15999020221.602928 allocated.\n",
      "136022903967.62335 authorized reducedto 15999020221.602928 allocated.\n",
      "[WARN] Dropping districts with missing SPPE data: ['Puerto Rico']\n",
      "136021116192.56747 authorized reducedto 15999020221.602928 allocated.\n",
      "136020342120.408 authorized reducedto 15999020221.602928 allocated.\n",
      "[WARN] Dropping districts with missing SPPE data: ['Puerto Rico']\n",
      "136021116192.56747 authorized reducedto 15999020221.602928 allocated.\n",
      "136024672070.49353 authorized reducedto 15999020221.602928 allocated.\n",
      "[WARN] Dropping districts with missing SPPE data: ['Puerto Rico']\n",
      "136021116192.56747 authorized reducedto 15999020221.602928 allocated.\n",
      "136022649516.85306 authorized reducedto 15999020221.602928 allocated.\n",
      "[WARN] Dropping districts with missing SPPE data: ['Puerto Rico']\n",
      "136021116192.56747 authorized reducedto 15999020221.602928 allocated.\n",
      "136022320724.29173 authorized reducedto 15999020221.602928 allocated.\n",
      "[WARN] Dropping districts with missing SPPE data: ['Puerto Rico']\n",
      "136021116192.56747 authorized reducedto 15999020221.602928 allocated.\n",
      "136025557798.13063 authorized reducedto 15999020221.602928 allocated.\n",
      "[WARN] Dropping districts with missing SPPE data: ['Puerto Rico']\n",
      "136021116192.56747 authorized reducedto 15999020221.602928 allocated.\n",
      "136022876507.92766 authorized reducedto 15999020221.602928 allocated.\n",
      "[WARN] Dropping districts with missing SPPE data: ['Puerto Rico']\n",
      "136021116192.56747 authorized reducedto 15999020221.602928 allocated.\n",
      "136025698157.7242 authorized reducedto 15999020221.602928 allocated.\n",
      "[WARN] Dropping districts with missing SPPE data: ['Puerto Rico']\n",
      "136021116192.56747 authorized reducedto 15999020221.602928 allocated.\n",
      "136024782762.20364 authorized reducedto 15999020221.602928 allocated.\n",
      "[WARN] Dropping districts with missing SPPE data: ['Puerto Rico']\n",
      "136021116192.56747 authorized reducedto 15999020221.602928 allocated.\n",
      "136021771774.18246 authorized reducedto 15999020221.602928 allocated.\n",
      "[WARN] Dropping districts with missing SPPE data: ['Puerto Rico']\n",
      "136021116192.56747 authorized reducedto 15999020221.602928 allocated.\n",
      "136023336649.95306 authorized reducedto 15999020221.602928 allocated.\n",
      "[WARN] Dropping districts with missing SPPE data: ['Puerto Rico']\n",
      "136021116192.56747 authorized reducedto 15999020221.602928 allocated.\n",
      "136026022424.9588 authorized reducedto 15999020221.602928 allocated.\n",
      "[WARN] Dropping districts with missing SPPE data: ['Puerto Rico']\n",
      "136021116192.56747 authorized reducedto 15999020221.602928 allocated.\n",
      "136018792878.25833 authorized reducedto 15999020221.602928 allocated.\n",
      "[WARN] Dropping districts with missing SPPE data: ['Puerto Rico']\n",
      "136021116192.56747 authorized reducedto 15999020221.602928 allocated.\n",
      "136023419809.8178 authorized reducedto 15999020221.602928 allocated.\n",
      "[WARN] Dropping districts with missing SPPE data: ['Puerto Rico']\n",
      "136021116192.56747 authorized reducedto 15999020221.602928 allocated.\n",
      "136020927122.09026 authorized reducedto 15999020221.602928 allocated.\n",
      "[WARN] Dropping districts with missing SPPE data: ['Puerto Rico']\n",
      "136021116192.56747 authorized reducedto 15999020221.602928 allocated.\n",
      "136022517909.71869 authorized reducedto 15999020221.602928 allocated.\n",
      "[WARN] Dropping districts with missing SPPE data: ['Puerto Rico']\n",
      "136021116192.56747 authorized reducedto 15999020221.602928 allocated.\n",
      "136018996278.09296 authorized reducedto 15999020221.602928 allocated.\n",
      "[WARN] Dropping districts with missing SPPE data: ['Puerto Rico']\n",
      "136021116192.56747 authorized reducedto 15999020221.602928 allocated.\n",
      "136021990579.81224 authorized reducedto 15999020221.602928 allocated.\n",
      "[WARN] Dropping districts with missing SPPE data: ['Puerto Rico']\n",
      "136021116192.56747 authorized reducedto 15999020221.602928 allocated.\n",
      "136020158322.46045 authorized reducedto 15999020221.602928 allocated.\n",
      "[WARN] Dropping districts with missing SPPE data: ['Puerto Rico']\n",
      "136021116192.56747 authorized reducedto 15999020221.602928 allocated.\n",
      "136020360955.80585 authorized reducedto 15999020221.602928 allocated.\n",
      "[WARN] Dropping districts with missing SPPE data: ['Puerto Rico']\n",
      "136021116192.56747 authorized reducedto 15999020221.602928 allocated.\n",
      "136014892729.24763 authorized reducedto 15999020221.602928 allocated.\n",
      "[WARN] Dropping districts with missing SPPE data: ['Puerto Rico']\n",
      "136021116192.56747 authorized reducedto 15999020221.602928 allocated.\n",
      "136021932675.09323 authorized reducedto 15999020221.602928 allocated.\n",
      "[WARN] Dropping districts with missing SPPE data: ['Puerto Rico']\n",
      "136021116192.56747 authorized reducedto 15999020221.602928 allocated.\n",
      "136014019183.35779 authorized reducedto 15999020221.602928 allocated.\n",
      "[WARN] Dropping districts with missing SPPE data: ['Puerto Rico']\n",
      "136021116192.56747 authorized reducedto 15999020221.602928 allocated.\n",
      "136020703976.89172 authorized reducedto 15999020221.602928 allocated.\n",
      "[WARN] Dropping districts with missing SPPE data: ['Puerto Rico']\n",
      "136021116192.56747 authorized reducedto 15999020221.602928 allocated.\n",
      "136023542498.0564 authorized reducedto 15999020221.602928 allocated.\n",
      "[WARN] Dropping districts with missing SPPE data: ['Puerto Rico']\n",
      "136021116192.56747 authorized reducedto 15999020221.602928 allocated.\n",
      "136026586436.20697 authorized reducedto 15999020221.602928 allocated.\n",
      "[WARN] Dropping districts with missing SPPE data: ['Puerto Rico']\n",
      "136021116192.56747 authorized reducedto 15999020221.602928 allocated.\n",
      "136022107907.66809 authorized reducedto 15999020221.602928 allocated.\n",
      "[WARN] Dropping districts with missing SPPE data: ['Puerto Rico']\n",
      "136021116192.56747 authorized reducedto 15999020221.602928 allocated.\n",
      "136018662079.26015 authorized reducedto 15999020221.602928 allocated.\n",
      "[WARN] Dropping districts with missing SPPE data: ['Puerto Rico']\n",
      "136021116192.56747 authorized reducedto 15999020221.602928 allocated.\n",
      "136014357573.46115 authorized reducedto 15999020221.602928 allocated.\n",
      "[WARN] Dropping districts with missing SPPE data: ['Puerto Rico']\n",
      "136021116192.56747 authorized reducedto 15999020221.602928 allocated.\n",
      "136023086038.01103 authorized reducedto 15999020221.602928 allocated.\n",
      "[WARN] Dropping districts with missing SPPE data: ['Puerto Rico']\n",
      "136021116192.56747 authorized reducedto 15999020221.602928 allocated.\n",
      "136020717093.50156 authorized reducedto 15999020221.602928 allocated.\n",
      "[WARN] Dropping districts with missing SPPE data: ['Puerto Rico']\n",
      "136021116192.56747 authorized reducedto 15999020221.602928 allocated.\n",
      "136020487621.01474 authorized reducedto 15999020221.602928 allocated.\n",
      "[WARN] Dropping districts with missing SPPE data: ['Puerto Rico']\n",
      "136021116192.56747 authorized reducedto 15999020221.602928 allocated.\n",
      "136027985842.62872 authorized reducedto 15999020221.602928 allocated.\n",
      "[WARN] Dropping districts with missing SPPE data: ['Puerto Rico']\n",
      "136021116192.56747 authorized reducedto 15999020221.602928 allocated.\n",
      "136021147720.63254 authorized reducedto 15999020221.602928 allocated.\n",
      "[WARN] Dropping districts with missing SPPE data: ['Puerto Rico']\n",
      "136021116192.56747 authorized reducedto 15999020221.602928 allocated.\n",
      "136024515926.87906 authorized reducedto 15999020221.602928 allocated.\n",
      "[WARN] Dropping districts with missing SPPE data: ['Puerto Rico']\n",
      "136021116192.56747 authorized reducedto 15999020221.602928 allocated.\n",
      "136022322889.06595 authorized reducedto 15999020221.602928 allocated.\n",
      "[WARN] Dropping districts with missing SPPE data: ['Puerto Rico']\n",
      "136021116192.56747 authorized reducedto 15999020221.602928 allocated.\n",
      "136024084831.61472 authorized reducedto 15999020221.602928 allocated.\n",
      "[WARN] Dropping districts with missing SPPE data: ['Puerto Rico']\n",
      "136021116192.56747 authorized reducedto 15999020221.602928 allocated.\n",
      "136020411573.07394 authorized reducedto 15999020221.602928 allocated.\n",
      "[WARN] Dropping districts with missing SPPE data: ['Puerto Rico']\n",
      "136021116192.56747 authorized reducedto 15999020221.602928 allocated.\n",
      "136020862879.13374 authorized reducedto 15999020221.602928 allocated.\n",
      "[WARN] Dropping districts with missing SPPE data: ['Puerto Rico']\n",
      "136021116192.56747 authorized reducedto 15999020221.602928 allocated.\n",
      "136030334741.23695 authorized reducedto 15999020221.602928 allocated.\n",
      "[WARN] Dropping districts with missing SPPE data: ['Puerto Rico']\n",
      "136021116192.56747 authorized reducedto 15999020221.602928 allocated.\n",
      "136024217691.5086 authorized reducedto 15999020221.602928 allocated.\n",
      "[WARN] Dropping districts with missing SPPE data: ['Puerto Rico']\n",
      "136021116192.56747 authorized reducedto 15999020221.602928 allocated.\n",
      "136021176576.76411 authorized reducedto 15999020221.602928 allocated.\n",
      "[WARN] Dropping districts with missing SPPE data: ['Puerto Rico']\n",
      "136021116192.56747 authorized reducedto 15999020221.602928 allocated.\n",
      "136031236971.67343 authorized reducedto 15999020221.602928 allocated.\n",
      "[WARN] Dropping districts with missing SPPE data: ['Puerto Rico']\n",
      "136021116192.56747 authorized reducedto 15999020221.602928 allocated.\n",
      "136020826955.58774 authorized reducedto 15999020221.602928 allocated.\n",
      "[WARN] Dropping districts with missing SPPE data: ['Puerto Rico']\n",
      "136021116192.56747 authorized reducedto 15999020221.602928 allocated.\n",
      "136025248793.45178 authorized reducedto 15999020221.602928 allocated.\n",
      "[WARN] Dropping districts with missing SPPE data: ['Puerto Rico']\n",
      "136021116192.56747 authorized reducedto 15999020221.602928 allocated.\n",
      "136022181695.70459 authorized reducedto 15999020221.602928 allocated.\n",
      "[WARN] Dropping districts with missing SPPE data: ['Puerto Rico']\n",
      "136021116192.56747 authorized reducedto 15999020221.602928 allocated.\n",
      "136018935452.6234 authorized reducedto 15999020221.602928 allocated.\n",
      "[WARN] Dropping districts with missing SPPE data: ['Puerto Rico']\n",
      "136021116192.56747 authorized reducedto 15999020221.602928 allocated.\n",
      "136021096347.8678 authorized reducedto 15999020221.602928 allocated.\n",
      "[WARN] Dropping districts with missing SPPE data: ['Puerto Rico']\n",
      "136021116192.56747 authorized reducedto 15999020221.602928 allocated.\n",
      "136022893021.75241 authorized reducedto 15999020221.602928 allocated.\n",
      "[WARN] Dropping districts with missing SPPE data: ['Puerto Rico']\n",
      "136021116192.56747 authorized reducedto 15999020221.602928 allocated.\n",
      "136017987237.83197 authorized reducedto 15999020221.602928 allocated.\n",
      "[WARN] Dropping districts with missing SPPE data: ['Puerto Rico']\n",
      "136021116192.56747 authorized reducedto 15999020221.602928 allocated.\n",
      "136017068552.26999 authorized reducedto 15999020221.602928 allocated.\n",
      "[WARN] Dropping districts with missing SPPE data: ['Puerto Rico']\n",
      "136021116192.56747 authorized reducedto 15999020221.602928 allocated.\n",
      "136020833199.21938 authorized reducedto 15999020221.602928 allocated.\n",
      "[WARN] Dropping districts with missing SPPE data: ['Puerto Rico']\n",
      "136021116192.56747 authorized reducedto 15999020221.602928 allocated.\n",
      "136019261069.95189 authorized reducedto 15999020221.602928 allocated.\n",
      "[WARN] Dropping districts with missing SPPE data: ['Puerto Rico']\n",
      "136021116192.56747 authorized reducedto 15999020221.602928 allocated.\n",
      "136024148096.05058 authorized reducedto 15999020221.602928 allocated.\n",
      "[WARN] Dropping districts with missing SPPE data: ['Puerto Rico']\n",
      "136021116192.56747 authorized reducedto 15999020221.602928 allocated.\n",
      "136028180009.70322 authorized reducedto 15999020221.602928 allocated.\n",
      "[WARN] Dropping districts with missing SPPE data: ['Puerto Rico']\n",
      "136021116192.56747 authorized reducedto 15999020221.602928 allocated.\n",
      "136017316143.28044 authorized reducedto 15999020221.602928 allocated.\n",
      "[WARN] Dropping districts with missing SPPE data: ['Puerto Rico']\n",
      "136021116192.56747 authorized reducedto 15999020221.602928 allocated.\n",
      "136020096887.2896 authorized reducedto 15999020221.602928 allocated.\n",
      "[WARN] Dropping districts with missing SPPE data: ['Puerto Rico']\n",
      "136021116192.56747 authorized reducedto 15999020221.602928 allocated.\n",
      "136019418811.6534 authorized reducedto 15999020221.602928 allocated.\n",
      "[WARN] Dropping districts with missing SPPE data: ['Puerto Rico']\n",
      "136021116192.56747 authorized reducedto 15999020221.602928 allocated.\n",
      "136029586009.13206 authorized reducedto 15999020221.602928 allocated.\n",
      "[WARN] Dropping districts with missing SPPE data: ['Puerto Rico']\n",
      "136021116192.56747 authorized reducedto 15999020221.602928 allocated.\n",
      "136023139130.28369 authorized reducedto 15999020221.602928 allocated.\n",
      "[WARN] Dropping districts with missing SPPE data: ['Puerto Rico']\n",
      "136021116192.56747 authorized reducedto 15999020221.602928 allocated.\n",
      "136017166808.41505 authorized reducedto 15999020221.602928 allocated.\n",
      "[WARN] Dropping districts with missing SPPE data: ['Puerto Rico']\n",
      "136021116192.56747 authorized reducedto 15999020221.602928 allocated.\n",
      "136021744327.35155 authorized reducedto 15999020221.602928 allocated.\n",
      "[WARN] Dropping districts with missing SPPE data: ['Puerto Rico']\n",
      "136021116192.56747 authorized reducedto 15999020221.602928 allocated.\n",
      "136025666402.28769 authorized reducedto 15999020221.602928 allocated.\n",
      "[WARN] Dropping districts with missing SPPE data: ['Puerto Rico']\n",
      "136021116192.56747 authorized reducedto 15999020221.602928 allocated.\n",
      "136018127428.19452 authorized reducedto 15999020221.602928 allocated.\n",
      "[WARN] Dropping districts with missing SPPE data: ['Puerto Rico']\n",
      "136021116192.56747 authorized reducedto 15999020221.602928 allocated.\n",
      "136023443503.00914 authorized reducedto 15999020221.602928 allocated.\n",
      "[WARN] Dropping districts with missing SPPE data: ['Puerto Rico']\n",
      "136021116192.56747 authorized reducedto 15999020221.602928 allocated.\n",
      "136021121646.58559 authorized reducedto 15999020221.602928 allocated.\n",
      "[WARN] Dropping districts with missing SPPE data: ['Puerto Rico']\n",
      "136021116192.56747 authorized reducedto 15999020221.602928 allocated.\n",
      "136020400692.44052 authorized reducedto 15999020221.602928 allocated.\n",
      "[WARN] Dropping districts with missing SPPE data: ['Puerto Rico']\n",
      "136021116192.56747 authorized reducedto 15999020221.602928 allocated.\n",
      "136021174729.8129 authorized reducedto 15999020221.602928 allocated.\n",
      "[WARN] Dropping districts with missing SPPE data: ['Puerto Rico']\n",
      "136021116192.56747 authorized reducedto 15999020221.602928 allocated.\n",
      "136021413594.61652 authorized reducedto 15999020221.602928 allocated.\n",
      "[WARN] Dropping districts with missing SPPE data: ['Puerto Rico']\n",
      "136021116192.56747 authorized reducedto 15999020221.602928 allocated.\n",
      "136023963316.8711 authorized reducedto 15999020221.602928 allocated.\n",
      "[WARN] Dropping districts with missing SPPE data: ['Puerto Rico']\n",
      "136021116192.56747 authorized reducedto 15999020221.602928 allocated.\n",
      "136016006828.93167 authorized reducedto 15999020221.602928 allocated.\n",
      "[WARN] Dropping districts with missing SPPE data: ['Puerto Rico']\n",
      "136021116192.56747 authorized reducedto 15999020221.602928 allocated.\n",
      "136019602037.18774 authorized reducedto 15999020221.602928 allocated.\n",
      "[WARN] Dropping districts with missing SPPE data: ['Puerto Rico']\n",
      "136021116192.56747 authorized reducedto 15999020221.602928 allocated.\n",
      "136016270009.41846 authorized reducedto 15999020221.602928 allocated.\n",
      "[WARN] Dropping districts with missing SPPE data: ['Puerto Rico']\n",
      "136021116192.56747 authorized reducedto 15999020221.602928 allocated.\n",
      "136021639127.9819 authorized reducedto 15999020221.602928 allocated.\n",
      "[WARN] Dropping districts with missing SPPE data: ['Puerto Rico']\n",
      "136021116192.56747 authorized reducedto 15999020221.602928 allocated.\n",
      "136027639635.83795 authorized reducedto 15999020221.602928 allocated.\n",
      "[WARN] Dropping districts with missing SPPE data: ['Puerto Rico']\n",
      "136021116192.56747 authorized reducedto 15999020221.602928 allocated.\n",
      "136020185394.03072 authorized reducedto 15999020221.602928 allocated.\n",
      "[WARN] Dropping districts with missing SPPE data: ['Puerto Rico']\n",
      "136021116192.56747 authorized reducedto 15999020221.602928 allocated.\n",
      "136027689727.64749 authorized reducedto 15999020221.602928 allocated.\n",
      "[WARN] Dropping districts with missing SPPE data: ['Puerto Rico']\n",
      "136021116192.56747 authorized reducedto 15999020221.602928 allocated.\n",
      "136021730442.4911 authorized reducedto 15999020221.602928 allocated.\n",
      "[WARN] Dropping districts with missing SPPE data: ['Puerto Rico']\n",
      "136021116192.56747 authorized reducedto 15999020221.602928 allocated.\n",
      "136027012855.80112 authorized reducedto 15999020221.602928 allocated.\n",
      "[WARN] Dropping districts with missing SPPE data: ['Puerto Rico']\n",
      "136021116192.56747 authorized reducedto 15999020221.602928 allocated.\n",
      "136022887272.98587 authorized reducedto 15999020221.602928 allocated.\n",
      "[WARN] Dropping districts with missing SPPE data: ['Puerto Rico']\n",
      "136021116192.56747 authorized reducedto 15999020221.602928 allocated.\n",
      "136017871150.62433 authorized reducedto 15999020221.602928 allocated.\n",
      "[WARN] Dropping districts with missing SPPE data: ['Puerto Rico']\n",
      "136021116192.56747 authorized reducedto 15999020221.602928 allocated.\n",
      "136019228232.67363 authorized reducedto 15999020221.602928 allocated.\n",
      "[WARN] Dropping districts with missing SPPE data: ['Puerto Rico']\n",
      "136021116192.56747 authorized reducedto 15999020221.602928 allocated.\n",
      "136022705455.19507 authorized reducedto 15999020221.602928 allocated.\n",
      "[WARN] Dropping districts with missing SPPE data: ['Puerto Rico']\n",
      "136021116192.56747 authorized reducedto 15999020221.602928 allocated.\n",
      "136021812072.76257 authorized reducedto 15999020221.602928 allocated.\n",
      "[WARN] Dropping districts with missing SPPE data: ['Puerto Rico']\n",
      "136021116192.56747 authorized reducedto 15999020221.602928 allocated.\n",
      "136016595816.47125 authorized reducedto 15999020221.602928 allocated.\n",
      "[WARN] Dropping districts with missing SPPE data: ['Puerto Rico']\n",
      "136021116192.56747 authorized reducedto 15999020221.602928 allocated.\n",
      "136019253903.78409 authorized reducedto 15999020221.602928 allocated.\n",
      "[WARN] Dropping districts with missing SPPE data: ['Puerto Rico']\n",
      "136021116192.56747 authorized reducedto 15999020221.602928 allocated.\n",
      "136023696577.29965 authorized reducedto 15999020221.602928 allocated.\n",
      "[WARN] Dropping districts with missing SPPE data: ['Puerto Rico']\n",
      "136021116192.56747 authorized reducedto 15999020221.602928 allocated.\n",
      "136020866472.07027 authorized reducedto 15999020221.602928 allocated.\n",
      "[WARN] Dropping districts with missing SPPE data: ['Puerto Rico']\n",
      "136021116192.56747 authorized reducedto 15999020221.602928 allocated.\n",
      "136024538723.38339 authorized reducedto 15999020221.602928 allocated.\n",
      "[WARN] Dropping districts with missing SPPE data: ['Puerto Rico']\n",
      "136021116192.56747 authorized reducedto 15999020221.602928 allocated.\n",
      "136020417343.73528 authorized reducedto 15999020221.602928 allocated.\n",
      "[WARN] Dropping districts with missing SPPE data: ['Puerto Rico']\n",
      "136021116192.56747 authorized reducedto 15999020221.602928 allocated.\n",
      "136015448581.26663 authorized reducedto 15999020221.602928 allocated.\n",
      "[WARN] Dropping districts with missing SPPE data: ['Puerto Rico']\n",
      "136021116192.56747 authorized reducedto 15999020221.602928 allocated.\n",
      "136019625533.25462 authorized reducedto 15999020221.602928 allocated.\n",
      "[WARN] Dropping districts with missing SPPE data: ['Puerto Rico']\n",
      "136021116192.56747 authorized reducedto 15999020221.602928 allocated.\n",
      "136024587105.89163 authorized reducedto 15999020221.602928 allocated.\n",
      "[WARN] Dropping districts with missing SPPE data: ['Puerto Rico']\n",
      "136021116192.56747 authorized reducedto 15999020221.602928 allocated.\n",
      "136022852392.8788 authorized reducedto 15999020221.602928 allocated.\n",
      "[WARN] Dropping districts with missing SPPE data: ['Puerto Rico']\n",
      "136021116192.56747 authorized reducedto 15999020221.602928 allocated.\n",
      "136024124603.28339 authorized reducedto 15999020221.602928 allocated.\n",
      "[WARN] Dropping districts with missing SPPE data: ['Puerto Rico']\n",
      "136021116192.56747 authorized reducedto 15999020221.602928 allocated.\n",
      "136021393977.04633 authorized reducedto 15999020221.602928 allocated.\n",
      "[WARN] Dropping districts with missing SPPE data: ['Puerto Rico']\n",
      "136021116192.56747 authorized reducedto 15999020221.602928 allocated.\n",
      "136028548446.67047 authorized reducedto 15999020221.602928 allocated.\n",
      "[WARN] Dropping districts with missing SPPE data: ['Puerto Rico']\n",
      "136021116192.56747 authorized reducedto 15999020221.602928 allocated.\n",
      "136018979707.0221 authorized reducedto 15999020221.602928 allocated.\n",
      "[WARN] Dropping districts with missing SPPE data: ['Puerto Rico']\n",
      "136021116192.56747 authorized reducedto 15999020221.602928 allocated.\n",
      "136015501483.67732 authorized reducedto 15999020221.602928 allocated.\n",
      "[WARN] Dropping districts with missing SPPE data: ['Puerto Rico']\n",
      "136021116192.56747 authorized reducedto 15999020221.602928 allocated.\n",
      "136021585226.32361 authorized reducedto 15999020221.602928 allocated.\n",
      "[WARN] Dropping districts with missing SPPE data: ['Puerto Rico']\n",
      "136021116192.56747 authorized reducedto 15999020221.602928 allocated.\n",
      "136019620791.79604 authorized reducedto 15999020221.602928 allocated.\n",
      "[WARN] Dropping districts with missing SPPE data: ['Puerto Rico']\n",
      "136021116192.56747 authorized reducedto 15999020221.602928 allocated.\n",
      "136024190374.4819 authorized reducedto 15999020221.602928 allocated.\n",
      "[WARN] Dropping districts with missing SPPE data: ['Puerto Rico']\n",
      "136021116192.56747 authorized reducedto 15999020221.602928 allocated.\n",
      "136027804129.50052 authorized reducedto 15999020221.602928 allocated.\n",
      "[WARN] Dropping districts with missing SPPE data: ['Puerto Rico']\n",
      "136021116192.56747 authorized reducedto 15999020221.602928 allocated.\n",
      "136024385230.71378 authorized reducedto 15999020221.602928 allocated.\n",
      "[WARN] Dropping districts with missing SPPE data: ['Puerto Rico']\n",
      "136021116192.56747 authorized reducedto 15999020221.602928 allocated.\n",
      "136022361872.72911 authorized reducedto 15999020221.602928 allocated.\n",
      "[WARN] Dropping districts with missing SPPE data: ['Puerto Rico']\n",
      "136021116192.56747 authorized reducedto 15999020221.602928 allocated.\n",
      "136020915444.71872 authorized reducedto 15999020221.602928 allocated.\n",
      "[WARN] Dropping districts with missing SPPE data: ['Puerto Rico']\n",
      "136021116192.56747 authorized reducedto 15999020221.602928 allocated.\n",
      "136021638155.02051 authorized reducedto 15999020221.602928 allocated.\n",
      "[WARN] Dropping districts with missing SPPE data: ['Puerto Rico']\n",
      "136021116192.56747 authorized reducedto 15999020221.602928 allocated.\n",
      "136024681813.52454 authorized reducedto 15999020221.602928 allocated.\n",
      "[WARN] Dropping districts with missing SPPE data: ['Puerto Rico']\n",
      "136021116192.56747 authorized reducedto 15999020221.602928 allocated.\n",
      "136022453346.52817 authorized reducedto 15999020221.602928 allocated.\n",
      "[WARN] Dropping districts with missing SPPE data: ['Puerto Rico']\n",
      "136021116192.56747 authorized reducedto 15999020221.602928 allocated.\n",
      "136019623366.23251 authorized reducedto 15999020221.602928 allocated.\n",
      "[WARN] Dropping districts with missing SPPE data: ['Puerto Rico']\n",
      "136021116192.56747 authorized reducedto 15999020221.602928 allocated.\n",
      "136022229201.70949 authorized reducedto 15999020221.602928 allocated.\n",
      "[WARN] Dropping districts with missing SPPE data: ['Puerto Rico']\n",
      "136021116192.56747 authorized reducedto 15999020221.602928 allocated.\n",
      "136022075111.45798 authorized reducedto 15999020221.602928 allocated.\n",
      "[WARN] Dropping districts with missing SPPE data: ['Puerto Rico']\n",
      "136021116192.56747 authorized reducedto 15999020221.602928 allocated.\n",
      "136013515321.20844 authorized reducedto 15999020221.602928 allocated.\n",
      "[WARN] Dropping districts with missing SPPE data: ['Puerto Rico']\n",
      "136021116192.56747 authorized reducedto 15999020221.602928 allocated.\n",
      "136020196328.70833 authorized reducedto 15999020221.602928 allocated.\n",
      "[WARN] Dropping districts with missing SPPE data: ['Puerto Rico']\n",
      "136021116192.56747 authorized reducedto 15999020221.602928 allocated.\n",
      "136028261690.93637 authorized reducedto 15999020221.602928 allocated.\n",
      "[WARN] Dropping districts with missing SPPE data: ['Puerto Rico']\n",
      "136021116192.56747 authorized reducedto 15999020221.602928 allocated.\n",
      "136021900657.99539 authorized reducedto 15999020221.602928 allocated.\n",
      "[WARN] Dropping districts with missing SPPE data: ['Puerto Rico']\n",
      "136021116192.56747 authorized reducedto 15999020221.602928 allocated.\n",
      "136017003971.05249 authorized reducedto 15999020221.602928 allocated.\n",
      "[WARN] Dropping districts with missing SPPE data: ['Puerto Rico']\n",
      "136021116192.56747 authorized reducedto 15999020221.602928 allocated.\n",
      "136023315513.06592 authorized reducedto 15999020221.602928 allocated.\n",
      "[WARN] Dropping districts with missing SPPE data: ['Puerto Rico']\n",
      "136021116192.56747 authorized reducedto 15999020221.602928 allocated.\n",
      "136023172811.53867 authorized reducedto 15999020221.602928 allocated.\n",
      "[WARN] Dropping districts with missing SPPE data: ['Puerto Rico']\n",
      "136021116192.56747 authorized reducedto 15999020221.602928 allocated.\n",
      "136021735344.4733 authorized reducedto 15999020221.602928 allocated.\n",
      "[WARN] Dropping districts with missing SPPE data: ['Puerto Rico']\n",
      "136021116192.56747 authorized reducedto 15999020221.602928 allocated.\n",
      "136018418019.19026 authorized reducedto 15999020221.602928 allocated.\n",
      "[WARN] Dropping districts with missing SPPE data: ['Puerto Rico']\n",
      "136021116192.56747 authorized reducedto 15999020221.602928 allocated.\n",
      "136022343813.76105 authorized reducedto 15999020221.602928 allocated.\n",
      "[WARN] Dropping districts with missing SPPE data: ['Puerto Rico']\n",
      "136021116192.56747 authorized reducedto 15999020221.602928 allocated.\n",
      "136021257815.92393 authorized reducedto 15999020221.602928 allocated.\n",
      "[WARN] Dropping districts with missing SPPE data: ['Puerto Rico']\n",
      "136021116192.56747 authorized reducedto 15999020221.602928 allocated.\n",
      "136023862438.4285 authorized reducedto 15999020221.602928 allocated.\n",
      "[WARN] Dropping districts with missing SPPE data: ['Puerto Rico']\n",
      "136021116192.56747 authorized reducedto 15999020221.602928 allocated.\n",
      "136023171950.8512 authorized reducedto 15999020221.602928 allocated.\n",
      "[WARN] Dropping districts with missing SPPE data: ['Puerto Rico']\n",
      "136021116192.56747 authorized reducedto 15999020221.602928 allocated.\n",
      "136022481238.75763 authorized reducedto 15999020221.602928 allocated.\n",
      "[WARN] Dropping districts with missing SPPE data: ['Puerto Rico']\n",
      "136021116192.56747 authorized reducedto 15999020221.602928 allocated.\n",
      "136024206010.97726 authorized reducedto 15999020221.602928 allocated.\n",
      "[WARN] Dropping districts with missing SPPE data: ['Puerto Rico']\n",
      "136021116192.56747 authorized reducedto 15999020221.602928 allocated.\n",
      "136022333450.05429 authorized reducedto 15999020221.602928 allocated.\n",
      "[WARN] Dropping districts with missing SPPE data: ['Puerto Rico']\n",
      "136021116192.56747 authorized reducedto 15999020221.602928 allocated.\n",
      "136022648665.77852 authorized reducedto 15999020221.602928 allocated.\n",
      "[WARN] Dropping districts with missing SPPE data: ['Puerto Rico']\n",
      "136021116192.56747 authorized reducedto 15999020221.602928 allocated.\n",
      "136021950357.39816 authorized reducedto 15999020221.602928 allocated.\n",
      "[WARN] Dropping districts with missing SPPE data: ['Puerto Rico']\n",
      "136021116192.56747 authorized reducedto 15999020221.602928 allocated.\n",
      "136025478089.50026 authorized reducedto 15999020221.602928 allocated.\n",
      "[WARN] Dropping districts with missing SPPE data: ['Puerto Rico']\n",
      "136021116192.56747 authorized reducedto 15999020221.602928 allocated.\n",
      "136021217230.40866 authorized reducedto 15999020221.602928 allocated.\n",
      "[WARN] Dropping districts with missing SPPE data: ['Puerto Rico']\n",
      "136021116192.56747 authorized reducedto 15999020221.602928 allocated.\n",
      "136016786259.04977 authorized reducedto 15999020221.602928 allocated.\n",
      "[WARN] Dropping districts with missing SPPE data: ['Puerto Rico']\n",
      "136021116192.56747 authorized reducedto 15999020221.602928 allocated.\n",
      "136020322554.3675 authorized reducedto 15999020221.602928 allocated.\n",
      "[WARN] Dropping districts with missing SPPE data: ['Puerto Rico']\n",
      "136021116192.56747 authorized reducedto 15999020221.602928 allocated.\n",
      "136026520705.83644 authorized reducedto 15999020221.602928 allocated.\n",
      "[WARN] Dropping districts with missing SPPE data: ['Puerto Rico']\n",
      "136021116192.56747 authorized reducedto 15999020221.602928 allocated.\n",
      "136018733968.06354 authorized reducedto 15999020221.602928 allocated.\n",
      "[WARN] Dropping districts with missing SPPE data: ['Puerto Rico']\n",
      "136021116192.56747 authorized reducedto 15999020221.602928 allocated.\n",
      "136025533316.76282 authorized reducedto 15999020221.602928 allocated.\n",
      "[WARN] Dropping districts with missing SPPE data: ['Puerto Rico']\n",
      "136021116192.56747 authorized reducedto 15999020221.602928 allocated.\n",
      "136017440458.09483 authorized reducedto 15999020221.602928 allocated.\n",
      "[WARN] Dropping districts with missing SPPE data: ['Puerto Rico']\n",
      "136021116192.56747 authorized reducedto 15999020221.602928 allocated.\n",
      "136020075064.08656 authorized reducedto 15999020221.602928 allocated.\n",
      "[WARN] Dropping districts with missing SPPE data: ['Puerto Rico']\n",
      "136021116192.56747 authorized reducedto 15999020221.602928 allocated.\n",
      "136019640353.2442 authorized reducedto 15999020221.602928 allocated.\n",
      "[WARN] Dropping districts with missing SPPE data: ['Puerto Rico']\n",
      "136021116192.56747 authorized reducedto 15999020221.602928 allocated.\n",
      "136018075014.58318 authorized reducedto 15999020221.602928 allocated.\n",
      "[WARN] Dropping districts with missing SPPE data: ['Puerto Rico']\n",
      "136021116192.56747 authorized reducedto 15999020221.602928 allocated.\n",
      "136021791713.38037 authorized reducedto 15999020221.602928 allocated.\n",
      "[WARN] Dropping districts with missing SPPE data: ['Puerto Rico']\n",
      "136021116192.56747 authorized reducedto 15999020221.602928 allocated.\n",
      "136018127752.51784 authorized reducedto 15999020221.602928 allocated.\n",
      "[WARN] Dropping districts with missing SPPE data: ['Puerto Rico']\n",
      "136021116192.56747 authorized reducedto 15999020221.602928 allocated.\n",
      "136020299246.60953 authorized reducedto 15999020221.602928 allocated.\n",
      "[WARN] Dropping districts with missing SPPE data: ['Puerto Rico']\n",
      "136021116192.56747 authorized reducedto 15999020221.602928 allocated.\n",
      "136032143753.78969 authorized reducedto 15999020221.602928 allocated.\n",
      "[WARN] Dropping districts with missing SPPE data: ['Puerto Rico']\n",
      "136021116192.56747 authorized reducedto 15999020221.602928 allocated.\n",
      "136020910900.91963 authorized reducedto 15999020221.602928 allocated.\n",
      "[WARN] Dropping districts with missing SPPE data: ['Puerto Rico']\n",
      "136021116192.56747 authorized reducedto 15999020221.602928 allocated.\n",
      "136017997762.48315 authorized reducedto 15999020221.602928 allocated.\n",
      "[WARN] Dropping districts with missing SPPE data: ['Puerto Rico']\n",
      "136021116192.56747 authorized reducedto 15999020221.602928 allocated.\n",
      "136022167409.32362 authorized reducedto 15999020221.602928 allocated.\n",
      "[WARN] Dropping districts with missing SPPE data: ['Puerto Rico']\n",
      "136021116192.56747 authorized reducedto 15999020221.602928 allocated.\n",
      "136027166648.51614 authorized reducedto 15999020221.602928 allocated.\n",
      "[WARN] Dropping districts with missing SPPE data: ['Puerto Rico']\n",
      "136021116192.56747 authorized reducedto 15999020221.602928 allocated.\n",
      "136022372511.6914 authorized reducedto 15999020221.602928 allocated.\n",
      "[WARN] Dropping districts with missing SPPE data: ['Puerto Rico']\n",
      "136021116192.56747 authorized reducedto 15999020221.602928 allocated.\n",
      "136025584710.60266 authorized reducedto 15999020221.602928 allocated.\n",
      "[WARN] Dropping districts with missing SPPE data: ['Puerto Rico']\n",
      "136021116192.56747 authorized reducedto 15999020221.602928 allocated.\n",
      "136023166211.55887 authorized reducedto 15999020221.602928 allocated.\n",
      "[WARN] Dropping districts with missing SPPE data: ['Puerto Rico']\n",
      "136021116192.56747 authorized reducedto 15999020221.602928 allocated.\n",
      "136025503673.6886 authorized reducedto 15999020221.602928 allocated.\n",
      "[WARN] Dropping districts with missing SPPE data: ['Puerto Rico']\n",
      "136021116192.56747 authorized reducedto 15999020221.602928 allocated.\n",
      "136020776363.78833 authorized reducedto 15999020221.602928 allocated.\n",
      "[WARN] Dropping districts with missing SPPE data: ['Puerto Rico']\n",
      "136021116192.56747 authorized reducedto 15999020221.602928 allocated.\n",
      "136018700075.34023 authorized reducedto 15999020221.602928 allocated.\n",
      "[WARN] Dropping districts with missing SPPE data: ['Puerto Rico']\n",
      "136021116192.56747 authorized reducedto 15999020221.602928 allocated.\n",
      "136019365078.8893 authorized reducedto 15999020221.602928 allocated.\n",
      "[WARN] Dropping districts with missing SPPE data: ['Puerto Rico']\n",
      "136021116192.56747 authorized reducedto 15999020221.602928 allocated.\n",
      "136023419796.35486 authorized reducedto 15999020221.602928 allocated.\n",
      "[WARN] Dropping districts with missing SPPE data: ['Puerto Rico']\n",
      "136021116192.56747 authorized reducedto 15999020221.602928 allocated.\n",
      "136021416665.57178 authorized reducedto 15999020221.602928 allocated.\n",
      "[WARN] Dropping districts with missing SPPE data: ['Puerto Rico']\n",
      "136021116192.56747 authorized reducedto 15999020221.602928 allocated.\n",
      "136025733262.46281 authorized reducedto 15999020221.602928 allocated.\n",
      "[WARN] Dropping districts with missing SPPE data: ['Puerto Rico']\n",
      "136021116192.56747 authorized reducedto 15999020221.602928 allocated.\n",
      "136022964667.15916 authorized reducedto 15999020221.602928 allocated.\n",
      "[WARN] Dropping districts with missing SPPE data: ['Puerto Rico']\n",
      "136021116192.56747 authorized reducedto 15999020221.602928 allocated.\n",
      "136027168682.54013 authorized reducedto 15999020221.602928 allocated.\n",
      "[WARN] Dropping districts with missing SPPE data: ['Puerto Rico']\n",
      "136021116192.56747 authorized reducedto 15999020221.602928 allocated.\n",
      "136021302919.73224 authorized reducedto 15999020221.602928 allocated.\n",
      "[WARN] Dropping districts with missing SPPE data: ['Puerto Rico']\n",
      "136021116192.56747 authorized reducedto 15999020221.602928 allocated.\n",
      "136025223689.7668 authorized reducedto 15999020221.602928 allocated.\n",
      "[WARN] Dropping districts with missing SPPE data: ['Puerto Rico']\n",
      "136021116192.56747 authorized reducedto 15999020221.602928 allocated.\n",
      "136020544263.17548 authorized reducedto 15999020221.602928 allocated.\n",
      "[WARN] Dropping districts with missing SPPE data: ['Puerto Rico']\n",
      "136021116192.56747 authorized reducedto 15999020221.602928 allocated.\n",
      "136025417493.40363 authorized reducedto 15999020221.602928 allocated.\n",
      "[WARN] Dropping districts with missing SPPE data: ['Puerto Rico']\n",
      "136021116192.56747 authorized reducedto 15999020221.602928 allocated.\n",
      "136021381934.98589 authorized reducedto 15999020221.602928 allocated.\n",
      "[WARN] Dropping districts with missing SPPE data: ['Puerto Rico']\n",
      "136021116192.56747 authorized reducedto 15999020221.602928 allocated.\n",
      "136021991428.0488 authorized reducedto 15999020221.602928 allocated.\n",
      "[WARN] Dropping districts with missing SPPE data: ['Puerto Rico']\n",
      "136021116192.56747 authorized reducedto 15999020221.602928 allocated.\n",
      "136020449489.87054 authorized reducedto 15999020221.602928 allocated.\n",
      "[WARN] Dropping districts with missing SPPE data: ['Puerto Rico']\n",
      "136021116192.56747 authorized reducedto 15999020221.602928 allocated.\n",
      "136022452121.8782 authorized reducedto 15999020221.602928 allocated.\n",
      "[WARN] Dropping districts with missing SPPE data: ['Puerto Rico']\n",
      "136021116192.56747 authorized reducedto 15999020221.602928 allocated.\n",
      "136022356099.32635 authorized reducedto 15999020221.602928 allocated.\n",
      "[WARN] Dropping districts with missing SPPE data: ['Puerto Rico']\n",
      "136021116192.56747 authorized reducedto 15999020221.602928 allocated.\n",
      "136018481500.64355 authorized reducedto 15999020221.602928 allocated.\n",
      "[WARN] Dropping districts with missing SPPE data: ['Puerto Rico']\n",
      "136021116192.56747 authorized reducedto 15999020221.602928 allocated.\n",
      "136020407775.11903 authorized reducedto 15999020221.602928 allocated.\n",
      "[WARN] Dropping districts with missing SPPE data: ['Puerto Rico']\n",
      "136021116192.56747 authorized reducedto 15999020221.602928 allocated.\n",
      "136015715847.91727 authorized reducedto 15999020221.602928 allocated.\n"
     ]
    }
   ],
   "source": [
    "from dp_policy.titlei.mechanisms import Gaussian, Laplace\n",
    "from dp_policy.api import titlei_funding\n",
    "\n",
    "# 100 trials of DP\n",
    "trials_laplace = []\n",
    "trials_gaussian = []\n",
    "for i in range(100):\n",
    "    trials_laplace.append(funding(SonnenbergAuthorizer, saipe, Laplace(saipe, 17, 0), get_sppe(\"../data/sppe18.xlsx\")))\n",
    "    trials_gaussian.append(funding(SonnenbergAuthorizer, saipe, Gaussian(saipe, 17, 0.8), get_sppe(\"../data/sppe18.xlsx\")))"
   ]
  },
  {
   "cell_type": "code",
   "execution_count": 152,
   "id": "9c8538c3-7888-4eca-baac-9a5846c635a1",
   "metadata": {},
   "outputs": [],
   "source": [
    "import pickle\n",
    "\n",
    "pickle.dump(trials_gaussian, open('../results/uncertainty_gaussian_sonnenberg.pkl', 'wb'))\n",
    "pickle.dump(trials_laplace, open('../results/uncertainty_laplace_sonnenberg.pkl', 'wb'))"
   ]
  },
  {
   "cell_type": "code",
   "execution_count": 153,
   "id": "bd9123f9-3829-495f-a11a-9b1c28aa811b",
   "metadata": {},
   "outputs": [],
   "source": [
    "import pickle\n",
    "\n",
    "trials_gaussian = pickle.load( open('../results/uncertainty_gaussian_sonnenberg.pkl', 'rb'))\n",
    "trials_laplace = pickle.load( open('../results/uncertainty_laplace_sonnenberg.pkl', 'rb'))"
   ]
  },
  {
   "cell_type": "code",
   "execution_count": 157,
   "id": "51eca218",
   "metadata": {},
   "outputs": [
    {
     "name": "stdout",
     "output_type": "stream",
     "text": [
      "[462824020.94161385, 462840299.6673689, 462841737.3173904, 462822855.2437982, 462816482.44983107, 462830999.04026777, 462845746.35956573, 462802600.8257093, 462806049.94182587, 462842226.00936466, 462812324.09494454, 462825477.404486, 462818210.5735216, 462824561.7874051, 462840306.5160426, 462817604.17654556, 462819730.95393896, 462818687.6475747, 462830350.0292324, 462827909.09678173, 462805224.07426506, 462871940.04184407, 462822816.4434567, 462810964.1891345, 462823862.1024415, 462804846.64482874, 462810856.5915192, 462838668.29985064, 462842426.3687169, 462893275.97106534, 462852557.9261036, 462846578.9573317, 462825218.91440845, 462770666.3817068, 462822191.5956028, 462825361.3744827, 462890905.44549876, 462828829.3798849, 462844642.1573651, 462831280.6207208, 462809818.0116389, 462876629.0044988, 462834396.03578705, 462815231.08159953, 462829029.02726537, 462820261.23617554, 462831572.09701484, 462802679.17332053, 462818791.49010426, 462839147.35206664, 462839853.49715096, 462791759.8105174, 462837421.19225216, 462820048.28859675, 462831508.4731716, 462811825.8072442, 462815579.62942314, 462846867.2697434, 462784464.36006296, 462823791.71755755, 462806730.34364957, 462815087.09072644, 462830656.82467484, 462816699.39437497, 462828202.3797278, 462818911.7434335, 462856459.999392, 462825964.498103, 462831436.93301797, 462844593.29862213, 462826517.0731575, 462827507.021531, 462839382.53804195, 462828352.3959018, 462838870.0672168, 462813618.67998594, 462836139.43933964, 462797463.7927982, 462828469.42740375, 462839591.81113213, 462827784.863708, 462831210.11522365, 462830519.6096461, 462827560.21116585, 462884453.4210276, 462832531.71841645, 462825641.50243104, 462829993.9093507, 462824062.7972848, 462819806.38675267, 462792153.60357004, 462840519.4277558, 462825900.7458408, 462816814.7549487, 462866315.2322241, 462848953.75698555, 462825170.2818888, 462827777.270642, 462826381.6601216, 462854510.0624832]\n"
     ]
    },
    {
     "data": {
      "image/png": "[encoded data removed]",
      "text/plain": [
       "<Figure size 432x288 with 1 Axes>"
      ]
     },
     "metadata": {
      "needs_background": "light"
     },
     "output_type": "display_data"
    },
    {
     "data": {
      "image/png": "[encoded data removed]",
      "text/plain": [
       "<Figure size 432x288 with 1 Axes>"
      ]
     },
     "metadata": {
      "needs_background": "light"
     },
     "output_type": "display_data"
    }
   ],
   "source": [
    "import scipy.stats as stats\n",
    "\n",
    "def plot_uncertainty(grants, grants_other=None, state=\"MI\", alpha=0.05):\n",
    "    z = stats.norm.ppf(1-alpha/2)\n",
    "    \n",
    "    grants = [\n",
    "        sample[sample[\"State Postal Code\"] == state].sort_values(\"true_grant_total\")\n",
    "        for sample in grants\n",
    "    ]\n",
    "    baseline = grants[0]\n",
    "    x = baseline.index.get_level_values(\"District ID\").astype('str')\n",
    "    y = baseline.true_grant_total\n",
    "    ax = plt.gca()\n",
    "    \n",
    "    print(list(grant.est_grant_total.sum() for grant in grants))\n",
    "    \n",
    "    # CI from relative error - 95% of samples differ by at most this much\n",
    "    ax.fill_between(x, baseline.true_ci_lower, baseline.true_ci_upper, color='b', alpha=0.1, label=\"95% CI, relative error\")\n",
    "    \n",
    "    # percentile interval from DP (bootstrapping) - 95% of samples differed by at most this much\n",
    "    samples_mean = [\n",
    "        sample.est_grant_total\n",
    "        for sample in grants\n",
    "    ]\n",
    "    samples_upper = [\n",
    "        sample.est_ci_upper\n",
    "        for sample in grants\n",
    "    ]\n",
    "    samples_lower = [\n",
    "        sample.est_ci_lower\n",
    "        for sample in grants\n",
    "    ]\n",
    "    # get value for which 95% of samples are above (for lower) or below (for upper)\n",
    "    mean = np.mean(samples_mean, axis=0)\n",
    "    ci_lower = np.percentile(samples_lower, alpha/2, axis=0)\n",
    "    ci_upper = np.percentile(samples_upper, 1-alpha/2, axis=0)\n",
    "\n",
    "    plt.plot(x, mean, color='r', label=\"Avg est allocation\")\n",
    "    plt.plot(x, y, color='green', label=\"True allocation\")\n",
    "    plt.plot(x, ci_lower, 'r--', alpha=0.2, label=\"95% CI, marginal DP error\")\n",
    "#     ax.fill_between(x, baseline.true_ci_lower, ci_lower, color='r', alpha=0.1, label=\"95% CI, marginal DP error\")\n",
    "    plt.plot(x, ci_upper, 'r--', alpha=0.2, label=\"95% CI, marginal DP error\")\n",
    "#     ax.fill_between(x, baseline.true_ci_upper, ci_upper, color='r', alpha=0.1, label=\"95% CI, marginal DP error\")\n",
    "    \n",
    "\n",
    "    ax.axes.xaxis.set_ticks([])\n",
    "    ax.set_yscale('log')\n",
    "    plt.xlabel(\"District (sorted by true alloc)\")\n",
    "    plt.ylabel(\"True allocation (as %)\")\n",
    "    plt.title(f\"Grants for Michigan\")\n",
    "    ax.legend()\n",
    "    plt.show()\n",
    "    \n",
    "    # plot of interval magnitude\n",
    "    ax = plt.gca()\n",
    "    ci = np.abs(baseline.true_ci_upper - baseline.true_ci_lower)\n",
    "    plt.scatter(x, ci, s=10, color='b', label=\"Relative error (CV)\")\n",
    "    \n",
    "    samples = [\n",
    "        np.abs(sample.est_ci_upper - sample.est_ci_lower)\n",
    "        for sample in grants\n",
    "    ]\n",
    "    plt.scatter(x, ci - np.percentile(samples, 1-alpha/2, axis=0), s=10, color='orange', label=\"Marginal Laplace (bootstrap)\")\n",
    "    \n",
    "    if grants_other is not None:\n",
    "        grants_other = [\n",
    "            sample[sample[\"State Postal Code\"] == state].sort_values(\"true_grant_total\")\n",
    "            for sample in grants_other\n",
    "        ]\n",
    "        samples_other = [\n",
    "            np.abs(sample.est_ci_upper - sample.est_ci_lower)\n",
    "            for sample in grants_other\n",
    "        ]\n",
    "        plt.scatter(\n",
    "            x, \n",
    "            ci - np.percentile(samples_other, 1-alpha/2, axis=0),\n",
    "            s=10, color='orchid', label=\"Marginal Gaussian (bootstrap)\"\n",
    "        )\n",
    "\n",
    "\n",
    "    ax.axes.xaxis.set_ticks([])\n",
    "    ax.set_yscale('log')\n",
    "    plt.xlabel(\"District (sorted by true alloc)\")\n",
    "    plt.ylabel(\"Magnitude of 95% CI\")\n",
    "    plt.title(f\"Grants for {state}\")\n",
    "    ax.legend()\n",
    "    plt.show()\n",
    "\n",
    "plot_uncertainty(trials_laplace, trials_gaussian)"
   ]
  },
  {
   "cell_type": "markdown",
   "id": "7a72608d-1c12-4e56-bfa4-d3c4cfbdf872",
   "metadata": {
    "jp-MarkdownHeadingCollapsed": true,
    "tags": []
   },
   "source": [
    "# Discrimination\n",
    "## Data\n",
    "Using 2014-2018 ACS race data by school district from the NCES. See notes for more details.\n",
    "\n",
    "Data for just the total child population"
   ]
  },
  {
   "cell_type": "code",
   "execution_count": 121,
   "id": "39a172f4",
   "metadata": {},
   "outputs": [
    {
     "name": "stdout",
     "output_type": "stream",
     "text": [
      "(11721, 256)\n",
      "(11720, 340)\n"
     ]
    },
    {
     "name": "stderr",
     "output_type": "stream",
     "text": [
      "/opt/miniconda3/envs/dp-acs/lib/python3.9/site-packages/IPython/core/interactiveshell.py:3357: DtypeWarning: Columns (183,184,185,186) have mixed types.Specify dtype option on import or set low_memory=False.\n",
      "  if (await self.run_code(code, result,  async_=asy)):\n"
     ]
    },
    {
     "name": "stdout",
     "output_type": "stream",
     "text": [
      "(11721, 202)\n",
      "(11721, 202)\n"
     ]
    }
   ],
   "source": [
    "from dp_policy.titlei.utils import get_acs_data\n",
    "\n",
    "demographics = get_acs_data(\n",
    "    \"../data/discrimination/CDP05.txt\",\n",
    "    \"demo\"\n",
    ")\n",
    "print(demographics.shape)\n",
    "social = get_acs_data(\n",
    "    \"../data/discrimination/CDP02.txt\",\n",
    "    \"social\"\n",
    ")\n",
    "print(social.shape)\n",
    "economic = get_acs_data(\n",
    "    \"../data/discrimination/CDP03.txt\",\n",
    "    \"social\"\n",
    ")\n",
    "print(economic.shape)\n",
    "housing = get_acs_data(\n",
    "    \"../data/discrimination/CDP03.txt\",\n",
    "    \"housing\"\n",
    ")\n",
    "print(housing.shape)"
   ]
  },
  {
   "cell_type": "code",
   "execution_count": 122,
   "id": "9f85b465-231f-4e2d-b2d6-50d43488e5e7",
   "metadata": {},
   "outputs": [
    {
     "name": "stdout",
     "output_type": "stream",
     "text": [
      "(11720, 1000)\n"
     ]
    }
   ],
   "source": [
    "acs = demographics.join(social, lsuffix=\"demo\", rsuffix=\"social\", how=\"inner\")\\\n",
    "    .join(economic, rsuffix=\"econ\", how=\"inner\")\\\n",
    "    .join(housing, rsuffix=\"housing\", how=\"inner\")\n",
    "print(acs.shape)"
   ]
  },
  {
   "cell_type": "code",
   "execution_count": 123,
   "id": "9c20deda",
   "metadata": {},
   "outputs": [],
   "source": [
    "saipe = get_saipe(\"../data/saipe19.xls\")\n",
    "saipe = saipe.join(acs, how=\"inner\")"
   ]
  },
  {
   "cell_type": "code",
   "execution_count": 127,
   "id": "dd075f0c-856c-4d9b-843a-97873ffc78df",
   "metadata": {
    "collapsed": true,
    "jupyter": {
     "outputs_hidden": true
    },
    "tags": []
   },
   "outputs": [
    {
     "name": "stdout",
     "output_type": "stream",
     "text": [
      "9 iters:\n",
      "0 1 2 3 4 5 6 "
     ]
    },
    {
     "ename": "KeyboardInterrupt",
     "evalue": "",
     "output_type": "error",
     "traceback": [
      "\u001b[0;31m---------------------------------------------------------------------------\u001b[0m",
      "\u001b[0;31mKeyboardInterrupt\u001b[0m                         Traceback (most recent call last)",
      "\u001b[0;32m<ipython-input-127-f08e0e8bf8e7>\u001b[0m in \u001b[0;36m<module>\u001b[0;34m\u001b[0m\n\u001b[1;32m      1\u001b[0m \u001b[0;32mfrom\u001b[0m \u001b[0mdp_policy\u001b[0m\u001b[0;34m.\u001b[0m\u001b[0mtitlei\u001b[0m\u001b[0;34m.\u001b[0m\u001b[0mmechanisms\u001b[0m \u001b[0;32mimport\u001b[0m \u001b[0mGaussian\u001b[0m\u001b[0;34m\u001b[0m\u001b[0;34m\u001b[0m\u001b[0m\n\u001b[1;32m      2\u001b[0m \u001b[0;34m\u001b[0m\u001b[0m\n\u001b[0;32m----> 3\u001b[0;31m results = test_params(\n\u001b[0m\u001b[1;32m      4\u001b[0m     \u001b[0msaipe\u001b[0m\u001b[0;34m,\u001b[0m\u001b[0;34m\u001b[0m\u001b[0;34m\u001b[0m\u001b[0m\n\u001b[1;32m      5\u001b[0m     \u001b[0mGaussian\u001b[0m\u001b[0;34m,\u001b[0m\u001b[0;34m\u001b[0m\u001b[0;34m\u001b[0m\u001b[0m\n",
      "\u001b[0;32m<ipython-input-21-ff7ab95f341c>\u001b[0m in \u001b[0;36mtest_params\u001b[0;34m(saipe, mech, eps, delta)\u001b[0m\n\u001b[1;32m      9\u001b[0m             \u001b[0mprint\u001b[0m\u001b[0;34m(\u001b[0m\u001b[0mi\u001b[0m\u001b[0;34m,\u001b[0m \u001b[0mend\u001b[0m\u001b[0;34m=\u001b[0m\u001b[0;34m\" \"\u001b[0m\u001b[0;34m)\u001b[0m\u001b[0;34m\u001b[0m\u001b[0;34m\u001b[0m\u001b[0m\n\u001b[1;32m     10\u001b[0m             \u001b[0mi\u001b[0m \u001b[0;34m+=\u001b[0m \u001b[0;36m1\u001b[0m\u001b[0;34m\u001b[0m\u001b[0;34m\u001b[0m\u001b[0m\n\u001b[0;32m---> 11\u001b[0;31m             allocations.append(funding(\n\u001b[0m\u001b[1;32m     12\u001b[0m                 \u001b[0msaipe\u001b[0m\u001b[0;34m,\u001b[0m\u001b[0;34m\u001b[0m\u001b[0;34m\u001b[0m\u001b[0m\n\u001b[1;32m     13\u001b[0m                 \u001b[0mSonnenbergAuthorizer\u001b[0m\u001b[0;34m,\u001b[0m\u001b[0;34m\u001b[0m\u001b[0;34m\u001b[0m\u001b[0m\n",
      "\u001b[0;32m~/dp-acs/dp_policy/api.py\u001b[0m in \u001b[0;36mtitlei_funding\u001b[0;34m(saipe, allocator, mechanism, sppe, weighting, verbose, *mech_args, **mech_kwargs)\u001b[0m\n\u001b[1;32m     42\u001b[0m     \u001b[0malloc\u001b[0m \u001b[0;34m=\u001b[0m \u001b[0mallocator\u001b[0m\u001b[0;34m(\u001b[0m\u001b[0mgrants\u001b[0m\u001b[0;34m)\u001b[0m\u001b[0;34m\u001b[0m\u001b[0;34m\u001b[0m\u001b[0m\n\u001b[1;32m     43\u001b[0m \u001b[0;34m\u001b[0m\u001b[0m\n\u001b[0;32m---> 44\u001b[0;31m     \u001b[0;32mreturn\u001b[0m \u001b[0malloc\u001b[0m\u001b[0;34m.\u001b[0m\u001b[0mallocations\u001b[0m\u001b[0;34m(\u001b[0m\u001b[0;34m)\u001b[0m\u001b[0;34m\u001b[0m\u001b[0;34m\u001b[0m\u001b[0m\n\u001b[0m",
      "\u001b[0;32m~/dp-acs/dp_policy/titlei/allocators.py\u001b[0m in \u001b[0;36mallocations\u001b[0;34m(self)\u001b[0m\n\u001b[1;32m     19\u001b[0m \u001b[0;34m\u001b[0m\u001b[0m\n\u001b[1;32m     20\u001b[0m     \u001b[0;32mdef\u001b[0m \u001b[0mallocations\u001b[0m\u001b[0;34m(\u001b[0m\u001b[0mself\u001b[0m\u001b[0;34m)\u001b[0m \u001b[0;34m->\u001b[0m \u001b[0mpd\u001b[0m\u001b[0;34m.\u001b[0m\u001b[0mDataFrame\u001b[0m\u001b[0;34m:\u001b[0m\u001b[0;34m\u001b[0m\u001b[0;34m\u001b[0m\u001b[0m\n\u001b[0;32m---> 21\u001b[0;31m         \u001b[0mself\u001b[0m\u001b[0;34m.\u001b[0m\u001b[0mcalc_alloc\u001b[0m\u001b[0;34m(\u001b[0m\u001b[0;34m)\u001b[0m\u001b[0;34m\u001b[0m\u001b[0;34m\u001b[0m\u001b[0m\n\u001b[0m\u001b[1;32m     22\u001b[0m         \u001b[0;32mreturn\u001b[0m \u001b[0mself\u001b[0m\u001b[0;34m.\u001b[0m\u001b[0mestimates\u001b[0m\u001b[0;34m\u001b[0m\u001b[0;34m\u001b[0m\u001b[0m\n\u001b[1;32m     23\u001b[0m \u001b[0;34m\u001b[0m\u001b[0m\n",
      "\u001b[0;32m~/dp-acs/dp_policy/titlei/allocators.py\u001b[0m in \u001b[0;36mcalc_alloc\u001b[0;34m(self)\u001b[0m\n\u001b[1;32m     85\u001b[0m             \u001b[0;31m# TARGETED GRANTS\u001b[0m\u001b[0;34m\u001b[0m\u001b[0;34m\u001b[0m\u001b[0;34m\u001b[0m\u001b[0m\n\u001b[1;32m     86\u001b[0m             \u001b[0;31m# weighted by an exogenous step function - see documentation\u001b[0m\u001b[0;34m\u001b[0m\u001b[0;34m\u001b[0m\u001b[0;34m\u001b[0m\u001b[0m\n\u001b[0;32m---> 87\u001b[0;31m             weighted_eligible = self.estimates[[f\"{prefix}_children_eligible\", f\"{prefix}_children_total\"]].apply(\n\u001b[0m\u001b[1;32m     88\u001b[0m                 \u001b[0;32mlambda\u001b[0m \u001b[0mx\u001b[0m\u001b[0;34m:\u001b[0m \u001b[0mweighting\u001b[0m\u001b[0;34m(\u001b[0m\u001b[0mx\u001b[0m\u001b[0;34m[\u001b[0m\u001b[0;36m0\u001b[0m\u001b[0;34m]\u001b[0m\u001b[0;34m,\u001b[0m \u001b[0mx\u001b[0m\u001b[0;34m[\u001b[0m\u001b[0;36m1\u001b[0m\u001b[0;34m]\u001b[0m\u001b[0;34m)\u001b[0m\u001b[0;34m,\u001b[0m\u001b[0;34m\u001b[0m\u001b[0;34m\u001b[0m\u001b[0m\n\u001b[1;32m     89\u001b[0m                 \u001b[0maxis\u001b[0m\u001b[0;34m=\u001b[0m\u001b[0;36m1\u001b[0m\u001b[0;34m\u001b[0m\u001b[0;34m\u001b[0m\u001b[0m\n",
      "\u001b[0;32m/opt/miniconda3/envs/dp-acs/lib/python3.9/site-packages/pandas/core/frame.py\u001b[0m in \u001b[0;36mapply\u001b[0;34m(self, func, axis, raw, result_type, args, **kwds)\u001b[0m\n\u001b[1;32m   7766\u001b[0m             \u001b[0mkwds\u001b[0m\u001b[0;34m=\u001b[0m\u001b[0mkwds\u001b[0m\u001b[0;34m,\u001b[0m\u001b[0;34m\u001b[0m\u001b[0;34m\u001b[0m\u001b[0m\n\u001b[1;32m   7767\u001b[0m         )\n\u001b[0;32m-> 7768\u001b[0;31m         \u001b[0;32mreturn\u001b[0m \u001b[0mop\u001b[0m\u001b[0;34m.\u001b[0m\u001b[0mget_result\u001b[0m\u001b[0;34m(\u001b[0m\u001b[0;34m)\u001b[0m\u001b[0;34m\u001b[0m\u001b[0;34m\u001b[0m\u001b[0m\n\u001b[0m\u001b[1;32m   7769\u001b[0m \u001b[0;34m\u001b[0m\u001b[0m\n\u001b[1;32m   7770\u001b[0m     \u001b[0;32mdef\u001b[0m \u001b[0mapplymap\u001b[0m\u001b[0;34m(\u001b[0m\u001b[0mself\u001b[0m\u001b[0;34m,\u001b[0m \u001b[0mfunc\u001b[0m\u001b[0;34m,\u001b[0m \u001b[0mna_action\u001b[0m\u001b[0;34m:\u001b[0m \u001b[0mOptional\u001b[0m\u001b[0;34m[\u001b[0m\u001b[0mstr\u001b[0m\u001b[0;34m]\u001b[0m \u001b[0;34m=\u001b[0m \u001b[0;32mNone\u001b[0m\u001b[0;34m)\u001b[0m \u001b[0;34m->\u001b[0m \u001b[0mDataFrame\u001b[0m\u001b[0;34m:\u001b[0m\u001b[0;34m\u001b[0m\u001b[0;34m\u001b[0m\u001b[0m\n",
      "\u001b[0;32m/opt/miniconda3/envs/dp-acs/lib/python3.9/site-packages/pandas/core/apply.py\u001b[0m in \u001b[0;36mget_result\u001b[0;34m(self)\u001b[0m\n\u001b[1;32m    183\u001b[0m             \u001b[0;32mreturn\u001b[0m \u001b[0mself\u001b[0m\u001b[0;34m.\u001b[0m\u001b[0mapply_raw\u001b[0m\u001b[0;34m(\u001b[0m\u001b[0;34m)\u001b[0m\u001b[0;34m\u001b[0m\u001b[0;34m\u001b[0m\u001b[0m\n\u001b[1;32m    184\u001b[0m \u001b[0;34m\u001b[0m\u001b[0m\n\u001b[0;32m--> 185\u001b[0;31m         \u001b[0;32mreturn\u001b[0m \u001b[0mself\u001b[0m\u001b[0;34m.\u001b[0m\u001b[0mapply_standard\u001b[0m\u001b[0;34m(\u001b[0m\u001b[0;34m)\u001b[0m\u001b[0;34m\u001b[0m\u001b[0;34m\u001b[0m\u001b[0m\n\u001b[0m\u001b[1;32m    186\u001b[0m \u001b[0;34m\u001b[0m\u001b[0m\n\u001b[1;32m    187\u001b[0m     \u001b[0;32mdef\u001b[0m \u001b[0mapply_empty_result\u001b[0m\u001b[0;34m(\u001b[0m\u001b[0mself\u001b[0m\u001b[0;34m)\u001b[0m\u001b[0;34m:\u001b[0m\u001b[0;34m\u001b[0m\u001b[0;34m\u001b[0m\u001b[0m\n",
      "\u001b[0;32m/opt/miniconda3/envs/dp-acs/lib/python3.9/site-packages/pandas/core/apply.py\u001b[0m in \u001b[0;36mapply_standard\u001b[0;34m(self)\u001b[0m\n\u001b[1;32m    274\u001b[0m \u001b[0;34m\u001b[0m\u001b[0m\n\u001b[1;32m    275\u001b[0m     \u001b[0;32mdef\u001b[0m \u001b[0mapply_standard\u001b[0m\u001b[0;34m(\u001b[0m\u001b[0mself\u001b[0m\u001b[0;34m)\u001b[0m\u001b[0;34m:\u001b[0m\u001b[0;34m\u001b[0m\u001b[0;34m\u001b[0m\u001b[0m\n\u001b[0;32m--> 276\u001b[0;31m         \u001b[0mresults\u001b[0m\u001b[0;34m,\u001b[0m \u001b[0mres_index\u001b[0m \u001b[0;34m=\u001b[0m \u001b[0mself\u001b[0m\u001b[0;34m.\u001b[0m\u001b[0mapply_series_generator\u001b[0m\u001b[0;34m(\u001b[0m\u001b[0;34m)\u001b[0m\u001b[0;34m\u001b[0m\u001b[0;34m\u001b[0m\u001b[0m\n\u001b[0m\u001b[1;32m    277\u001b[0m \u001b[0;34m\u001b[0m\u001b[0m\n\u001b[1;32m    278\u001b[0m         \u001b[0;31m# wrap results\u001b[0m\u001b[0;34m\u001b[0m\u001b[0;34m\u001b[0m\u001b[0;34m\u001b[0m\u001b[0m\n",
      "\u001b[0;32m/opt/miniconda3/envs/dp-acs/lib/python3.9/site-packages/pandas/core/apply.py\u001b[0m in \u001b[0;36mapply_series_generator\u001b[0;34m(self)\u001b[0m\n\u001b[1;32m    288\u001b[0m             \u001b[0;32mfor\u001b[0m \u001b[0mi\u001b[0m\u001b[0;34m,\u001b[0m \u001b[0mv\u001b[0m \u001b[0;32min\u001b[0m \u001b[0menumerate\u001b[0m\u001b[0;34m(\u001b[0m\u001b[0mseries_gen\u001b[0m\u001b[0;34m)\u001b[0m\u001b[0;34m:\u001b[0m\u001b[0;34m\u001b[0m\u001b[0;34m\u001b[0m\u001b[0m\n\u001b[1;32m    289\u001b[0m                 \u001b[0;31m# ignore SettingWithCopy here in case the user mutates\u001b[0m\u001b[0;34m\u001b[0m\u001b[0;34m\u001b[0m\u001b[0;34m\u001b[0m\u001b[0m\n\u001b[0;32m--> 290\u001b[0;31m                 \u001b[0mresults\u001b[0m\u001b[0;34m[\u001b[0m\u001b[0mi\u001b[0m\u001b[0;34m]\u001b[0m \u001b[0;34m=\u001b[0m \u001b[0mself\u001b[0m\u001b[0;34m.\u001b[0m\u001b[0mf\u001b[0m\u001b[0;34m(\u001b[0m\u001b[0mv\u001b[0m\u001b[0;34m)\u001b[0m\u001b[0;34m\u001b[0m\u001b[0;34m\u001b[0m\u001b[0m\n\u001b[0m\u001b[1;32m    291\u001b[0m                 \u001b[0;32mif\u001b[0m \u001b[0misinstance\u001b[0m\u001b[0;34m(\u001b[0m\u001b[0mresults\u001b[0m\u001b[0;34m[\u001b[0m\u001b[0mi\u001b[0m\u001b[0;34m]\u001b[0m\u001b[0;34m,\u001b[0m \u001b[0mABCSeries\u001b[0m\u001b[0;34m)\u001b[0m\u001b[0;34m:\u001b[0m\u001b[0;34m\u001b[0m\u001b[0;34m\u001b[0m\u001b[0m\n\u001b[1;32m    292\u001b[0m                     \u001b[0;31m# If we have a view on v, we need to make a copy because\u001b[0m\u001b[0;34m\u001b[0m\u001b[0;34m\u001b[0m\u001b[0;34m\u001b[0m\u001b[0m\n",
      "\u001b[0;32m~/dp-acs/dp_policy/titlei/allocators.py\u001b[0m in \u001b[0;36m<lambda>\u001b[0;34m(x)\u001b[0m\n\u001b[1;32m     86\u001b[0m             \u001b[0;31m# weighted by an exogenous step function - see documentation\u001b[0m\u001b[0;34m\u001b[0m\u001b[0;34m\u001b[0m\u001b[0;34m\u001b[0m\u001b[0m\n\u001b[1;32m     87\u001b[0m             weighted_eligible = self.estimates[[f\"{prefix}_children_eligible\", f\"{prefix}_children_total\"]].apply(\n\u001b[0;32m---> 88\u001b[0;31m                 \u001b[0;32mlambda\u001b[0m \u001b[0mx\u001b[0m\u001b[0;34m:\u001b[0m \u001b[0mweighting\u001b[0m\u001b[0;34m(\u001b[0m\u001b[0mx\u001b[0m\u001b[0;34m[\u001b[0m\u001b[0;36m0\u001b[0m\u001b[0;34m]\u001b[0m\u001b[0;34m,\u001b[0m \u001b[0mx\u001b[0m\u001b[0;34m[\u001b[0m\u001b[0;36m1\u001b[0m\u001b[0;34m]\u001b[0m\u001b[0;34m)\u001b[0m\u001b[0;34m,\u001b[0m\u001b[0;34m\u001b[0m\u001b[0;34m\u001b[0m\u001b[0m\n\u001b[0m\u001b[1;32m     89\u001b[0m                 \u001b[0maxis\u001b[0m\u001b[0;34m=\u001b[0m\u001b[0;36m1\u001b[0m\u001b[0;34m\u001b[0m\u001b[0;34m\u001b[0m\u001b[0m\n\u001b[1;32m     90\u001b[0m             )\n",
      "\u001b[0;32m~/dp-acs/dp_policy/titlei/utils.py\u001b[0m in \u001b[0;36mweighting\u001b[0;34m(eligible, pop)\u001b[0m\n\u001b[1;32m     91\u001b[0m     \u001b[0;31m# calculate weighted count based on proportions\u001b[0m\u001b[0;34m\u001b[0m\u001b[0;34m\u001b[0m\u001b[0;34m\u001b[0m\u001b[0m\n\u001b[1;32m     92\u001b[0m     \u001b[0mwec_props\u001b[0m \u001b[0;34m=\u001b[0m \u001b[0;36m0\u001b[0m\u001b[0;34m\u001b[0m\u001b[0;34m\u001b[0m\u001b[0m\n\u001b[0;32m---> 93\u001b[0;31m     \u001b[0;32mfor\u001b[0m \u001b[0mr\u001b[0m\u001b[0;34m,\u001b[0m \u001b[0mw\u001b[0m \u001b[0;32min\u001b[0m \u001b[0;34m{\u001b[0m\u001b[0;34m(\u001b[0m\u001b[0;36m0\u001b[0m\u001b[0;34m,\u001b[0m \u001b[0;36m0.1558\u001b[0m\u001b[0;34m)\u001b[0m\u001b[0;34m:\u001b[0m \u001b[0;36m1.0\u001b[0m\u001b[0;34m,\u001b[0m \u001b[0;34m(\u001b[0m\u001b[0;36m0.1558\u001b[0m\u001b[0;34m,\u001b[0m \u001b[0;36m0.2211\u001b[0m\u001b[0;34m)\u001b[0m\u001b[0;34m:\u001b[0m \u001b[0;36m1.75\u001b[0m\u001b[0;34m,\u001b[0m \u001b[0;34m(\u001b[0m\u001b[0;36m0.2211\u001b[0m\u001b[0;34m,\u001b[0m\u001b[0;36m0.3016\u001b[0m\u001b[0;34m)\u001b[0m\u001b[0;34m:\u001b[0m \u001b[0;36m2.5\u001b[0m\u001b[0;34m,\u001b[0m \u001b[0;34m(\u001b[0m\u001b[0;36m0.3016\u001b[0m\u001b[0;34m,\u001b[0m \u001b[0;36m0.3824\u001b[0m\u001b[0;34m)\u001b[0m\u001b[0;34m:\u001b[0m \u001b[0;36m3.25\u001b[0m\u001b[0;34m,\u001b[0m \u001b[0;34m(\u001b[0m\u001b[0;36m0.3824\u001b[0m\u001b[0;34m,\u001b[0m \u001b[0;32mNone\u001b[0m\u001b[0;34m)\u001b[0m\u001b[0;34m:\u001b[0m \u001b[0;36m4.0\u001b[0m\u001b[0;34m}\u001b[0m\u001b[0;34m.\u001b[0m\u001b[0mitems\u001b[0m\u001b[0;34m(\u001b[0m\u001b[0;34m)\u001b[0m\u001b[0;34m:\u001b[0m\u001b[0;34m\u001b[0m\u001b[0;34m\u001b[0m\u001b[0m\n\u001b[0m\u001b[1;32m     94\u001b[0m         \u001b[0mupper\u001b[0m \u001b[0;34m=\u001b[0m \u001b[0mfloor\u001b[0m\u001b[0;34m(\u001b[0m\u001b[0mr\u001b[0m\u001b[0;34m[\u001b[0m\u001b[0;36m1\u001b[0m\u001b[0;34m]\u001b[0m\u001b[0;34m*\u001b[0m\u001b[0mpop\u001b[0m\u001b[0;34m)\u001b[0m \u001b[0;32mif\u001b[0m \u001b[0mr\u001b[0m\u001b[0;34m[\u001b[0m\u001b[0;36m1\u001b[0m\u001b[0;34m]\u001b[0m \u001b[0;32mis\u001b[0m \u001b[0;32mnot\u001b[0m \u001b[0;32mNone\u001b[0m \u001b[0;32melse\u001b[0m \u001b[0;32mNone\u001b[0m\u001b[0;34m\u001b[0m\u001b[0;34m\u001b[0m\u001b[0m\n\u001b[1;32m     95\u001b[0m         \u001b[0mlower\u001b[0m \u001b[0;34m=\u001b[0m \u001b[0mceil\u001b[0m\u001b[0;34m(\u001b[0m\u001b[0mr\u001b[0m\u001b[0;34m[\u001b[0m\u001b[0;36m0\u001b[0m\u001b[0;34m]\u001b[0m\u001b[0;34m*\u001b[0m\u001b[0mpop\u001b[0m\u001b[0;34m)\u001b[0m\u001b[0;34m\u001b[0m\u001b[0;34m\u001b[0m\u001b[0m\n",
      "\u001b[0;31mKeyboardInterrupt\u001b[0m: "
     ]
    }
   ],
   "source": [
    "from dp_policy.titlei.mechanisms import Gaussian\n",
    "\n",
    "results = test_params(\n",
    "    saipe,\n",
    "    Gaussian, \n",
    "    eps=[0.01, 0.1, 0.5, 1.0, 2.0, 3.0, 5.0, 10.0, 15.0],\n",
    "    delta=[0.1]\n",
    ")"
   ]
  },
  {
   "cell_type": "code",
   "execution_count": null,
   "id": "95bc3f69-9142-4af0-93ae-b6eea7615809",
   "metadata": {},
   "outputs": [],
   "source": [
    "grants = calc_total(results)\n",
    "# for regression\n",
    "grants[\"error\"] = grants.true_grant_total/sum(grants.true_grant_total) - grants.est_grant_total/sum(grants.est_grant_total)\n",
    "grants.to_csv(\"../results/discrimination.csv\")"
   ]
  },
  {
   "cell_type": "markdown",
   "id": "0ef280c8-febd-4cc8-b568-60dc4297d713",
   "metadata": {
    "tags": []
   },
   "source": [
    "### Plot for just (0.1, 0.0)-DP"
   ]
  },
  {
   "cell_type": "code",
   "execution_count": 18,
   "id": "70ee14f1",
   "metadata": {},
   "outputs": [
    {
     "name": "stdout",
     "output_type": "stream",
     "text": [
      "[WARN] Dropping districts with missing SPPE data: ['Puerto Rico']\n",
      "[WARN] Dropping districts with missing SPPE data: ['Puerto Rico']\n"
     ]
    }
   ],
   "source": [
    "grants = calc_total(funding(saipe, SonnenbergAuthorizer, Laplace(saipe, 0.1, 0), get_sppe(\"../data/sppe18.xlsx\"), weighting))\n",
    "grants_gaus = calc_total(funding(saipe, SonnenbergAuthorizer, Gaussian(saipe, 0.1, 0.2), get_sppe(\"../data/sppe18.xlsx\"), weighting))\n",
    "error = grants.true_grant_total/sum(grants.true_grant_total) - grants.est_grant_total/sum(grants.est_grant_total)\n",
    "error_gaus = grants_gaus.true_grant_total/sum(grants_gaus.true_grant_total) - grants_gaus.est_grant_total/sum(grants_gaus.est_grant_total)"
   ]
  },
  {
   "cell_type": "code",
   "execution_count": 241,
   "id": "5494b467",
   "metadata": {},
   "outputs": [
    {
     "data": {
      "image/png": "[encoded data removed]",
      "text/plain": [
       "<Figure size 432x288 with 1 Axes>"
      ]
     },
     "metadata": {
      "needs_background": "light"
     },
     "output_type": "display_data"
    }
   ],
   "source": [
    "grants['prop_nonwhitealone'] = 1 - grants.race_2est / grants.race_1est\n",
    "grants.prop_nonwhitealone[saipe.prop_nonwhitealone.isna()] = 0\n",
    "\n",
    "plt.scatter(grants.prop_nonwhitealone, error, s=10, alpha=0.5, color='orange', label=\"Laplace\")\n",
    "plt.scatter(grants.prop_nonwhitealone, error_gaus, s=10, alpha=0.5, color='orchid', label=\"Gaussian\")\n",
    "ax = plt.gca()\n",
    "ax.legend()\n",
    "plt.xlabel(\"Proportion non-white (per school district)\")\n",
    "plt.ylabel(\"Error (true alloc minus DP alloc, as % of total)\")\n",
    "plt.show()"
   ]
  },
  {
   "cell_type": "code",
   "execution_count": null,
   "id": "4c6eeb2c",
   "metadata": {},
   "outputs": [],
   "source": []
  }
 ],
 "metadata": {
  "kernelspec": {
   "display_name": "Python 3",
   "language": "python",
   "name": "python3"
  },
  "language_info": {
   "codemirror_mode": {
    "name": "ipython",
    "version": 3
   },
   "file_extension": ".py",
   "mimetype": "text/x-python",
   "name": "python",
   "nbconvert_exporter": "python",
   "pygments_lexer": "ipython3",
   "version": "3.9.2"
  }
 },
 "nbformat": 4,
 "nbformat_minor": 5
}
