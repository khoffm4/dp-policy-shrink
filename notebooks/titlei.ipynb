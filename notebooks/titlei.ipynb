{
 "cells": [
  {
   "cell_type": "markdown",
   "id": "ade7e8e0",
   "metadata": {},
   "source": [
    "# Title I Allocations w/ DP ACS"
   ]
  },
  {
   "cell_type": "code",
   "execution_count": 1,
   "id": "b76c0ac7-232a-451c-b878-e84f6c2104db",
   "metadata": {},
   "outputs": [],
   "source": [
    "from dp_policy.api import titlei_funding as funding\n",
    "from dp_policy.titlei.allocators import AbowdAllocator, SonnenbergAuthorizer\n",
    "from dp_policy.titlei.utils import weighting\n",
    "from dp_policy.titlei.mechanisms import Laplace, Gaussian, GroundTruth\n",
    "\n",
    "import numpy as np\n",
    "import matplotlib.pyplot as plt"
   ]
  },
  {
   "cell_type": "markdown",
   "id": "14463d1d",
   "metadata": {
    "tags": []
   },
   "source": [
    "## Allocation Algorithm"
   ]
  },
  {
   "cell_type": "markdown",
   "id": "3777f9b9",
   "metadata": {
    "tags": []
   },
   "source": [
    "### Data\n",
    "Need state per-pupil expenditure (SPPE) from the NCES. Most recent I can find in <5min is the [FY '18 data](https://nces.ed.gov/pubsearch/pubsinfo.asp?pubid=2020308).\n",
    "\n",
    "Had to use an online tool to convert Table 2 of [this report](https://nces.ed.gov/pubs2020/2020308.pdf)."
   ]
  },
  {
   "cell_type": "code",
   "execution_count": 2,
   "id": "c2eb04d8",
   "metadata": {},
   "outputs": [
    {
     "data": {
      "text/html": [
       "<div>\n",
       "<style scoped>\n",
       "    .dataframe tbody tr th:only-of-type {\n",
       "        vertical-align: middle;\n",
       "    }\n",
       "\n",
       "    .dataframe tbody tr th {\n",
       "        vertical-align: top;\n",
       "    }\n",
       "\n",
       "    .dataframe thead th {\n",
       "        text-align: right;\n",
       "    }\n",
       "</style>\n",
       "<table border=\"1\" class=\"dataframe\">\n",
       "  <thead>\n",
       "    <tr style=\"text-align: right;\">\n",
       "      <th></th>\n",
       "      <th>state</th>\n",
       "      <th>ppe</th>\n",
       "      <th>abbrv</th>\n",
       "    </tr>\n",
       "  </thead>\n",
       "  <tbody>\n",
       "    <tr>\n",
       "      <th>0</th>\n",
       "      <td>Alabama</td>\n",
       "      <td>9697</td>\n",
       "      <td>AL</td>\n",
       "    </tr>\n",
       "    <tr>\n",
       "      <th>1</th>\n",
       "      <td>Alaska</td>\n",
       "      <td>17726</td>\n",
       "      <td>AK</td>\n",
       "    </tr>\n",
       "    <tr>\n",
       "      <th>2</th>\n",
       "      <td>American Samoa</td>\n",
       "      <td>NaN</td>\n",
       "      <td>AS</td>\n",
       "    </tr>\n",
       "    <tr>\n",
       "      <th>3</th>\n",
       "      <td>Arizona</td>\n",
       "      <td>8296</td>\n",
       "      <td>AZ</td>\n",
       "    </tr>\n",
       "    <tr>\n",
       "      <th>4</th>\n",
       "      <td>Arkansas</td>\n",
       "      <td>10072</td>\n",
       "      <td>AR</td>\n",
       "    </tr>\n",
       "  </tbody>\n",
       "</table>\n",
       "</div>"
      ],
      "text/plain": [
       "            state    ppe abbrv\n",
       "0         Alabama   9697    AL\n",
       "1          Alaska  17726    AK\n",
       "2  American Samoa    NaN    AS\n",
       "3         Arizona   8296    AZ\n",
       "4        Arkansas  10072    AR"
      ]
     },
     "execution_count": 2,
     "metadata": {},
     "output_type": "execute_result"
    }
   ],
   "source": [
    "%load_ext autoreload\n",
    "%autoreload 2\n",
    "\n",
    "from dp_policy.titlei.utils import get_sppe\n",
    "import pandas as pd\n",
    "\n",
    "sppe = get_sppe(\"../data/sppe18.xlsx\")\n",
    "sppe.head()"
   ]
  },
  {
   "cell_type": "markdown",
   "id": "5743b85a",
   "metadata": {},
   "source": [
    "Also need a dict matching district IDs to district names to states. Simplest to use [SAIPE 2019](https://www2.census.gov/programs-surveys/saipe/datasets/2019/2019-school-districts/) ground-truth."
   ]
  },
  {
   "cell_type": "markdown",
   "id": "39553b65",
   "metadata": {},
   "source": [
    "Also, a method for roughly estimating standard errors for the SAIPE estimates, based on [these published docs](https://www.census.gov/programs-surveys/saipe/guidance/district-estimates.html). This could be improved - but start with this as a shortcut."
   ]
  },
  {
   "cell_type": "code",
   "execution_count": 3,
   "id": "e66810fa",
   "metadata": {},
   "outputs": [
    {
     "data": {
      "text/html": [
       "<div>\n",
       "<style scoped>\n",
       "    .dataframe tbody tr th:only-of-type {\n",
       "        vertical-align: middle;\n",
       "    }\n",
       "\n",
       "    .dataframe tbody tr th {\n",
       "        vertical-align: top;\n",
       "    }\n",
       "\n",
       "    .dataframe thead th {\n",
       "        text-align: right;\n",
       "    }\n",
       "</style>\n",
       "<table border=\"1\" class=\"dataframe\">\n",
       "  <thead>\n",
       "    <tr style=\"text-align: right;\">\n",
       "      <th></th>\n",
       "      <th></th>\n",
       "      <th>State Postal Code</th>\n",
       "      <th>Name</th>\n",
       "      <th>Estimated Total Population</th>\n",
       "      <th>Estimated Population 5-17</th>\n",
       "      <th>Estimated number of relevant children 5 to 17 years old in poverty who are related to the householder</th>\n",
       "      <th>cv</th>\n",
       "    </tr>\n",
       "    <tr>\n",
       "      <th>State FIPS Code</th>\n",
       "      <th>District ID</th>\n",
       "      <th></th>\n",
       "      <th></th>\n",
       "      <th></th>\n",
       "      <th></th>\n",
       "      <th></th>\n",
       "      <th></th>\n",
       "    </tr>\n",
       "  </thead>\n",
       "  <tbody>\n",
       "    <tr>\n",
       "      <th rowspan=\"5\" valign=\"top\">1</th>\n",
       "      <th>190</th>\n",
       "      <td>AL</td>\n",
       "      <td>Alabaster City School District</td>\n",
       "      <td>34669</td>\n",
       "      <td>6710</td>\n",
       "      <td>649</td>\n",
       "      <td>0.23</td>\n",
       "    </tr>\n",
       "    <tr>\n",
       "      <th>5</th>\n",
       "      <td>AL</td>\n",
       "      <td>Albertville City School District</td>\n",
       "      <td>22051</td>\n",
       "      <td>4131</td>\n",
       "      <td>957</td>\n",
       "      <td>0.23</td>\n",
       "    </tr>\n",
       "    <tr>\n",
       "      <th>30</th>\n",
       "      <td>AL</td>\n",
       "      <td>Alexander City City School District</td>\n",
       "      <td>16920</td>\n",
       "      <td>2575</td>\n",
       "      <td>703</td>\n",
       "      <td>0.28</td>\n",
       "    </tr>\n",
       "    <tr>\n",
       "      <th>60</th>\n",
       "      <td>AL</td>\n",
       "      <td>Andalusia City School District</td>\n",
       "      <td>8842</td>\n",
       "      <td>1465</td>\n",
       "      <td>406</td>\n",
       "      <td>0.35</td>\n",
       "    </tr>\n",
       "    <tr>\n",
       "      <th>90</th>\n",
       "      <td>AL</td>\n",
       "      <td>Anniston City School District</td>\n",
       "      <td>22043</td>\n",
       "      <td>3065</td>\n",
       "      <td>1057</td>\n",
       "      <td>0.23</td>\n",
       "    </tr>\n",
       "  </tbody>\n",
       "</table>\n",
       "</div>"
      ],
      "text/plain": [
       "                            State Postal Code  \\\n",
       "State FIPS Code District ID                     \n",
       "1               190                        AL   \n",
       "                5                          AL   \n",
       "                30                         AL   \n",
       "                60                         AL   \n",
       "                90                         AL   \n",
       "\n",
       "                                                            Name  \\\n",
       "State FIPS Code District ID                                        \n",
       "1               190               Alabaster City School District   \n",
       "                5               Albertville City School District   \n",
       "                30           Alexander City City School District   \n",
       "                60                Andalusia City School District   \n",
       "                90                 Anniston City School District   \n",
       "\n",
       "                             Estimated Total Population  \\\n",
       "State FIPS Code District ID                               \n",
       "1               190                               34669   \n",
       "                5                                 22051   \n",
       "                30                                16920   \n",
       "                60                                 8842   \n",
       "                90                                22043   \n",
       "\n",
       "                             Estimated Population 5-17  \\\n",
       "State FIPS Code District ID                              \n",
       "1               190                               6710   \n",
       "                5                                 4131   \n",
       "                30                                2575   \n",
       "                60                                1465   \n",
       "                90                                3065   \n",
       "\n",
       "                             Estimated number of relevant children 5 to 17 years old in poverty who are related to the householder  \\\n",
       "State FIPS Code District ID                                                                                                          \n",
       "1               190                                                        649                                                       \n",
       "                5                                                          957                                                       \n",
       "                30                                                         703                                                       \n",
       "                60                                                         406                                                       \n",
       "                90                                                        1057                                                       \n",
       "\n",
       "                               cv  \n",
       "State FIPS Code District ID        \n",
       "1               190          0.23  \n",
       "                5            0.23  \n",
       "                30           0.28  \n",
       "                60           0.35  \n",
       "                90           0.23  "
      ]
     },
     "execution_count": 3,
     "metadata": {},
     "output_type": "execute_result"
    }
   ],
   "source": [
    "from dp_policy.titlei.utils import get_saipe\n",
    "\n",
    "saipe = get_saipe(\"../data/saipe19.xls\")\n",
    "saipe.head()"
   ]
  },
  {
   "cell_type": "code",
   "execution_count": 4,
   "id": "5e84592a",
   "metadata": {},
   "outputs": [
    {
     "data": {
      "text/plain": [
       "645.2559921116505"
      ]
     },
     "execution_count": 4,
     "metadata": {},
     "output_type": "execute_result"
    }
   ],
   "source": [
    "# average school district student pop\n",
    "saipe[\"Estimated Population 5-17\"].mean()\n",
    "saipe[\"Estimated number of relevant children 5 to 17 years old in poverty who are related to the householder\"].mean()"
   ]
  },
  {
   "cell_type": "markdown",
   "id": "41a6fc25",
   "metadata": {
    "jp-MarkdownHeadingCollapsed": true,
    "tags": []
   },
   "source": [
    "### Code"
   ]
  },
  {
   "cell_type": "markdown",
   "id": "7cc8633c",
   "metadata": {},
   "source": [
    "Next, a class for the different ways we might allocate funds based on the poverty estimates (e.g. Abowd's shortcut method vs. the full Sonnenberg method)."
   ]
  },
  {
   "cell_type": "code",
   "execution_count": 16,
   "id": "720d1a51",
   "metadata": {},
   "outputs": [
    {
     "ename": "NameError",
     "evalue": "name 'weighting' is not defined",
     "output_type": "error",
     "traceback": [
      "\u001b[0;31m---------------------------------------------------------------------------\u001b[0m",
      "\u001b[0;31mNameError\u001b[0m                                 Traceback (most recent call last)",
      "\u001b[0;32m<ipython-input-16-7fe687315760>\u001b[0m in \u001b[0;36m<module>\u001b[0;34m\u001b[0m\n\u001b[0;32m----> 1\u001b[0;31m \u001b[0mweighting\u001b[0m\u001b[0;34m(\u001b[0m\u001b[0;36m1559\u001b[0m\u001b[0;34m,\u001b[0m \u001b[0;36m10000\u001b[0m\u001b[0;34m)\u001b[0m\u001b[0;34m\u001b[0m\u001b[0;34m\u001b[0m\u001b[0m\n\u001b[0m",
      "\u001b[0;31mNameError\u001b[0m: name 'weighting' is not defined"
     ]
    }
   ],
   "source": [
    "weighting(1559, 10000)"
   ]
  },
  {
   "cell_type": "markdown",
   "id": "0aebfe2f",
   "metadata": {},
   "source": [
    "Finally, the main method for computing estimates, then grant amounts."
   ]
  },
  {
   "cell_type": "code",
   "execution_count": 6,
   "id": "da974593",
   "metadata": {},
   "outputs": [
    {
     "name": "stdout",
     "output_type": "stream",
     "text": [
      "[WARN] Dropping districts with missing SPPE data: ['Puerto Rico']\n"
     ]
    },
    {
     "data": {
      "image/png": "[encoded data removed]",
      "text/plain": [
       "<Figure size 432x288 with 1 Axes>"
      ]
     },
     "metadata": {
      "needs_background": "light"
     },
     "output_type": "display_data"
    },
    {
     "data": {
      "image/png": "[encoded data removed]",
      "text/plain": [
       "<Figure size 432x288 with 1 Axes>"
      ]
     },
     "metadata": {
      "needs_background": "light"
     },
     "output_type": "display_data"
    },
    {
     "data": {
      "image/png": "[encoded data removed]",
      "text/plain": [
       "<Figure size 432x288 with 1 Axes>"
      ]
     },
     "metadata": {
      "needs_background": "light"
     },
     "output_type": "display_data"
    }
   ],
   "source": [
    "import numpy as np\n",
    "import matplotlib.pyplot as plt\n",
    "\n",
    "from dp_policy.api import titlei_funding as funding\n",
    "\n",
    "# Test with ground truth mechanism\n",
    "grants = funding(saipe, SonnenbergAuthorizer, GroundTruth(saipe), get_sppe(\"../data/sppe18.xlsx\"), weighting)\n",
    "grants.boxplot('true_grant_basic')\n",
    "plt.show()\n",
    "grants.boxplot('true_grant_concentration')\n",
    "plt.show()\n",
    "grants.boxplot('true_grant_targeted')\n",
    "plt.show()"
   ]
  },
  {
   "cell_type": "markdown",
   "id": "4c135c6e",
   "metadata": {
    "tags": []
   },
   "source": [
    "## Laplace\n",
    "### Data\n",
    "From [SAIPE 2019](https://www2.census.gov/programs-surveys/saipe/datasets/2019/2019-school-districts/) release."
   ]
  },
  {
   "cell_type": "markdown",
   "id": "f2ff3458",
   "metadata": {
    "jp-MarkdownHeadingCollapsed": true,
    "tags": []
   },
   "source": [
    "### Mechanism"
   ]
  },
  {
   "cell_type": "code",
   "execution_count": 7,
   "id": "b4e6f13b",
   "metadata": {
    "collapsed": true,
    "jupyter": {
     "outputs_hidden": true
    },
    "tags": []
   },
   "outputs": [
    {
     "data": {
      "text/plain": [
       "(State FIPS Code  District ID\n",
       " 1                190            3.466766e+04\n",
       "                  5              2.205298e+04\n",
       "                  30             1.691947e+04\n",
       "                  60             8.881616e+03\n",
       "                  90             2.204231e+04\n",
       "                                     ...     \n",
       " 56               6240           7.110393e+03\n",
       "                  5820           6.672346e+02\n",
       "                  4830           5.437519e+03\n",
       "                  6090           1.459886e+03\n",
       " 72               30             3.193688e+06\n",
       " Name: Estimated Total Population, Length: 13184, dtype: float64,\n",
       " State FIPS Code  District ID\n",
       " 1                190              6701.718173\n",
       "                  5                4157.810163\n",
       "                  30               2614.988588\n",
       "                  60               1474.190855\n",
       "                  90               3078.219502\n",
       "                                     ...      \n",
       " 56               6240             1276.989969\n",
       "                  5820              104.555717\n",
       "                  4830              809.703303\n",
       "                  6090              251.722107\n",
       " 72               30             455250.969605\n",
       " Name: Estimated Population 5-17, Length: 13184, dtype: float64,\n",
       " State FIPS Code  District ID\n",
       " 1                190               636.050893\n",
       "                  5                 951.418091\n",
       "                  30                699.487557\n",
       "                  60                422.861653\n",
       "                  90               1049.048430\n",
       "                                     ...      \n",
       " 56               6240              120.632767\n",
       "                  5820               14.990649\n",
       "                  4830              131.424378\n",
       "                  6090                4.221727\n",
       " 72               30             248609.085215\n",
       " Name: Estimated number of relevant children 5 to 17 years old in poverty who are related to the householder, Length: 13184, dtype: float64)"
      ]
     },
     "execution_count": 7,
     "metadata": {},
     "output_type": "execute_result"
    }
   ],
   "source": [
    "from dp_policy.titlei.mechanisms import Laplace\n",
    "        \n",
    "Laplace(saipe, 0.1, 0).poverty_estimates()"
   ]
  },
  {
   "cell_type": "markdown",
   "id": "188d77b9",
   "metadata": {
    "jp-MarkdownHeadingCollapsed": true,
    "tags": []
   },
   "source": [
    "### Results\n",
    "First, using the full Sonnenberg authorization algo."
   ]
  },
  {
   "cell_type": "code",
   "execution_count": 10,
   "id": "89569dc5",
   "metadata": {},
   "outputs": [
    {
     "name": "stdout",
     "output_type": "stream",
     "text": [
      "[WARN] Dropping districts with missing SPPE data: ['Puerto Rico']\n"
     ]
    },
    {
     "data": {
      "text/html": [
       "<div>\n",
       "<style scoped>\n",
       "    .dataframe tbody tr th:only-of-type {\n",
       "        vertical-align: middle;\n",
       "    }\n",
       "\n",
       "    .dataframe tbody tr th {\n",
       "        vertical-align: top;\n",
       "    }\n",
       "\n",
       "    .dataframe thead th {\n",
       "        text-align: right;\n",
       "    }\n",
       "</style>\n",
       "<table border=\"1\" class=\"dataframe\">\n",
       "  <thead>\n",
       "    <tr style=\"text-align: right;\">\n",
       "      <th></th>\n",
       "      <th>true_pop_total</th>\n",
       "      <th>true_children_total</th>\n",
       "      <th>true_children_poverty</th>\n",
       "      <th>median_cv</th>\n",
       "      <th>est_pop_total</th>\n",
       "      <th>est_children_total</th>\n",
       "      <th>est_children_poverty</th>\n",
       "      <th>true_children_eligible</th>\n",
       "      <th>est_children_eligible</th>\n",
       "      <th>sppe</th>\n",
       "      <th>true_grant_basic</th>\n",
       "      <th>true_grant_concentration</th>\n",
       "      <th>true_grant_targeted</th>\n",
       "      <th>est_grant_basic</th>\n",
       "      <th>est_grant_concentration</th>\n",
       "      <th>est_grant_targeted</th>\n",
       "    </tr>\n",
       "  </thead>\n",
       "  <tbody>\n",
       "    <tr>\n",
       "      <th>count</th>\n",
       "      <td>1.318200e+04</td>\n",
       "      <td>1.318200e+04</td>\n",
       "      <td>13182.000000</td>\n",
       "      <td>13182.000000</td>\n",
       "      <td>1.318200e+04</td>\n",
       "      <td>1.318200e+04</td>\n",
       "      <td>13182.000000</td>\n",
       "      <td>13182.000000</td>\n",
       "      <td>13182.000000</td>\n",
       "      <td>13182.000000</td>\n",
       "      <td>1.318200e+04</td>\n",
       "      <td>1.318200e+04</td>\n",
       "      <td>1.318200e+04</td>\n",
       "      <td>1.318200e+04</td>\n",
       "      <td>1.318200e+04</td>\n",
       "      <td>1.318200e+04</td>\n",
       "    </tr>\n",
       "    <tr>\n",
       "      <th>mean</th>\n",
       "      <td>2.651938e+04</td>\n",
       "      <td>4.049290e+03</td>\n",
       "      <td>625.253224</td>\n",
       "      <td>0.383360</td>\n",
       "      <td>2.651938e+04</td>\n",
       "      <td>4.049287e+03</td>\n",
       "      <td>625.252090</td>\n",
       "      <td>625.253224</td>\n",
       "      <td>625.252090</td>\n",
       "      <td>13027.845092</td>\n",
       "      <td>3.026463e+06</td>\n",
       "      <td>2.231939e+06</td>\n",
       "      <td>5.062192e+06</td>\n",
       "      <td>3.026324e+06</td>\n",
       "      <td>2.231903e+06</td>\n",
       "      <td>5.061881e+06</td>\n",
       "    </tr>\n",
       "    <tr>\n",
       "      <th>std</th>\n",
       "      <td>1.155746e+05</td>\n",
       "      <td>1.728792e+04</td>\n",
       "      <td>3467.140325</td>\n",
       "      <td>0.171494</td>\n",
       "      <td>1.155746e+05</td>\n",
       "      <td>1.728793e+04</td>\n",
       "      <td>3467.141049</td>\n",
       "      <td>3467.140325</td>\n",
       "      <td>3467.141049</td>\n",
       "      <td>3667.794832</td>\n",
       "      <td>1.912444e+07</td>\n",
       "      <td>1.908713e+07</td>\n",
       "      <td>5.239813e+07</td>\n",
       "      <td>1.912447e+07</td>\n",
       "      <td>1.908713e+07</td>\n",
       "      <td>5.239817e+07</td>\n",
       "    </tr>\n",
       "    <tr>\n",
       "      <th>min</th>\n",
       "      <td>0.000000e+00</td>\n",
       "      <td>0.000000e+00</td>\n",
       "      <td>0.000000</td>\n",
       "      <td>0.150000</td>\n",
       "      <td>0.000000e+00</td>\n",
       "      <td>0.000000e+00</td>\n",
       "      <td>0.000000</td>\n",
       "      <td>0.000000</td>\n",
       "      <td>0.000000</td>\n",
       "      <td>7525.000000</td>\n",
       "      <td>0.000000e+00</td>\n",
       "      <td>0.000000e+00</td>\n",
       "      <td>0.000000e+00</td>\n",
       "      <td>0.000000e+00</td>\n",
       "      <td>0.000000e+00</td>\n",
       "      <td>0.000000e+00</td>\n",
       "    </tr>\n",
       "    <tr>\n",
       "      <th>25%</th>\n",
       "      <td>2.802000e+03</td>\n",
       "      <td>4.260000e+02</td>\n",
       "      <td>52.000000</td>\n",
       "      <td>0.230000</td>\n",
       "      <td>2.802092e+03</td>\n",
       "      <td>4.259423e+02</td>\n",
       "      <td>52.020225</td>\n",
       "      <td>52.000000</td>\n",
       "      <td>52.020225</td>\n",
       "      <td>10157.000000</td>\n",
       "      <td>2.617935e+05</td>\n",
       "      <td>0.000000e+00</td>\n",
       "      <td>1.924048e+05</td>\n",
       "      <td>2.613134e+05</td>\n",
       "      <td>0.000000e+00</td>\n",
       "      <td>1.923918e+05</td>\n",
       "    </tr>\n",
       "    <tr>\n",
       "      <th>50%</th>\n",
       "      <td>7.911000e+03</td>\n",
       "      <td>1.186000e+03</td>\n",
       "      <td>147.000000</td>\n",
       "      <td>0.350000</td>\n",
       "      <td>7.910936e+03</td>\n",
       "      <td>1.186118e+03</td>\n",
       "      <td>147.214703</td>\n",
       "      <td>147.000000</td>\n",
       "      <td>147.214703</td>\n",
       "      <td>12159.000000</td>\n",
       "      <td>7.504039e+05</td>\n",
       "      <td>0.000000e+00</td>\n",
       "      <td>7.283281e+05</td>\n",
       "      <td>7.503312e+05</td>\n",
       "      <td>0.000000e+00</td>\n",
       "      <td>7.282260e+05</td>\n",
       "    </tr>\n",
       "    <tr>\n",
       "      <th>75%</th>\n",
       "      <td>2.101825e+04</td>\n",
       "      <td>3.222000e+03</td>\n",
       "      <td>411.000000</td>\n",
       "      <td>0.420000</td>\n",
       "      <td>2.101810e+04</td>\n",
       "      <td>3.222008e+03</td>\n",
       "      <td>411.257487</td>\n",
       "      <td>411.000000</td>\n",
       "      <td>411.257487</td>\n",
       "      <td>15780.000000</td>\n",
       "      <td>2.076117e+06</td>\n",
       "      <td>9.130432e+05</td>\n",
       "      <td>2.294255e+06</td>\n",
       "      <td>2.076260e+06</td>\n",
       "      <td>9.149805e+05</td>\n",
       "      <td>2.290126e+06</td>\n",
       "    </tr>\n",
       "    <tr>\n",
       "      <th>max</th>\n",
       "      <td>8.336817e+06</td>\n",
       "      <td>1.193045e+06</td>\n",
       "      <td>259012.000000</td>\n",
       "      <td>0.670000</td>\n",
       "      <td>8.336817e+06</td>\n",
       "      <td>1.193045e+06</td>\n",
       "      <td>259012.023451</td>\n",
       "      <td>259012.000000</td>\n",
       "      <td>259012.023451</td>\n",
       "      <td>22845.000000</td>\n",
       "      <td>1.619697e+09</td>\n",
       "      <td>1.619697e+09</td>\n",
       "      <td>4.714287e+09</td>\n",
       "      <td>1.619697e+09</td>\n",
       "      <td>1.619697e+09</td>\n",
       "      <td>4.714288e+09</td>\n",
       "    </tr>\n",
       "  </tbody>\n",
       "</table>\n",
       "</div>"
      ],
      "text/plain": [
       "       true_pop_total  true_children_total  true_children_poverty  \\\n",
       "count    1.318200e+04         1.318200e+04           13182.000000   \n",
       "mean     2.651938e+04         4.049290e+03             625.253224   \n",
       "std      1.155746e+05         1.728792e+04            3467.140325   \n",
       "min      0.000000e+00         0.000000e+00               0.000000   \n",
       "25%      2.802000e+03         4.260000e+02              52.000000   \n",
       "50%      7.911000e+03         1.186000e+03             147.000000   \n",
       "75%      2.101825e+04         3.222000e+03             411.000000   \n",
       "max      8.336817e+06         1.193045e+06          259012.000000   \n",
       "\n",
       "          median_cv  est_pop_total  est_children_total  est_children_poverty  \\\n",
       "count  13182.000000   1.318200e+04        1.318200e+04          13182.000000   \n",
       "mean       0.383360   2.651938e+04        4.049287e+03            625.252090   \n",
       "std        0.171494   1.155746e+05        1.728793e+04           3467.141049   \n",
       "min        0.150000   0.000000e+00        0.000000e+00              0.000000   \n",
       "25%        0.230000   2.802092e+03        4.259423e+02             52.020225   \n",
       "50%        0.350000   7.910936e+03        1.186118e+03            147.214703   \n",
       "75%        0.420000   2.101810e+04        3.222008e+03            411.257487   \n",
       "max        0.670000   8.336817e+06        1.193045e+06         259012.023451   \n",
       "\n",
       "       true_children_eligible  est_children_eligible          sppe  \\\n",
       "count            13182.000000           13182.000000  13182.000000   \n",
       "mean               625.253224             625.252090  13027.845092   \n",
       "std               3467.140325            3467.141049   3667.794832   \n",
       "min                  0.000000               0.000000   7525.000000   \n",
       "25%                 52.000000              52.020225  10157.000000   \n",
       "50%                147.000000             147.214703  12159.000000   \n",
       "75%                411.000000             411.257487  15780.000000   \n",
       "max             259012.000000          259012.023451  22845.000000   \n",
       "\n",
       "       true_grant_basic  true_grant_concentration  true_grant_targeted  \\\n",
       "count      1.318200e+04              1.318200e+04         1.318200e+04   \n",
       "mean       3.026463e+06              2.231939e+06         5.062192e+06   \n",
       "std        1.912444e+07              1.908713e+07         5.239813e+07   \n",
       "min        0.000000e+00              0.000000e+00         0.000000e+00   \n",
       "25%        2.617935e+05              0.000000e+00         1.924048e+05   \n",
       "50%        7.504039e+05              0.000000e+00         7.283281e+05   \n",
       "75%        2.076117e+06              9.130432e+05         2.294255e+06   \n",
       "max        1.619697e+09              1.619697e+09         4.714287e+09   \n",
       "\n",
       "       est_grant_basic  est_grant_concentration  est_grant_targeted  \n",
       "count     1.318200e+04             1.318200e+04        1.318200e+04  \n",
       "mean      3.026324e+06             2.231903e+06        5.061881e+06  \n",
       "std       1.912447e+07             1.908713e+07        5.239817e+07  \n",
       "min       0.000000e+00             0.000000e+00        0.000000e+00  \n",
       "25%       2.613134e+05             0.000000e+00        1.923918e+05  \n",
       "50%       7.503312e+05             0.000000e+00        7.282260e+05  \n",
       "75%       2.076260e+06             9.149805e+05        2.290126e+06  \n",
       "max       1.619697e+09             1.619697e+09        4.714288e+09  "
      ]
     },
     "execution_count": 10,
     "metadata": {},
     "output_type": "execute_result"
    }
   ],
   "source": [
    "grants = funding(saipe, SonnenbergAuthorizer, Laplace(saipe, 5, 0), get_sppe(\"../data/sppe18.xlsx\"), weighting)\n",
    "grants.describe()"
   ]
  },
  {
   "cell_type": "code",
   "execution_count": 33,
   "id": "b30e2b10",
   "metadata": {},
   "outputs": [
    {
     "name": "stdout",
     "output_type": "stream",
     "text": [
      "2 iters:\n",
      "0 1 "
     ]
    },
    {
     "data": {
      "text/html": [
       "<div>\n",
       "<style scoped>\n",
       "    .dataframe tbody tr th:only-of-type {\n",
       "        vertical-align: middle;\n",
       "    }\n",
       "\n",
       "    .dataframe tbody tr th {\n",
       "        vertical-align: top;\n",
       "    }\n",
       "\n",
       "    .dataframe thead th {\n",
       "        text-align: right;\n",
       "    }\n",
       "</style>\n",
       "<table border=\"1\" class=\"dataframe\">\n",
       "  <thead>\n",
       "    <tr style=\"text-align: right;\">\n",
       "      <th></th>\n",
       "      <th></th>\n",
       "      <th></th>\n",
       "      <th>State Postal Code</th>\n",
       "      <th>Name</th>\n",
       "      <th>true_pop_total</th>\n",
       "      <th>true_children_total</th>\n",
       "      <th>true_children_poverty</th>\n",
       "      <th>cv</th>\n",
       "      <th>est_pop_total</th>\n",
       "      <th>est_children_total</th>\n",
       "      <th>est_children_poverty</th>\n",
       "      <th>true_children_eligible</th>\n",
       "      <th>est_children_eligible</th>\n",
       "      <th>sppe</th>\n",
       "      <th>true_grant_basic</th>\n",
       "      <th>true_grant_concentration</th>\n",
       "      <th>true_grant_targeted</th>\n",
       "      <th>est_grant_basic</th>\n",
       "      <th>est_grant_concentration</th>\n",
       "      <th>est_grant_targeted</th>\n",
       "    </tr>\n",
       "    <tr>\n",
       "      <th>delta</th>\n",
       "      <th>epsilon</th>\n",
       "      <th>id</th>\n",
       "      <th></th>\n",
       "      <th></th>\n",
       "      <th></th>\n",
       "      <th></th>\n",
       "      <th></th>\n",
       "      <th></th>\n",
       "      <th></th>\n",
       "      <th></th>\n",
       "      <th></th>\n",
       "      <th></th>\n",
       "      <th></th>\n",
       "      <th></th>\n",
       "      <th></th>\n",
       "      <th></th>\n",
       "      <th></th>\n",
       "      <th></th>\n",
       "      <th></th>\n",
       "      <th></th>\n",
       "    </tr>\n",
       "  </thead>\n",
       "  <tbody>\n",
       "    <tr>\n",
       "      <th rowspan=\"5\" valign=\"top\">0.0</th>\n",
       "      <th rowspan=\"5\" valign=\"top\">0.1</th>\n",
       "      <th>0</th>\n",
       "      <td>AL</td>\n",
       "      <td>Alabaster City School District</td>\n",
       "      <td>34669</td>\n",
       "      <td>6710</td>\n",
       "      <td>649</td>\n",
       "      <td>0.23</td>\n",
       "      <td>34637.693652</td>\n",
       "      <td>6722.186415</td>\n",
       "      <td>642.919112</td>\n",
       "      <td>649</td>\n",
       "      <td>642.919112</td>\n",
       "      <td>9697.0</td>\n",
       "      <td>2.705623e+06</td>\n",
       "      <td>0.000000e+00</td>\n",
       "      <td>2.705623e+06</td>\n",
       "      <td>2.680272e+06</td>\n",
       "      <td>0.000000e+00</td>\n",
       "      <td>2.680272e+06</td>\n",
       "    </tr>\n",
       "    <tr>\n",
       "      <th>1</th>\n",
       "      <td>AL</td>\n",
       "      <td>Albertville City School District</td>\n",
       "      <td>22051</td>\n",
       "      <td>4131</td>\n",
       "      <td>957</td>\n",
       "      <td>0.23</td>\n",
       "      <td>22029.178072</td>\n",
       "      <td>4130.785528</td>\n",
       "      <td>969.396654</td>\n",
       "      <td>957</td>\n",
       "      <td>969.396654</td>\n",
       "      <td>9697.0</td>\n",
       "      <td>3.989647e+06</td>\n",
       "      <td>3.989647e+06</td>\n",
       "      <td>5.091282e+06</td>\n",
       "      <td>4.041328e+06</td>\n",
       "      <td>4.041328e+06</td>\n",
       "      <td>5.220483e+06</td>\n",
       "    </tr>\n",
       "    <tr>\n",
       "      <th>2</th>\n",
       "      <td>AL</td>\n",
       "      <td>Alexander City City School District</td>\n",
       "      <td>16920</td>\n",
       "      <td>2575</td>\n",
       "      <td>703</td>\n",
       "      <td>0.28</td>\n",
       "      <td>16939.991568</td>\n",
       "      <td>2547.108185</td>\n",
       "      <td>689.022834</td>\n",
       "      <td>703</td>\n",
       "      <td>689.022834</td>\n",
       "      <td>9697.0</td>\n",
       "      <td>2.930744e+06</td>\n",
       "      <td>2.930744e+06</td>\n",
       "      <td>4.276260e+06</td>\n",
       "      <td>2.872474e+06</td>\n",
       "      <td>2.872474e+06</td>\n",
       "      <td>4.164979e+06</td>\n",
       "    </tr>\n",
       "    <tr>\n",
       "      <th>3</th>\n",
       "      <td>AL</td>\n",
       "      <td>Andalusia City School District</td>\n",
       "      <td>8842</td>\n",
       "      <td>1465</td>\n",
       "      <td>406</td>\n",
       "      <td>0.35</td>\n",
       "      <td>8826.259926</td>\n",
       "      <td>1472.046045</td>\n",
       "      <td>409.996463</td>\n",
       "      <td>406</td>\n",
       "      <td>409.996463</td>\n",
       "      <td>9697.0</td>\n",
       "      <td>1.692578e+06</td>\n",
       "      <td>1.692578e+06</td>\n",
       "      <td>2.490924e+06</td>\n",
       "      <td>1.709239e+06</td>\n",
       "      <td>1.709239e+06</td>\n",
       "      <td>2.523196e+06</td>\n",
       "    </tr>\n",
       "    <tr>\n",
       "      <th>4</th>\n",
       "      <td>AL</td>\n",
       "      <td>Anniston City School District</td>\n",
       "      <td>22043</td>\n",
       "      <td>3065</td>\n",
       "      <td>1057</td>\n",
       "      <td>0.23</td>\n",
       "      <td>22045.185393</td>\n",
       "      <td>3060.509099</td>\n",
       "      <td>1061.148290</td>\n",
       "      <td>1057</td>\n",
       "      <td>1061.148290</td>\n",
       "      <td>9697.0</td>\n",
       "      <td>4.406538e+06</td>\n",
       "      <td>4.406538e+06</td>\n",
       "      <td>7.792736e+06</td>\n",
       "      <td>4.423832e+06</td>\n",
       "      <td>4.423832e+06</td>\n",
       "      <td>7.858321e+06</td>\n",
       "    </tr>\n",
       "  </tbody>\n",
       "</table>\n",
       "</div>"
      ],
      "text/plain": [
       "                 State Postal Code                                 Name  \\\n",
       "delta epsilon id                                                          \n",
       "0.0   0.1     0                 AL       Alabaster City School District   \n",
       "              1                 AL     Albertville City School District   \n",
       "              2                 AL  Alexander City City School District   \n",
       "              3                 AL       Andalusia City School District   \n",
       "              4                 AL        Anniston City School District   \n",
       "\n",
       "                  true_pop_total  true_children_total  true_children_poverty  \\\n",
       "delta epsilon id                                                               \n",
       "0.0   0.1     0            34669                 6710                    649   \n",
       "              1            22051                 4131                    957   \n",
       "              2            16920                 2575                    703   \n",
       "              3             8842                 1465                    406   \n",
       "              4            22043                 3065                   1057   \n",
       "\n",
       "                    cv  est_pop_total  est_children_total  \\\n",
       "delta epsilon id                                            \n",
       "0.0   0.1     0   0.23   34637.693652         6722.186415   \n",
       "              1   0.23   22029.178072         4130.785528   \n",
       "              2   0.28   16939.991568         2547.108185   \n",
       "              3   0.35    8826.259926         1472.046045   \n",
       "              4   0.23   22045.185393         3060.509099   \n",
       "\n",
       "                  est_children_poverty  true_children_eligible  \\\n",
       "delta epsilon id                                                 \n",
       "0.0   0.1     0             642.919112                     649   \n",
       "              1             969.396654                     957   \n",
       "              2             689.022834                     703   \n",
       "              3             409.996463                     406   \n",
       "              4            1061.148290                    1057   \n",
       "\n",
       "                  est_children_eligible    sppe  true_grant_basic  \\\n",
       "delta epsilon id                                                    \n",
       "0.0   0.1     0              642.919112  9697.0      2.705623e+06   \n",
       "              1              969.396654  9697.0      3.989647e+06   \n",
       "              2              689.022834  9697.0      2.930744e+06   \n",
       "              3              409.996463  9697.0      1.692578e+06   \n",
       "              4             1061.148290  9697.0      4.406538e+06   \n",
       "\n",
       "                  true_grant_concentration  true_grant_targeted  \\\n",
       "delta epsilon id                                                  \n",
       "0.0   0.1     0               0.000000e+00         2.705623e+06   \n",
       "              1               3.989647e+06         5.091282e+06   \n",
       "              2               2.930744e+06         4.276260e+06   \n",
       "              3               1.692578e+06         2.490924e+06   \n",
       "              4               4.406538e+06         7.792736e+06   \n",
       "\n",
       "                  est_grant_basic  est_grant_concentration  est_grant_targeted  \n",
       "delta epsilon id                                                                \n",
       "0.0   0.1     0      2.680272e+06             0.000000e+00        2.680272e+06  \n",
       "              1      4.041328e+06             4.041328e+06        5.220483e+06  \n",
       "              2      2.872474e+06             2.872474e+06        4.164979e+06  \n",
       "              3      1.709239e+06             1.709239e+06        2.523196e+06  \n",
       "              4      4.423832e+06             4.423832e+06        7.858321e+06  "
      ]
     },
     "execution_count": 33,
     "metadata": {},
     "output_type": "execute_result"
    }
   ],
   "source": [
    "import itertools\n",
    "from dp_policy.titlei.allocators import Allocator\n",
    "\n",
    "def test_params(saipe, mech, eps=list(np.logspace(-3, 1)) + [2.5], delta=[0.0]):\n",
    "    allocations = []\n",
    "    print(f\"{len(eps)*len(delta)} iters:\")\n",
    "    i = 0\n",
    "    for d in delta:\n",
    "        for e in eps:\n",
    "            print(i, end=\" \")\n",
    "            i += 1\n",
    "            allocations.append(funding(\n",
    "                SonnenbergAuthorizer,\n",
    "                saipe,  \n",
    "                mech(saipe, e, d), \n",
    "                get_sppe(\"../data/sppe18.xlsx\"), \n",
    "                verbose=False)\n",
    "            )\n",
    "    return pd.concat(allocations, axis=0, join=\"inner\", keys=itertools.product(delta, eps), names=[\"delta\", \"epsilon\", \"id\"])\n",
    "\n",
    "calc_total = SonnenbergAuthorizer.calc_total\n",
    "\n",
    "def plot_results(results, delta=False):\n",
    "    results = calc_total(results)\n",
    "    \n",
    "    eps, allocations = list(zip(*results.groupby(\"epsilon\")))\n",
    "    \n",
    "    mse = []\n",
    "    \n",
    "    for e, alloc in results.groupby(\"epsilon\"):\n",
    "        for grant_type in (\"basic\", \"concentration\", \"targeted\", \"total\"):\n",
    "            error = alloc[f\"true_grant_{grant_type}\"] - alloc[f\"est_grant_{grant_type}\"]\n",
    "            error_prop = alloc[f\"true_grant_{grant_type}\"]/sum(alloc[f\"true_grant_{grant_type}\"])\\\n",
    "                - alloc[f\"est_grant_{grant_type}\"]/sum(alloc[f\"est_grant_{grant_type}\"])\n",
    "            if (e == 2.5) or (e > 0.1 and e < 0.11):\n",
    "                print(f\"## {grant_type} grants ##\")\n",
    "                print(f\"RMSE at eps={e}:\", np.sqrt(np.mean(error**2)))\n",
    "                print(f\"RMSE prop eps={e}:\", sum(abs(error_prop)))\n",
    "                print(f\"Total misalloc at eps={e}:\", sum(abs(error)))\n",
    "                print(\"Total true alloc:\", sum(alloc[f\"true_grant_{grant_type}\"]))\n",
    "        \n",
    "            if grant_type == \"total\":\n",
    "                mse.append(np.sqrt(sum(error**2)/alloc.shape[0]))\n",
    "    \n",
    "    grant_type = \"total\"\n",
    "    plt.plot(eps, mse)\n",
    "    ax = plt.gca()\n",
    "    ax.set_xscale('log')\n",
    "    plt.xlabel(\"Epsilon\")\n",
    "    plt.ylabel(f\"{grant_type} grant RMSE, nationally\")\n",
    "    plt.show()\n",
    "\n",
    "    for i in [0, 25, -2]:\n",
    "        e = eps[i]\n",
    "        alloc = allocations[i][allocations[i][\"State Postal Code\"] == \"MI\"]\n",
    "        alloc = alloc.sort_values(f\"true_grant_{grant_type}\")\n",
    "        ids = alloc.index.get_level_values(\"id\").astype('str')\n",
    "        plt.scatter(ids, alloc[f\"est_grant_{grant_type}\"]/sum(alloc[f\"est_grant_{grant_type}\"]), s=2, alpha=0.3, label=f\"eps={e}\")\n",
    "    plt.scatter(ids, alloc[f\"true_grant_{grant_type}\"]/sum(alloc[f\"true_grant_{grant_type}\"]), s=2, alpha=0.3, label=\"true\")\n",
    "    ax = plt.gca()\n",
    "    ax.legend()\n",
    "    ax.axes.xaxis.set_ticks([])\n",
    "    ax.set_yscale('log')\n",
    "    plt.xlabel(\"District (sorted by true alloc)\")\n",
    "    plt.ylabel(\"Allocation as % of total\")\n",
    "    plt.title(f\"{grant_type} grants for Michigan\")\n",
    "    plt.show()\n",
    "\n",
    "    for i in [0, 25, -2]:\n",
    "        e = eps[i]\n",
    "        alloc = allocations[i][allocations[i][\"State Postal Code\"] == \"MI\"]\n",
    "        alloc['err_prop'] = (alloc[f\"est_grant_{grant_type}\"]/sum(alloc[f\"est_grant_{grant_type}\"]) - alloc[f\"true_grant_{grant_type}\"]/sum(alloc[f\"true_grant_{grant_type}\"])) * 1e6\n",
    "        plt.scatter(alloc[f\"true_grant_{grant_type}\"]/sum(alloc[f\"true_grant_{grant_type}\"]), alloc.err_prop, s=3, alpha=0.4, label=f\"eps={e}\")\n",
    "    ax = plt.gca()\n",
    "    ax.legend()\n",
    "    ax.set_xscale('log')\n",
    "    ax.set_yscale('log')\n",
    "    plt.xlabel(\"True allocation as % of total\")\n",
    "    plt.ylabel(\"Misallocation per million as % of total\")\n",
    "    plt.title(f\"{grant_type} grants for Michigan\")\n",
    "    plt.show()\n",
    "\n",
    "test_params(saipe, Laplace, eps=[0.1, 1.0], delta=[0.0]).head()"
   ]
  },
  {
   "cell_type": "code",
   "execution_count": 14,
   "id": "84037b74",
   "metadata": {},
   "outputs": [
    {
     "name": "stdout",
     "output_type": "stream",
     "text": [
      "5 iters:\n",
      "0 1 2 3 4 "
     ]
    }
   ],
   "source": [
    "results = test_params(saipe, Laplace, eps=[0.1, 1.0, 5.0, 10.0, 20.0])\n",
    "results.to_csv(\"../results/titlei_laplace.csv\")"
   ]
  },
  {
   "cell_type": "markdown",
   "id": "4d8aa763",
   "metadata": {
    "jp-MarkdownHeadingCollapsed": true,
    "tags": []
   },
   "source": [
    "### Sanity check: using Abowd's method\n",
    "\n",
    "Abowd reported a mean squared SPPE of 20 million from 2014-15 data."
   ]
  },
  {
   "cell_type": "code",
   "execution_count": 13,
   "id": "330e4451",
   "metadata": {},
   "outputs": [
    {
     "name": "stdout",
     "output_type": "stream",
     "text": [
      "[WARN] Dropping districts with missing SPPE data: ['Puerto Rico']\n",
      "Mean Sq. SPPE (2018): 26235395.69087739\n"
     ]
    }
   ],
   "source": [
    "grants = funding(AbowdAllocator, saipe, Laplace(saipe, 2.52, 0), get_sppe(\"../data/sppe18.xlsx\"))\n",
    "print(\"Mean Sq. SPPE (2018):\", np.mean(grants.adj_sppe**2))"
   ]
  },
  {
   "cell_type": "markdown",
   "id": "bbbcc735",
   "metadata": {},
   "source": [
    "They also report an RMSE at e=2.52 of 2509 (again, using 2014-15 Common Core data, which I can't replicate) and 1334 at e=4.74 and 63000 at e=0.1. "
   ]
  },
  {
   "cell_type": "code",
   "execution_count": 14,
   "id": "61e01951",
   "metadata": {},
   "outputs": [
    {
     "data": {
      "text/plain": [
       "2832.7968391709787"
      ]
     },
     "execution_count": 14,
     "metadata": {},
     "output_type": "execute_result"
    }
   ],
   "source": [
    "# RMSE\n",
    "error = grants.true_allocation - grants.est_allocation\n",
    "np.sqrt(np.mean(error**2))"
   ]
  },
  {
   "cell_type": "code",
   "execution_count": 15,
   "id": "c748eb1c",
   "metadata": {},
   "outputs": [
    {
     "name": "stdout",
     "output_type": "stream",
     "text": [
      "Total misalloc at eps=2.52: 26137647.773587536\n"
     ]
    }
   ],
   "source": [
    "print(\"Total misalloc at eps=2.52:\", sum(abs(error)))"
   ]
  },
  {
   "cell_type": "code",
   "execution_count": 16,
   "id": "01b69fcb",
   "metadata": {},
   "outputs": [
    {
     "name": "stdout",
     "output_type": "stream",
     "text": [
      "[WARN] Dropping districts with missing SPPE data: ['Puerto Rico']\n"
     ]
    },
    {
     "data": {
      "text/plain": [
       "1533.3107606128242"
      ]
     },
     "execution_count": 16,
     "metadata": {},
     "output_type": "execute_result"
    }
   ],
   "source": [
    "grants = funding(AbowdAllocator, saipe, Laplace(saipe, 4.74, 0), get_sppe(\"../data/sppe18.xlsx\"), weighting)\n",
    "error = grants.true_allocation - grants.est_allocation\n",
    "np.sqrt(np.mean(error**2))"
   ]
  },
  {
   "cell_type": "code",
   "execution_count": 17,
   "id": "be0113be",
   "metadata": {},
   "outputs": [
    {
     "name": "stdout",
     "output_type": "stream",
     "text": [
      "[WARN] Dropping districts with missing SPPE data: ['Puerto Rico']\n"
     ]
    },
    {
     "data": {
      "text/plain": [
       "70036.941471052"
      ]
     },
     "execution_count": 17,
     "metadata": {},
     "output_type": "execute_result"
    }
   ],
   "source": [
    "grants = funding(saipe, AbowdAllocator, Laplace(saipe, 0.1, 0), get_sppe(\"../data/sppe18.xlsx\"), weighting)\n",
    "error = grants.true_allocation - grants.est_allocation\n",
    "np.sqrt(np.mean(error**2))"
   ]
  },
  {
   "cell_type": "markdown",
   "id": "96ab5e34",
   "metadata": {},
   "source": [
    "So we get some small differences due to inflation or due to other differences in data, but roughly the same values. Biggest difference is in SPPE - apparenlty spending has increased since 2014."
   ]
  },
  {
   "cell_type": "markdown",
   "id": "835d1b95",
   "metadata": {
    "jp-MarkdownHeadingCollapsed": true,
    "tags": []
   },
   "source": [
    "## Gaussian (Advanced Composition, Approx. DP)\n",
    "\n",
    "Add Gaussian noise ln(1/delta)/epsilon for better accuracy bound."
   ]
  },
  {
   "cell_type": "code",
   "execution_count": 34,
   "id": "b0347b7a",
   "metadata": {
    "tags": []
   },
   "outputs": [
    {
     "name": "stdout",
     "output_type": "stream",
     "text": [
      "510 iters:\n",
      "0 1 2 "
     ]
    },
    {
     "ename": "KeyboardInterrupt",
     "evalue": "",
     "output_type": "error",
     "traceback": [
      "\u001b[0;31m---------------------------------------------------------------------------\u001b[0m",
      "\u001b[0;31mKeyboardInterrupt\u001b[0m                         Traceback (most recent call last)",
      "\u001b[0;32m<ipython-input-34-31f1c11305f6>\u001b[0m in \u001b[0;36m<module>\u001b[0;34m\u001b[0m\n\u001b[1;32m      2\u001b[0m \u001b[0;34m\u001b[0m\u001b[0m\n\u001b[1;32m      3\u001b[0m \u001b[0;31m# with delta = 0\u001b[0m\u001b[0;34m\u001b[0m\u001b[0;34m\u001b[0m\u001b[0;34m\u001b[0m\u001b[0m\n\u001b[0;32m----> 4\u001b[0;31m results = test_params(\n\u001b[0m\u001b[1;32m      5\u001b[0m     \u001b[0msaipe\u001b[0m\u001b[0;34m,\u001b[0m\u001b[0;34m\u001b[0m\u001b[0;34m\u001b[0m\u001b[0m\n\u001b[1;32m      6\u001b[0m     \u001b[0mGaussian\u001b[0m\u001b[0;34m,\u001b[0m\u001b[0;34m\u001b[0m\u001b[0;34m\u001b[0m\u001b[0m\n",
      "\u001b[0;32m<ipython-input-33-a6a2ab4c033b>\u001b[0m in \u001b[0;36mtest_params\u001b[0;34m(saipe, mech, eps, delta)\u001b[0m\n\u001b[1;32m     10\u001b[0m             \u001b[0mprint\u001b[0m\u001b[0;34m(\u001b[0m\u001b[0mi\u001b[0m\u001b[0;34m,\u001b[0m \u001b[0mend\u001b[0m\u001b[0;34m=\u001b[0m\u001b[0;34m\" \"\u001b[0m\u001b[0;34m)\u001b[0m\u001b[0;34m\u001b[0m\u001b[0;34m\u001b[0m\u001b[0m\n\u001b[1;32m     11\u001b[0m             \u001b[0mi\u001b[0m \u001b[0;34m+=\u001b[0m \u001b[0;36m1\u001b[0m\u001b[0;34m\u001b[0m\u001b[0;34m\u001b[0m\u001b[0m\n\u001b[0;32m---> 12\u001b[0;31m             allocations.append(funding(\n\u001b[0m\u001b[1;32m     13\u001b[0m                 \u001b[0mSonnenbergAuthorizer\u001b[0m\u001b[0;34m,\u001b[0m\u001b[0;34m\u001b[0m\u001b[0;34m\u001b[0m\u001b[0m\n\u001b[1;32m     14\u001b[0m                 \u001b[0msaipe\u001b[0m\u001b[0;34m,\u001b[0m\u001b[0;34m\u001b[0m\u001b[0;34m\u001b[0m\u001b[0m\n",
      "\u001b[0;32m~/dp-acs/dp_policy/api.py\u001b[0m in \u001b[0;36mtitlei_funding\u001b[0;34m(allocator, *grants_args, **grants_kwargs)\u001b[0m\n\u001b[1;32m     48\u001b[0m     \"\"\"\n\u001b[1;32m     49\u001b[0m     alloc = allocator(\n\u001b[0;32m---> 50\u001b[0;31m         \u001b[0mtitlei_data\u001b[0m\u001b[0;34m(\u001b[0m\u001b[0;34m*\u001b[0m\u001b[0mgrants_args\u001b[0m\u001b[0;34m,\u001b[0m \u001b[0;34m**\u001b[0m\u001b[0mgrants_kwargs\u001b[0m\u001b[0;34m)\u001b[0m\u001b[0;34m\u001b[0m\u001b[0;34m\u001b[0m\u001b[0m\n\u001b[0m\u001b[1;32m     51\u001b[0m     )\n\u001b[1;32m     52\u001b[0m     \u001b[0;32mreturn\u001b[0m \u001b[0malloc\u001b[0m\u001b[0;34m.\u001b[0m\u001b[0mallocations\u001b[0m\u001b[0;34m(\u001b[0m\u001b[0;34m)\u001b[0m\u001b[0;34m\u001b[0m\u001b[0;34m\u001b[0m\u001b[0m\n",
      "\u001b[0;32m~/dp-acs/dp_policy/api.py\u001b[0m in \u001b[0;36mtitlei_data\u001b[0;34m(saipe, mechanism, sppe, verbose, *mech_args, **mech_kwargs)\u001b[0m\n\u001b[1;32m     12\u001b[0m         \u001b[0;34m\" who are related to the householder\"\u001b[0m\u001b[0;34m:\u001b[0m \u001b[0;34m\"true_children_poverty\"\u001b[0m\u001b[0;34m\u001b[0m\u001b[0;34m\u001b[0m\u001b[0m\n\u001b[1;32m     13\u001b[0m     })\n\u001b[0;32m---> 14\u001b[0;31m     pop_total, children_total, children_poverty = mechanism.poverty_estimates(\n\u001b[0m\u001b[1;32m     15\u001b[0m         \u001b[0;34m*\u001b[0m\u001b[0mmech_args\u001b[0m\u001b[0;34m,\u001b[0m \u001b[0;34m**\u001b[0m\u001b[0mmech_kwargs\u001b[0m\u001b[0;34m\u001b[0m\u001b[0;34m\u001b[0m\u001b[0m\n\u001b[1;32m     16\u001b[0m     )\n",
      "\u001b[0;32m~/dp-acs/dp_policy/titlei/mechanisms.py\u001b[0m in \u001b[0;36mpoverty_estimates\u001b[0;34m(self)\u001b[0m\n\u001b[1;32m     62\u001b[0m         \u001b[0mchildren_total\u001b[0m \u001b[0;34m=\u001b[0m \u001b[0mself\u001b[0m\u001b[0;34m.\u001b[0m\u001b[0msaipe\u001b[0m\u001b[0;34m[\u001b[0m\u001b[0;34m\"Estimated Population 5-17\"\u001b[0m\u001b[0;34m]\u001b[0m\u001b[0;31m\\\u001b[0m\u001b[0;34m\u001b[0m\u001b[0;34m\u001b[0m\u001b[0m\n\u001b[1;32m     63\u001b[0m             \u001b[0;34m.\u001b[0m\u001b[0mapply\u001b[0m\u001b[0;34m(\u001b[0m\u001b[0mself\u001b[0m\u001b[0;34m.\u001b[0m\u001b[0mmechanism\u001b[0m\u001b[0;34m.\u001b[0m\u001b[0mrandomise\u001b[0m\u001b[0;34m)\u001b[0m\u001b[0;34m\u001b[0m\u001b[0;34m\u001b[0m\u001b[0m\n\u001b[0;32m---> 64\u001b[0;31m         children_poverty = self.saipe[\n\u001b[0m\u001b[1;32m     65\u001b[0m             \u001b[0;34m\"Estimated number of relevant children 5 to 17 years old\"\u001b[0m\u001b[0;34m\u001b[0m\u001b[0;34m\u001b[0m\u001b[0m\n\u001b[1;32m     66\u001b[0m             \u001b[0;34m\" in poverty who are related to the householder\"\u001b[0m\u001b[0;34m\u001b[0m\u001b[0;34m\u001b[0m\u001b[0m\n",
      "\u001b[0;32m/opt/miniconda3/envs/dp-acs/lib/python3.9/site-packages/pandas/core/series.py\u001b[0m in \u001b[0;36mapply\u001b[0;34m(self, func, convert_dtype, args, **kwds)\u001b[0m\n\u001b[1;32m   4136\u001b[0m             \u001b[0;32melse\u001b[0m\u001b[0;34m:\u001b[0m\u001b[0;34m\u001b[0m\u001b[0;34m\u001b[0m\u001b[0m\n\u001b[1;32m   4137\u001b[0m                 \u001b[0mvalues\u001b[0m \u001b[0;34m=\u001b[0m \u001b[0mself\u001b[0m\u001b[0;34m.\u001b[0m\u001b[0mastype\u001b[0m\u001b[0;34m(\u001b[0m\u001b[0mobject\u001b[0m\u001b[0;34m)\u001b[0m\u001b[0;34m.\u001b[0m\u001b[0m_values\u001b[0m\u001b[0;34m\u001b[0m\u001b[0;34m\u001b[0m\u001b[0m\n\u001b[0;32m-> 4138\u001b[0;31m                 \u001b[0mmapped\u001b[0m \u001b[0;34m=\u001b[0m \u001b[0mlib\u001b[0m\u001b[0;34m.\u001b[0m\u001b[0mmap_infer\u001b[0m\u001b[0;34m(\u001b[0m\u001b[0mvalues\u001b[0m\u001b[0;34m,\u001b[0m \u001b[0mf\u001b[0m\u001b[0;34m,\u001b[0m \u001b[0mconvert\u001b[0m\u001b[0;34m=\u001b[0m\u001b[0mconvert_dtype\u001b[0m\u001b[0;34m)\u001b[0m\u001b[0;34m\u001b[0m\u001b[0;34m\u001b[0m\u001b[0m\n\u001b[0m\u001b[1;32m   4139\u001b[0m \u001b[0;34m\u001b[0m\u001b[0m\n\u001b[1;32m   4140\u001b[0m         \u001b[0;32mif\u001b[0m \u001b[0mlen\u001b[0m\u001b[0;34m(\u001b[0m\u001b[0mmapped\u001b[0m\u001b[0;34m)\u001b[0m \u001b[0;32mand\u001b[0m \u001b[0misinstance\u001b[0m\u001b[0;34m(\u001b[0m\u001b[0mmapped\u001b[0m\u001b[0;34m[\u001b[0m\u001b[0;36m0\u001b[0m\u001b[0;34m]\u001b[0m\u001b[0;34m,\u001b[0m \u001b[0mSeries\u001b[0m\u001b[0;34m)\u001b[0m\u001b[0;34m:\u001b[0m\u001b[0;34m\u001b[0m\u001b[0;34m\u001b[0m\u001b[0m\n",
      "\u001b[0;32mpandas/_libs/lib.pyx\u001b[0m in \u001b[0;36mpandas._libs.lib.map_infer\u001b[0;34m()\u001b[0m\n",
      "\u001b[0;32m/opt/miniconda3/envs/dp-acs/lib/python3.9/site-packages/diffprivlib/mechanisms/gaussian.py\u001b[0m in \u001b[0;36mrandomise\u001b[0;34m(self, value)\u001b[0m\n\u001b[1;32m    103\u001b[0m             \u001b[0munif_rv2\u001b[0m \u001b[0;34m=\u001b[0m \u001b[0mself\u001b[0m\u001b[0;34m.\u001b[0m\u001b[0m_rng\u001b[0m\u001b[0;34m.\u001b[0m\u001b[0mrandom\u001b[0m\u001b[0;34m(\u001b[0m\u001b[0;34m)\u001b[0m\u001b[0;34m\u001b[0m\u001b[0;34m\u001b[0m\u001b[0m\n\u001b[1;32m    104\u001b[0m \u001b[0;34m\u001b[0m\u001b[0m\n\u001b[0;32m--> 105\u001b[0;31m             \u001b[0mself\u001b[0m\u001b[0;34m.\u001b[0m\u001b[0m_stored_gaussian\u001b[0m \u001b[0;34m=\u001b[0m \u001b[0mnp\u001b[0m\u001b[0;34m.\u001b[0m\u001b[0msqrt\u001b[0m\u001b[0;34m(\u001b[0m\u001b[0;34m-\u001b[0m \u001b[0;36m2\u001b[0m \u001b[0;34m*\u001b[0m \u001b[0mnp\u001b[0m\u001b[0;34m.\u001b[0m\u001b[0mlog\u001b[0m\u001b[0;34m(\u001b[0m\u001b[0munif_rv1\u001b[0m\u001b[0;34m)\u001b[0m\u001b[0;34m)\u001b[0m \u001b[0;34m*\u001b[0m \u001b[0mnp\u001b[0m\u001b[0;34m.\u001b[0m\u001b[0msin\u001b[0m\u001b[0;34m(\u001b[0m\u001b[0;36m2\u001b[0m \u001b[0;34m*\u001b[0m \u001b[0mnp\u001b[0m\u001b[0;34m.\u001b[0m\u001b[0mpi\u001b[0m \u001b[0;34m*\u001b[0m \u001b[0munif_rv2\u001b[0m\u001b[0;34m)\u001b[0m\u001b[0;34m\u001b[0m\u001b[0;34m\u001b[0m\u001b[0m\n\u001b[0m\u001b[1;32m    106\u001b[0m             \u001b[0mstandard_normal\u001b[0m \u001b[0;34m=\u001b[0m \u001b[0mnp\u001b[0m\u001b[0;34m.\u001b[0m\u001b[0msqrt\u001b[0m\u001b[0;34m(\u001b[0m\u001b[0;34m-\u001b[0m \u001b[0;36m2\u001b[0m \u001b[0;34m*\u001b[0m \u001b[0mnp\u001b[0m\u001b[0;34m.\u001b[0m\u001b[0mlog\u001b[0m\u001b[0;34m(\u001b[0m\u001b[0munif_rv1\u001b[0m\u001b[0;34m)\u001b[0m\u001b[0;34m)\u001b[0m \u001b[0;34m*\u001b[0m \u001b[0mnp\u001b[0m\u001b[0;34m.\u001b[0m\u001b[0mcos\u001b[0m\u001b[0;34m(\u001b[0m\u001b[0;36m2\u001b[0m \u001b[0;34m*\u001b[0m \u001b[0mnp\u001b[0m\u001b[0;34m.\u001b[0m\u001b[0mpi\u001b[0m \u001b[0;34m*\u001b[0m \u001b[0munif_rv2\u001b[0m\u001b[0;34m)\u001b[0m\u001b[0;34m\u001b[0m\u001b[0;34m\u001b[0m\u001b[0m\n\u001b[1;32m    107\u001b[0m         \u001b[0;32melse\u001b[0m\u001b[0;34m:\u001b[0m\u001b[0;34m\u001b[0m\u001b[0;34m\u001b[0m\u001b[0m\n",
      "\u001b[0;31mKeyboardInterrupt\u001b[0m: "
     ]
    }
   ],
   "source": [
    "from dp_policy.titlei.mechanisms import Gaussian\n",
    "\n",
    "# with delta = 0\n",
    "results = test_params(\n",
    "    saipe,\n",
    "    Gaussian, \n",
    "    delta=list(np.linspace(0.02, 1, endpoint=False, num=10))\n",
    ")\n",
    "results.to_csv(\"../results/titlei_gaussian.csv\")"
   ]
  },
  {
   "cell_type": "code",
   "execution_count": 15,
   "id": "3004080f",
   "metadata": {
    "tags": []
   },
   "outputs": [],
   "source": [
    "results = pd.read_csv(\"../results/titlei_gaussian.csv\").set_index(['delta', 'epsilon', 'id'])"
   ]
  },
  {
   "cell_type": "code",
   "execution_count": 16,
   "id": "59e9dee2",
   "metadata": {},
   "outputs": [
    {
     "name": "stdout",
     "output_type": "stream",
     "text": [
      "0.216\n"
     ]
    },
    {
     "name": "stderr",
     "output_type": "stream",
     "text": [
      "<ipython-input-9-8cbd37b9144c>:22: SettingWithCopyWarning: \n",
      "A value is trying to be set on a copy of a slice from a DataFrame.\n",
      "Try using .loc[row_indexer,col_indexer] = value instead\n",
      "\n",
      "See the caveats in the documentation: https://pandas.pydata.org/pandas-docs/stable/user_guide/indexing.html#returning-a-view-versus-a-copy\n",
      "  results[\"true_grant_total\"] = results[\"true_grant_basic\"] + results[\"true_grant_concentration\"] + results[\"true_grant_targeted\"]\n",
      "<ipython-input-9-8cbd37b9144c>:23: SettingWithCopyWarning: \n",
      "A value is trying to be set on a copy of a slice from a DataFrame.\n",
      "Try using .loc[row_indexer,col_indexer] = value instead\n",
      "\n",
      "See the caveats in the documentation: https://pandas.pydata.org/pandas-docs/stable/user_guide/indexing.html#returning-a-view-versus-a-copy\n",
      "  results[\"est_grant_total\"] = results[\"est_grant_basic\"] + results[\"est_grant_concentration\"] + results[\"est_grant_targeted\"]\n"
     ]
    },
    {
     "name": "stdout",
     "output_type": "stream",
     "text": [
      "## basic grants ##\n",
      "RMSE at eps=0.1098541141987558: 8883.899858491466\n",
      "RMSE prop eps=0.1098541141987558: 0.0020543672423645044\n",
      "Total misalloc at eps=0.1098541141987558: 81835515.59154107\n",
      "Total true alloc: 39894838662.272514\n",
      "## concentration grants ##\n",
      "RMSE at eps=0.1098541141987558: 71368.89019960957\n",
      "RMSE prop eps=0.1098541141987558: 0.0030989661336924034\n",
      "Total misalloc at eps=0.1098541141987558: 85467600.58049627\n",
      "Total true alloc: 29421416873.03583\n",
      "## targeted grants ##\n",
      "RMSE at eps=0.1098541141987558: 27030.85089421071\n",
      "RMSE prop eps=0.1098541141987558: 0.0019056116072240854\n",
      "Total misalloc at eps=0.1098541141987558: 126872627.07142396\n",
      "Total true alloc: 66729811774.698265\n",
      "## total grants ##\n",
      "RMSE at eps=0.1098541141987558: 80288.6085147622\n",
      "RMSE prop eps=0.1098541141987558: 0.0021839189956948074\n",
      "Total misalloc at eps=0.1098541141987558: 293855078.4112137\n",
      "Total true alloc: 136046067310.00618\n",
      "## basic grants ##\n",
      "RMSE at eps=2.5: 4086.2160340285495\n",
      "RMSE prop eps=2.5: 0.0007420893543783348\n",
      "Total misalloc at eps=2.5: 29013856.378233977\n",
      "Total true alloc: 39894838662.272514\n",
      "## concentration grants ##\n",
      "RMSE at eps=2.5: 27624.79930348162\n",
      "RMSE prop eps=2.5: 0.0008377508225712333\n",
      "Total misalloc at eps=2.5: 23620970.91263596\n",
      "Total true alloc: 29421416873.03583\n",
      "## targeted grants ##\n",
      "RMSE at eps=2.5: 19293.80780210218\n",
      "RMSE prop eps=2.5: 0.0006983058442322067\n",
      "Total misalloc at eps=2.5: 45594146.484921366\n",
      "Total true alloc: 66729811774.698265\n",
      "## total grants ##\n",
      "RMSE at eps=2.5: 35098.72211597776\n",
      "RMSE prop eps=2.5: 0.0007384337273582304\n",
      "Total misalloc at eps=2.5: 97934989.64216971\n",
      "Total true alloc: 136046067310.00618\n"
     ]
    },
    {
     "data": {
      "image/png": "[encoded data removed]",
      "text/plain": [
       "<Figure size 432x288 with 1 Axes>"
      ]
     },
     "metadata": {
      "needs_background": "light"
     },
     "output_type": "display_data"
    },
    {
     "data": {
      "image/png": "[encoded data removed]",
      "text/plain": [
       "<Figure size 432x288 with 1 Axes>"
      ]
     },
     "metadata": {
      "needs_background": "light"
     },
     "output_type": "display_data"
    },
    {
     "name": "stderr",
     "output_type": "stream",
     "text": [
      "<ipython-input-9-8cbd37b9144c>:75: SettingWithCopyWarning: \n",
      "A value is trying to be set on a copy of a slice from a DataFrame.\n",
      "Try using .loc[row_indexer,col_indexer] = value instead\n",
      "\n",
      "See the caveats in the documentation: https://pandas.pydata.org/pandas-docs/stable/user_guide/indexing.html#returning-a-view-versus-a-copy\n",
      "  alloc['err_prop'] = (alloc[f\"est_grant_{grant_type}\"]/sum(alloc[f\"est_grant_{grant_type}\"]) - alloc[f\"true_grant_{grant_type}\"]/sum(alloc[f\"true_grant_{grant_type}\"])) * 1e6\n"
     ]
    },
    {
     "data": {
      "image/png": "[encoded data removed]",
      "text/plain": [
       "<Figure size 432x288 with 1 Axes>"
      ]
     },
     "metadata": {
      "needs_background": "light"
     },
     "output_type": "display_data"
    }
   ],
   "source": [
    "print(results.index.get_level_values('delta').unique()[2])\n",
    "plot_results(results.xs(results.index.get_level_values('delta').unique()[2], level='delta'))"
   ]
  },
  {
   "cell_type": "code",
   "execution_count": 47,
   "id": "5768b9bc",
   "metadata": {},
   "outputs": [
    {
     "name": "stderr",
     "output_type": "stream",
     "text": [
      "<ipython-input-11-d548260ed706>:22: SettingWithCopyWarning: \n",
      "A value is trying to be set on a copy of a slice from a DataFrame.\n",
      "Try using .loc[row_indexer,col_indexer] = value instead\n",
      "\n",
      "See the caveats in the documentation: https://pandas.pydata.org/pandas-docs/stable/user_guide/indexing.html#returning-a-view-versus-a-copy\n",
      "  results[\"true_grant_total\"] = results[\"true_grant_basic\"] + results[\"true_grant_concentration\"] + results[\"true_grant_targeted\"]\n",
      "<ipython-input-11-d548260ed706>:23: SettingWithCopyWarning: \n",
      "A value is trying to be set on a copy of a slice from a DataFrame.\n",
      "Try using .loc[row_indexer,col_indexer] = value instead\n",
      "\n",
      "See the caveats in the documentation: https://pandas.pydata.org/pandas-docs/stable/user_guide/indexing.html#returning-a-view-versus-a-copy\n",
      "  results[\"est_grant_total\"] = results[\"est_grant_basic\"] + results[\"est_grant_concentration\"] + results[\"est_grant_targeted\"]\n"
     ]
    },
    {
     "name": "stdout",
     "output_type": "stream",
     "text": [
      "## basic grants ##\n",
      "RMSE at eps=0.1098541141987558: 3377.3774977616863\n",
      "RMSE prop eps=0.1098541141987558: 0.0005407404945223046\n",
      "Total misalloc at eps=0.1098541141987558: 20978583.22247984\n",
      "Total true alloc: 39894838662.272514\n",
      "## concentration grants ##\n",
      "RMSE at eps=0.1098541141987558: 30070.27682830566\n",
      "RMSE prop eps=0.1098541141987558: 0.0007575002944599678\n",
      "Total misalloc at eps=0.1098541141987558: 21275438.208985526\n",
      "Total true alloc: 29421416873.03583\n",
      "## targeted grants ##\n",
      "RMSE at eps=0.1098541141987558: 13598.354027066682\n",
      "RMSE prop eps=0.1098541141987558: 0.00048711249702892826\n",
      "Total misalloc at eps=0.1098541141987558: 32209050.43305158\n",
      "Total true alloc: 66729811774.698265\n",
      "## total grants ##\n",
      "RMSE at eps=0.1098541141987558: 33986.03635430031\n",
      "RMSE prop eps=0.1098541141987558: 0.0005582405826923902\n",
      "Total misalloc at eps=0.1098541141987558: 74198807.19590445\n",
      "Total true alloc: 136046067310.00618\n",
      "## basic grants ##\n",
      "RMSE at eps=2.5: 3094.24423724078\n",
      "RMSE prop eps=2.5: 0.0004094632761867137\n",
      "Total misalloc at eps=2.5: 15789731.31837391\n",
      "Total true alloc: 39894838662.272514\n",
      "## concentration grants ##\n",
      "RMSE at eps=2.5: 23164.89135112992\n",
      "RMSE prop eps=2.5: 0.000520662111390973\n",
      "Total misalloc at eps=2.5: 15249894.276046686\n",
      "Total true alloc: 29421416873.03583\n",
      "## targeted grants ##\n",
      "RMSE at eps=2.5: 10786.27120241193\n",
      "RMSE prop eps=2.5: 0.0003690269972182392\n",
      "Total misalloc at eps=2.5: 23653690.66834867\n",
      "Total true alloc: 66729811774.698265\n",
      "## total grants ##\n",
      "RMSE at eps=2.5: 26514.362980475053\n",
      "RMSE prop eps=2.5: 0.000411723527864461\n",
      "Total misalloc at eps=2.5: 54456374.898974895\n",
      "Total true alloc: 136046067310.00618\n"
     ]
    },
    {
     "data": {
      "image/png": "[encoded data removed]",
      "text/plain": [
       "<Figure size 432x288 with 1 Axes>"
      ]
     },
     "metadata": {
      "needs_background": "light"
     },
     "output_type": "display_data"
    },
    {
     "data": {
      "image/png": "[encoded data removed]",
      "text/plain": [
       "<Figure size 432x288 with 1 Axes>"
      ]
     },
     "metadata": {
      "needs_background": "light"
     },
     "output_type": "display_data"
    },
    {
     "name": "stderr",
     "output_type": "stream",
     "text": [
      "<ipython-input-11-d548260ed706>:71: SettingWithCopyWarning: \n",
      "A value is trying to be set on a copy of a slice from a DataFrame.\n",
      "Try using .loc[row_indexer,col_indexer] = value instead\n",
      "\n",
      "See the caveats in the documentation: https://pandas.pydata.org/pandas-docs/stable/user_guide/indexing.html#returning-a-view-versus-a-copy\n",
      "  alloc['err_prop'] = (alloc[f\"est_grant_{grant_type}\"]/sum(alloc[f\"est_grant_{grant_type}\"]) - alloc[f\"true_grant_{grant_type}\"]/sum(alloc[f\"true_grant_{grant_type}\"])) * 1e6\n"
     ]
    },
    {
     "data": {
      "image/png": "[encoded data removed]",
      "text/plain": [
       "<Figure size 432x288 with 1 Axes>"
      ]
     },
     "metadata": {
      "needs_background": "light"
     },
     "output_type": "display_data"
    }
   ],
   "source": [
    "plot_results(results.xs(0.804))"
   ]
  },
  {
   "cell_type": "code",
   "execution_count": 135,
   "id": "7916eed3",
   "metadata": {},
   "outputs": [
    {
     "data": {
      "image/png": "[encoded data removed]",
      "text/plain": [
       "<Figure size 432x288 with 2 Axes>"
      ]
     },
     "metadata": {
      "needs_background": "light"
     },
     "output_type": "display_data"
    }
   ],
   "source": [
    "from matplotlib.ticker import FormatStrFormatter\n",
    "\n",
    "results = calc_total(results)\n",
    "eps = list(results.index.get_level_values(\"epsilon\").unique())\n",
    "\n",
    "delts = list(results.index.get_level_values(\"delta\").unique())\n",
    "mse = np.zeros((len(eps), len(delts)))\n",
    "for params, alloc in results.groupby([\"epsilon\", \"delta\"]):\n",
    "    \n",
    "    e, d = params\n",
    "    error = alloc[f\"true_grant_{grant_type}\"]/sum(alloc[f\"true_grant_{grant_type}\"]) \\\n",
    "        - alloc[f\"est_grant_{grant_type}\"]/sum(alloc[f\"est_grant_{grant_type}\"])\n",
    "    mse[eps.index(e), delts.index(d)] = np.sqrt(sum(error**2)/alloc.shape[0])\n",
    "    \n",
    "plt.contourf(eps, delts, mse.transpose(), cmap=\"coolwarm\")\n",
    "ax = plt.gca()\n",
    "ax.set_xscale('log')\n",
    "ax.set_yscale('log')\n",
    "ax.set_yticks([0.05, 0.1, 0.2, 0.8])\n",
    "ax.yaxis.set_major_formatter(FormatStrFormatter(\"%.2f\"))\n",
    "plt.xlim(None, 2.5)\n",
    "plt.xlabel(\"Epsilon\")\n",
    "plt.ylabel(\"Delta\")\n",
    "plt.title(\"RMSE in total grants by privacy setting\")\n",
    "plt.colorbar(label=\"RMSE in total grant share\")\n",
    "plt.show()"
   ]
  },
  {
   "cell_type": "markdown",
   "id": "10abc6d8",
   "metadata": {},
   "source": [
    "# Uncertainty"
   ]
  },
  {
   "cell_type": "markdown",
   "id": "0aaa07bc-d451-4017-b9a3-186bf16ecf09",
   "metadata": {},
   "source": [
    "## Calculating confidence intervals"
   ]
  },
  {
   "cell_type": "markdown",
   "id": "24f04d8a",
   "metadata": {},
   "source": [
    "The simplest approximate measure of uncertainty is given by the Census's median coefficient of varation in the poverty estimates for each district. We can construct a confidence interval for each allocation as follows, ignoring variance due to missing cutoffs (for now) by using the Abowd method."
   ]
  },
  {
   "cell_type": "code",
   "execution_count": 35,
   "id": "f1c38339-2619-4a25-912d-4886e31e616b",
   "metadata": {},
   "outputs": [
    {
     "name": "stdout",
     "output_type": "stream",
     "text": [
      "[WARN] Dropping districts with missing SPPE data: ['Puerto Rico']\n"
     ]
    },
    {
     "data": {
      "image/png": "[encoded data removed]",
      "text/plain": [
       "<Figure size 432x288 with 1 Axes>"
      ]
     },
     "metadata": {
      "needs_background": "light"
     },
     "output_type": "display_data"
    }
   ],
   "source": [
    "from dp_policy.api import titlei_data as data\n",
    "\n",
    "# test with one run of abowd\n",
    "allocator = AbowdAllocator(\n",
    "    data(saipe, Laplace(saipe, 2.52, 0), get_sppe(\"../data/sppe18.xlsx\"))\n",
    ")\n",
    "allocator.calc_alloc()\n",
    "allocator.calc_uncertainty()\n",
    "estimates = allocator.estimates[allocator.estimates[\"State Postal Code\"] == \"MI\"].sort_values(\"true_grant_total\")\n",
    "y = estimates.true_grant_total\n",
    "x = estimates.index.astype('str')\n",
    "ax = plt.gca()\n",
    "\n",
    "plt.plot(x, y, color='green', label=\"True allocation\")\n",
    "ax.fill_between(x, estimates.true_ci_lower, estimates.true_ci_upper, color='b', alpha=0.1, label=\"95% CI, relative error\")\n",
    "ax.axes.xaxis.set_ticks([])\n",
    "ax.set_yscale('log')\n",
    "plt.xlabel(\"District (sorted by true alloc)\")\n",
    "plt.ylabel(\"True allocation (as %)\")\n",
    "plt.title(f\"Grants for Michigan - Abowd\")\n",
    "ax.legend()\n",
    "plt.show()"
   ]
  },
  {
   "cell_type": "code",
   "execution_count": 42,
   "id": "a98814b6-7407-4604-86f9-05289ab90dee",
   "metadata": {},
   "outputs": [
    {
     "name": "stdout",
     "output_type": "stream",
     "text": [
      "[WARN] Dropping districts with missing SPPE data: ['Puerto Rico']\n"
     ]
    },
    {
     "ename": "KeyError",
     "evalue": "'est_grant_basic'",
     "output_type": "error",
     "traceback": [
      "\u001b[0;31m---------------------------------------------------------------------------\u001b[0m",
      "\u001b[0;31mKeyError\u001b[0m                                  Traceback (most recent call last)",
      "\u001b[0;32m/opt/miniconda3/envs/dp-acs/lib/python3.9/site-packages/pandas/core/indexes/base.py\u001b[0m in \u001b[0;36mget_loc\u001b[0;34m(self, key, method, tolerance)\u001b[0m\n\u001b[1;32m   3079\u001b[0m             \u001b[0;32mtry\u001b[0m\u001b[0;34m:\u001b[0m\u001b[0;34m\u001b[0m\u001b[0;34m\u001b[0m\u001b[0m\n\u001b[0;32m-> 3080\u001b[0;31m                 \u001b[0;32mreturn\u001b[0m \u001b[0mself\u001b[0m\u001b[0;34m.\u001b[0m\u001b[0m_engine\u001b[0m\u001b[0;34m.\u001b[0m\u001b[0mget_loc\u001b[0m\u001b[0;34m(\u001b[0m\u001b[0mcasted_key\u001b[0m\u001b[0;34m)\u001b[0m\u001b[0;34m\u001b[0m\u001b[0;34m\u001b[0m\u001b[0m\n\u001b[0m\u001b[1;32m   3081\u001b[0m             \u001b[0;32mexcept\u001b[0m \u001b[0mKeyError\u001b[0m \u001b[0;32mas\u001b[0m \u001b[0merr\u001b[0m\u001b[0;34m:\u001b[0m\u001b[0;34m\u001b[0m\u001b[0;34m\u001b[0m\u001b[0m\n",
      "\u001b[0;32mpandas/_libs/index.pyx\u001b[0m in \u001b[0;36mpandas._libs.index.IndexEngine.get_loc\u001b[0;34m()\u001b[0m\n",
      "\u001b[0;32mpandas/_libs/index.pyx\u001b[0m in \u001b[0;36mpandas._libs.index.IndexEngine.get_loc\u001b[0;34m()\u001b[0m\n",
      "\u001b[0;32mpandas/_libs/hashtable_class_helper.pxi\u001b[0m in \u001b[0;36mpandas._libs.hashtable.PyObjectHashTable.get_item\u001b[0;34m()\u001b[0m\n",
      "\u001b[0;32mpandas/_libs/hashtable_class_helper.pxi\u001b[0m in \u001b[0;36mpandas._libs.hashtable.PyObjectHashTable.get_item\u001b[0;34m()\u001b[0m\n",
      "\u001b[0;31mKeyError\u001b[0m: 'est_grant_basic'",
      "\nThe above exception was the direct cause of the following exception:\n",
      "\u001b[0;31mKeyError\u001b[0m                                  Traceback (most recent call last)",
      "\u001b[0;32m<ipython-input-42-240bdc653c51>\u001b[0m in \u001b[0;36m<module>\u001b[0;34m\u001b[0m\n\u001b[1;32m      3\u001b[0m     \u001b[0mdata\u001b[0m\u001b[0;34m(\u001b[0m\u001b[0msaipe\u001b[0m\u001b[0;34m,\u001b[0m \u001b[0mLaplace\u001b[0m\u001b[0;34m(\u001b[0m\u001b[0msaipe\u001b[0m\u001b[0;34m,\u001b[0m \u001b[0;36m2.52\u001b[0m\u001b[0;34m,\u001b[0m \u001b[0;36m0\u001b[0m\u001b[0;34m)\u001b[0m\u001b[0;34m,\u001b[0m \u001b[0mget_sppe\u001b[0m\u001b[0;34m(\u001b[0m\u001b[0;34m\"../data/sppe18.xlsx\"\u001b[0m\u001b[0;34m)\u001b[0m\u001b[0;34m)\u001b[0m\u001b[0;34m\u001b[0m\u001b[0;34m\u001b[0m\u001b[0m\n\u001b[1;32m      4\u001b[0m )\n\u001b[0;32m----> 5\u001b[0;31m \u001b[0mallocator\u001b[0m\u001b[0;34m.\u001b[0m\u001b[0mcalc_alloc\u001b[0m\u001b[0;34m(\u001b[0m\u001b[0;34m)\u001b[0m\u001b[0;34m\u001b[0m\u001b[0;34m\u001b[0m\u001b[0m\n\u001b[0m\u001b[1;32m      6\u001b[0m \u001b[0mallocator\u001b[0m\u001b[0;34m.\u001b[0m\u001b[0mcalc_uncertainty\u001b[0m\u001b[0;34m(\u001b[0m\u001b[0;34m)\u001b[0m\u001b[0;34m\u001b[0m\u001b[0;34m\u001b[0m\u001b[0m\n\u001b[1;32m      7\u001b[0m \u001b[0;34m\u001b[0m\u001b[0m\n",
      "\u001b[0;32m~/dp-acs/dp_policy/titlei/allocators.py\u001b[0m in \u001b[0;36mcalc_alloc\u001b[0;34m(self)\u001b[0m\n\u001b[1;32m    132\u001b[0m             \u001b[0;31m# TODO\u001b[0m\u001b[0;34m\u001b[0m\u001b[0;34m\u001b[0m\u001b[0;34m\u001b[0m\u001b[0m\n\u001b[1;32m    133\u001b[0m \u001b[0;34m\u001b[0m\u001b[0m\n\u001b[0;32m--> 134\u001b[0;31m             \u001b[0mself\u001b[0m\u001b[0;34m.\u001b[0m\u001b[0mestimates\u001b[0m \u001b[0;34m=\u001b[0m \u001b[0mSonnenbergAuthorizer\u001b[0m\u001b[0;34m.\u001b[0m\u001b[0mcalc_total\u001b[0m\u001b[0;34m(\u001b[0m\u001b[0mself\u001b[0m\u001b[0;34m.\u001b[0m\u001b[0mestimates\u001b[0m\u001b[0;34m)\u001b[0m\u001b[0;34m\u001b[0m\u001b[0;34m\u001b[0m\u001b[0m\n\u001b[0m\u001b[1;32m    135\u001b[0m \u001b[0;34m\u001b[0m\u001b[0m\n\u001b[1;32m    136\u001b[0m     \u001b[0;32mdef\u001b[0m \u001b[0mcalc_uncertainty\u001b[0m\u001b[0;34m(\u001b[0m\u001b[0mself\u001b[0m\u001b[0;34m,\u001b[0m \u001b[0malpha\u001b[0m\u001b[0;34m=\u001b[0m\u001b[0;36m0.05\u001b[0m\u001b[0;34m)\u001b[0m\u001b[0;34m:\u001b[0m\u001b[0;34m\u001b[0m\u001b[0;34m\u001b[0m\u001b[0m\n",
      "\u001b[0;32m~/dp-acs/dp_policy/titlei/allocators.py\u001b[0m in \u001b[0;36mcalc_total\u001b[0;34m(results)\u001b[0m\n\u001b[1;32m    155\u001b[0m             \u001b[0mresults\u001b[0m\u001b[0;34m[\u001b[0m\u001b[0;34m\"true_grant_targeted\"\u001b[0m\u001b[0;34m]\u001b[0m\u001b[0;34m\u001b[0m\u001b[0;34m\u001b[0m\u001b[0m\n\u001b[1;32m    156\u001b[0m         \u001b[0mresults\u001b[0m\u001b[0;34m[\u001b[0m\u001b[0;34m\"est_grant_total\"\u001b[0m\u001b[0;34m]\u001b[0m \u001b[0;34m=\u001b[0m\u001b[0;31m \u001b[0m\u001b[0;31m\\\u001b[0m\u001b[0;34m\u001b[0m\u001b[0;34m\u001b[0m\u001b[0m\n\u001b[0;32m--> 157\u001b[0;31m             \u001b[0mresults\u001b[0m\u001b[0;34m[\u001b[0m\u001b[0;34m\"est_grant_basic\"\u001b[0m\u001b[0;34m]\u001b[0m \u001b[0;34m+\u001b[0m\u001b[0;31m \u001b[0m\u001b[0;31m\\\u001b[0m\u001b[0;34m\u001b[0m\u001b[0;34m\u001b[0m\u001b[0m\n\u001b[0m\u001b[1;32m    158\u001b[0m             \u001b[0mresults\u001b[0m\u001b[0;34m[\u001b[0m\u001b[0;34m\"est_grant_concentration\"\u001b[0m\u001b[0;34m]\u001b[0m \u001b[0;34m+\u001b[0m\u001b[0;31m \u001b[0m\u001b[0;31m\\\u001b[0m\u001b[0;34m\u001b[0m\u001b[0;34m\u001b[0m\u001b[0m\n\u001b[1;32m    159\u001b[0m             \u001b[0mresults\u001b[0m\u001b[0;34m[\u001b[0m\u001b[0;34m\"est_grant_targeted\"\u001b[0m\u001b[0;34m]\u001b[0m\u001b[0;34m\u001b[0m\u001b[0;34m\u001b[0m\u001b[0m\n",
      "\u001b[0;32m/opt/miniconda3/envs/dp-acs/lib/python3.9/site-packages/pandas/core/frame.py\u001b[0m in \u001b[0;36m__getitem__\u001b[0;34m(self, key)\u001b[0m\n\u001b[1;32m   3022\u001b[0m             \u001b[0;32mif\u001b[0m \u001b[0mself\u001b[0m\u001b[0;34m.\u001b[0m\u001b[0mcolumns\u001b[0m\u001b[0;34m.\u001b[0m\u001b[0mnlevels\u001b[0m \u001b[0;34m>\u001b[0m \u001b[0;36m1\u001b[0m\u001b[0;34m:\u001b[0m\u001b[0;34m\u001b[0m\u001b[0;34m\u001b[0m\u001b[0m\n\u001b[1;32m   3023\u001b[0m                 \u001b[0;32mreturn\u001b[0m \u001b[0mself\u001b[0m\u001b[0;34m.\u001b[0m\u001b[0m_getitem_multilevel\u001b[0m\u001b[0;34m(\u001b[0m\u001b[0mkey\u001b[0m\u001b[0;34m)\u001b[0m\u001b[0;34m\u001b[0m\u001b[0;34m\u001b[0m\u001b[0m\n\u001b[0;32m-> 3024\u001b[0;31m             \u001b[0mindexer\u001b[0m \u001b[0;34m=\u001b[0m \u001b[0mself\u001b[0m\u001b[0;34m.\u001b[0m\u001b[0mcolumns\u001b[0m\u001b[0;34m.\u001b[0m\u001b[0mget_loc\u001b[0m\u001b[0;34m(\u001b[0m\u001b[0mkey\u001b[0m\u001b[0;34m)\u001b[0m\u001b[0;34m\u001b[0m\u001b[0;34m\u001b[0m\u001b[0m\n\u001b[0m\u001b[1;32m   3025\u001b[0m             \u001b[0;32mif\u001b[0m \u001b[0mis_integer\u001b[0m\u001b[0;34m(\u001b[0m\u001b[0mindexer\u001b[0m\u001b[0;34m)\u001b[0m\u001b[0;34m:\u001b[0m\u001b[0;34m\u001b[0m\u001b[0;34m\u001b[0m\u001b[0m\n\u001b[1;32m   3026\u001b[0m                 \u001b[0mindexer\u001b[0m \u001b[0;34m=\u001b[0m \u001b[0;34m[\u001b[0m\u001b[0mindexer\u001b[0m\u001b[0;34m]\u001b[0m\u001b[0;34m\u001b[0m\u001b[0;34m\u001b[0m\u001b[0m\n",
      "\u001b[0;32m/opt/miniconda3/envs/dp-acs/lib/python3.9/site-packages/pandas/core/indexes/base.py\u001b[0m in \u001b[0;36mget_loc\u001b[0;34m(self, key, method, tolerance)\u001b[0m\n\u001b[1;32m   3080\u001b[0m                 \u001b[0;32mreturn\u001b[0m \u001b[0mself\u001b[0m\u001b[0;34m.\u001b[0m\u001b[0m_engine\u001b[0m\u001b[0;34m.\u001b[0m\u001b[0mget_loc\u001b[0m\u001b[0;34m(\u001b[0m\u001b[0mcasted_key\u001b[0m\u001b[0;34m)\u001b[0m\u001b[0;34m\u001b[0m\u001b[0;34m\u001b[0m\u001b[0m\n\u001b[1;32m   3081\u001b[0m             \u001b[0;32mexcept\u001b[0m \u001b[0mKeyError\u001b[0m \u001b[0;32mas\u001b[0m \u001b[0merr\u001b[0m\u001b[0;34m:\u001b[0m\u001b[0;34m\u001b[0m\u001b[0;34m\u001b[0m\u001b[0m\n\u001b[0;32m-> 3082\u001b[0;31m                 \u001b[0;32mraise\u001b[0m \u001b[0mKeyError\u001b[0m\u001b[0;34m(\u001b[0m\u001b[0mkey\u001b[0m\u001b[0;34m)\u001b[0m \u001b[0;32mfrom\u001b[0m \u001b[0merr\u001b[0m\u001b[0;34m\u001b[0m\u001b[0;34m\u001b[0m\u001b[0m\n\u001b[0m\u001b[1;32m   3083\u001b[0m \u001b[0;34m\u001b[0m\u001b[0m\n\u001b[1;32m   3084\u001b[0m         \u001b[0;32mif\u001b[0m \u001b[0mtolerance\u001b[0m \u001b[0;32mis\u001b[0m \u001b[0;32mnot\u001b[0m \u001b[0;32mNone\u001b[0m\u001b[0;34m:\u001b[0m\u001b[0;34m\u001b[0m\u001b[0;34m\u001b[0m\u001b[0m\n",
      "\u001b[0;31mKeyError\u001b[0m: 'est_grant_basic'"
     ]
    }
   ],
   "source": [
    "# test with one run of Sonnenberg\n",
    "allocator = SonnenbergAuthorizer(\n",
    "    data(saipe, Laplace(saipe, 2.52, 0), get_sppe(\"../data/sppe18.xlsx\"))\n",
    ")\n",
    "allocator.calc_alloc()\n",
    "allocator.calc_uncertainty()\n",
    "\n",
    "estimates = allocator.estimates[allocator.estimates[\"State Postal Code\"] == \"MI\"].sort_values(\"true_grant_total\")\n",
    "y = estimates.true_grant_basic\n",
    "x = estimates.index.astype('str')\n",
    "ax = plt.gca()\n",
    "\n",
    "plt.plot(x, y, color='green', label=\"True allocation\")\n",
    "ax.fill_between(x, estimates.true_grant_basic_ci_lower, estimates.true_grant_basic_ci_upper, color='b', alpha=0.1, label=\"95% CI, relative error\")\n",
    "ax.axes.xaxis.set_ticks([])\n",
    "ax.set_yscale('log')\n",
    "plt.xlabel(\"District (sorted by true alloc)\")\n",
    "plt.ylabel(\"True allocation (as %)\")\n",
    "plt.title(f\"Grants for Michigan - Abowd\")\n",
    "ax.legend()\n",
    "plt.show()"
   ]
  },
  {
   "cell_type": "markdown",
   "id": "f2218065-1545-44eb-819e-5e22bcd60ab5",
   "metadata": {},
   "source": [
    "## Results"
   ]
  },
  {
   "cell_type": "code",
   "execution_count": 6,
   "id": "c2c8d378",
   "metadata": {
    "tags": []
   },
   "outputs": [
    {
     "name": "stdout",
     "output_type": "stream",
     "text": [
      "[WARN] Dropping districts with missing SPPE data: ['Puerto Rico']\n",
      "[WARN] Dropping districts with missing SPPE data: ['Puerto Rico']\n",
      "[WARN] Dropping districts with missing SPPE data: ['Puerto Rico']\n",
      "[WARN] Dropping districts with missing SPPE data: ['Puerto Rico']\n",
      "[WARN] Dropping districts with missing SPPE data: ['Puerto Rico']\n",
      "[WARN] Dropping districts with missing SPPE data: ['Puerto Rico']\n",
      "[WARN] Dropping districts with missing SPPE data: ['Puerto Rico']\n",
      "[WARN] Dropping districts with missing SPPE data: ['Puerto Rico']\n",
      "[WARN] Dropping districts with missing SPPE data: ['Puerto Rico']\n",
      "[WARN] Dropping districts with missing SPPE data: ['Puerto Rico']\n"
     ]
    }
   ],
   "source": [
    "from dp_policy.titlei.mechanisms import Gaussian, Laplace\n",
    "\n",
    "# 100 trials of DP\n",
    "trials_laplace = []\n",
    "trials_gaussian = []\n",
    "for i in range(5):\n",
    "    trials_laplace.append(funding(saipe, AbowdAllocator, Laplace(saipe, 2.52, 0), get_sppe(\"../data/sppe18.xlsx\")))\n",
    "    trials_gaussian.append(funding(saipe, AbowdAllocator, Gaussian(saipe, 2.52, 0.8), get_sppe(\"../data/sppe18.xlsx\")))"
   ]
  },
  {
   "cell_type": "code",
   "execution_count": 35,
   "id": "9c8538c3-7888-4eca-baac-9a5846c635a1",
   "metadata": {},
   "outputs": [],
   "source": [
    "import pickle\n",
    "\n",
    "pickle.dump(trials_gaussian, open('../results/uncertainty_gaussian_abowd.pkl', 'wb'))\n",
    "pickle.dump(trials_laplace, open('../results/uncertainty_laplace_abowd.pkl', 'wb'))"
   ]
  },
  {
   "cell_type": "code",
   "execution_count": 5,
   "id": "bd9123f9-3829-495f-a11a-9b1c28aa811b",
   "metadata": {},
   "outputs": [],
   "source": [
    "import pickle\n",
    "\n",
    "trials_gaussian = pickle.load( open('../results/uncertainty_gaussian_abowd.pkl', 'rb'))\n",
    "trials_laplace = pickle.load( open('../results/uncertainty_laplace_abowd.pkl', 'rb'))"
   ]
  },
  {
   "cell_type": "code",
   "execution_count": 13,
   "id": "51eca218",
   "metadata": {},
   "outputs": [
    {
     "data": {
      "image/png": "[encoded data removed]",
      "text/plain": [
       "<Figure size 432x288 with 1 Axes>"
      ]
     },
     "metadata": {
      "needs_background": "light"
     },
     "output_type": "display_data"
    },
    {
     "data": {
      "image/png": "[encoded data removed]",
      "text/plain": [
       "<Figure size 432x288 with 1 Axes>"
      ]
     },
     "metadata": {
      "needs_background": "light"
     },
     "output_type": "display_data"
    }
   ],
   "source": [
    "import scipy.stats as stats\n",
    "\n",
    "def plot_uncertainty(grants, grants_other=None, state=\"MI\", alpha=0.05):\n",
    "    z = stats.norm.ppf(1-alpha/2)\n",
    "    \n",
    "    grants = [\n",
    "        sample[sample[\"State Postal Code\"] == state].sort_values(\"true_grant_total\")\n",
    "        for sample in grants\n",
    "    ]\n",
    "    baseline = grants[0]\n",
    "    x = baseline.index.astype('str')\n",
    "    y = baseline.true_grant_total / sum(baseline.true_grant_total)\n",
    "    ax = plt.gca()\n",
    "    plt.plot(x, y, color='green', label=\"True allocation\")\n",
    "    \n",
    "    # CI from relative error - 95% of samples differ by at most this much\n",
    "    prop_ci = z * baseline.cv * y\n",
    "    ax.fill_between(x, (y-prop_ci), (y+prop_ci), color='b', alpha=0.1, label=\"95% CI, relative error\")\n",
    "    \n",
    "    # percentile interval from DP (bootstrapping) - 95% of samples differed by at most this much\n",
    "    samples = [\n",
    "        y - sample.est_grant_total / sum(sample.est_grant_total)\n",
    "        for sample in grants\n",
    "    ]\n",
    "    # compute percentiles for each district across trials\n",
    "    ci_lower = np.percentile(samples, alpha/2, axis=0)\n",
    "    ci_upper = np.percentile(samples, 1-alpha/2, axis=0)\n",
    "    ax.fill_between(x, y - prop_ci, y - prop_ci - ci_lower, color='r', alpha=0.1, label=\"95% CI, marginal DP error\")\n",
    "    ax.fill_between(x, y + prop_ci, y + prop_ci + ci_upper, color='r', alpha=0.1, label=\"95% CI, marginal DP error\")\n",
    "    \n",
    "\n",
    "    ax.axes.xaxis.set_ticks([])\n",
    "    ax.set_yscale('log')\n",
    "    plt.xlabel(\"District (sorted by true alloc)\")\n",
    "    plt.ylabel(\"True allocation (as %)\")\n",
    "    plt.title(f\"Grants for Michigan\")\n",
    "    ax.legend()\n",
    "    plt.show()\n",
    "    \n",
    "    if grants_other is not None:\n",
    "        grants_other = [\n",
    "            sample[sample[\"State Postal Code\"] == state].sort_values(\"true_grant_total\")\n",
    "            for sample in grants_other\n",
    "        ]\n",
    "        samples_other = [\n",
    "            sample.true_grant_total / sum(sample.true_grant_total) - sample.est_grant_total / sum(sample.est_grant_total)\n",
    "            for sample in grants_other\n",
    "        ]\n",
    "        plt.scatter(\n",
    "            x, \n",
    "            np.percentile(samples_other, 1-alpha/2, axis=0) - np.percentile(samples_other, alpha/2, axis=0),\n",
    "            s=10, color='orchid', label=\"Gaussian (bootstrap)\"\n",
    "        )\n",
    "    y = np.abs(ci_upper - ci_lower)\n",
    "    plt.scatter(x, y, s=10, color='orange', label=\"Laplace (bootstrap)\")\n",
    "        \n",
    "    ax = plt.gca()\n",
    "    ci = 2 * z * baseline.cv * baseline.true_grant_total\n",
    "    ax.fill_between(x, ci, color='b', alpha=0.1, label=\"Relative error (CV)\")\n",
    "\n",
    "    ax.axes.xaxis.set_ticks([])\n",
    "    ax.set_yscale('log')\n",
    "    plt.xlabel(\"District (sorted by true alloc)\")\n",
    "    plt.ylabel(\"Magnitude of 95% CI\")\n",
    "    plt.title(f\"Grants for {state}\")\n",
    "    ax.legend()\n",
    "    plt.show()\n",
    "\n",
    "plot_uncertainty(trials_laplace, trials_gaussian)\n",
    "# plot_uncertainty(grants_laplace)"
   ]
  },
  {
   "cell_type": "markdown",
   "id": "7a72608d-1c12-4e56-bfa4-d3c4cfbdf872",
   "metadata": {},
   "source": [
    "# Discrimination\n",
    "## Data\n",
    "Using 2014-2018 ACS race data by school district from the NCES. See notes for more details.\n",
    "\n",
    "Data for just the total child population"
   ]
  },
  {
   "cell_type": "code",
   "execution_count": 121,
   "id": "39a172f4",
   "metadata": {},
   "outputs": [
    {
     "name": "stdout",
     "output_type": "stream",
     "text": [
      "(11721, 256)\n",
      "(11720, 340)\n"
     ]
    },
    {
     "name": "stderr",
     "output_type": "stream",
     "text": [
      "/opt/miniconda3/envs/dp-acs/lib/python3.9/site-packages/IPython/core/interactiveshell.py:3357: DtypeWarning: Columns (183,184,185,186) have mixed types.Specify dtype option on import or set low_memory=False.\n",
      "  if (await self.run_code(code, result,  async_=asy)):\n"
     ]
    },
    {
     "name": "stdout",
     "output_type": "stream",
     "text": [
      "(11721, 202)\n",
      "(11721, 202)\n"
     ]
    }
   ],
   "source": [
    "from dp_policy.titlei.utils import get_acs_data\n",
    "\n",
    "demographics = get_acs_data(\n",
    "    \"../data/discrimination/CDP05.txt\",\n",
    "    \"demo\"\n",
    ")\n",
    "print(demographics.shape)\n",
    "social = get_acs_data(\n",
    "    \"../data/discrimination/CDP02.txt\",\n",
    "    \"social\"\n",
    ")\n",
    "print(social.shape)\n",
    "economic = get_acs_data(\n",
    "    \"../data/discrimination/CDP03.txt\",\n",
    "    \"social\"\n",
    ")\n",
    "print(economic.shape)\n",
    "housing = get_acs_data(\n",
    "    \"../data/discrimination/CDP03.txt\",\n",
    "    \"housing\"\n",
    ")\n",
    "print(housing.shape)"
   ]
  },
  {
   "cell_type": "code",
   "execution_count": 122,
   "id": "9f85b465-231f-4e2d-b2d6-50d43488e5e7",
   "metadata": {},
   "outputs": [
    {
     "name": "stdout",
     "output_type": "stream",
     "text": [
      "(11720, 1000)\n"
     ]
    }
   ],
   "source": [
    "acs = demographics.join(social, lsuffix=\"demo\", rsuffix=\"social\", how=\"inner\")\\\n",
    "    .join(economic, rsuffix=\"econ\", how=\"inner\")\\\n",
    "    .join(housing, rsuffix=\"housing\", how=\"inner\")\n",
    "print(acs.shape)"
   ]
  },
  {
   "cell_type": "code",
   "execution_count": 123,
   "id": "9c20deda",
   "metadata": {},
   "outputs": [],
   "source": [
    "saipe = get_saipe(\"../data/saipe19.xls\")\n",
    "saipe = saipe.join(acs, how=\"inner\")"
   ]
  },
  {
   "cell_type": "code",
   "execution_count": 127,
   "id": "dd075f0c-856c-4d9b-843a-97873ffc78df",
   "metadata": {
    "collapsed": true,
    "jupyter": {
     "outputs_hidden": true
    },
    "tags": []
   },
   "outputs": [
    {
     "name": "stdout",
     "output_type": "stream",
     "text": [
      "9 iters:\n",
      "0 1 2 3 4 5 6 "
     ]
    },
    {
     "ename": "KeyboardInterrupt",
     "evalue": "",
     "output_type": "error",
     "traceback": [
      "\u001b[0;31m---------------------------------------------------------------------------\u001b[0m",
      "\u001b[0;31mKeyboardInterrupt\u001b[0m                         Traceback (most recent call last)",
      "\u001b[0;32m<ipython-input-127-f08e0e8bf8e7>\u001b[0m in \u001b[0;36m<module>\u001b[0;34m\u001b[0m\n\u001b[1;32m      1\u001b[0m \u001b[0;32mfrom\u001b[0m \u001b[0mdp_policy\u001b[0m\u001b[0;34m.\u001b[0m\u001b[0mtitlei\u001b[0m\u001b[0;34m.\u001b[0m\u001b[0mmechanisms\u001b[0m \u001b[0;32mimport\u001b[0m \u001b[0mGaussian\u001b[0m\u001b[0;34m\u001b[0m\u001b[0;34m\u001b[0m\u001b[0m\n\u001b[1;32m      2\u001b[0m \u001b[0;34m\u001b[0m\u001b[0m\n\u001b[0;32m----> 3\u001b[0;31m results = test_params(\n\u001b[0m\u001b[1;32m      4\u001b[0m     \u001b[0msaipe\u001b[0m\u001b[0;34m,\u001b[0m\u001b[0;34m\u001b[0m\u001b[0;34m\u001b[0m\u001b[0m\n\u001b[1;32m      5\u001b[0m     \u001b[0mGaussian\u001b[0m\u001b[0;34m,\u001b[0m\u001b[0;34m\u001b[0m\u001b[0;34m\u001b[0m\u001b[0m\n",
      "\u001b[0;32m<ipython-input-21-ff7ab95f341c>\u001b[0m in \u001b[0;36mtest_params\u001b[0;34m(saipe, mech, eps, delta)\u001b[0m\n\u001b[1;32m      9\u001b[0m             \u001b[0mprint\u001b[0m\u001b[0;34m(\u001b[0m\u001b[0mi\u001b[0m\u001b[0;34m,\u001b[0m \u001b[0mend\u001b[0m\u001b[0;34m=\u001b[0m\u001b[0;34m\" \"\u001b[0m\u001b[0;34m)\u001b[0m\u001b[0;34m\u001b[0m\u001b[0;34m\u001b[0m\u001b[0m\n\u001b[1;32m     10\u001b[0m             \u001b[0mi\u001b[0m \u001b[0;34m+=\u001b[0m \u001b[0;36m1\u001b[0m\u001b[0;34m\u001b[0m\u001b[0;34m\u001b[0m\u001b[0m\n\u001b[0;32m---> 11\u001b[0;31m             allocations.append(funding(\n\u001b[0m\u001b[1;32m     12\u001b[0m                 \u001b[0msaipe\u001b[0m\u001b[0;34m,\u001b[0m\u001b[0;34m\u001b[0m\u001b[0;34m\u001b[0m\u001b[0m\n\u001b[1;32m     13\u001b[0m                 \u001b[0mSonnenbergAuthorizer\u001b[0m\u001b[0;34m,\u001b[0m\u001b[0;34m\u001b[0m\u001b[0;34m\u001b[0m\u001b[0m\n",
      "\u001b[0;32m~/dp-acs/dp_policy/api.py\u001b[0m in \u001b[0;36mtitlei_funding\u001b[0;34m(saipe, allocator, mechanism, sppe, weighting, verbose, *mech_args, **mech_kwargs)\u001b[0m\n\u001b[1;32m     42\u001b[0m     \u001b[0malloc\u001b[0m \u001b[0;34m=\u001b[0m \u001b[0mallocator\u001b[0m\u001b[0;34m(\u001b[0m\u001b[0mgrants\u001b[0m\u001b[0;34m)\u001b[0m\u001b[0;34m\u001b[0m\u001b[0;34m\u001b[0m\u001b[0m\n\u001b[1;32m     43\u001b[0m \u001b[0;34m\u001b[0m\u001b[0m\n\u001b[0;32m---> 44\u001b[0;31m     \u001b[0;32mreturn\u001b[0m \u001b[0malloc\u001b[0m\u001b[0;34m.\u001b[0m\u001b[0mallocations\u001b[0m\u001b[0;34m(\u001b[0m\u001b[0;34m)\u001b[0m\u001b[0;34m\u001b[0m\u001b[0;34m\u001b[0m\u001b[0m\n\u001b[0m",
      "\u001b[0;32m~/dp-acs/dp_policy/titlei/allocators.py\u001b[0m in \u001b[0;36mallocations\u001b[0;34m(self)\u001b[0m\n\u001b[1;32m     19\u001b[0m \u001b[0;34m\u001b[0m\u001b[0m\n\u001b[1;32m     20\u001b[0m     \u001b[0;32mdef\u001b[0m \u001b[0mallocations\u001b[0m\u001b[0;34m(\u001b[0m\u001b[0mself\u001b[0m\u001b[0;34m)\u001b[0m \u001b[0;34m->\u001b[0m \u001b[0mpd\u001b[0m\u001b[0;34m.\u001b[0m\u001b[0mDataFrame\u001b[0m\u001b[0;34m:\u001b[0m\u001b[0;34m\u001b[0m\u001b[0;34m\u001b[0m\u001b[0m\n\u001b[0;32m---> 21\u001b[0;31m         \u001b[0mself\u001b[0m\u001b[0;34m.\u001b[0m\u001b[0mcalc_alloc\u001b[0m\u001b[0;34m(\u001b[0m\u001b[0;34m)\u001b[0m\u001b[0;34m\u001b[0m\u001b[0;34m\u001b[0m\u001b[0m\n\u001b[0m\u001b[1;32m     22\u001b[0m         \u001b[0;32mreturn\u001b[0m \u001b[0mself\u001b[0m\u001b[0;34m.\u001b[0m\u001b[0mestimates\u001b[0m\u001b[0;34m\u001b[0m\u001b[0;34m\u001b[0m\u001b[0m\n\u001b[1;32m     23\u001b[0m \u001b[0;34m\u001b[0m\u001b[0m\n",
      "\u001b[0;32m~/dp-acs/dp_policy/titlei/allocators.py\u001b[0m in \u001b[0;36mcalc_alloc\u001b[0;34m(self)\u001b[0m\n\u001b[1;32m     85\u001b[0m             \u001b[0;31m# TARGETED GRANTS\u001b[0m\u001b[0;34m\u001b[0m\u001b[0;34m\u001b[0m\u001b[0;34m\u001b[0m\u001b[0m\n\u001b[1;32m     86\u001b[0m             \u001b[0;31m# weighted by an exogenous step function - see documentation\u001b[0m\u001b[0;34m\u001b[0m\u001b[0;34m\u001b[0m\u001b[0;34m\u001b[0m\u001b[0m\n\u001b[0;32m---> 87\u001b[0;31m             weighted_eligible = self.estimates[[f\"{prefix}_children_eligible\", f\"{prefix}_children_total\"]].apply(\n\u001b[0m\u001b[1;32m     88\u001b[0m                 \u001b[0;32mlambda\u001b[0m \u001b[0mx\u001b[0m\u001b[0;34m:\u001b[0m \u001b[0mweighting\u001b[0m\u001b[0;34m(\u001b[0m\u001b[0mx\u001b[0m\u001b[0;34m[\u001b[0m\u001b[0;36m0\u001b[0m\u001b[0;34m]\u001b[0m\u001b[0;34m,\u001b[0m \u001b[0mx\u001b[0m\u001b[0;34m[\u001b[0m\u001b[0;36m1\u001b[0m\u001b[0;34m]\u001b[0m\u001b[0;34m)\u001b[0m\u001b[0;34m,\u001b[0m\u001b[0;34m\u001b[0m\u001b[0;34m\u001b[0m\u001b[0m\n\u001b[1;32m     89\u001b[0m                 \u001b[0maxis\u001b[0m\u001b[0;34m=\u001b[0m\u001b[0;36m1\u001b[0m\u001b[0;34m\u001b[0m\u001b[0;34m\u001b[0m\u001b[0m\n",
      "\u001b[0;32m/opt/miniconda3/envs/dp-acs/lib/python3.9/site-packages/pandas/core/frame.py\u001b[0m in \u001b[0;36mapply\u001b[0;34m(self, func, axis, raw, result_type, args, **kwds)\u001b[0m\n\u001b[1;32m   7766\u001b[0m             \u001b[0mkwds\u001b[0m\u001b[0;34m=\u001b[0m\u001b[0mkwds\u001b[0m\u001b[0;34m,\u001b[0m\u001b[0;34m\u001b[0m\u001b[0;34m\u001b[0m\u001b[0m\n\u001b[1;32m   7767\u001b[0m         )\n\u001b[0;32m-> 7768\u001b[0;31m         \u001b[0;32mreturn\u001b[0m \u001b[0mop\u001b[0m\u001b[0;34m.\u001b[0m\u001b[0mget_result\u001b[0m\u001b[0;34m(\u001b[0m\u001b[0;34m)\u001b[0m\u001b[0;34m\u001b[0m\u001b[0;34m\u001b[0m\u001b[0m\n\u001b[0m\u001b[1;32m   7769\u001b[0m \u001b[0;34m\u001b[0m\u001b[0m\n\u001b[1;32m   7770\u001b[0m     \u001b[0;32mdef\u001b[0m \u001b[0mapplymap\u001b[0m\u001b[0;34m(\u001b[0m\u001b[0mself\u001b[0m\u001b[0;34m,\u001b[0m \u001b[0mfunc\u001b[0m\u001b[0;34m,\u001b[0m \u001b[0mna_action\u001b[0m\u001b[0;34m:\u001b[0m \u001b[0mOptional\u001b[0m\u001b[0;34m[\u001b[0m\u001b[0mstr\u001b[0m\u001b[0;34m]\u001b[0m \u001b[0;34m=\u001b[0m \u001b[0;32mNone\u001b[0m\u001b[0;34m)\u001b[0m \u001b[0;34m->\u001b[0m \u001b[0mDataFrame\u001b[0m\u001b[0;34m:\u001b[0m\u001b[0;34m\u001b[0m\u001b[0;34m\u001b[0m\u001b[0m\n",
      "\u001b[0;32m/opt/miniconda3/envs/dp-acs/lib/python3.9/site-packages/pandas/core/apply.py\u001b[0m in \u001b[0;36mget_result\u001b[0;34m(self)\u001b[0m\n\u001b[1;32m    183\u001b[0m             \u001b[0;32mreturn\u001b[0m \u001b[0mself\u001b[0m\u001b[0;34m.\u001b[0m\u001b[0mapply_raw\u001b[0m\u001b[0;34m(\u001b[0m\u001b[0;34m)\u001b[0m\u001b[0;34m\u001b[0m\u001b[0;34m\u001b[0m\u001b[0m\n\u001b[1;32m    184\u001b[0m \u001b[0;34m\u001b[0m\u001b[0m\n\u001b[0;32m--> 185\u001b[0;31m         \u001b[0;32mreturn\u001b[0m \u001b[0mself\u001b[0m\u001b[0;34m.\u001b[0m\u001b[0mapply_standard\u001b[0m\u001b[0;34m(\u001b[0m\u001b[0;34m)\u001b[0m\u001b[0;34m\u001b[0m\u001b[0;34m\u001b[0m\u001b[0m\n\u001b[0m\u001b[1;32m    186\u001b[0m \u001b[0;34m\u001b[0m\u001b[0m\n\u001b[1;32m    187\u001b[0m     \u001b[0;32mdef\u001b[0m \u001b[0mapply_empty_result\u001b[0m\u001b[0;34m(\u001b[0m\u001b[0mself\u001b[0m\u001b[0;34m)\u001b[0m\u001b[0;34m:\u001b[0m\u001b[0;34m\u001b[0m\u001b[0;34m\u001b[0m\u001b[0m\n",
      "\u001b[0;32m/opt/miniconda3/envs/dp-acs/lib/python3.9/site-packages/pandas/core/apply.py\u001b[0m in \u001b[0;36mapply_standard\u001b[0;34m(self)\u001b[0m\n\u001b[1;32m    274\u001b[0m \u001b[0;34m\u001b[0m\u001b[0m\n\u001b[1;32m    275\u001b[0m     \u001b[0;32mdef\u001b[0m \u001b[0mapply_standard\u001b[0m\u001b[0;34m(\u001b[0m\u001b[0mself\u001b[0m\u001b[0;34m)\u001b[0m\u001b[0;34m:\u001b[0m\u001b[0;34m\u001b[0m\u001b[0;34m\u001b[0m\u001b[0m\n\u001b[0;32m--> 276\u001b[0;31m         \u001b[0mresults\u001b[0m\u001b[0;34m,\u001b[0m \u001b[0mres_index\u001b[0m \u001b[0;34m=\u001b[0m \u001b[0mself\u001b[0m\u001b[0;34m.\u001b[0m\u001b[0mapply_series_generator\u001b[0m\u001b[0;34m(\u001b[0m\u001b[0;34m)\u001b[0m\u001b[0;34m\u001b[0m\u001b[0;34m\u001b[0m\u001b[0m\n\u001b[0m\u001b[1;32m    277\u001b[0m \u001b[0;34m\u001b[0m\u001b[0m\n\u001b[1;32m    278\u001b[0m         \u001b[0;31m# wrap results\u001b[0m\u001b[0;34m\u001b[0m\u001b[0;34m\u001b[0m\u001b[0;34m\u001b[0m\u001b[0m\n",
      "\u001b[0;32m/opt/miniconda3/envs/dp-acs/lib/python3.9/site-packages/pandas/core/apply.py\u001b[0m in \u001b[0;36mapply_series_generator\u001b[0;34m(self)\u001b[0m\n\u001b[1;32m    288\u001b[0m             \u001b[0;32mfor\u001b[0m \u001b[0mi\u001b[0m\u001b[0;34m,\u001b[0m \u001b[0mv\u001b[0m \u001b[0;32min\u001b[0m \u001b[0menumerate\u001b[0m\u001b[0;34m(\u001b[0m\u001b[0mseries_gen\u001b[0m\u001b[0;34m)\u001b[0m\u001b[0;34m:\u001b[0m\u001b[0;34m\u001b[0m\u001b[0;34m\u001b[0m\u001b[0m\n\u001b[1;32m    289\u001b[0m                 \u001b[0;31m# ignore SettingWithCopy here in case the user mutates\u001b[0m\u001b[0;34m\u001b[0m\u001b[0;34m\u001b[0m\u001b[0;34m\u001b[0m\u001b[0m\n\u001b[0;32m--> 290\u001b[0;31m                 \u001b[0mresults\u001b[0m\u001b[0;34m[\u001b[0m\u001b[0mi\u001b[0m\u001b[0;34m]\u001b[0m \u001b[0;34m=\u001b[0m \u001b[0mself\u001b[0m\u001b[0;34m.\u001b[0m\u001b[0mf\u001b[0m\u001b[0;34m(\u001b[0m\u001b[0mv\u001b[0m\u001b[0;34m)\u001b[0m\u001b[0;34m\u001b[0m\u001b[0;34m\u001b[0m\u001b[0m\n\u001b[0m\u001b[1;32m    291\u001b[0m                 \u001b[0;32mif\u001b[0m \u001b[0misinstance\u001b[0m\u001b[0;34m(\u001b[0m\u001b[0mresults\u001b[0m\u001b[0;34m[\u001b[0m\u001b[0mi\u001b[0m\u001b[0;34m]\u001b[0m\u001b[0;34m,\u001b[0m \u001b[0mABCSeries\u001b[0m\u001b[0;34m)\u001b[0m\u001b[0;34m:\u001b[0m\u001b[0;34m\u001b[0m\u001b[0;34m\u001b[0m\u001b[0m\n\u001b[1;32m    292\u001b[0m                     \u001b[0;31m# If we have a view on v, we need to make a copy because\u001b[0m\u001b[0;34m\u001b[0m\u001b[0;34m\u001b[0m\u001b[0;34m\u001b[0m\u001b[0m\n",
      "\u001b[0;32m~/dp-acs/dp_policy/titlei/allocators.py\u001b[0m in \u001b[0;36m<lambda>\u001b[0;34m(x)\u001b[0m\n\u001b[1;32m     86\u001b[0m             \u001b[0;31m# weighted by an exogenous step function - see documentation\u001b[0m\u001b[0;34m\u001b[0m\u001b[0;34m\u001b[0m\u001b[0;34m\u001b[0m\u001b[0m\n\u001b[1;32m     87\u001b[0m             weighted_eligible = self.estimates[[f\"{prefix}_children_eligible\", f\"{prefix}_children_total\"]].apply(\n\u001b[0;32m---> 88\u001b[0;31m                 \u001b[0;32mlambda\u001b[0m \u001b[0mx\u001b[0m\u001b[0;34m:\u001b[0m \u001b[0mweighting\u001b[0m\u001b[0;34m(\u001b[0m\u001b[0mx\u001b[0m\u001b[0;34m[\u001b[0m\u001b[0;36m0\u001b[0m\u001b[0;34m]\u001b[0m\u001b[0;34m,\u001b[0m \u001b[0mx\u001b[0m\u001b[0;34m[\u001b[0m\u001b[0;36m1\u001b[0m\u001b[0;34m]\u001b[0m\u001b[0;34m)\u001b[0m\u001b[0;34m,\u001b[0m\u001b[0;34m\u001b[0m\u001b[0;34m\u001b[0m\u001b[0m\n\u001b[0m\u001b[1;32m     89\u001b[0m                 \u001b[0maxis\u001b[0m\u001b[0;34m=\u001b[0m\u001b[0;36m1\u001b[0m\u001b[0;34m\u001b[0m\u001b[0;34m\u001b[0m\u001b[0m\n\u001b[1;32m     90\u001b[0m             )\n",
      "\u001b[0;32m~/dp-acs/dp_policy/titlei/utils.py\u001b[0m in \u001b[0;36mweighting\u001b[0;34m(eligible, pop)\u001b[0m\n\u001b[1;32m     91\u001b[0m     \u001b[0;31m# calculate weighted count based on proportions\u001b[0m\u001b[0;34m\u001b[0m\u001b[0;34m\u001b[0m\u001b[0;34m\u001b[0m\u001b[0m\n\u001b[1;32m     92\u001b[0m     \u001b[0mwec_props\u001b[0m \u001b[0;34m=\u001b[0m \u001b[0;36m0\u001b[0m\u001b[0;34m\u001b[0m\u001b[0;34m\u001b[0m\u001b[0m\n\u001b[0;32m---> 93\u001b[0;31m     \u001b[0;32mfor\u001b[0m \u001b[0mr\u001b[0m\u001b[0;34m,\u001b[0m \u001b[0mw\u001b[0m \u001b[0;32min\u001b[0m \u001b[0;34m{\u001b[0m\u001b[0;34m(\u001b[0m\u001b[0;36m0\u001b[0m\u001b[0;34m,\u001b[0m \u001b[0;36m0.1558\u001b[0m\u001b[0;34m)\u001b[0m\u001b[0;34m:\u001b[0m \u001b[0;36m1.0\u001b[0m\u001b[0;34m,\u001b[0m \u001b[0;34m(\u001b[0m\u001b[0;36m0.1558\u001b[0m\u001b[0;34m,\u001b[0m \u001b[0;36m0.2211\u001b[0m\u001b[0;34m)\u001b[0m\u001b[0;34m:\u001b[0m \u001b[0;36m1.75\u001b[0m\u001b[0;34m,\u001b[0m \u001b[0;34m(\u001b[0m\u001b[0;36m0.2211\u001b[0m\u001b[0;34m,\u001b[0m\u001b[0;36m0.3016\u001b[0m\u001b[0;34m)\u001b[0m\u001b[0;34m:\u001b[0m \u001b[0;36m2.5\u001b[0m\u001b[0;34m,\u001b[0m \u001b[0;34m(\u001b[0m\u001b[0;36m0.3016\u001b[0m\u001b[0;34m,\u001b[0m \u001b[0;36m0.3824\u001b[0m\u001b[0;34m)\u001b[0m\u001b[0;34m:\u001b[0m \u001b[0;36m3.25\u001b[0m\u001b[0;34m,\u001b[0m \u001b[0;34m(\u001b[0m\u001b[0;36m0.3824\u001b[0m\u001b[0;34m,\u001b[0m \u001b[0;32mNone\u001b[0m\u001b[0;34m)\u001b[0m\u001b[0;34m:\u001b[0m \u001b[0;36m4.0\u001b[0m\u001b[0;34m}\u001b[0m\u001b[0;34m.\u001b[0m\u001b[0mitems\u001b[0m\u001b[0;34m(\u001b[0m\u001b[0;34m)\u001b[0m\u001b[0;34m:\u001b[0m\u001b[0;34m\u001b[0m\u001b[0;34m\u001b[0m\u001b[0m\n\u001b[0m\u001b[1;32m     94\u001b[0m         \u001b[0mupper\u001b[0m \u001b[0;34m=\u001b[0m \u001b[0mfloor\u001b[0m\u001b[0;34m(\u001b[0m\u001b[0mr\u001b[0m\u001b[0;34m[\u001b[0m\u001b[0;36m1\u001b[0m\u001b[0;34m]\u001b[0m\u001b[0;34m*\u001b[0m\u001b[0mpop\u001b[0m\u001b[0;34m)\u001b[0m \u001b[0;32mif\u001b[0m \u001b[0mr\u001b[0m\u001b[0;34m[\u001b[0m\u001b[0;36m1\u001b[0m\u001b[0;34m]\u001b[0m \u001b[0;32mis\u001b[0m \u001b[0;32mnot\u001b[0m \u001b[0;32mNone\u001b[0m \u001b[0;32melse\u001b[0m \u001b[0;32mNone\u001b[0m\u001b[0;34m\u001b[0m\u001b[0;34m\u001b[0m\u001b[0m\n\u001b[1;32m     95\u001b[0m         \u001b[0mlower\u001b[0m \u001b[0;34m=\u001b[0m \u001b[0mceil\u001b[0m\u001b[0;34m(\u001b[0m\u001b[0mr\u001b[0m\u001b[0;34m[\u001b[0m\u001b[0;36m0\u001b[0m\u001b[0;34m]\u001b[0m\u001b[0;34m*\u001b[0m\u001b[0mpop\u001b[0m\u001b[0;34m)\u001b[0m\u001b[0;34m\u001b[0m\u001b[0;34m\u001b[0m\u001b[0m\n",
      "\u001b[0;31mKeyboardInterrupt\u001b[0m: "
     ]
    }
   ],
   "source": [
    "from dp_policy.titlei.mechanisms import Gaussian\n",
    "\n",
    "results = test_params(\n",
    "    saipe,\n",
    "    Gaussian, \n",
    "    eps=[0.01, 0.1, 0.5, 1.0, 2.0, 3.0, 5.0, 10.0, 15.0],\n",
    "    delta=[0.1]\n",
    ")"
   ]
  },
  {
   "cell_type": "code",
   "execution_count": null,
   "id": "95bc3f69-9142-4af0-93ae-b6eea7615809",
   "metadata": {},
   "outputs": [],
   "source": [
    "grants = calc_total(results)\n",
    "# for regression\n",
    "grants[\"error\"] = grants.true_grant_total/sum(grants.true_grant_total) - grants.est_grant_total/sum(grants.est_grant_total)\n",
    "grants.to_csv(\"../results/discrimination.csv\")"
   ]
  },
  {
   "cell_type": "markdown",
   "id": "0ef280c8-febd-4cc8-b568-60dc4297d713",
   "metadata": {
    "tags": []
   },
   "source": [
    "### Plot for just (0.1, 0.0)-DP"
   ]
  },
  {
   "cell_type": "code",
   "execution_count": 18,
   "id": "70ee14f1",
   "metadata": {},
   "outputs": [
    {
     "name": "stdout",
     "output_type": "stream",
     "text": [
      "[WARN] Dropping districts with missing SPPE data: ['Puerto Rico']\n",
      "[WARN] Dropping districts with missing SPPE data: ['Puerto Rico']\n"
     ]
    }
   ],
   "source": [
    "grants = calc_total(funding(saipe, SonnenbergAuthorizer, Laplace(saipe, 0.1, 0), get_sppe(\"../data/sppe18.xlsx\"), weighting))\n",
    "grants_gaus = calc_total(funding(saipe, SonnenbergAuthorizer, Gaussian(saipe, 0.1, 0.2), get_sppe(\"../data/sppe18.xlsx\"), weighting))\n",
    "error = grants.true_grant_total/sum(grants.true_grant_total) - grants.est_grant_total/sum(grants.est_grant_total)\n",
    "error_gaus = grants_gaus.true_grant_total/sum(grants_gaus.true_grant_total) - grants_gaus.est_grant_total/sum(grants_gaus.est_grant_total)"
   ]
  },
  {
   "cell_type": "code",
   "execution_count": 241,
   "id": "5494b467",
   "metadata": {},
   "outputs": [
    {
     "data": {
      "image/png": "[encoded data removed]",
      "text/plain": [
       "<Figure size 432x288 with 1 Axes>"
      ]
     },
     "metadata": {
      "needs_background": "light"
     },
     "output_type": "display_data"
    }
   ],
   "source": [
    "grants['prop_nonwhitealone'] = 1 - grants.race_2est / grants.race_1est\n",
    "grants.prop_nonwhitealone[saipe.prop_nonwhitealone.isna()] = 0\n",
    "\n",
    "plt.scatter(grants.prop_nonwhitealone, error, s=10, alpha=0.5, color='orange', label=\"Laplace\")\n",
    "plt.scatter(grants.prop_nonwhitealone, error_gaus, s=10, alpha=0.5, color='orchid', label=\"Gaussian\")\n",
    "ax = plt.gca()\n",
    "ax.legend()\n",
    "plt.xlabel(\"Proportion non-white (per school district)\")\n",
    "plt.ylabel(\"Error (true alloc minus DP alloc, as % of total)\")\n",
    "plt.show()"
   ]
  },
  {
   "cell_type": "code",
   "execution_count": null,
   "id": "4c6eeb2c",
   "metadata": {},
   "outputs": [],
   "source": []
  }
 ],
 "metadata": {
  "kernelspec": {
   "display_name": "Python 3",
   "language": "python",
   "name": "python3"
  },
  "language_info": {
   "codemirror_mode": {
    "name": "ipython",
    "version": 3
   },
   "file_extension": ".py",
   "mimetype": "text/x-python",
   "name": "python",
   "nbconvert_exporter": "python",
   "pygments_lexer": "ipython3",
   "version": "3.9.2"
  }
 },
 "nbformat": 4,
 "nbformat_minor": 5
}
