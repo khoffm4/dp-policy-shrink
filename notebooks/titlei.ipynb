{
 "cells": [
  {
   "cell_type": "markdown",
   "id": "ade7e8e0",
   "metadata": {},
   "source": [
    "# Title I Allocations w/ DP ACS"
   ]
  },
  {
   "cell_type": "markdown",
   "id": "14463d1d",
   "metadata": {},
   "source": [
    "## Algorithm"
   ]
  },
  {
   "cell_type": "markdown",
   "id": "3777f9b9",
   "metadata": {},
   "source": [
    "### Data\n",
    "Need state per-pupil expenditure (SPPE) from the NCES. Most recent I can find in <5min is the [FY '18 data](https://nces.ed.gov/pubsearch/pubsinfo.asp?pubid=2020308).\n",
    "\n",
    "Had to use an online tool to convert Table 2 of [this report](https://nces.ed.gov/pubs2020/2020308.pdf)."
   ]
  },
  {
   "cell_type": "code",
   "execution_count": 1,
   "id": "c2eb04d8",
   "metadata": {},
   "outputs": [
    {
     "data": {
      "text/html": [
       "<div>\n",
       "<style scoped>\n",
       "    .dataframe tbody tr th:only-of-type {\n",
       "        vertical-align: middle;\n",
       "    }\n",
       "\n",
       "    .dataframe tbody tr th {\n",
       "        vertical-align: top;\n",
       "    }\n",
       "\n",
       "    .dataframe thead th {\n",
       "        text-align: right;\n",
       "    }\n",
       "</style>\n",
       "<table border=\"1\" class=\"dataframe\">\n",
       "  <thead>\n",
       "    <tr style=\"text-align: right;\">\n",
       "      <th></th>\n",
       "      <th>state</th>\n",
       "      <th>ppe</th>\n",
       "      <th>abbrv</th>\n",
       "    </tr>\n",
       "  </thead>\n",
       "  <tbody>\n",
       "    <tr>\n",
       "      <th>0</th>\n",
       "      <td>Alabama</td>\n",
       "      <td>9697</td>\n",
       "      <td>AL</td>\n",
       "    </tr>\n",
       "    <tr>\n",
       "      <th>1</th>\n",
       "      <td>Alaska</td>\n",
       "      <td>17726</td>\n",
       "      <td>AK</td>\n",
       "    </tr>\n",
       "    <tr>\n",
       "      <th>2</th>\n",
       "      <td>American Samoa</td>\n",
       "      <td>NaN</td>\n",
       "      <td>AS</td>\n",
       "    </tr>\n",
       "    <tr>\n",
       "      <th>3</th>\n",
       "      <td>Arizona</td>\n",
       "      <td>8296</td>\n",
       "      <td>AZ</td>\n",
       "    </tr>\n",
       "    <tr>\n",
       "      <th>4</th>\n",
       "      <td>Arkansas</td>\n",
       "      <td>10072</td>\n",
       "      <td>AR</td>\n",
       "    </tr>\n",
       "  </tbody>\n",
       "</table>\n",
       "</div>"
      ],
      "text/plain": [
       "            state    ppe abbrv\n",
       "0         Alabama   9697    AL\n",
       "1          Alaska  17726    AK\n",
       "2  American Samoa    NaN    AS\n",
       "3         Arizona   8296    AZ\n",
       "4        Arkansas  10072    AR"
      ]
     },
     "execution_count": 1,
     "metadata": {},
     "output_type": "execute_result"
    }
   ],
   "source": [
    "import pandas as pd\n",
    "\n",
    "def get_sppe(path):\n",
    "    states = { 'Alabama': 'AL', 'Alaska': 'AK', 'American Samoa': 'AS', 'Arizona': 'AZ', 'Arkansas': 'AR', 'California': 'CA', 'Colorado': 'CO', 'Connecticut': 'CT', 'Delaware': 'DE', 'District of Columbia': 'DC', 'Florida': 'FL', 'Georgia': 'GA', 'Guam': 'GU', 'Hawaii': 'HI', 'Idaho': 'ID', 'Illinois': 'IL', 'Indiana': 'IN', 'Iowa': 'IA', 'Kansas': 'KS', 'Kentucky': 'KY', 'Louisiana': 'LA', 'Maine': 'ME', 'Maryland': 'MD', 'Massachusetts': 'MA', 'Michigan': 'MI', 'Minnesota': 'MN', 'Mississippi': 'MS', 'Missouri': 'MO', 'Montana': 'MT', 'Nebraska': 'NE', 'Nevada': 'NV', 'New Hampshire': 'NH', 'New Jersey': 'NJ', 'New Mexico': 'NM', 'New York': 'NY', 'North Carolina': 'NC', 'North Dakota': 'ND', 'Northern Mariana Islands':'MP', 'Ohio': 'OH', 'Oklahoma': 'OK', 'Oregon': 'OR', 'Pennsylvania': 'PA', 'Puerto Rico': 'PR', 'Rhode Island': 'RI', 'South Carolina': 'SC', 'South Dakota': 'SD', 'Tennessee': 'TN', 'Texas': 'TX', 'Utah': 'UT', 'Vermont': 'VT', 'Virgin Islands': 'VI', 'Virginia': 'VA', 'Washington': 'WA', 'West Virginia': 'WV', 'Wisconsin': 'WI', 'Wyoming': 'WY' }\n",
    "    states = pd.DataFrame(states.items(), columns=[\"state\", \"abbrv\"])\n",
    "    \n",
    "    # quirk of original data file - need to change DC's name for join\n",
    "    states[states.state == \"District of Columbia\"] = \"District Of Columbia Public Schools\"\n",
    "\n",
    "    sppe = pd.read_excel(path, header=2).rename(columns={\"Unnamed: 0\": \"state\"})[[\"state\", \"ppe\"]]\n",
    "\n",
    "    return sppe.merge(states, on=\"state\", how=\"right\")\n",
    "\n",
    "sppe = get_sppe(\"../data/sppe18.xlsx\")\n",
    "sppe.head()"
   ]
  },
  {
   "cell_type": "markdown",
   "id": "5743b85a",
   "metadata": {},
   "source": [
    "Also need a dict matching district IDs to district names to states. Simplest to use [SAIPE 2019](https://www2.census.gov/programs-surveys/saipe/datasets/2019/2019-school-districts/) ground-truth."
   ]
  },
  {
   "cell_type": "code",
   "execution_count": 2,
   "id": "e66810fa",
   "metadata": {},
   "outputs": [
    {
     "data": {
      "text/html": [
       "<div>\n",
       "<style scoped>\n",
       "    .dataframe tbody tr th:only-of-type {\n",
       "        vertical-align: middle;\n",
       "    }\n",
       "\n",
       "    .dataframe tbody tr th {\n",
       "        vertical-align: top;\n",
       "    }\n",
       "\n",
       "    .dataframe thead th {\n",
       "        text-align: right;\n",
       "    }\n",
       "</style>\n",
       "<table border=\"1\" class=\"dataframe\">\n",
       "  <thead>\n",
       "    <tr style=\"text-align: right;\">\n",
       "      <th></th>\n",
       "      <th>State Postal Code</th>\n",
       "      <th>State FIPS Code</th>\n",
       "      <th>Name</th>\n",
       "      <th>Estimated Total Population</th>\n",
       "      <th>Estimated Population 5-17</th>\n",
       "      <th>Estimated number of relevant children 5 to 17 years old in poverty who are related to the householder</th>\n",
       "    </tr>\n",
       "    <tr>\n",
       "      <th>District ID</th>\n",
       "      <th></th>\n",
       "      <th></th>\n",
       "      <th></th>\n",
       "      <th></th>\n",
       "      <th></th>\n",
       "      <th></th>\n",
       "    </tr>\n",
       "  </thead>\n",
       "  <tbody>\n",
       "    <tr>\n",
       "      <th>190</th>\n",
       "      <td>AL</td>\n",
       "      <td>1</td>\n",
       "      <td>Alabaster City School District</td>\n",
       "      <td>34669</td>\n",
       "      <td>6710</td>\n",
       "      <td>649</td>\n",
       "    </tr>\n",
       "    <tr>\n",
       "      <th>5</th>\n",
       "      <td>AL</td>\n",
       "      <td>1</td>\n",
       "      <td>Albertville City School District</td>\n",
       "      <td>22051</td>\n",
       "      <td>4131</td>\n",
       "      <td>957</td>\n",
       "    </tr>\n",
       "    <tr>\n",
       "      <th>30</th>\n",
       "      <td>AL</td>\n",
       "      <td>1</td>\n",
       "      <td>Alexander City City School District</td>\n",
       "      <td>16920</td>\n",
       "      <td>2575</td>\n",
       "      <td>703</td>\n",
       "    </tr>\n",
       "    <tr>\n",
       "      <th>60</th>\n",
       "      <td>AL</td>\n",
       "      <td>1</td>\n",
       "      <td>Andalusia City School District</td>\n",
       "      <td>8842</td>\n",
       "      <td>1465</td>\n",
       "      <td>406</td>\n",
       "    </tr>\n",
       "    <tr>\n",
       "      <th>90</th>\n",
       "      <td>AL</td>\n",
       "      <td>1</td>\n",
       "      <td>Anniston City School District</td>\n",
       "      <td>22043</td>\n",
       "      <td>3065</td>\n",
       "      <td>1057</td>\n",
       "    </tr>\n",
       "  </tbody>\n",
       "</table>\n",
       "</div>"
      ],
      "text/plain": [
       "            State Postal Code  State FIPS Code  \\\n",
       "District ID                                      \n",
       "190                        AL                1   \n",
       "5                          AL                1   \n",
       "30                         AL                1   \n",
       "60                         AL                1   \n",
       "90                         AL                1   \n",
       "\n",
       "                                            Name  Estimated Total Population  \\\n",
       "District ID                                                                    \n",
       "190               Alabaster City School District                       34669   \n",
       "5               Albertville City School District                       22051   \n",
       "30           Alexander City City School District                       16920   \n",
       "60                Andalusia City School District                        8842   \n",
       "90                 Anniston City School District                       22043   \n",
       "\n",
       "             Estimated Population 5-17  \\\n",
       "District ID                              \n",
       "190                               6710   \n",
       "5                                 4131   \n",
       "30                                2575   \n",
       "60                                1465   \n",
       "90                                3065   \n",
       "\n",
       "             Estimated number of relevant children 5 to 17 years old in poverty who are related to the householder  \n",
       "District ID                                                                                                         \n",
       "190                                                        649                                                      \n",
       "5                                                          957                                                      \n",
       "30                                                         703                                                      \n",
       "60                                                         406                                                      \n",
       "90                                                        1057                                                      "
      ]
     },
     "execution_count": 2,
     "metadata": {},
     "output_type": "execute_result"
    }
   ],
   "source": [
    "saipe = pd.read_excel(\"../data/saipe19.xls\", header=2).set_index(\"District ID\")\n",
    "saipe.head()"
   ]
  },
  {
   "cell_type": "markdown",
   "id": "39553b65",
   "metadata": {},
   "source": [
    "Also, a method for roughly estimating standard errors for the SAIPE estimates, based on [these published docs](https://www.census.gov/programs-surveys/saipe/guidance/district-estimates.html). This could be improved - but start with this as a shortcut."
   ]
  },
  {
   "cell_type": "code",
   "execution_count": 3,
   "id": "846890cd",
   "metadata": {},
   "outputs": [
    {
     "data": {
      "text/html": [
       "<div>\n",
       "<style scoped>\n",
       "    .dataframe tbody tr th:only-of-type {\n",
       "        vertical-align: middle;\n",
       "    }\n",
       "\n",
       "    .dataframe tbody tr th {\n",
       "        vertical-align: top;\n",
       "    }\n",
       "\n",
       "    .dataframe thead th {\n",
       "        text-align: right;\n",
       "    }\n",
       "</style>\n",
       "<table border=\"1\" class=\"dataframe\">\n",
       "  <thead>\n",
       "    <tr style=\"text-align: right;\">\n",
       "      <th></th>\n",
       "      <th>State Postal Code</th>\n",
       "      <th>State FIPS Code</th>\n",
       "      <th>Name</th>\n",
       "      <th>Estimated Total Population</th>\n",
       "      <th>Estimated Population 5-17</th>\n",
       "      <th>Estimated number of relevant children 5 to 17 years old in poverty who are related to the householder</th>\n",
       "      <th>median_cv</th>\n",
       "    </tr>\n",
       "    <tr>\n",
       "      <th>District ID</th>\n",
       "      <th></th>\n",
       "      <th></th>\n",
       "      <th></th>\n",
       "      <th></th>\n",
       "      <th></th>\n",
       "      <th></th>\n",
       "      <th></th>\n",
       "    </tr>\n",
       "  </thead>\n",
       "  <tbody>\n",
       "    <tr>\n",
       "      <th>190</th>\n",
       "      <td>AL</td>\n",
       "      <td>1</td>\n",
       "      <td>Alabaster City School District</td>\n",
       "      <td>34669</td>\n",
       "      <td>6710</td>\n",
       "      <td>649</td>\n",
       "      <td>0.23</td>\n",
       "    </tr>\n",
       "    <tr>\n",
       "      <th>5</th>\n",
       "      <td>AL</td>\n",
       "      <td>1</td>\n",
       "      <td>Albertville City School District</td>\n",
       "      <td>22051</td>\n",
       "      <td>4131</td>\n",
       "      <td>957</td>\n",
       "      <td>0.23</td>\n",
       "    </tr>\n",
       "    <tr>\n",
       "      <th>30</th>\n",
       "      <td>AL</td>\n",
       "      <td>1</td>\n",
       "      <td>Alexander City City School District</td>\n",
       "      <td>16920</td>\n",
       "      <td>2575</td>\n",
       "      <td>703</td>\n",
       "      <td>0.28</td>\n",
       "    </tr>\n",
       "    <tr>\n",
       "      <th>60</th>\n",
       "      <td>AL</td>\n",
       "      <td>1</td>\n",
       "      <td>Andalusia City School District</td>\n",
       "      <td>8842</td>\n",
       "      <td>1465</td>\n",
       "      <td>406</td>\n",
       "      <td>0.35</td>\n",
       "    </tr>\n",
       "    <tr>\n",
       "      <th>90</th>\n",
       "      <td>AL</td>\n",
       "      <td>1</td>\n",
       "      <td>Anniston City School District</td>\n",
       "      <td>22043</td>\n",
       "      <td>3065</td>\n",
       "      <td>1057</td>\n",
       "      <td>0.23</td>\n",
       "    </tr>\n",
       "  </tbody>\n",
       "</table>\n",
       "</div>"
      ],
      "text/plain": [
       "            State Postal Code  State FIPS Code  \\\n",
       "District ID                                      \n",
       "190                        AL                1   \n",
       "5                          AL                1   \n",
       "30                         AL                1   \n",
       "60                         AL                1   \n",
       "90                         AL                1   \n",
       "\n",
       "                                            Name  Estimated Total Population  \\\n",
       "District ID                                                                    \n",
       "190               Alabaster City School District                       34669   \n",
       "5               Albertville City School District                       22051   \n",
       "30           Alexander City City School District                       16920   \n",
       "60                Andalusia City School District                        8842   \n",
       "90                 Anniston City School District                       22043   \n",
       "\n",
       "             Estimated Population 5-17  \\\n",
       "District ID                              \n",
       "190                               6710   \n",
       "5                                 4131   \n",
       "30                                2575   \n",
       "60                                1465   \n",
       "90                                3065   \n",
       "\n",
       "             Estimated number of relevant children 5 to 17 years old in poverty who are related to the householder  \\\n",
       "District ID                                                                                                          \n",
       "190                                                        649                                                       \n",
       "5                                                          957                                                       \n",
       "30                                                         703                                                       \n",
       "60                                                         406                                                       \n",
       "90                                                        1057                                                       \n",
       "\n",
       "             median_cv  \n",
       "District ID             \n",
       "190               0.23  \n",
       "5                 0.23  \n",
       "30                0.28  \n",
       "60                0.35  \n",
       "90                0.23  "
      ]
     },
     "execution_count": 3,
     "metadata": {},
     "output_type": "execute_result"
    }
   ],
   "source": [
    "def median_cv(total_pop):\n",
    "    # based on the table given here https://www.census.gov/programs-surveys/saipe/guidance/district-estimates.html\n",
    "    if total_pop <= 2500:\n",
    "        return 0.67\n",
    "    elif total_pop <= 5000:\n",
    "        return 0.42\n",
    "    elif total_pop <= 10000:\n",
    "        return 0.35\n",
    "    elif total_pop <= 20000:\n",
    "        return 0.28\n",
    "    elif total_pop <= 65000:\n",
    "        return 0.23\n",
    "    return 0.15\n",
    "\n",
    "saipe[\"median_cv\"] = saipe.apply(lambda x: median_cv(x[\"Estimated Total Population\"]), axis=1)\n",
    "saipe.head()"
   ]
  },
  {
   "cell_type": "markdown",
   "id": "41a6fc25",
   "metadata": {},
   "source": [
    "### Code\n",
    "\n",
    "First, a class for the different privacy mechanisms we might employ to compute poverty estimates."
   ]
  },
  {
   "cell_type": "code",
   "execution_count": 4,
   "id": "f6ea6c4a",
   "metadata": {},
   "outputs": [],
   "source": [
    "from typing import Tuple\n",
    "\n",
    "class Mechanism:\n",
    "    def __init__(self, epsilon, delta):\n",
    "        self.epsilon = epsilon\n",
    "        self.delta = delta\n",
    "        \n",
    "    def poverty_estimates(self) -> Tuple[pd.DataFrame, pd.DataFrame, pd.DataFrame]:\n",
    "        \"\"\"\n",
    "        Returns dataframe for children in poverty, children total, and total population indexed by district ID.\n",
    "        \"\"\"\n",
    "        raise NotImplementedError\n",
    "        \n",
    "class GroundTruth(Mechanism):\n",
    "    \"\"\"\n",
    "    example mech that just returns the ground truth SAIPE estimates\n",
    "    \"\"\"\n",
    "    def __init__(self, saipe):\n",
    "        self.saipe = saipe\n",
    "        \n",
    "    def poverty_estimates(self):\n",
    "        return (self.saipe[key] for key in [\"Estimated Total Population\", \"Estimated Population 5-17\", \"Estimated number of relevant children 5 to 17 years old in poverty who are related to the householder\"])"
   ]
  },
  {
   "cell_type": "markdown",
   "id": "7cc8633c",
   "metadata": {},
   "source": [
    "Next, a class for the different ways we might allocate funds based on the poverty estimates (e.g. Abowd's shortcut method vs. the full Sonnenberg method)."
   ]
  },
  {
   "cell_type": "code",
   "execution_count": 5,
   "id": "720d1a51",
   "metadata": {},
   "outputs": [
    {
     "data": {
      "text/plain": [
       "1993.0"
      ]
     },
     "execution_count": 5,
     "metadata": {},
     "output_type": "execute_result"
    }
   ],
   "source": [
    "from math import floor, ceil\n",
    "\n",
    "class Allocator:\n",
    "    def __init__(self, estimates, congress_cap=0.4, adj_sppe_bounds=[0.32, 0.48], adj_sppe_bounds_efig=[0.34, 0.46]):\n",
    "        self.estimates = estimates\n",
    "        self.congress_cap = congress_cap\n",
    "        self.adj_sppe_bounds = adj_sppe_bounds\n",
    "        self.adj_sppe_bounds_efig = adj_sppe_bounds_efig\n",
    "    \n",
    "    def allocations(self) -> pd.DataFrame:\n",
    "        self.calc_alloc()\n",
    "        return self.estimates\n",
    "        \n",
    "    def calc_alloc(self):\n",
    "        \"\"\"\n",
    "        Appends the allocated grants as columns to the estimates DataFrame.\n",
    "        \"\"\"\n",
    "        raise NotImplementedError\n",
    "        \n",
    "    def adj_sppe(self):\n",
    "        avg_sppe = np.mean(self.estimates.sppe)\n",
    "        adj_sppe = self.estimates.sppe * self.congress_cap\n",
    "        adj_sppe_trunc = adj_sppe.clip(*np.array(self.adj_sppe_bounds)*avg_sppe)\n",
    "        adj_sppe_efig = adj_sppe.clip(*np.array(self.adj_sppe_bounds_efig)*avg_sppe)\n",
    "        \n",
    "        return adj_sppe_trunc, adj_sppe_efig\n",
    "\n",
    "class AbowdAllocator(Allocator):\n",
    "    \"\"\"\n",
    "    As described in https://arxiv.org/pdf/1808.06303.pdf\n",
    "    \"\"\"\n",
    "    def calc_alloc(self):\n",
    "        adj_sppe, _ = self.adj_sppe()\n",
    "        \n",
    "        self.estimates[\"adj_sppe\"] = adj_sppe\n",
    "        self.estimates[\"true_allocation\"] = adj_sppe * self.estimates.true_children_eligible\n",
    "        self.estimates[\"est_allocation\"] = adj_sppe * self.estimates.est_children_eligible\n",
    "\n",
    "def weighting(eligible, pop):\n",
    "    \"\"\"\n",
    "    Gradated weighting algorithm given in [Sonnenberg](https://nces.ed.gov/surveys/annualreports/pdf/titlei20160111.pdf).\n",
    "    \n",
    "    Returns weighted eligibility counts.\n",
    "    \"\"\"\n",
    "    \n",
    "    # calculate weighted count based on counts\n",
    "    wec_counts = 0\n",
    "    for r, w in {(1, 691): 1.0, (692, 2262): 1.5, (2263,7851): 2.0, (7852, 35514): 2.5, (35514, None): 3.0}.items():\n",
    "        if r[1] is not None and eligible > r[1]: \n",
    "            wec_counts += (r[1] - r[0] + 1) * w\n",
    "        elif eligible >= r[0]: \n",
    "            wec_counts += (eligible - r[0] + 1) * w\n",
    "    \n",
    "    # calculate weighted count based on proportions\n",
    "    wec_props = 0\n",
    "    for r, w in {(0, 0.1558): 1.0, (0.1558, 0.2211): 1.75, (0.2211,0.3016): 2.5, (0.3016, 0.3824): 3.25, (0.3824, None): 4.0}.items():\n",
    "        upper = floor(r[1]*pop) if r[1] is not None else None\n",
    "        lower = ceil(r[0]*pop)\n",
    "        \n",
    "        if upper is not None and eligible > upper: \n",
    "            wec_props += (upper - lower) * w\n",
    "        elif eligible >= lower: \n",
    "            wec_props += (eligible - lower) * w\n",
    "    \n",
    "    # take the higher weighted eligibility count\n",
    "    return max(wec_counts, wec_props)\n",
    "\n",
    "weighting(1559, 10000)"
   ]
  },
  {
   "cell_type": "code",
   "execution_count": 6,
   "id": "dfe3d098",
   "metadata": {},
   "outputs": [],
   "source": [
    "class SonnenbergAuthorizer(Allocator):\n",
    "    def calc_alloc(self):\n",
    "        # calc adj. SPPE\n",
    "        adj_sppe, adj_sppe_efig = self.adj_sppe()\n",
    "        \n",
    "        # calculate grant amounts for true/randomized values\n",
    "        for prefix in (\"true\", \"est\"):        \n",
    "\n",
    "            ## BASIC GRANTS\n",
    "            # authorization calculation\n",
    "            self.estimates[f\"{prefix}_grant_basic\"] = self.estimates[f\"{prefix}_children_eligible\"] * adj_sppe\n",
    "            # For basic grants, LEA must have >10 eligible children\n",
    "            eligible = self.estimates[f\"{prefix}_children_eligible\"] >= 10\n",
    "    #         print(sum(~eligible)/eligible.shape[0])\n",
    "            self.estimates.loc[~eligible, f\"{prefix}_grant_basic\"] = 0.0\n",
    "\n",
    "            ## CONCENTRATION GRANTS\n",
    "            # For concentration grants, LEAs must meet basic eligibility AND have either\n",
    "            # a) >6500 eligible\n",
    "            # b) 15% of pop. is eligible\n",
    "            self.estimates[f\"{prefix}_grant_concentration\"] = self.estimates[f\"{prefix}_grant_basic\"]\n",
    "            count_eligible = self.estimates[f\"{prefix}_children_eligible\"] >= 6500\n",
    "            prop_eligible = (self.estimates[f\"{prefix}_children_eligible\"] / self.estimates[f\"{prefix}_children_total\"]) >= 0.15\n",
    "            eligible = count_eligible | prop_eligible\n",
    "    #         print(sum(~eligible)/eligible.shape[0])\n",
    "            self.estimates.loc[~eligible, f\"{prefix}_grant_concentration\"] = 0.0\n",
    "\n",
    "            ## TARGETED GRANTS\n",
    "            # weighted by an exogenous step function - see documentation\n",
    "            weighted_eligible = self.estimates[[f\"{prefix}_children_eligible\", f\"{prefix}_children_total\"]].apply(\n",
    "                lambda x: weighting(x[0], x[1])\n",
    "            , axis=1)\n",
    "            self.estimates[f\"{prefix}_grant_targeted\"] = weighted_eligible * adj_sppe\n",
    "\n",
    "            # for targeted grants, LEAs must meet basic eligibility AND have >5% eligible\n",
    "            count_eligible = self.estimates[f\"{prefix}_children_eligible\"] >= 10\n",
    "            prop_eligible = (self.estimates[f\"{prefix}_children_eligible\"] / self.estimates[f\"{prefix}_children_total\"]) >= 0.05\n",
    "            eligible = count_eligible & prop_eligible\n",
    "            self.estimates.loc[~eligible, f\"{prefix}_grant_targeted\"] = 0.0\n",
    "\n",
    "            ## EFIG\n",
    "            # TODO"
   ]
  },
  {
   "cell_type": "markdown",
   "id": "0aebfe2f",
   "metadata": {},
   "source": [
    "Finally, the main method for computing estimates, then grant amounts."
   ]
  },
  {
   "cell_type": "code",
   "execution_count": 7,
   "id": "da974593",
   "metadata": {},
   "outputs": [
    {
     "name": "stdout",
     "output_type": "stream",
     "text": [
      "[WARN] Dropping districts with missing SPPE data: ['Puerto Rico']\n"
     ]
    },
    {
     "data": {
      "image/png": "[encoded data removed]",
      "text/plain": [
       "<Figure size 432x288 with 1 Axes>"
      ]
     },
     "metadata": {
      "needs_background": "light"
     },
     "output_type": "display_data"
    },
    {
     "data": {
      "image/png": "[encoded data removed]",
      "text/plain": [
       "<Figure size 432x288 with 1 Axes>"
      ]
     },
     "metadata": {
      "needs_background": "light"
     },
     "output_type": "display_data"
    },
    {
     "data": {
      "image/png": "[encoded data removed]",
      "text/plain": [
       "<Figure size 432x288 with 1 Axes>"
      ]
     },
     "metadata": {
      "needs_background": "light"
     },
     "output_type": "display_data"
    }
   ],
   "source": [
    "import numpy as np\n",
    "import matplotlib.pyplot as plt\n",
    "\n",
    "def funding(saipe, allocator, mechanism, sppe, weighting, *mech_args, verbose=True, **mech_kwargs):\n",
    "    \"\"\"\n",
    "    congress_cap - proportion of a student's edu congress agrees to fund\n",
    "    \n",
    "    Returns augmented SAIPE dataframe with randomized estimates and true/randomized grant amounts.\n",
    "    \"\"\"\n",
    "    grants = saipe.rename(columns={\n",
    "        \"Estimated Total Population\": \"true_pop_total\",\n",
    "        \"Estimated Population 5-17\": \"true_children_total\",\n",
    "        \"Estimated number of relevant children 5 to 17 years old in poverty who are related to the householder\": \"true_children_poverty\"\n",
    "    })\n",
    "    pop_total, children_total, children_poverty = mechanism.poverty_estimates(*mech_args, **mech_kwargs)\n",
    "    grants[\"est_pop_total\"] = pop_total\n",
    "    grants[\"est_children_total\"] = children_total\n",
    "    grants[\"est_children_poverty\"] = children_poverty\n",
    "\n",
    "    # BIG ASSUMPTION, TODO: revisit later\n",
    "    grants[\"true_children_eligible\"] = grants.true_children_poverty\n",
    "    grants[\"est_children_eligible\"] = grants.est_children_poverty\n",
    "    \n",
    "    # join in SPPE\n",
    "    grants = grants.merge(sppe, left_on=\"State Postal Code\", right_on=\"abbrv\").drop(columns=['abbrv', 'state']).rename(columns={'ppe': 'sppe'})\n",
    "    if verbose: print(\"[WARN] Dropping districts with missing SPPE data:\", grants[grants.sppe.isna()]['Name'].values)\n",
    "    grants = grants.dropna(subset=[\"sppe\"])\n",
    "    grants.sppe = grants.sppe.astype(float)\n",
    "    \n",
    "    alloc = allocator(grants)\n",
    "    \n",
    "    return alloc.allocations()\n",
    "\n",
    "\n",
    "# Test with ground truth mechanism\n",
    "grants = funding(saipe, SonnenbergAuthorizer, GroundTruth(saipe), get_sppe(\"../data/sppe18.xlsx\"), weighting)\n",
    "grants.boxplot('true_grant_basic')\n",
    "plt.show()\n",
    "grants.boxplot('true_grant_concentration')\n",
    "plt.show()\n",
    "grants.boxplot('true_grant_targeted')\n",
    "plt.show()"
   ]
  },
  {
   "cell_type": "markdown",
   "id": "4c135c6e",
   "metadata": {},
   "source": [
    "## Laplace\n",
    "### Data\n",
    "From [SAIPE 2019](https://www2.census.gov/programs-surveys/saipe/datasets/2019/2019-school-districts/) release."
   ]
  },
  {
   "cell_type": "markdown",
   "id": "f2ff3458",
   "metadata": {},
   "source": [
    "### Mechanism"
   ]
  },
  {
   "cell_type": "code",
   "execution_count": 8,
   "id": "b4e6f13b",
   "metadata": {},
   "outputs": [
    {
     "data": {
      "text/plain": [
       "(District ID\n",
       " 190     3.468103e+04\n",
       " 5       2.203916e+04\n",
       " 30      1.692272e+04\n",
       " 60      8.834064e+03\n",
       " 90      2.204835e+04\n",
       "             ...     \n",
       " 6240    7.136093e+03\n",
       " 5820    6.989009e+02\n",
       " 4830    5.462673e+03\n",
       " 6090    1.466373e+03\n",
       " 30      3.193719e+06\n",
       " Name: Estimated Total Population, Length: 13184, dtype: float64,\n",
       " District ID\n",
       " 190       6732.675059\n",
       " 5         4154.489938\n",
       " 30        2584.666645\n",
       " 60        1458.239239\n",
       " 90        3064.628049\n",
       "             ...      \n",
       " 6240      1296.969481\n",
       " 5820        89.241258\n",
       " 4830       816.901035\n",
       " 6090       235.051974\n",
       " 30      455266.052543\n",
       " Name: Estimated Population 5-17, Length: 13184, dtype: float64,\n",
       " District ID\n",
       " 190        642.897684\n",
       " 5          937.656244\n",
       " 30         716.461761\n",
       " 60         429.561161\n",
       " 90        1069.369109\n",
       "             ...      \n",
       " 6240       149.351880\n",
       " 5820        19.864439\n",
       " 4830        98.739561\n",
       " 6090        19.071639\n",
       " 30      248620.844709\n",
       " Name: Estimated number of relevant children 5 to 17 years old in poverty who are related to the householder, Length: 13184, dtype: float64)"
      ]
     },
     "execution_count": 8,
     "metadata": {},
     "output_type": "execute_result"
    }
   ],
   "source": [
    "from diffprivlib.mechanisms.laplace import Laplace as LaplaceMech, LaplaceTruncated\n",
    "\n",
    "\"\"\"\n",
    "Following Abowd & Schmutte (2019), return \\hat{E}_l = E_l + e_l, where e_l \\sim Laplace(1/\\epsilon). \n",
    "\n",
    "Recall that the sensitivity of the counts here is simply 1.\n",
    "\"\"\"\n",
    "\n",
    "class Laplace(Mechanism):\n",
    "    def __init__(self, saipe, *args, pos_trunc=False, **kwargs):\n",
    "        super().__init__(*args, **kwargs)\n",
    "        self.saipe = saipe\n",
    "        \n",
    "        self.mechanism = \\\n",
    "            LaplaceTruncated(epsilon=self.epsilon, delta=self.delta, sensitivity=1.0, lower=0.0) if pos_trunc \\\n",
    "            else LaplaceMech(epsilon=self.epsilon, delta=self.delta, sensitivity=1.0)\n",
    "        \n",
    "    def poverty_estimates(self) -> Tuple[pd.DataFrame, pd.DataFrame, pd.DataFrame]:\n",
    "        \n",
    "        pop_total = saipe[\"Estimated Total Population\"].apply(self.mechanism.randomise)\n",
    "        children_total = saipe[\"Estimated Population 5-17\"].apply(self.mechanism.randomise)\n",
    "        children_poverty = saipe[\"Estimated number of relevant children 5 to 17 years old in poverty who are related to the householder\"].apply(self.mechanism.randomise)\n",
    "        \n",
    "        # no negative values, please\n",
    "        return np.clip(pop_total, 0, None), np.clip(children_total, 0, None), np.clip(children_poverty, 0, None)\n",
    "        \n",
    "Laplace(saipe, 0.1, 0).poverty_estimates()"
   ]
  },
  {
   "cell_type": "markdown",
   "id": "188d77b9",
   "metadata": {},
   "source": [
    "### Results\n",
    "First, using the full Sonnenberg authorization algo."
   ]
  },
  {
   "cell_type": "code",
   "execution_count": 32,
   "id": "89569dc5",
   "metadata": {},
   "outputs": [
    {
     "name": "stdout",
     "output_type": "stream",
     "text": [
      "[WARN] Dropping districts with missing SPPE data: ['Puerto Rico']\n"
     ]
    },
    {
     "data": {
      "text/html": [
       "<div>\n",
       "<style scoped>\n",
       "    .dataframe tbody tr th:only-of-type {\n",
       "        vertical-align: middle;\n",
       "    }\n",
       "\n",
       "    .dataframe tbody tr th {\n",
       "        vertical-align: top;\n",
       "    }\n",
       "\n",
       "    .dataframe thead th {\n",
       "        text-align: right;\n",
       "    }\n",
       "</style>\n",
       "<table border=\"1\" class=\"dataframe\">\n",
       "  <thead>\n",
       "    <tr style=\"text-align: right;\">\n",
       "      <th></th>\n",
       "      <th>State FIPS Code</th>\n",
       "      <th>true_pop_total</th>\n",
       "      <th>true_children_total</th>\n",
       "      <th>true_children_poverty</th>\n",
       "      <th>est_pop_total</th>\n",
       "      <th>est_children_total</th>\n",
       "      <th>est_children_poverty</th>\n",
       "      <th>true_children_eligible</th>\n",
       "      <th>est_children_eligible</th>\n",
       "      <th>sppe</th>\n",
       "      <th>true_grant_basic</th>\n",
       "      <th>true_grant_concentration</th>\n",
       "      <th>true_grant_targeted</th>\n",
       "      <th>est_grant_basic</th>\n",
       "      <th>est_grant_concentration</th>\n",
       "      <th>est_grant_targeted</th>\n",
       "    </tr>\n",
       "  </thead>\n",
       "  <tbody>\n",
       "    <tr>\n",
       "      <th>count</th>\n",
       "      <td>13182.000000</td>\n",
       "      <td>1.318200e+04</td>\n",
       "      <td>1.318200e+04</td>\n",
       "      <td>13182.000000</td>\n",
       "      <td>1.318200e+04</td>\n",
       "      <td>1.318200e+04</td>\n",
       "      <td>13182.000000</td>\n",
       "      <td>13182.000000</td>\n",
       "      <td>13182.000000</td>\n",
       "      <td>13182.000000</td>\n",
       "      <td>1.318200e+04</td>\n",
       "      <td>1.318200e+04</td>\n",
       "      <td>1.318200e+04</td>\n",
       "      <td>1.318200e+04</td>\n",
       "      <td>1.318200e+04</td>\n",
       "      <td>1.318200e+04</td>\n",
       "    </tr>\n",
       "    <tr>\n",
       "      <th>mean</th>\n",
       "      <td>29.561751</td>\n",
       "      <td>2.651938e+04</td>\n",
       "      <td>4.049290e+03</td>\n",
       "      <td>625.253224</td>\n",
       "      <td>2.651938e+04</td>\n",
       "      <td>4.049290e+03</td>\n",
       "      <td>625.254787</td>\n",
       "      <td>625.253224</td>\n",
       "      <td>625.254787</td>\n",
       "      <td>13027.845092</td>\n",
       "      <td>3.026463e+06</td>\n",
       "      <td>2.231939e+06</td>\n",
       "      <td>5.062192e+06</td>\n",
       "      <td>3.026337e+06</td>\n",
       "      <td>2.231770e+06</td>\n",
       "      <td>5.061963e+06</td>\n",
       "    </tr>\n",
       "    <tr>\n",
       "      <th>std</th>\n",
       "      <td>14.644764</td>\n",
       "      <td>1.155746e+05</td>\n",
       "      <td>1.728792e+04</td>\n",
       "      <td>3467.140325</td>\n",
       "      <td>1.155746e+05</td>\n",
       "      <td>1.728792e+04</td>\n",
       "      <td>3467.138936</td>\n",
       "      <td>3467.140325</td>\n",
       "      <td>3467.138936</td>\n",
       "      <td>3667.794832</td>\n",
       "      <td>1.912444e+07</td>\n",
       "      <td>1.908713e+07</td>\n",
       "      <td>5.239813e+07</td>\n",
       "      <td>1.912446e+07</td>\n",
       "      <td>1.908714e+07</td>\n",
       "      <td>5.239812e+07</td>\n",
       "    </tr>\n",
       "    <tr>\n",
       "      <th>min</th>\n",
       "      <td>1.000000</td>\n",
       "      <td>0.000000e+00</td>\n",
       "      <td>0.000000e+00</td>\n",
       "      <td>0.000000</td>\n",
       "      <td>0.000000e+00</td>\n",
       "      <td>0.000000e+00</td>\n",
       "      <td>0.000000</td>\n",
       "      <td>0.000000</td>\n",
       "      <td>0.000000</td>\n",
       "      <td>7525.000000</td>\n",
       "      <td>0.000000e+00</td>\n",
       "      <td>0.000000e+00</td>\n",
       "      <td>0.000000e+00</td>\n",
       "      <td>0.000000e+00</td>\n",
       "      <td>0.000000e+00</td>\n",
       "      <td>0.000000e+00</td>\n",
       "    </tr>\n",
       "    <tr>\n",
       "      <th>25%</th>\n",
       "      <td>18.000000</td>\n",
       "      <td>2.802000e+03</td>\n",
       "      <td>4.260000e+02</td>\n",
       "      <td>52.000000</td>\n",
       "      <td>2.801800e+03</td>\n",
       "      <td>4.261619e+02</td>\n",
       "      <td>52.049968</td>\n",
       "      <td>52.000000</td>\n",
       "      <td>52.049968</td>\n",
       "      <td>10157.000000</td>\n",
       "      <td>2.617935e+05</td>\n",
       "      <td>0.000000e+00</td>\n",
       "      <td>1.924048e+05</td>\n",
       "      <td>2.610588e+05</td>\n",
       "      <td>0.000000e+00</td>\n",
       "      <td>1.927613e+05</td>\n",
       "    </tr>\n",
       "    <tr>\n",
       "      <th>50%</th>\n",
       "      <td>30.000000</td>\n",
       "      <td>7.911000e+03</td>\n",
       "      <td>1.186000e+03</td>\n",
       "      <td>147.000000</td>\n",
       "      <td>7.910913e+03</td>\n",
       "      <td>1.186040e+03</td>\n",
       "      <td>147.096354</td>\n",
       "      <td>147.000000</td>\n",
       "      <td>147.096354</td>\n",
       "      <td>12159.000000</td>\n",
       "      <td>7.504039e+05</td>\n",
       "      <td>0.000000e+00</td>\n",
       "      <td>7.283281e+05</td>\n",
       "      <td>7.500683e+05</td>\n",
       "      <td>0.000000e+00</td>\n",
       "      <td>7.277684e+05</td>\n",
       "    </tr>\n",
       "    <tr>\n",
       "      <th>75%</th>\n",
       "      <td>40.000000</td>\n",
       "      <td>2.101825e+04</td>\n",
       "      <td>3.222000e+03</td>\n",
       "      <td>411.000000</td>\n",
       "      <td>2.101793e+04</td>\n",
       "      <td>3.221953e+03</td>\n",
       "      <td>411.120620</td>\n",
       "      <td>411.000000</td>\n",
       "      <td>411.120620</td>\n",
       "      <td>15780.000000</td>\n",
       "      <td>2.076117e+06</td>\n",
       "      <td>9.130432e+05</td>\n",
       "      <td>2.294255e+06</td>\n",
       "      <td>2.076913e+06</td>\n",
       "      <td>9.115433e+05</td>\n",
       "      <td>2.293361e+06</td>\n",
       "    </tr>\n",
       "    <tr>\n",
       "      <th>max</th>\n",
       "      <td>56.000000</td>\n",
       "      <td>8.336817e+06</td>\n",
       "      <td>1.193045e+06</td>\n",
       "      <td>259012.000000</td>\n",
       "      <td>8.336817e+06</td>\n",
       "      <td>1.193044e+06</td>\n",
       "      <td>259012.325704</td>\n",
       "      <td>259012.000000</td>\n",
       "      <td>259012.325704</td>\n",
       "      <td>22845.000000</td>\n",
       "      <td>1.619697e+09</td>\n",
       "      <td>1.619697e+09</td>\n",
       "      <td>4.714287e+09</td>\n",
       "      <td>1.619699e+09</td>\n",
       "      <td>1.619699e+09</td>\n",
       "      <td>4.714293e+09</td>\n",
       "    </tr>\n",
       "  </tbody>\n",
       "</table>\n",
       "</div>"
      ],
      "text/plain": [
       "       State FIPS Code  true_pop_total  true_children_total  \\\n",
       "count     13182.000000    1.318200e+04         1.318200e+04   \n",
       "mean         29.561751    2.651938e+04         4.049290e+03   \n",
       "std          14.644764    1.155746e+05         1.728792e+04   \n",
       "min           1.000000    0.000000e+00         0.000000e+00   \n",
       "25%          18.000000    2.802000e+03         4.260000e+02   \n",
       "50%          30.000000    7.911000e+03         1.186000e+03   \n",
       "75%          40.000000    2.101825e+04         3.222000e+03   \n",
       "max          56.000000    8.336817e+06         1.193045e+06   \n",
       "\n",
       "       true_children_poverty  est_pop_total  est_children_total  \\\n",
       "count           13182.000000   1.318200e+04        1.318200e+04   \n",
       "mean              625.253224   2.651938e+04        4.049290e+03   \n",
       "std              3467.140325   1.155746e+05        1.728792e+04   \n",
       "min                 0.000000   0.000000e+00        0.000000e+00   \n",
       "25%                52.000000   2.801800e+03        4.261619e+02   \n",
       "50%               147.000000   7.910913e+03        1.186040e+03   \n",
       "75%               411.000000   2.101793e+04        3.221953e+03   \n",
       "max            259012.000000   8.336817e+06        1.193044e+06   \n",
       "\n",
       "       est_children_poverty  true_children_eligible  est_children_eligible  \\\n",
       "count          13182.000000            13182.000000           13182.000000   \n",
       "mean             625.254787              625.253224             625.254787   \n",
       "std             3467.138936             3467.140325            3467.138936   \n",
       "min                0.000000                0.000000               0.000000   \n",
       "25%               52.049968               52.000000              52.049968   \n",
       "50%              147.096354              147.000000             147.096354   \n",
       "75%              411.120620              411.000000             411.120620   \n",
       "max           259012.325704           259012.000000          259012.325704   \n",
       "\n",
       "               sppe  true_grant_basic  true_grant_concentration  \\\n",
       "count  13182.000000      1.318200e+04              1.318200e+04   \n",
       "mean   13027.845092      3.026463e+06              2.231939e+06   \n",
       "std     3667.794832      1.912444e+07              1.908713e+07   \n",
       "min     7525.000000      0.000000e+00              0.000000e+00   \n",
       "25%    10157.000000      2.617935e+05              0.000000e+00   \n",
       "50%    12159.000000      7.504039e+05              0.000000e+00   \n",
       "75%    15780.000000      2.076117e+06              9.130432e+05   \n",
       "max    22845.000000      1.619697e+09              1.619697e+09   \n",
       "\n",
       "       true_grant_targeted  est_grant_basic  est_grant_concentration  \\\n",
       "count         1.318200e+04     1.318200e+04             1.318200e+04   \n",
       "mean          5.062192e+06     3.026337e+06             2.231770e+06   \n",
       "std           5.239813e+07     1.912446e+07             1.908714e+07   \n",
       "min           0.000000e+00     0.000000e+00             0.000000e+00   \n",
       "25%           1.924048e+05     2.610588e+05             0.000000e+00   \n",
       "50%           7.283281e+05     7.500683e+05             0.000000e+00   \n",
       "75%           2.294255e+06     2.076913e+06             9.115433e+05   \n",
       "max           4.714287e+09     1.619699e+09             1.619699e+09   \n",
       "\n",
       "       est_grant_targeted  \n",
       "count        1.318200e+04  \n",
       "mean         5.061963e+06  \n",
       "std          5.239812e+07  \n",
       "min          0.000000e+00  \n",
       "25%          1.927613e+05  \n",
       "50%          7.277684e+05  \n",
       "75%          2.293361e+06  \n",
       "max          4.714293e+09  "
      ]
     },
     "execution_count": 32,
     "metadata": {},
     "output_type": "execute_result"
    }
   ],
   "source": [
    "grants = funding(saipe, SonnenbergAuthorizer, Laplace(saipe, 5, 0), get_sppe(\"../data/sppe18.xlsx\"), weighting)\n",
    "grants.describe()"
   ]
  },
  {
   "cell_type": "code",
   "execution_count": 35,
   "id": "b30e2b10",
   "metadata": {},
   "outputs": [
    {
     "name": "stdout",
     "output_type": "stream",
     "text": [
      "0.001 0.0012067926406393288 0.0014563484775012444 0.0017575106248547913 0.0021209508879201904 0.002559547922699536 0.0030888435964774815 0.003727593720314938 0.004498432668969444 0.005428675439323859 0.006551285568595509 0.0079060432109077 0.009540954763499945 0.01151395399326447 0.013894954943731374 0.016768329368110076 0.020235896477251564 0.02442053094548651 0.029470517025518096 0.03556480306223129 0.04291934260128776 0.0517947467923121 0.0625055192527397 0.07543120063354615 0.09102981779915217 0.10985411419875583 0.13257113655901082 0.15998587196060574 0.19306977288832497 0.2329951810515372 0.2811768697974228 0.3393221771895326 0.4094915062380423 0.49417133613238334 0.5963623316594643 0.7196856730011514 0.868511373751352 1.0481131341546852 1.2648552168552958 1.5264179671752318 1.8420699693267144 2.2229964825261934 2.6826957952797246 3.2374575428176433 3.906939937054613 4.714866363457389 5.689866029018293 6.866488450042998 8.286427728546842 10.0 2.5 "
     ]
    }
   ],
   "source": [
    "# rmse basic\n",
    "eps = list(np.logspace(-3, 1)) + [2.5]\n",
    "allocations = []\n",
    "for e in eps:\n",
    "    print(e, end=\" \")\n",
    "    allocations.append(funding(saipe, SonnenbergAuthorizer, Laplace(saipe, e, 0), get_sppe(\"../data/sppe18.xlsx\"), weighting, verbose=False))"
   ]
  },
  {
   "cell_type": "code",
   "execution_count": 70,
   "id": "603d2f58",
   "metadata": {},
   "outputs": [
    {
     "name": "stdout",
     "output_type": "stream",
     "text": [
      "## basic grants ##\n",
      "RMSE at eps=2.5: 4126.88864439197\n",
      "Total misalloc at eps=2.5: 27079924.77652428\n",
      "Total true alloc: 39894838662.272514\n"
     ]
    },
    {
     "data": {
      "image/png": "[encoded data removed]",
      "text/plain": [
       "<Figure size 432x288 with 1 Axes>"
      ]
     },
     "metadata": {
      "needs_background": "light"
     },
     "output_type": "display_data"
    },
    {
     "data": {
      "image/png": "[encoded data removed]",
      "text/plain": [
       "<Figure size 432x288 with 1 Axes>"
      ]
     },
     "metadata": {
      "needs_background": "light"
     },
     "output_type": "display_data"
    },
    {
     "name": "stderr",
     "output_type": "stream",
     "text": [
      "<ipython-input-70-8232b118f5a6>:37: SettingWithCopyWarning: \n",
      "A value is trying to be set on a copy of a slice from a DataFrame.\n",
      "Try using .loc[row_indexer,col_indexer] = value instead\n",
      "\n",
      "See the caveats in the documentation: https://pandas.pydata.org/pandas-docs/stable/user_guide/indexing.html#returning-a-view-versus-a-copy\n",
      "  alloc['err_prop'] = (alloc[f\"est_grant_{grant_type}\"]/sum(alloc[f\"est_grant_{grant_type}\"]) - alloc[f\"true_grant_{grant_type}\"]/sum(alloc[f\"true_grant_{grant_type}\"])) * 1e6\n"
     ]
    },
    {
     "data": {
      "image/png": "[encoded data removed]",
      "text/plain": [
       "<Figure size 432x288 with 1 Axes>"
      ]
     },
     "metadata": {
      "needs_background": "light"
     },
     "output_type": "display_data"
    },
    {
     "name": "stdout",
     "output_type": "stream",
     "text": [
      "## concentration grants ##\n",
      "RMSE at eps=2.5: 23802.2655318789\n",
      "Total misalloc at eps=2.5: 23885090.729607593\n",
      "Total true alloc: 29421416873.03583\n"
     ]
    },
    {
     "data": {
      "image/png": "[encoded data removed]",
      "text/plain": [
       "<Figure size 432x288 with 1 Axes>"
      ]
     },
     "metadata": {
      "needs_background": "light"
     },
     "output_type": "display_data"
    },
    {
     "data": {
      "image/png": "[encoded data removed]",
      "text/plain": [
       "<Figure size 432x288 with 1 Axes>"
      ]
     },
     "metadata": {
      "needs_background": "light"
     },
     "output_type": "display_data"
    },
    {
     "data": {
      "image/png": "[encoded data removed]",
      "text/plain": [
       "<Figure size 432x288 with 1 Axes>"
      ]
     },
     "metadata": {
      "needs_background": "light"
     },
     "output_type": "display_data"
    },
    {
     "name": "stdout",
     "output_type": "stream",
     "text": [
      "## targeted grants ##\n",
      "RMSE at eps=2.5: 15955.701215124382\n",
      "Total misalloc at eps=2.5: 41889378.59896955\n",
      "Total true alloc: 66729811774.698265\n"
     ]
    },
    {
     "data": {
      "image/png": "[encoded data removed]",
      "text/plain": [
       "<Figure size 432x288 with 1 Axes>"
      ]
     },
     "metadata": {
      "needs_background": "light"
     },
     "output_type": "display_data"
    },
    {
     "data": {
      "image/png": "[encoded data removed]",
      "text/plain": [
       "<Figure size 432x288 with 1 Axes>"
      ]
     },
     "metadata": {
      "needs_background": "light"
     },
     "output_type": "display_data"
    },
    {
     "data": {
      "image/png": "[encoded data removed]",
      "text/plain": [
       "<Figure size 432x288 with 1 Axes>"
      ]
     },
     "metadata": {
      "needs_background": "light"
     },
     "output_type": "display_data"
    }
   ],
   "source": [
    "for grant_type in (\"basic\", \"concentration\", \"targeted\"):\n",
    "    print(f\"## {grant_type} grants ##\")\n",
    "    mse = []\n",
    "    for alloc, e in zip(allocations, eps):\n",
    "        error = alloc[f\"true_grant_{grant_type}\"]-alloc[f\"est_grant_{grant_type}\"]\n",
    "        mse.append(np.sqrt(sum(error**2)/alloc.shape[0]))\n",
    "        if (e == 2.5):\n",
    "            print(\"RMSE at eps=2.5:\", np.sqrt(np.mean(error**2)))\n",
    "            print(\"Total misalloc at eps=2.5:\", sum(abs(error)))\n",
    "            print(\"Total true alloc:\", sum(alloc[f\"true_grant_{grant_type}\"]))\n",
    "\n",
    "    plt.plot(eps, mse)\n",
    "    ax = plt.gca()\n",
    "    ax.set_xscale('log')\n",
    "    plt.xlabel(\"Epsilon\")\n",
    "    plt.ylabel(f\"{grant_type} grant RMSE, nationally\")\n",
    "    plt.show()\n",
    "    \n",
    "    for i in [0, 25, -2]:\n",
    "        e = eps[i]\n",
    "        alloc = allocations[i][allocations[i][\"State Postal Code\"] == \"MI\"]\n",
    "        alloc = alloc.sort_values(f\"true_grant_{grant_type}\")\n",
    "        plt.scatter(alloc.index.astype('str'), alloc[f\"est_grant_{grant_type}\"]/sum(alloc[f\"est_grant_{grant_type}\"]), s=2, alpha=0.3, label=f\"eps={e}\")\n",
    "    plt.scatter(alloc.index.astype('str'), alloc[f\"true_grant_{grant_type}\"]/sum(alloc[f\"true_grant_{grant_type}\"]), s=2, alpha=0.3, label=\"true\")\n",
    "    ax = plt.gca()\n",
    "    ax.legend()\n",
    "    ax.axes.xaxis.set_ticks([])\n",
    "    ax.set_yscale('log')\n",
    "    plt.xlabel(\"District (sorted by true alloc)\")\n",
    "    plt.ylabel(\"Allocation (as %)\")\n",
    "    plt.title(f\"{grant_type} grants for Michigan\")\n",
    "    plt.show()\n",
    "    \n",
    "    for i in [0, 25, -2]:\n",
    "        e = eps[i]\n",
    "        alloc = allocations[i][allocations[i][\"State Postal Code\"] == \"MI\"]\n",
    "        alloc['err_prop'] = (alloc[f\"est_grant_{grant_type}\"]/sum(alloc[f\"est_grant_{grant_type}\"]) - alloc[f\"true_grant_{grant_type}\"]/sum(alloc[f\"true_grant_{grant_type}\"])) * 1e6\n",
    "        plt.scatter(alloc[f\"true_grant_{grant_type}\"]/sum(alloc[f\"true_grant_{grant_type}\"]), alloc.err_prop, s=3, alpha=0.4, label=f\"eps={e}\")\n",
    "    ax = plt.gca()\n",
    "    ax.legend()\n",
    "    ax.set_xscale('log')\n",
    "    ax.set_yscale('log')\n",
    "    plt.xlabel(\"True allocation as % of total\")\n",
    "    plt.ylabel(\"Misallocation per million as % of total\")\n",
    "    plt.title(f\"{grant_type} grants for Michigan\")\n",
    "    plt.show()"
   ]
  },
  {
   "cell_type": "markdown",
   "id": "4d8aa763",
   "metadata": {},
   "source": [
    "### Sanity check: using Abowd's method\n",
    "\n",
    "Abowd reported a mean squared SPPE of 20 million from 2014-15 data."
   ]
  },
  {
   "cell_type": "code",
   "execution_count": 73,
   "id": "330e4451",
   "metadata": {},
   "outputs": [
    {
     "name": "stdout",
     "output_type": "stream",
     "text": [
      "[WARN] Dropping districts with missing SPPE data: ['Puerto Rico']\n",
      "Mean Sq. SPPE (2018): 26235395.69087739\n"
     ]
    }
   ],
   "source": [
    "grants = funding(saipe, AbowdAllocator, Laplace(saipe, 2.52, 0), get_sppe(\"../data/sppe18.xlsx\"), weighting)\n",
    "print(\"Mean Sq. SPPE (2018):\", np.mean(grants.adj_sppe**2))"
   ]
  },
  {
   "cell_type": "markdown",
   "id": "bbbcc735",
   "metadata": {},
   "source": [
    "They also report an RMSE at e=2.52 of 2509 (again, using 2014-15 Common Core data, which I can't replicate) and 1334 at e=4.74 and 63000 at e=0.1. "
   ]
  },
  {
   "cell_type": "code",
   "execution_count": 68,
   "id": "61e01951",
   "metadata": {},
   "outputs": [
    {
     "data": {
      "text/plain": [
       "2893.268436870339"
      ]
     },
     "execution_count": 68,
     "metadata": {},
     "output_type": "execute_result"
    }
   ],
   "source": [
    "# RMSE\n",
    "error = grants.true_allocation - grants.est_allocation\n",
    "np.sqrt(np.mean(error**2))"
   ]
  },
  {
   "cell_type": "code",
   "execution_count": 74,
   "id": "01b69fcb",
   "metadata": {},
   "outputs": [
    {
     "name": "stdout",
     "output_type": "stream",
     "text": [
      "[WARN] Dropping districts with missing SPPE data: ['Puerto Rico']\n"
     ]
    },
    {
     "data": {
      "text/plain": [
       "1517.1351556922623"
      ]
     },
     "execution_count": 74,
     "metadata": {},
     "output_type": "execute_result"
    }
   ],
   "source": [
    "grants = funding(saipe, AbowdAllocator, Laplace(saipe, 4.74, 0), get_sppe(\"../data/sppe18.xlsx\"), weighting)\n",
    "error = grants.true_allocation - grants.est_allocation\n",
    "np.sqrt(np.mean(error**2))"
   ]
  },
  {
   "cell_type": "code",
   "execution_count": 76,
   "id": "be0113be",
   "metadata": {},
   "outputs": [
    {
     "name": "stdout",
     "output_type": "stream",
     "text": [
      "[WARN] Dropping districts with missing SPPE data: ['Puerto Rico']\n"
     ]
    },
    {
     "data": {
      "text/plain": [
       "70807.21678966618"
      ]
     },
     "execution_count": 76,
     "metadata": {},
     "output_type": "execute_result"
    }
   ],
   "source": [
    "grants = funding(saipe, AbowdAllocator, Laplace(saipe, 0.1, 0), get_sppe(\"../data/sppe18.xlsx\"), weighting)\n",
    "error = grants.true_allocation - grants.est_allocation\n",
    "np.sqrt(np.mean(error**2))"
   ]
  },
  {
   "cell_type": "markdown",
   "id": "96ab5e34",
   "metadata": {},
   "source": [
    "So we get some small differences due to inflation or due to other differences in data, but roughly the same values. Biggest difference is in SPPE - apparenlty spending has increased since 2014."
   ]
  },
  {
   "cell_type": "markdown",
   "id": "10abc6d8",
   "metadata": {},
   "source": [
    "### Uncertainty"
   ]
  },
  {
   "cell_type": "markdown",
   "id": "24f04d8a",
   "metadata": {},
   "source": [
    "The simplest approximate measure of uncertainty is given by the Census's median coefficient of varation in the poverty estimates for each district. We can construct a confidence interval for each allocation as follows, ignoring variance due to missing cutoffs (for now) by using the Abowd method."
   ]
  },
  {
   "cell_type": "code",
   "execution_count": 16,
   "id": "c2c8d378",
   "metadata": {},
   "outputs": [
    {
     "name": "stdout",
     "output_type": "stream",
     "text": [
      "[WARN] Dropping districts with missing SPPE data: ['Puerto Rico']\n"
     ]
    },
    {
     "data": {
      "text/html": [
       "<div>\n",
       "<style scoped>\n",
       "    .dataframe tbody tr th:only-of-type {\n",
       "        vertical-align: middle;\n",
       "    }\n",
       "\n",
       "    .dataframe tbody tr th {\n",
       "        vertical-align: top;\n",
       "    }\n",
       "\n",
       "    .dataframe thead th {\n",
       "        text-align: right;\n",
       "    }\n",
       "</style>\n",
       "<table border=\"1\" class=\"dataframe\">\n",
       "  <thead>\n",
       "    <tr style=\"text-align: right;\">\n",
       "      <th></th>\n",
       "      <th>State Postal Code</th>\n",
       "      <th>State FIPS Code</th>\n",
       "      <th>Name</th>\n",
       "      <th>true_pop_total</th>\n",
       "      <th>true_children_total</th>\n",
       "      <th>true_children_poverty</th>\n",
       "      <th>median_cv</th>\n",
       "      <th>est_pop_total</th>\n",
       "      <th>est_children_total</th>\n",
       "      <th>est_children_poverty</th>\n",
       "      <th>true_children_eligible</th>\n",
       "      <th>est_children_eligible</th>\n",
       "      <th>sppe</th>\n",
       "      <th>adj_sppe</th>\n",
       "      <th>true_allocation</th>\n",
       "      <th>est_allocation</th>\n",
       "    </tr>\n",
       "  </thead>\n",
       "  <tbody>\n",
       "    <tr>\n",
       "      <th>0</th>\n",
       "      <td>AL</td>\n",
       "      <td>1</td>\n",
       "      <td>Alabaster City School District</td>\n",
       "      <td>34669</td>\n",
       "      <td>6710</td>\n",
       "      <td>649</td>\n",
       "      <td>0.23</td>\n",
       "      <td>34669.691496</td>\n",
       "      <td>6709.893994</td>\n",
       "      <td>649.042059</td>\n",
       "      <td>649</td>\n",
       "      <td>649.042059</td>\n",
       "      <td>9697.0</td>\n",
       "      <td>4168.910429</td>\n",
       "      <td>2.705623e+06</td>\n",
       "      <td>2.705798e+06</td>\n",
       "    </tr>\n",
       "    <tr>\n",
       "      <th>1</th>\n",
       "      <td>AL</td>\n",
       "      <td>1</td>\n",
       "      <td>Albertville City School District</td>\n",
       "      <td>22051</td>\n",
       "      <td>4131</td>\n",
       "      <td>957</td>\n",
       "      <td>0.23</td>\n",
       "      <td>22051.245362</td>\n",
       "      <td>4130.972920</td>\n",
       "      <td>955.888237</td>\n",
       "      <td>957</td>\n",
       "      <td>955.888237</td>\n",
       "      <td>9697.0</td>\n",
       "      <td>4168.910429</td>\n",
       "      <td>3.989647e+06</td>\n",
       "      <td>3.985012e+06</td>\n",
       "    </tr>\n",
       "    <tr>\n",
       "      <th>2</th>\n",
       "      <td>AL</td>\n",
       "      <td>1</td>\n",
       "      <td>Alexander City City School District</td>\n",
       "      <td>16920</td>\n",
       "      <td>2575</td>\n",
       "      <td>703</td>\n",
       "      <td>0.28</td>\n",
       "      <td>16919.367444</td>\n",
       "      <td>2574.358764</td>\n",
       "      <td>703.120523</td>\n",
       "      <td>703</td>\n",
       "      <td>703.120523</td>\n",
       "      <td>9697.0</td>\n",
       "      <td>4168.910429</td>\n",
       "      <td>2.930744e+06</td>\n",
       "      <td>2.931246e+06</td>\n",
       "    </tr>\n",
       "    <tr>\n",
       "      <th>3</th>\n",
       "      <td>AL</td>\n",
       "      <td>1</td>\n",
       "      <td>Andalusia City School District</td>\n",
       "      <td>8842</td>\n",
       "      <td>1465</td>\n",
       "      <td>406</td>\n",
       "      <td>0.35</td>\n",
       "      <td>8843.047741</td>\n",
       "      <td>1464.756734</td>\n",
       "      <td>406.161921</td>\n",
       "      <td>406</td>\n",
       "      <td>406.161921</td>\n",
       "      <td>9697.0</td>\n",
       "      <td>4168.910429</td>\n",
       "      <td>1.692578e+06</td>\n",
       "      <td>1.693253e+06</td>\n",
       "    </tr>\n",
       "    <tr>\n",
       "      <th>4</th>\n",
       "      <td>AL</td>\n",
       "      <td>1</td>\n",
       "      <td>Anniston City School District</td>\n",
       "      <td>22043</td>\n",
       "      <td>3065</td>\n",
       "      <td>1057</td>\n",
       "      <td>0.23</td>\n",
       "      <td>22042.863768</td>\n",
       "      <td>3064.987154</td>\n",
       "      <td>1056.906431</td>\n",
       "      <td>1057</td>\n",
       "      <td>1056.906431</td>\n",
       "      <td>9697.0</td>\n",
       "      <td>4168.910429</td>\n",
       "      <td>4.406538e+06</td>\n",
       "      <td>4.406148e+06</td>\n",
       "    </tr>\n",
       "  </tbody>\n",
       "</table>\n",
       "</div>"
      ],
      "text/plain": [
       "  State Postal Code  State FIPS Code                                 Name  \\\n",
       "0                AL                1       Alabaster City School District   \n",
       "1                AL                1     Albertville City School District   \n",
       "2                AL                1  Alexander City City School District   \n",
       "3                AL                1       Andalusia City School District   \n",
       "4                AL                1        Anniston City School District   \n",
       "\n",
       "   true_pop_total  true_children_total  true_children_poverty  median_cv  \\\n",
       "0           34669                 6710                    649       0.23   \n",
       "1           22051                 4131                    957       0.23   \n",
       "2           16920                 2575                    703       0.28   \n",
       "3            8842                 1465                    406       0.35   \n",
       "4           22043                 3065                   1057       0.23   \n",
       "\n",
       "   est_pop_total  est_children_total  est_children_poverty  \\\n",
       "0   34669.691496         6709.893994            649.042059   \n",
       "1   22051.245362         4130.972920            955.888237   \n",
       "2   16919.367444         2574.358764            703.120523   \n",
       "3    8843.047741         1464.756734            406.161921   \n",
       "4   22042.863768         3064.987154           1056.906431   \n",
       "\n",
       "   true_children_eligible  est_children_eligible    sppe     adj_sppe  \\\n",
       "0                     649             649.042059  9697.0  4168.910429   \n",
       "1                     957             955.888237  9697.0  4168.910429   \n",
       "2                     703             703.120523  9697.0  4168.910429   \n",
       "3                     406             406.161921  9697.0  4168.910429   \n",
       "4                    1057            1056.906431  9697.0  4168.910429   \n",
       "\n",
       "   true_allocation  est_allocation  \n",
       "0     2.705623e+06    2.705798e+06  \n",
       "1     3.989647e+06    3.985012e+06  \n",
       "2     2.930744e+06    2.931246e+06  \n",
       "3     1.692578e+06    1.693253e+06  \n",
       "4     4.406538e+06    4.406148e+06  "
      ]
     },
     "execution_count": 16,
     "metadata": {},
     "output_type": "execute_result"
    }
   ],
   "source": [
    "grants = funding(saipe, AbowdAllocator, Laplace(saipe, 2.52, 0), get_sppe(\"../data/sppe18.xlsx\"), weighting)\n",
    "grants.head()"
   ]
  },
  {
   "cell_type": "code",
   "execution_count": 35,
   "id": "51eca218",
   "metadata": {},
   "outputs": [
    {
     "data": {
      "image/png": "[encoded data removed]",
      "text/plain": [
       "<Figure size 432x288 with 1 Axes>"
      ]
     },
     "metadata": {
      "needs_background": "light"
     },
     "output_type": "display_data"
    }
   ],
   "source": [
    "grants = grants[grants[\"State Postal Code\"] == \"MI\"].sort_values(\"true_allocation\")\n",
    "x = grants.index.astype('str')\n",
    "y = grants.true_allocation / sum(grants.true_allocation)\n",
    "plt.plot(x, y)\n",
    "ax = plt.gca()\n",
    "prop_ci = 1.96 * grants.median_cv * y\n",
    "ax.fill_between(x, (y-prop_ci), (y+prop_ci), color='b', alpha=0.1)\n",
    "\n",
    "plt.plot(x, grants.est_allocation / sum(grants.est_allocation))\n",
    "\n",
    "ax.axes.xaxis.set_ticks([])\n",
    "ax.set_yscale('log')\n",
    "plt.xlabel(\"District (sorted by true alloc)\")\n",
    "plt.ylabel(\"True allocation (as %)\")\n",
    "plt.title(f\"Grants for Michigan\")\n",
    "plt.show()"
   ]
  },
  {
   "cell_type": "code",
   "execution_count": 49,
   "id": "2a11a510",
   "metadata": {},
   "outputs": [
    {
     "data": {
      "image/png": "[encoded data removed]",
      "text/plain": [
       "<Figure size 432x288 with 1 Axes>"
      ]
     },
     "metadata": {
      "needs_background": "light"
     },
     "output_type": "display_data"
    }
   ],
   "source": [
    "grants = grants[grants[\"State Postal Code\"] == \"MI\"].sort_values(\"true_allocation\")\n",
    "x = grants.index.astype('str')\n",
    "y = np.abs(grants.true_allocation - grants.est_allocation)\n",
    "plt.scatter(x, y, s=10)\n",
    "\n",
    "ax = plt.gca()\n",
    "ci = 1.96 * grants.median_cv * grants.true_allocation\n",
    "ax.fill_between(x, ci, color='r', alpha=0.1)\n",
    "\n",
    "ax.axes.xaxis.set_ticks([])\n",
    "ax.set_yscale('log')\n",
    "plt.xlabel(\"District (sorted by true alloc)\")\n",
    "plt.ylabel(\"True allocation (as %)\")\n",
    "plt.title(f\"Grants for Michigan\")\n",
    "plt.show()"
   ]
  },
  {
   "cell_type": "code",
   "execution_count": null,
   "id": "8c40d8b9",
   "metadata": {},
   "outputs": [],
   "source": []
  }
 ],
 "metadata": {
  "kernelspec": {
   "display_name": "Python 3",
   "language": "python",
   "name": "python3"
  },
  "language_info": {
   "codemirror_mode": {
    "name": "ipython",
    "version": 3
   },
   "file_extension": ".py",
   "mimetype": "text/x-python",
   "name": "python",
   "nbconvert_exporter": "python",
   "pygments_lexer": "ipython3",
   "version": "3.9.2"
  }
 },
 "nbformat": 4,
 "nbformat_minor": 5
}
