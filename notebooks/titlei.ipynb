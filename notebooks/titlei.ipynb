{
 "cells": [
  {
   "cell_type": "markdown",
   "id": "ade7e8e0",
   "metadata": {},
   "source": [
    "# Title I Allocations w/ DP ACS"
   ]
  },
  {
   "cell_type": "markdown",
   "id": "14463d1d",
   "metadata": {},
   "source": [
    "## Algorithm"
   ]
  },
  {
   "cell_type": "markdown",
   "id": "3777f9b9",
   "metadata": {},
   "source": [
    "### Data\n",
    "Need state per-pupil expenditure (SPPE) from the NCES. Most recent I can find in <5min is the [FY '18 data](https://nces.ed.gov/pubsearch/pubsinfo.asp?pubid=2020308).\n",
    "\n",
    "Had to use an online tool to convert Table 2 of [this report](https://nces.ed.gov/pubs2020/2020308.pdf)."
   ]
  },
  {
   "cell_type": "code",
   "execution_count": 1,
   "id": "c2eb04d8",
   "metadata": {},
   "outputs": [
    {
     "data": {
      "text/html": [
       "<div>\n",
       "<style scoped>\n",
       "    .dataframe tbody tr th:only-of-type {\n",
       "        vertical-align: middle;\n",
       "    }\n",
       "\n",
       "    .dataframe tbody tr th {\n",
       "        vertical-align: top;\n",
       "    }\n",
       "\n",
       "    .dataframe thead th {\n",
       "        text-align: right;\n",
       "    }\n",
       "</style>\n",
       "<table border=\"1\" class=\"dataframe\">\n",
       "  <thead>\n",
       "    <tr style=\"text-align: right;\">\n",
       "      <th></th>\n",
       "      <th>state</th>\n",
       "      <th>ppe</th>\n",
       "      <th>abbrv</th>\n",
       "    </tr>\n",
       "  </thead>\n",
       "  <tbody>\n",
       "    <tr>\n",
       "      <th>0</th>\n",
       "      <td>Alabama</td>\n",
       "      <td>9697</td>\n",
       "      <td>AL</td>\n",
       "    </tr>\n",
       "    <tr>\n",
       "      <th>1</th>\n",
       "      <td>Alaska</td>\n",
       "      <td>17726</td>\n",
       "      <td>AK</td>\n",
       "    </tr>\n",
       "    <tr>\n",
       "      <th>2</th>\n",
       "      <td>American Samoa</td>\n",
       "      <td>NaN</td>\n",
       "      <td>AS</td>\n",
       "    </tr>\n",
       "    <tr>\n",
       "      <th>3</th>\n",
       "      <td>Arizona</td>\n",
       "      <td>8296</td>\n",
       "      <td>AZ</td>\n",
       "    </tr>\n",
       "    <tr>\n",
       "      <th>4</th>\n",
       "      <td>Arkansas</td>\n",
       "      <td>10072</td>\n",
       "      <td>AR</td>\n",
       "    </tr>\n",
       "  </tbody>\n",
       "</table>\n",
       "</div>"
      ],
      "text/plain": [
       "            state    ppe abbrv\n",
       "0         Alabama   9697    AL\n",
       "1          Alaska  17726    AK\n",
       "2  American Samoa    NaN    AS\n",
       "3         Arizona   8296    AZ\n",
       "4        Arkansas  10072    AR"
      ]
     },
     "execution_count": 1,
     "metadata": {},
     "output_type": "execute_result"
    }
   ],
   "source": [
    "%load_ext autoreload\n",
    "%autoreload 2\n",
    "\n",
    "from dp_policy.titlei.utils import get_sppe\n",
    "import pandas as pd\n",
    "\n",
    "sppe = get_sppe(\"../data/sppe18.xlsx\")\n",
    "sppe.head()"
   ]
  },
  {
   "cell_type": "markdown",
   "id": "5743b85a",
   "metadata": {},
   "source": [
    "Also need a dict matching district IDs to district names to states. Simplest to use [SAIPE 2019](https://www2.census.gov/programs-surveys/saipe/datasets/2019/2019-school-districts/) ground-truth."
   ]
  },
  {
   "cell_type": "code",
   "execution_count": 2,
   "id": "e66810fa",
   "metadata": {},
   "outputs": [
    {
     "data": {
      "text/html": [
       "<div>\n",
       "<style scoped>\n",
       "    .dataframe tbody tr th:only-of-type {\n",
       "        vertical-align: middle;\n",
       "    }\n",
       "\n",
       "    .dataframe tbody tr th {\n",
       "        vertical-align: top;\n",
       "    }\n",
       "\n",
       "    .dataframe thead th {\n",
       "        text-align: right;\n",
       "    }\n",
       "</style>\n",
       "<table border=\"1\" class=\"dataframe\">\n",
       "  <thead>\n",
       "    <tr style=\"text-align: right;\">\n",
       "      <th></th>\n",
       "      <th>State Postal Code</th>\n",
       "      <th>State FIPS Code</th>\n",
       "      <th>Name</th>\n",
       "      <th>Estimated Total Population</th>\n",
       "      <th>Estimated Population 5-17</th>\n",
       "      <th>Estimated number of relevant children 5 to 17 years old in poverty who are related to the householder</th>\n",
       "    </tr>\n",
       "    <tr>\n",
       "      <th>District ID</th>\n",
       "      <th></th>\n",
       "      <th></th>\n",
       "      <th></th>\n",
       "      <th></th>\n",
       "      <th></th>\n",
       "      <th></th>\n",
       "    </tr>\n",
       "  </thead>\n",
       "  <tbody>\n",
       "    <tr>\n",
       "      <th>190</th>\n",
       "      <td>AL</td>\n",
       "      <td>1</td>\n",
       "      <td>Alabaster City School District</td>\n",
       "      <td>34669</td>\n",
       "      <td>6710</td>\n",
       "      <td>649</td>\n",
       "    </tr>\n",
       "    <tr>\n",
       "      <th>5</th>\n",
       "      <td>AL</td>\n",
       "      <td>1</td>\n",
       "      <td>Albertville City School District</td>\n",
       "      <td>22051</td>\n",
       "      <td>4131</td>\n",
       "      <td>957</td>\n",
       "    </tr>\n",
       "    <tr>\n",
       "      <th>30</th>\n",
       "      <td>AL</td>\n",
       "      <td>1</td>\n",
       "      <td>Alexander City City School District</td>\n",
       "      <td>16920</td>\n",
       "      <td>2575</td>\n",
       "      <td>703</td>\n",
       "    </tr>\n",
       "    <tr>\n",
       "      <th>60</th>\n",
       "      <td>AL</td>\n",
       "      <td>1</td>\n",
       "      <td>Andalusia City School District</td>\n",
       "      <td>8842</td>\n",
       "      <td>1465</td>\n",
       "      <td>406</td>\n",
       "    </tr>\n",
       "    <tr>\n",
       "      <th>90</th>\n",
       "      <td>AL</td>\n",
       "      <td>1</td>\n",
       "      <td>Anniston City School District</td>\n",
       "      <td>22043</td>\n",
       "      <td>3065</td>\n",
       "      <td>1057</td>\n",
       "    </tr>\n",
       "  </tbody>\n",
       "</table>\n",
       "</div>"
      ],
      "text/plain": [
       "            State Postal Code  State FIPS Code  \\\n",
       "District ID                                      \n",
       "190                        AL                1   \n",
       "5                          AL                1   \n",
       "30                         AL                1   \n",
       "60                         AL                1   \n",
       "90                         AL                1   \n",
       "\n",
       "                                            Name  Estimated Total Population  \\\n",
       "District ID                                                                    \n",
       "190               Alabaster City School District                       34669   \n",
       "5               Albertville City School District                       22051   \n",
       "30           Alexander City City School District                       16920   \n",
       "60                Andalusia City School District                        8842   \n",
       "90                 Anniston City School District                       22043   \n",
       "\n",
       "             Estimated Population 5-17  \\\n",
       "District ID                              \n",
       "190                               6710   \n",
       "5                                 4131   \n",
       "30                                2575   \n",
       "60                                1465   \n",
       "90                                3065   \n",
       "\n",
       "             Estimated number of relevant children 5 to 17 years old in poverty who are related to the householder  \n",
       "District ID                                                                                                         \n",
       "190                                                        649                                                      \n",
       "5                                                          957                                                      \n",
       "30                                                         703                                                      \n",
       "60                                                         406                                                      \n",
       "90                                                        1057                                                      "
      ]
     },
     "execution_count": 2,
     "metadata": {},
     "output_type": "execute_result"
    }
   ],
   "source": [
    "saipe = pd.read_excel(\"../data/saipe19.xls\", header=2).set_index(\"District ID\")\n",
    "saipe.head()"
   ]
  },
  {
   "cell_type": "markdown",
   "id": "39553b65",
   "metadata": {},
   "source": [
    "Also, a method for roughly estimating standard errors for the SAIPE estimates, based on [these published docs](https://www.census.gov/programs-surveys/saipe/guidance/district-estimates.html). This could be improved - but start with this as a shortcut."
   ]
  },
  {
   "cell_type": "code",
   "execution_count": 3,
   "id": "846890cd",
   "metadata": {},
   "outputs": [
    {
     "data": {
      "text/html": [
       "<div>\n",
       "<style scoped>\n",
       "    .dataframe tbody tr th:only-of-type {\n",
       "        vertical-align: middle;\n",
       "    }\n",
       "\n",
       "    .dataframe tbody tr th {\n",
       "        vertical-align: top;\n",
       "    }\n",
       "\n",
       "    .dataframe thead th {\n",
       "        text-align: right;\n",
       "    }\n",
       "</style>\n",
       "<table border=\"1\" class=\"dataframe\">\n",
       "  <thead>\n",
       "    <tr style=\"text-align: right;\">\n",
       "      <th></th>\n",
       "      <th>State Postal Code</th>\n",
       "      <th>State FIPS Code</th>\n",
       "      <th>Name</th>\n",
       "      <th>Estimated Total Population</th>\n",
       "      <th>Estimated Population 5-17</th>\n",
       "      <th>Estimated number of relevant children 5 to 17 years old in poverty who are related to the householder</th>\n",
       "      <th>median_cv</th>\n",
       "    </tr>\n",
       "    <tr>\n",
       "      <th>District ID</th>\n",
       "      <th></th>\n",
       "      <th></th>\n",
       "      <th></th>\n",
       "      <th></th>\n",
       "      <th></th>\n",
       "      <th></th>\n",
       "      <th></th>\n",
       "    </tr>\n",
       "  </thead>\n",
       "  <tbody>\n",
       "    <tr>\n",
       "      <th>190</th>\n",
       "      <td>AL</td>\n",
       "      <td>1</td>\n",
       "      <td>Alabaster City School District</td>\n",
       "      <td>34669</td>\n",
       "      <td>6710</td>\n",
       "      <td>649</td>\n",
       "      <td>0.23</td>\n",
       "    </tr>\n",
       "    <tr>\n",
       "      <th>5</th>\n",
       "      <td>AL</td>\n",
       "      <td>1</td>\n",
       "      <td>Albertville City School District</td>\n",
       "      <td>22051</td>\n",
       "      <td>4131</td>\n",
       "      <td>957</td>\n",
       "      <td>0.23</td>\n",
       "    </tr>\n",
       "    <tr>\n",
       "      <th>30</th>\n",
       "      <td>AL</td>\n",
       "      <td>1</td>\n",
       "      <td>Alexander City City School District</td>\n",
       "      <td>16920</td>\n",
       "      <td>2575</td>\n",
       "      <td>703</td>\n",
       "      <td>0.28</td>\n",
       "    </tr>\n",
       "    <tr>\n",
       "      <th>60</th>\n",
       "      <td>AL</td>\n",
       "      <td>1</td>\n",
       "      <td>Andalusia City School District</td>\n",
       "      <td>8842</td>\n",
       "      <td>1465</td>\n",
       "      <td>406</td>\n",
       "      <td>0.35</td>\n",
       "    </tr>\n",
       "    <tr>\n",
       "      <th>90</th>\n",
       "      <td>AL</td>\n",
       "      <td>1</td>\n",
       "      <td>Anniston City School District</td>\n",
       "      <td>22043</td>\n",
       "      <td>3065</td>\n",
       "      <td>1057</td>\n",
       "      <td>0.23</td>\n",
       "    </tr>\n",
       "  </tbody>\n",
       "</table>\n",
       "</div>"
      ],
      "text/plain": [
       "            State Postal Code  State FIPS Code  \\\n",
       "District ID                                      \n",
       "190                        AL                1   \n",
       "5                          AL                1   \n",
       "30                         AL                1   \n",
       "60                         AL                1   \n",
       "90                         AL                1   \n",
       "\n",
       "                                            Name  Estimated Total Population  \\\n",
       "District ID                                                                    \n",
       "190               Alabaster City School District                       34669   \n",
       "5               Albertville City School District                       22051   \n",
       "30           Alexander City City School District                       16920   \n",
       "60                Andalusia City School District                        8842   \n",
       "90                 Anniston City School District                       22043   \n",
       "\n",
       "             Estimated Population 5-17  \\\n",
       "District ID                              \n",
       "190                               6710   \n",
       "5                                 4131   \n",
       "30                                2575   \n",
       "60                                1465   \n",
       "90                                3065   \n",
       "\n",
       "             Estimated number of relevant children 5 to 17 years old in poverty who are related to the householder  \\\n",
       "District ID                                                                                                          \n",
       "190                                                        649                                                       \n",
       "5                                                          957                                                       \n",
       "30                                                         703                                                       \n",
       "60                                                         406                                                       \n",
       "90                                                        1057                                                       \n",
       "\n",
       "             median_cv  \n",
       "District ID             \n",
       "190               0.23  \n",
       "5                 0.23  \n",
       "30                0.28  \n",
       "60                0.35  \n",
       "90                0.23  "
      ]
     },
     "execution_count": 3,
     "metadata": {},
     "output_type": "execute_result"
    }
   ],
   "source": [
    "from dp_policy.titlei.utils import median_cv\n",
    "\n",
    "saipe[\"median_cv\"] = saipe.apply(lambda x: median_cv(x[\"Estimated Total Population\"]), axis=1)\n",
    "saipe.head()"
   ]
  },
  {
   "cell_type": "markdown",
   "id": "41a6fc25",
   "metadata": {},
   "source": [
    "### Code"
   ]
  },
  {
   "cell_type": "code",
   "execution_count": 4,
   "id": "f6ea6c4a",
   "metadata": {},
   "outputs": [],
   "source": [
    "from dp_policy.titlei.mechanisms import GroundTruth"
   ]
  },
  {
   "cell_type": "markdown",
   "id": "7cc8633c",
   "metadata": {},
   "source": [
    "Next, a class for the different ways we might allocate funds based on the poverty estimates (e.g. Abowd's shortcut method vs. the full Sonnenberg method)."
   ]
  },
  {
   "cell_type": "code",
   "execution_count": 5,
   "id": "720d1a51",
   "metadata": {},
   "outputs": [
    {
     "data": {
      "text/plain": [
       "1993.0"
      ]
     },
     "execution_count": 5,
     "metadata": {},
     "output_type": "execute_result"
    }
   ],
   "source": [
    "from dp_policy.titlei.allocators import AbowdAllocator, SonnenbergAuthorizer\n",
    "from dp_policy.titlei.utils import weighting\n",
    "\n",
    "weighting(1559, 10000)"
   ]
  },
  {
   "cell_type": "markdown",
   "id": "0aebfe2f",
   "metadata": {},
   "source": [
    "Finally, the main method for computing estimates, then grant amounts."
   ]
  },
  {
   "cell_type": "code",
   "execution_count": 6,
   "id": "da974593",
   "metadata": {},
   "outputs": [
    {
     "name": "stdout",
     "output_type": "stream",
     "text": [
      "[WARN] Dropping districts with missing SPPE data: ['Puerto Rico']\n"
     ]
    },
    {
     "data": {
      "image/png": "[encoded data removed]",
      "text/plain": [
       "<Figure size 432x288 with 1 Axes>"
      ]
     },
     "metadata": {
      "needs_background": "light"
     },
     "output_type": "display_data"
    },
    {
     "data": {
      "image/png": "[encoded data removed]",
      "text/plain": [
       "<Figure size 432x288 with 1 Axes>"
      ]
     },
     "metadata": {
      "needs_background": "light"
     },
     "output_type": "display_data"
    },
    {
     "data": {
      "image/png": "[encoded data removed]",
      "text/plain": [
       "<Figure size 432x288 with 1 Axes>"
      ]
     },
     "metadata": {
      "needs_background": "light"
     },
     "output_type": "display_data"
    }
   ],
   "source": [
    "import numpy as np\n",
    "import matplotlib.pyplot as plt\n",
    "\n",
    "from dp_policy.api import titlei_funding as funding\n",
    "\n",
    "# Test with ground truth mechanism\n",
    "grants = funding(saipe, SonnenbergAuthorizer, GroundTruth(saipe), get_sppe(\"../data/sppe18.xlsx\"), weighting)\n",
    "grants.boxplot('true_grant_basic')\n",
    "plt.show()\n",
    "grants.boxplot('true_grant_concentration')\n",
    "plt.show()\n",
    "grants.boxplot('true_grant_targeted')\n",
    "plt.show()"
   ]
  },
  {
   "cell_type": "markdown",
   "id": "4c135c6e",
   "metadata": {},
   "source": [
    "## Laplace\n",
    "### Data\n",
    "From [SAIPE 2019](https://www2.census.gov/programs-surveys/saipe/datasets/2019/2019-school-districts/) release."
   ]
  },
  {
   "cell_type": "markdown",
   "id": "f2ff3458",
   "metadata": {},
   "source": [
    "### Mechanism"
   ]
  },
  {
   "cell_type": "code",
   "execution_count": 7,
   "id": "b4e6f13b",
   "metadata": {},
   "outputs": [
    {
     "name": "stdout",
     "output_type": "stream",
     "text": [
      "After estimation, privacy acc: (epsilon=0, delta=0.0)\n"
     ]
    },
    {
     "data": {
      "text/plain": [
       "(District ID\n",
       " 190     3.467406e+04\n",
       " 5       2.200819e+04\n",
       " 30      1.690265e+04\n",
       " 60      8.830932e+03\n",
       " 90      2.204648e+04\n",
       "             ...     \n",
       " 6240    7.103562e+03\n",
       " 5820    6.183290e+02\n",
       " 4830    5.488676e+03\n",
       " 6090    1.458294e+03\n",
       " 30      3.193697e+06\n",
       " Name: Estimated Total Population, Length: 13184, dtype: float64,\n",
       " District ID\n",
       " 190       6697.224330\n",
       " 5         4141.837102\n",
       " 30        2571.850512\n",
       " 60        1473.186938\n",
       " 90        3074.228281\n",
       "             ...      \n",
       " 6240      1297.185052\n",
       " 5820        98.206707\n",
       " 4830       830.956397\n",
       " 6090       250.882883\n",
       " 30      455229.741990\n",
       " Name: Estimated Population 5-17, Length: 13184, dtype: float64,\n",
       " District ID\n",
       " 190        638.110594\n",
       " 5          943.220196\n",
       " 30         717.057805\n",
       " 60         408.750987\n",
       " 90        1055.518215\n",
       "             ...      \n",
       " 6240       152.505671\n",
       " 5820         1.648289\n",
       " 4830       108.039212\n",
       " 6090         1.088709\n",
       " 30      248604.301333\n",
       " Name: Estimated number of relevant children 5 to 17 years old in poverty who are related to the householder, Length: 13184, dtype: float64)"
      ]
     },
     "execution_count": 7,
     "metadata": {},
     "output_type": "execute_result"
    }
   ],
   "source": [
    "from dp_policy.titlei.mechanisms import Laplace\n",
    "        \n",
    "Laplace(saipe, 0.1, 0).poverty_estimates()"
   ]
  },
  {
   "cell_type": "markdown",
   "id": "188d77b9",
   "metadata": {},
   "source": [
    "### Results\n",
    "First, using the full Sonnenberg authorization algo."
   ]
  },
  {
   "cell_type": "code",
   "execution_count": 8,
   "id": "89569dc5",
   "metadata": {},
   "outputs": [
    {
     "name": "stdout",
     "output_type": "stream",
     "text": [
      "After estimation, privacy acc: (epsilon=0, delta=0.0)\n",
      "[WARN] Dropping districts with missing SPPE data: ['Puerto Rico']\n"
     ]
    },
    {
     "data": {
      "text/html": [
       "<div>\n",
       "<style scoped>\n",
       "    .dataframe tbody tr th:only-of-type {\n",
       "        vertical-align: middle;\n",
       "    }\n",
       "\n",
       "    .dataframe tbody tr th {\n",
       "        vertical-align: top;\n",
       "    }\n",
       "\n",
       "    .dataframe thead th {\n",
       "        text-align: right;\n",
       "    }\n",
       "</style>\n",
       "<table border=\"1\" class=\"dataframe\">\n",
       "  <thead>\n",
       "    <tr style=\"text-align: right;\">\n",
       "      <th></th>\n",
       "      <th>State FIPS Code</th>\n",
       "      <th>true_pop_total</th>\n",
       "      <th>true_children_total</th>\n",
       "      <th>true_children_poverty</th>\n",
       "      <th>median_cv</th>\n",
       "      <th>est_pop_total</th>\n",
       "      <th>est_children_total</th>\n",
       "      <th>est_children_poverty</th>\n",
       "      <th>true_children_eligible</th>\n",
       "      <th>est_children_eligible</th>\n",
       "      <th>sppe</th>\n",
       "      <th>true_grant_basic</th>\n",
       "      <th>true_grant_concentration</th>\n",
       "      <th>true_grant_targeted</th>\n",
       "      <th>est_grant_basic</th>\n",
       "      <th>est_grant_concentration</th>\n",
       "      <th>est_grant_targeted</th>\n",
       "    </tr>\n",
       "  </thead>\n",
       "  <tbody>\n",
       "    <tr>\n",
       "      <th>count</th>\n",
       "      <td>13182.000000</td>\n",
       "      <td>1.318200e+04</td>\n",
       "      <td>1.318200e+04</td>\n",
       "      <td>13182.000000</td>\n",
       "      <td>13182.000000</td>\n",
       "      <td>1.318200e+04</td>\n",
       "      <td>1.318200e+04</td>\n",
       "      <td>13182.000000</td>\n",
       "      <td>13182.000000</td>\n",
       "      <td>13182.000000</td>\n",
       "      <td>13182.000000</td>\n",
       "      <td>1.318200e+04</td>\n",
       "      <td>1.318200e+04</td>\n",
       "      <td>1.318200e+04</td>\n",
       "      <td>1.318200e+04</td>\n",
       "      <td>1.318200e+04</td>\n",
       "      <td>1.318200e+04</td>\n",
       "    </tr>\n",
       "    <tr>\n",
       "      <th>mean</th>\n",
       "      <td>29.561751</td>\n",
       "      <td>2.651938e+04</td>\n",
       "      <td>4.049290e+03</td>\n",
       "      <td>625.253224</td>\n",
       "      <td>0.383360</td>\n",
       "      <td>2.651938e+04</td>\n",
       "      <td>4.049290e+03</td>\n",
       "      <td>625.253874</td>\n",
       "      <td>625.253224</td>\n",
       "      <td>625.253874</td>\n",
       "      <td>13027.845092</td>\n",
       "      <td>3.026463e+06</td>\n",
       "      <td>2.231939e+06</td>\n",
       "      <td>5.062192e+06</td>\n",
       "      <td>3.026322e+06</td>\n",
       "      <td>2.232440e+06</td>\n",
       "      <td>5.062042e+06</td>\n",
       "    </tr>\n",
       "    <tr>\n",
       "      <th>std</th>\n",
       "      <td>14.644764</td>\n",
       "      <td>1.155746e+05</td>\n",
       "      <td>1.728792e+04</td>\n",
       "      <td>3467.140325</td>\n",
       "      <td>0.171494</td>\n",
       "      <td>1.155746e+05</td>\n",
       "      <td>1.728792e+04</td>\n",
       "      <td>3467.139638</td>\n",
       "      <td>3467.140325</td>\n",
       "      <td>3467.139638</td>\n",
       "      <td>3667.794832</td>\n",
       "      <td>1.912444e+07</td>\n",
       "      <td>1.908713e+07</td>\n",
       "      <td>5.239813e+07</td>\n",
       "      <td>1.912447e+07</td>\n",
       "      <td>1.908714e+07</td>\n",
       "      <td>5.239816e+07</td>\n",
       "    </tr>\n",
       "    <tr>\n",
       "      <th>min</th>\n",
       "      <td>1.000000</td>\n",
       "      <td>0.000000e+00</td>\n",
       "      <td>0.000000e+00</td>\n",
       "      <td>0.000000</td>\n",
       "      <td>0.150000</td>\n",
       "      <td>1.056819e-01</td>\n",
       "      <td>0.000000e+00</td>\n",
       "      <td>0.000000</td>\n",
       "      <td>0.000000</td>\n",
       "      <td>0.000000</td>\n",
       "      <td>7525.000000</td>\n",
       "      <td>0.000000e+00</td>\n",
       "      <td>0.000000e+00</td>\n",
       "      <td>0.000000e+00</td>\n",
       "      <td>0.000000e+00</td>\n",
       "      <td>0.000000e+00</td>\n",
       "      <td>0.000000e+00</td>\n",
       "    </tr>\n",
       "    <tr>\n",
       "      <th>25%</th>\n",
       "      <td>18.000000</td>\n",
       "      <td>2.802000e+03</td>\n",
       "      <td>4.260000e+02</td>\n",
       "      <td>52.000000</td>\n",
       "      <td>0.230000</td>\n",
       "      <td>2.801902e+03</td>\n",
       "      <td>4.260095e+02</td>\n",
       "      <td>52.040705</td>\n",
       "      <td>52.000000</td>\n",
       "      <td>52.040705</td>\n",
       "      <td>10157.000000</td>\n",
       "      <td>2.617935e+05</td>\n",
       "      <td>0.000000e+00</td>\n",
       "      <td>1.924048e+05</td>\n",
       "      <td>2.607861e+05</td>\n",
       "      <td>0.000000e+00</td>\n",
       "      <td>1.929135e+05</td>\n",
       "    </tr>\n",
       "    <tr>\n",
       "      <th>50%</th>\n",
       "      <td>30.000000</td>\n",
       "      <td>7.911000e+03</td>\n",
       "      <td>1.186000e+03</td>\n",
       "      <td>147.000000</td>\n",
       "      <td>0.350000</td>\n",
       "      <td>7.910940e+03</td>\n",
       "      <td>1.185995e+03</td>\n",
       "      <td>147.053098</td>\n",
       "      <td>147.000000</td>\n",
       "      <td>147.053098</td>\n",
       "      <td>12159.000000</td>\n",
       "      <td>7.504039e+05</td>\n",
       "      <td>0.000000e+00</td>\n",
       "      <td>7.283281e+05</td>\n",
       "      <td>7.502325e+05</td>\n",
       "      <td>0.000000e+00</td>\n",
       "      <td>7.274563e+05</td>\n",
       "    </tr>\n",
       "    <tr>\n",
       "      <th>75%</th>\n",
       "      <td>40.000000</td>\n",
       "      <td>2.101825e+04</td>\n",
       "      <td>3.222000e+03</td>\n",
       "      <td>411.000000</td>\n",
       "      <td>0.420000</td>\n",
       "      <td>2.101813e+04</td>\n",
       "      <td>3.221926e+03</td>\n",
       "      <td>411.143437</td>\n",
       "      <td>411.000000</td>\n",
       "      <td>411.143437</td>\n",
       "      <td>15780.000000</td>\n",
       "      <td>2.076117e+06</td>\n",
       "      <td>9.130432e+05</td>\n",
       "      <td>2.294255e+06</td>\n",
       "      <td>2.078276e+06</td>\n",
       "      <td>9.162849e+05</td>\n",
       "      <td>2.292895e+06</td>\n",
       "    </tr>\n",
       "    <tr>\n",
       "      <th>max</th>\n",
       "      <td>56.000000</td>\n",
       "      <td>8.336817e+06</td>\n",
       "      <td>1.193045e+06</td>\n",
       "      <td>259012.000000</td>\n",
       "      <td>0.670000</td>\n",
       "      <td>8.336817e+06</td>\n",
       "      <td>1.193045e+06</td>\n",
       "      <td>259012.340006</td>\n",
       "      <td>259012.000000</td>\n",
       "      <td>259012.340006</td>\n",
       "      <td>22845.000000</td>\n",
       "      <td>1.619697e+09</td>\n",
       "      <td>1.619697e+09</td>\n",
       "      <td>4.714287e+09</td>\n",
       "      <td>1.619699e+09</td>\n",
       "      <td>1.619699e+09</td>\n",
       "      <td>4.714294e+09</td>\n",
       "    </tr>\n",
       "  </tbody>\n",
       "</table>\n",
       "</div>"
      ],
      "text/plain": [
       "       State FIPS Code  true_pop_total  true_children_total  \\\n",
       "count     13182.000000    1.318200e+04         1.318200e+04   \n",
       "mean         29.561751    2.651938e+04         4.049290e+03   \n",
       "std          14.644764    1.155746e+05         1.728792e+04   \n",
       "min           1.000000    0.000000e+00         0.000000e+00   \n",
       "25%          18.000000    2.802000e+03         4.260000e+02   \n",
       "50%          30.000000    7.911000e+03         1.186000e+03   \n",
       "75%          40.000000    2.101825e+04         3.222000e+03   \n",
       "max          56.000000    8.336817e+06         1.193045e+06   \n",
       "\n",
       "       true_children_poverty     median_cv  est_pop_total  est_children_total  \\\n",
       "count           13182.000000  13182.000000   1.318200e+04        1.318200e+04   \n",
       "mean              625.253224      0.383360   2.651938e+04        4.049290e+03   \n",
       "std              3467.140325      0.171494   1.155746e+05        1.728792e+04   \n",
       "min                 0.000000      0.150000   1.056819e-01        0.000000e+00   \n",
       "25%                52.000000      0.230000   2.801902e+03        4.260095e+02   \n",
       "50%               147.000000      0.350000   7.910940e+03        1.185995e+03   \n",
       "75%               411.000000      0.420000   2.101813e+04        3.221926e+03   \n",
       "max            259012.000000      0.670000   8.336817e+06        1.193045e+06   \n",
       "\n",
       "       est_children_poverty  true_children_eligible  est_children_eligible  \\\n",
       "count          13182.000000            13182.000000           13182.000000   \n",
       "mean             625.253874              625.253224             625.253874   \n",
       "std             3467.139638             3467.140325            3467.139638   \n",
       "min                0.000000                0.000000               0.000000   \n",
       "25%               52.040705               52.000000              52.040705   \n",
       "50%              147.053098              147.000000             147.053098   \n",
       "75%              411.143437              411.000000             411.143437   \n",
       "max           259012.340006           259012.000000          259012.340006   \n",
       "\n",
       "               sppe  true_grant_basic  true_grant_concentration  \\\n",
       "count  13182.000000      1.318200e+04              1.318200e+04   \n",
       "mean   13027.845092      3.026463e+06              2.231939e+06   \n",
       "std     3667.794832      1.912444e+07              1.908713e+07   \n",
       "min     7525.000000      0.000000e+00              0.000000e+00   \n",
       "25%    10157.000000      2.617935e+05              0.000000e+00   \n",
       "50%    12159.000000      7.504039e+05              0.000000e+00   \n",
       "75%    15780.000000      2.076117e+06              9.130432e+05   \n",
       "max    22845.000000      1.619697e+09              1.619697e+09   \n",
       "\n",
       "       true_grant_targeted  est_grant_basic  est_grant_concentration  \\\n",
       "count         1.318200e+04     1.318200e+04             1.318200e+04   \n",
       "mean          5.062192e+06     3.026322e+06             2.232440e+06   \n",
       "std           5.239813e+07     1.912447e+07             1.908714e+07   \n",
       "min           0.000000e+00     0.000000e+00             0.000000e+00   \n",
       "25%           1.924048e+05     2.607861e+05             0.000000e+00   \n",
       "50%           7.283281e+05     7.502325e+05             0.000000e+00   \n",
       "75%           2.294255e+06     2.078276e+06             9.162849e+05   \n",
       "max           4.714287e+09     1.619699e+09             1.619699e+09   \n",
       "\n",
       "       est_grant_targeted  \n",
       "count        1.318200e+04  \n",
       "mean         5.062042e+06  \n",
       "std          5.239816e+07  \n",
       "min          0.000000e+00  \n",
       "25%          1.929135e+05  \n",
       "50%          7.274563e+05  \n",
       "75%          2.292895e+06  \n",
       "max          4.714294e+09  "
      ]
     },
     "execution_count": 8,
     "metadata": {},
     "output_type": "execute_result"
    }
   ],
   "source": [
    "grants = funding(saipe, SonnenbergAuthorizer, Laplace(saipe, 5, 0), get_sppe(\"../data/sppe18.xlsx\"), weighting)\n",
    "grants.describe()"
   ]
  },
  {
   "cell_type": "code",
   "execution_count": 9,
   "id": "b30e2b10",
   "metadata": {},
   "outputs": [
    {
     "name": "stdout",
     "output_type": "stream",
     "text": [
      "0.001 After estimation, privacy acc: (epsilon=0, delta=0.0)\n",
      "0.0012067926406393288 After estimation, privacy acc: (epsilon=0, delta=0.0)\n",
      "0.0014563484775012444 After estimation, privacy acc: (epsilon=0, delta=0.0)\n",
      "0.0017575106248547913 After estimation, privacy acc: (epsilon=0, delta=0.0)\n",
      "0.0021209508879201904 After estimation, privacy acc: (epsilon=0, delta=0.0)\n",
      "0.002559547922699536 After estimation, privacy acc: (epsilon=0, delta=0.0)\n",
      "0.0030888435964774815 After estimation, privacy acc: (epsilon=0, delta=0.0)\n",
      "0.003727593720314938 After estimation, privacy acc: (epsilon=0, delta=0.0)\n",
      "0.004498432668969444 After estimation, privacy acc: (epsilon=0, delta=0.0)\n",
      "0.005428675439323859 After estimation, privacy acc: (epsilon=0, delta=0.0)\n",
      "0.006551285568595509 After estimation, privacy acc: (epsilon=0, delta=0.0)\n",
      "0.0079060432109077 After estimation, privacy acc: (epsilon=0, delta=0.0)\n",
      "0.009540954763499945 After estimation, privacy acc: (epsilon=0, delta=0.0)\n",
      "0.01151395399326447 After estimation, privacy acc: (epsilon=0, delta=0.0)\n",
      "0.013894954943731374 After estimation, privacy acc: (epsilon=0, delta=0.0)\n",
      "0.016768329368110076 After estimation, privacy acc: (epsilon=0, delta=0.0)\n",
      "0.020235896477251564 After estimation, privacy acc: (epsilon=0, delta=0.0)\n",
      "0.02442053094548651 After estimation, privacy acc: (epsilon=0, delta=0.0)\n",
      "0.029470517025518096 After estimation, privacy acc: (epsilon=0, delta=0.0)\n",
      "0.03556480306223129 After estimation, privacy acc: (epsilon=0, delta=0.0)\n",
      "0.04291934260128776 After estimation, privacy acc: (epsilon=0, delta=0.0)\n",
      "0.0517947467923121 After estimation, privacy acc: (epsilon=0, delta=0.0)\n",
      "0.0625055192527397 After estimation, privacy acc: (epsilon=0, delta=0.0)\n",
      "0.07543120063354615 After estimation, privacy acc: (epsilon=0, delta=0.0)\n",
      "0.09102981779915217 After estimation, privacy acc: (epsilon=0, delta=0.0)\n",
      "0.10985411419875583 After estimation, privacy acc: (epsilon=0, delta=0.0)\n",
      "0.13257113655901082 After estimation, privacy acc: (epsilon=0, delta=0.0)\n",
      "0.15998587196060574 After estimation, privacy acc: (epsilon=0, delta=0.0)\n",
      "0.19306977288832497 After estimation, privacy acc: (epsilon=0, delta=0.0)\n",
      "0.2329951810515372 After estimation, privacy acc: (epsilon=0, delta=0.0)\n",
      "0.2811768697974228 After estimation, privacy acc: (epsilon=0, delta=0.0)\n",
      "0.3393221771895326 After estimation, privacy acc: (epsilon=0, delta=0.0)\n",
      "0.4094915062380423 After estimation, privacy acc: (epsilon=0, delta=0.0)\n",
      "0.49417133613238334 After estimation, privacy acc: (epsilon=0, delta=0.0)\n",
      "0.5963623316594643 After estimation, privacy acc: (epsilon=0, delta=0.0)\n",
      "0.7196856730011514 After estimation, privacy acc: (epsilon=0, delta=0.0)\n",
      "0.868511373751352 After estimation, privacy acc: (epsilon=0, delta=0.0)\n",
      "1.0481131341546852 After estimation, privacy acc: (epsilon=0, delta=0.0)\n",
      "1.2648552168552958 After estimation, privacy acc: (epsilon=0, delta=0.0)\n",
      "1.5264179671752318 After estimation, privacy acc: (epsilon=0, delta=0.0)\n",
      "1.8420699693267144 After estimation, privacy acc: (epsilon=0, delta=0.0)\n",
      "2.2229964825261934 After estimation, privacy acc: (epsilon=0, delta=0.0)\n",
      "2.6826957952797246 After estimation, privacy acc: (epsilon=0, delta=0.0)\n",
      "3.2374575428176433 After estimation, privacy acc: (epsilon=0, delta=0.0)\n",
      "3.906939937054613 After estimation, privacy acc: (epsilon=0, delta=0.0)\n",
      "4.714866363457389 After estimation, privacy acc: (epsilon=0, delta=0.0)\n",
      "5.689866029018293 After estimation, privacy acc: (epsilon=0, delta=0.0)\n",
      "6.866488450042998 After estimation, privacy acc: (epsilon=0, delta=0.0)\n",
      "8.286427728546842 After estimation, privacy acc: (epsilon=0, delta=0.0)\n",
      "10.0 After estimation, privacy acc: (epsilon=0, delta=0.0)\n",
      "2.5 After estimation, privacy acc: (epsilon=0, delta=0.0)\n"
     ]
    }
   ],
   "source": [
    "eps = list(np.logspace(-3, 1)) + [2.5]\n",
    "allocations = []\n",
    "for e in eps:\n",
    "    print(e, end=\" \")\n",
    "    allocations.append(funding(saipe, SonnenbergAuthorizer, Laplace(saipe, e, 0), get_sppe(\"../data/sppe18.xlsx\"), weighting, verbose=False))"
   ]
  },
  {
   "cell_type": "code",
   "execution_count": 10,
   "id": "603d2f58",
   "metadata": {},
   "outputs": [
    {
     "name": "stdout",
     "output_type": "stream",
     "text": [
      "## basic grants ##\n",
      "RMSE at eps=0.10985411419875583: 65425.56347938797\n",
      "Total misalloc at eps=0.10985411419875583: 597204953.3294117\n",
      "Total true alloc: 39894838662.272514\n",
      "RMSE at eps=2.5: 4035.342233168439\n",
      "Total misalloc at eps=2.5: 27351543.56997192\n",
      "Total true alloc: 39894838662.272514\n"
     ]
    },
    {
     "data": {
      "image/png": "[encoded data removed]",
      "text/plain": [
       "<Figure size 432x288 with 1 Axes>"
      ]
     },
     "metadata": {
      "needs_background": "light"
     },
     "output_type": "display_data"
    },
    {
     "data": {
      "image/png": "[encoded data removed]",
      "text/plain": [
       "<Figure size 432x288 with 1 Axes>"
      ]
     },
     "metadata": {
      "needs_background": "light"
     },
     "output_type": "display_data"
    },
    {
     "name": "stderr",
     "output_type": "stream",
     "text": [
      "<ipython-input-10-1af3c61de18a>:37: SettingWithCopyWarning: \n",
      "A value is trying to be set on a copy of a slice from a DataFrame.\n",
      "Try using .loc[row_indexer,col_indexer] = value instead\n",
      "\n",
      "See the caveats in the documentation: https://pandas.pydata.org/pandas-docs/stable/user_guide/indexing.html#returning-a-view-versus-a-copy\n",
      "  alloc['err_prop'] = (alloc[f\"est_grant_{grant_type}\"]/sum(alloc[f\"est_grant_{grant_type}\"]) - alloc[f\"true_grant_{grant_type}\"]/sum(alloc[f\"true_grant_{grant_type}\"])) * 1e6\n"
     ]
    },
    {
     "data": {
      "image/png": "[encoded data removed]",
      "text/plain": [
       "<Figure size 432x288 with 1 Axes>"
      ]
     },
     "metadata": {
      "needs_background": "light"
     },
     "output_type": "display_data"
    },
    {
     "name": "stdout",
     "output_type": "stream",
     "text": [
      "## concentration grants ##\n",
      "RMSE at eps=0.10985411419875583: 196037.67609630575\n",
      "Total misalloc at eps=0.10985411419875583: 605737064.4323438\n",
      "Total true alloc: 29421416873.03583\n",
      "RMSE at eps=2.5: 26465.387454449046\n",
      "Total misalloc at eps=2.5: 22118778.914135262\n",
      "Total true alloc: 29421416873.03583\n"
     ]
    },
    {
     "data": {
      "image/png": "[encoded data removed]",
      "text/plain": [
       "<Figure size 432x288 with 1 Axes>"
      ]
     },
     "metadata": {
      "needs_background": "light"
     },
     "output_type": "display_data"
    },
    {
     "data": {
      "image/png": "[encoded data removed]",
      "text/plain": [
       "<Figure size 432x288 with 1 Axes>"
      ]
     },
     "metadata": {
      "needs_background": "light"
     },
     "output_type": "display_data"
    },
    {
     "data": {
      "image/png": "[encoded data removed]",
      "text/plain": [
       "<Figure size 432x288 with 1 Axes>"
      ]
     },
     "metadata": {
      "needs_background": "light"
     },
     "output_type": "display_data"
    },
    {
     "name": "stdout",
     "output_type": "stream",
     "text": [
      "## targeted grants ##\n",
      "RMSE at eps=0.10985411419875583: 135250.69455353025\n",
      "Total misalloc at eps=0.10985411419875583: 965141343.5805094\n",
      "Total true alloc: 66729811774.698265\n",
      "RMSE at eps=2.5: 16414.407837385028\n",
      "Total misalloc at eps=2.5: 43355208.92803148\n",
      "Total true alloc: 66729811774.698265\n"
     ]
    },
    {
     "data": {
      "image/png": "[encoded data removed]",
      "text/plain": [
       "<Figure size 432x288 with 1 Axes>"
      ]
     },
     "metadata": {
      "needs_background": "light"
     },
     "output_type": "display_data"
    },
    {
     "data": {
      "image/png": "[encoded data removed]",
      "text/plain": [
       "<Figure size 432x288 with 1 Axes>"
      ]
     },
     "metadata": {
      "needs_background": "light"
     },
     "output_type": "display_data"
    },
    {
     "data": {
      "image/png": "[encoded data removed]",
      "text/plain": [
       "<Figure size 432x288 with 1 Axes>"
      ]
     },
     "metadata": {
      "needs_background": "light"
     },
     "output_type": "display_data"
    }
   ],
   "source": [
    "for grant_type in (\"basic\", \"concentration\", \"targeted\"):\n",
    "    print(f\"## {grant_type} grants ##\")\n",
    "    mse = []\n",
    "    for alloc, e in zip(allocations, eps):\n",
    "        error = alloc[f\"true_grant_{grant_type}\"]-alloc[f\"est_grant_{grant_type}\"]\n",
    "        mse.append(np.sqrt(sum(error**2)/alloc.shape[0]))\n",
    "        if (e == 2.5) or (e > 0.1 and e < 0.11):\n",
    "            print(f\"RMSE at eps={e}:\", np.sqrt(np.mean(error**2)))\n",
    "            print(f\"Total misalloc at eps={e}:\", sum(abs(error)))\n",
    "            print(\"Total true alloc:\", sum(alloc[f\"true_grant_{grant_type}\"]))\n",
    "\n",
    "    plt.plot(eps, mse)\n",
    "    ax = plt.gca()\n",
    "    ax.set_xscale('log')\n",
    "    plt.xlabel(\"Epsilon\")\n",
    "    plt.ylabel(f\"{grant_type} grant RMSE, nationally\")\n",
    "    plt.show()\n",
    "    \n",
    "    for i in [0, 25, -2]:\n",
    "        e = eps[i]\n",
    "        alloc = allocations[i][allocations[i][\"State Postal Code\"] == \"MI\"]\n",
    "        alloc = alloc.sort_values(f\"true_grant_{grant_type}\")\n",
    "        plt.scatter(alloc.index.astype('str'), alloc[f\"est_grant_{grant_type}\"]/sum(alloc[f\"est_grant_{grant_type}\"]), s=2, alpha=0.3, label=f\"eps={e}\")\n",
    "    plt.scatter(alloc.index.astype('str'), alloc[f\"true_grant_{grant_type}\"]/sum(alloc[f\"true_grant_{grant_type}\"]), s=2, alpha=0.3, label=\"true\")\n",
    "    ax = plt.gca()\n",
    "    ax.legend()\n",
    "    ax.axes.xaxis.set_ticks([])\n",
    "    ax.set_yscale('log')\n",
    "    plt.xlabel(\"District (sorted by true alloc)\")\n",
    "    plt.ylabel(\"Allocation (as %)\")\n",
    "    plt.title(f\"{grant_type} grants for Michigan\")\n",
    "    plt.show()\n",
    "    \n",
    "    for i in [0, 25, -2]:\n",
    "        e = eps[i]\n",
    "        alloc = allocations[i][allocations[i][\"State Postal Code\"] == \"MI\"]\n",
    "        alloc['err_prop'] = (alloc[f\"est_grant_{grant_type}\"]/sum(alloc[f\"est_grant_{grant_type}\"]) - alloc[f\"true_grant_{grant_type}\"]/sum(alloc[f\"true_grant_{grant_type}\"])) * 1e6\n",
    "        plt.scatter(alloc[f\"true_grant_{grant_type}\"]/sum(alloc[f\"true_grant_{grant_type}\"]), alloc.err_prop, s=3, alpha=0.4, label=f\"eps={e}\")\n",
    "    ax = plt.gca()\n",
    "    ax.legend()\n",
    "    ax.set_xscale('log')\n",
    "    ax.set_yscale('log')\n",
    "    plt.xlabel(\"True allocation as % of total\")\n",
    "    plt.ylabel(\"Misallocation per million as % of total\")\n",
    "    plt.title(f\"{grant_type} grants for Michigan\")\n",
    "    plt.show()"
   ]
  },
  {
   "cell_type": "markdown",
   "id": "4d8aa763",
   "metadata": {},
   "source": [
    "### Sanity check: using Abowd's method\n",
    "\n",
    "Abowd reported a mean squared SPPE of 20 million from 2014-15 data."
   ]
  },
  {
   "cell_type": "code",
   "execution_count": 11,
   "id": "330e4451",
   "metadata": {},
   "outputs": [
    {
     "name": "stdout",
     "output_type": "stream",
     "text": [
      "[WARN] Dropping districts with missing SPPE data: ['Puerto Rico']\n",
      "Mean Sq. SPPE (2018): 26235395.69087739\n"
     ]
    }
   ],
   "source": [
    "grants = funding(saipe, AbowdAllocator, Laplace(saipe, 2.52, 0), get_sppe(\"../data/sppe18.xlsx\"), weighting)\n",
    "print(\"Mean Sq. SPPE (2018):\", np.mean(grants.adj_sppe**2))"
   ]
  },
  {
   "cell_type": "markdown",
   "id": "bbbcc735",
   "metadata": {},
   "source": [
    "They also report an RMSE at e=2.52 of 2509 (again, using 2014-15 Common Core data, which I can't replicate) and 1334 at e=4.74 and 63000 at e=0.1. "
   ]
  },
  {
   "cell_type": "code",
   "execution_count": 12,
   "id": "61e01951",
   "metadata": {},
   "outputs": [
    {
     "data": {
      "text/plain": [
       "2808.096653626409"
      ]
     },
     "execution_count": 12,
     "metadata": {},
     "output_type": "execute_result"
    }
   ],
   "source": [
    "# RMSE\n",
    "error = grants.true_allocation - grants.est_allocation\n",
    "np.sqrt(np.mean(error**2))"
   ]
  },
  {
   "cell_type": "code",
   "execution_count": 13,
   "id": "c748eb1c",
   "metadata": {},
   "outputs": [
    {
     "name": "stdout",
     "output_type": "stream",
     "text": [
      "Total misalloc at eps=2.52: 25905156.62392847\n"
     ]
    }
   ],
   "source": [
    "print(\"Total misalloc at eps=2.52:\", sum(abs(error)))"
   ]
  },
  {
   "cell_type": "code",
   "execution_count": 14,
   "id": "01b69fcb",
   "metadata": {},
   "outputs": [
    {
     "name": "stdout",
     "output_type": "stream",
     "text": [
      "[WARN] Dropping districts with missing SPPE data: ['Puerto Rico']\n"
     ]
    },
    {
     "data": {
      "text/plain": [
       "1520.0499568854718"
      ]
     },
     "execution_count": 14,
     "metadata": {},
     "output_type": "execute_result"
    }
   ],
   "source": [
    "grants = funding(saipe, AbowdAllocator, Laplace(saipe, 4.74, 0), get_sppe(\"../data/sppe18.xlsx\"), weighting)\n",
    "error = grants.true_allocation - grants.est_allocation\n",
    "np.sqrt(np.mean(error**2))"
   ]
  },
  {
   "cell_type": "code",
   "execution_count": 15,
   "id": "be0113be",
   "metadata": {},
   "outputs": [
    {
     "name": "stdout",
     "output_type": "stream",
     "text": [
      "[WARN] Dropping districts with missing SPPE data: ['Puerto Rico']\n"
     ]
    },
    {
     "data": {
      "text/plain": [
       "70210.78595666462"
      ]
     },
     "execution_count": 15,
     "metadata": {},
     "output_type": "execute_result"
    }
   ],
   "source": [
    "grants = funding(saipe, AbowdAllocator, Laplace(saipe, 0.1, 0), get_sppe(\"../data/sppe18.xlsx\"), weighting)\n",
    "error = grants.true_allocation - grants.est_allocation\n",
    "np.sqrt(np.mean(error**2))"
   ]
  },
  {
   "cell_type": "markdown",
   "id": "96ab5e34",
   "metadata": {},
   "source": [
    "So we get some small differences due to inflation or due to other differences in data, but roughly the same values. Biggest difference is in SPPE - apparenlty spending has increased since 2014."
   ]
  },
  {
   "cell_type": "markdown",
   "id": "10abc6d8",
   "metadata": {},
   "source": [
    "### Uncertainty"
   ]
  },
  {
   "cell_type": "markdown",
   "id": "24f04d8a",
   "metadata": {},
   "source": [
    "The simplest approximate measure of uncertainty is given by the Census's median coefficient of varation in the poverty estimates for each district. We can construct a confidence interval for each allocation as follows, ignoring variance due to missing cutoffs (for now) by using the Abowd method."
   ]
  },
  {
   "cell_type": "code",
   "execution_count": 16,
   "id": "c2c8d378",
   "metadata": {},
   "outputs": [
    {
     "name": "stdout",
     "output_type": "stream",
     "text": [
      "[WARN] Dropping districts with missing SPPE data: ['Puerto Rico']\n"
     ]
    },
    {
     "data": {
      "text/html": [
       "<div>\n",
       "<style scoped>\n",
       "    .dataframe tbody tr th:only-of-type {\n",
       "        vertical-align: middle;\n",
       "    }\n",
       "\n",
       "    .dataframe tbody tr th {\n",
       "        vertical-align: top;\n",
       "    }\n",
       "\n",
       "    .dataframe thead th {\n",
       "        text-align: right;\n",
       "    }\n",
       "</style>\n",
       "<table border=\"1\" class=\"dataframe\">\n",
       "  <thead>\n",
       "    <tr style=\"text-align: right;\">\n",
       "      <th></th>\n",
       "      <th>State Postal Code</th>\n",
       "      <th>State FIPS Code</th>\n",
       "      <th>Name</th>\n",
       "      <th>true_pop_total</th>\n",
       "      <th>true_children_total</th>\n",
       "      <th>true_children_poverty</th>\n",
       "      <th>median_cv</th>\n",
       "      <th>est_pop_total</th>\n",
       "      <th>est_children_total</th>\n",
       "      <th>est_children_poverty</th>\n",
       "      <th>true_children_eligible</th>\n",
       "      <th>est_children_eligible</th>\n",
       "      <th>sppe</th>\n",
       "      <th>adj_sppe</th>\n",
       "      <th>true_allocation</th>\n",
       "      <th>est_allocation</th>\n",
       "    </tr>\n",
       "  </thead>\n",
       "  <tbody>\n",
       "    <tr>\n",
       "      <th>0</th>\n",
       "      <td>AL</td>\n",
       "      <td>1</td>\n",
       "      <td>Alabaster City School District</td>\n",
       "      <td>34669</td>\n",
       "      <td>6710</td>\n",
       "      <td>649</td>\n",
       "      <td>0.23</td>\n",
       "      <td>34668.486335</td>\n",
       "      <td>6709.787500</td>\n",
       "      <td>647.654652</td>\n",
       "      <td>649</td>\n",
       "      <td>647.654652</td>\n",
       "      <td>9697.0</td>\n",
       "      <td>4168.910429</td>\n",
       "      <td>2.705623e+06</td>\n",
       "      <td>2.700014e+06</td>\n",
       "    </tr>\n",
       "    <tr>\n",
       "      <th>1</th>\n",
       "      <td>AL</td>\n",
       "      <td>1</td>\n",
       "      <td>Albertville City School District</td>\n",
       "      <td>22051</td>\n",
       "      <td>4131</td>\n",
       "      <td>957</td>\n",
       "      <td>0.23</td>\n",
       "      <td>22051.174743</td>\n",
       "      <td>4131.167440</td>\n",
       "      <td>956.356390</td>\n",
       "      <td>957</td>\n",
       "      <td>956.356390</td>\n",
       "      <td>9697.0</td>\n",
       "      <td>4168.910429</td>\n",
       "      <td>3.989647e+06</td>\n",
       "      <td>3.986964e+06</td>\n",
       "    </tr>\n",
       "    <tr>\n",
       "      <th>2</th>\n",
       "      <td>AL</td>\n",
       "      <td>1</td>\n",
       "      <td>Alexander City City School District</td>\n",
       "      <td>16920</td>\n",
       "      <td>2575</td>\n",
       "      <td>703</td>\n",
       "      <td>0.28</td>\n",
       "      <td>16920.039739</td>\n",
       "      <td>2574.273216</td>\n",
       "      <td>702.966656</td>\n",
       "      <td>703</td>\n",
       "      <td>702.966656</td>\n",
       "      <td>9697.0</td>\n",
       "      <td>4168.910429</td>\n",
       "      <td>2.930744e+06</td>\n",
       "      <td>2.930605e+06</td>\n",
       "    </tr>\n",
       "    <tr>\n",
       "      <th>3</th>\n",
       "      <td>AL</td>\n",
       "      <td>1</td>\n",
       "      <td>Andalusia City School District</td>\n",
       "      <td>8842</td>\n",
       "      <td>1465</td>\n",
       "      <td>406</td>\n",
       "      <td>0.35</td>\n",
       "      <td>8842.644897</td>\n",
       "      <td>1464.574813</td>\n",
       "      <td>406.124279</td>\n",
       "      <td>406</td>\n",
       "      <td>406.124279</td>\n",
       "      <td>9697.0</td>\n",
       "      <td>4168.910429</td>\n",
       "      <td>1.692578e+06</td>\n",
       "      <td>1.693096e+06</td>\n",
       "    </tr>\n",
       "    <tr>\n",
       "      <th>4</th>\n",
       "      <td>AL</td>\n",
       "      <td>1</td>\n",
       "      <td>Anniston City School District</td>\n",
       "      <td>22043</td>\n",
       "      <td>3065</td>\n",
       "      <td>1057</td>\n",
       "      <td>0.23</td>\n",
       "      <td>22043.406944</td>\n",
       "      <td>3066.040422</td>\n",
       "      <td>1057.689321</td>\n",
       "      <td>1057</td>\n",
       "      <td>1057.689321</td>\n",
       "      <td>9697.0</td>\n",
       "      <td>4168.910429</td>\n",
       "      <td>4.406538e+06</td>\n",
       "      <td>4.409412e+06</td>\n",
       "    </tr>\n",
       "  </tbody>\n",
       "</table>\n",
       "</div>"
      ],
      "text/plain": [
       "  State Postal Code  State FIPS Code                                 Name  \\\n",
       "0                AL                1       Alabaster City School District   \n",
       "1                AL                1     Albertville City School District   \n",
       "2                AL                1  Alexander City City School District   \n",
       "3                AL                1       Andalusia City School District   \n",
       "4                AL                1        Anniston City School District   \n",
       "\n",
       "   true_pop_total  true_children_total  true_children_poverty  median_cv  \\\n",
       "0           34669                 6710                    649       0.23   \n",
       "1           22051                 4131                    957       0.23   \n",
       "2           16920                 2575                    703       0.28   \n",
       "3            8842                 1465                    406       0.35   \n",
       "4           22043                 3065                   1057       0.23   \n",
       "\n",
       "   est_pop_total  est_children_total  est_children_poverty  \\\n",
       "0   34668.486335         6709.787500            647.654652   \n",
       "1   22051.174743         4131.167440            956.356390   \n",
       "2   16920.039739         2574.273216            702.966656   \n",
       "3    8842.644897         1464.574813            406.124279   \n",
       "4   22043.406944         3066.040422           1057.689321   \n",
       "\n",
       "   true_children_eligible  est_children_eligible    sppe     adj_sppe  \\\n",
       "0                     649             647.654652  9697.0  4168.910429   \n",
       "1                     957             956.356390  9697.0  4168.910429   \n",
       "2                     703             702.966656  9697.0  4168.910429   \n",
       "3                     406             406.124279  9697.0  4168.910429   \n",
       "4                    1057            1057.689321  9697.0  4168.910429   \n",
       "\n",
       "   true_allocation  est_allocation  \n",
       "0     2.705623e+06    2.700014e+06  \n",
       "1     3.989647e+06    3.986964e+06  \n",
       "2     2.930744e+06    2.930605e+06  \n",
       "3     1.692578e+06    1.693096e+06  \n",
       "4     4.406538e+06    4.409412e+06  "
      ]
     },
     "execution_count": 16,
     "metadata": {},
     "output_type": "execute_result"
    }
   ],
   "source": [
    "grants = funding(saipe, AbowdAllocator, Laplace(saipe, 2.52, 0), get_sppe(\"../data/sppe18.xlsx\"), weighting)\n",
    "grants.head()"
   ]
  },
  {
   "cell_type": "code",
   "execution_count": 17,
   "id": "51eca218",
   "metadata": {},
   "outputs": [
    {
     "data": {
      "image/png": "[encoded data removed]",
      "text/plain": [
       "<Figure size 432x288 with 1 Axes>"
      ]
     },
     "metadata": {
      "needs_background": "light"
     },
     "output_type": "display_data"
    }
   ],
   "source": [
    "grants = grants[grants[\"State Postal Code\"] == \"MI\"].sort_values(\"true_allocation\")\n",
    "x = grants.index.astype('str')\n",
    "y = grants.true_allocation / sum(grants.true_allocation)\n",
    "plt.plot(x, y)\n",
    "ax = plt.gca()\n",
    "prop_ci = 1.96 * grants.median_cv * y\n",
    "ax.fill_between(x, (y-prop_ci), (y+prop_ci), color='b', alpha=0.1)\n",
    "\n",
    "plt.plot(x, grants.est_allocation / sum(grants.est_allocation))\n",
    "\n",
    "ax.axes.xaxis.set_ticks([])\n",
    "ax.set_yscale('log')\n",
    "plt.xlabel(\"District (sorted by true alloc)\")\n",
    "plt.ylabel(\"True allocation (as %)\")\n",
    "plt.title(f\"Grants for Michigan\")\n",
    "plt.show()"
   ]
  },
  {
   "cell_type": "code",
   "execution_count": 18,
   "id": "2a11a510",
   "metadata": {},
   "outputs": [
    {
     "data": {
      "image/png": "[encoded data removed]",
      "text/plain": [
       "<Figure size 432x288 with 1 Axes>"
      ]
     },
     "metadata": {
      "needs_background": "light"
     },
     "output_type": "display_data"
    }
   ],
   "source": [
    "grants = grants[grants[\"State Postal Code\"] == \"MI\"].sort_values(\"true_allocation\")\n",
    "x = grants.index.astype('str')\n",
    "y = np.abs(grants.true_allocation - grants.est_allocation)\n",
    "plt.scatter(x, y, s=10)\n",
    "\n",
    "ax = plt.gca()\n",
    "ci = 1.96 * grants.median_cv * grants.true_allocation\n",
    "ax.fill_between(x, ci, color='r', alpha=0.1)\n",
    "\n",
    "ax.axes.xaxis.set_ticks([])\n",
    "ax.set_yscale('log')\n",
    "plt.xlabel(\"District (sorted by true alloc)\")\n",
    "plt.ylabel(\"Residual (true alloc minus DP alloc)\")\n",
    "plt.title(f\"Grants for Michigan\")\n",
    "plt.show()"
   ]
  },
  {
   "cell_type": "markdown",
   "id": "835d1b95",
   "metadata": {},
   "source": [
    "## Gaussian (Advanced Composition, Approx. DP)\n",
    "\n",
    "Add Gaussian noise ln(1/delta)/epsilon for better accuracy bound."
   ]
  },
  {
   "cell_type": "code",
   "execution_count": null,
   "id": "b0347b7a",
   "metadata": {},
   "outputs": [],
   "source": []
  }
 ],
 "metadata": {
  "kernelspec": {
   "display_name": "Python 3",
   "language": "python",
   "name": "python3"
  },
  "language_info": {
   "codemirror_mode": {
    "name": "ipython",
    "version": 3
   },
   "file_extension": ".py",
   "mimetype": "text/x-python",
   "name": "python",
   "nbconvert_exporter": "python",
   "pygments_lexer": "ipython3",
   "version": "3.9.2"
  }
 },
 "nbformat": 4,
 "nbformat_minor": 5
}
