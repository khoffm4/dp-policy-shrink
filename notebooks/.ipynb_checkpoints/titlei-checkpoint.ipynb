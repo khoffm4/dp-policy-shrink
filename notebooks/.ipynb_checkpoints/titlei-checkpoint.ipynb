{
 "cells": [
  {
   "cell_type": "markdown",
   "id": "104654c3",
   "metadata": {},
   "source": [
    "# Title I Allocations w/ DP ACS"
   ]
  },
  {
   "cell_type": "markdown",
   "id": "b4be81e0",
   "metadata": {},
   "source": [
    "## Algorithm"
   ]
  },
  {
   "cell_type": "markdown",
   "id": "fef3c0d7",
   "metadata": {},
   "source": [
    "### Data\n",
    "Need state per-pupil expenditure (SPPE) from the NCES. Most recent I can find in <5min is the [FY '18 data](https://nces.ed.gov/pubsearch/pubsinfo.asp?pubid=2020308).\n",
    "\n",
    "Had to use an online tool to convert Table 2 of [this report](https://nces.ed.gov/pubs2020/2020308.pdf)."
   ]
  },
  {
   "cell_type": "code",
   "execution_count": 100,
   "id": "4f09c84b",
   "metadata": {},
   "outputs": [
    {
     "data": {
      "text/html": [
       "<div>\n",
       "<style scoped>\n",
       "    .dataframe tbody tr th:only-of-type {\n",
       "        vertical-align: middle;\n",
       "    }\n",
       "\n",
       "    .dataframe tbody tr th {\n",
       "        vertical-align: top;\n",
       "    }\n",
       "\n",
       "    .dataframe thead th {\n",
       "        text-align: right;\n",
       "    }\n",
       "</style>\n",
       "<table border=\"1\" class=\"dataframe\">\n",
       "  <thead>\n",
       "    <tr style=\"text-align: right;\">\n",
       "      <th></th>\n",
       "      <th>state</th>\n",
       "      <th>ppe</th>\n",
       "      <th>abbrv</th>\n",
       "    </tr>\n",
       "  </thead>\n",
       "  <tbody>\n",
       "    <tr>\n",
       "      <th>0</th>\n",
       "      <td>Alabama</td>\n",
       "      <td>9697</td>\n",
       "      <td>AL</td>\n",
       "    </tr>\n",
       "    <tr>\n",
       "      <th>1</th>\n",
       "      <td>Alaska</td>\n",
       "      <td>17726</td>\n",
       "      <td>AK</td>\n",
       "    </tr>\n",
       "    <tr>\n",
       "      <th>2</th>\n",
       "      <td>American Samoa</td>\n",
       "      <td>NaN</td>\n",
       "      <td>AS</td>\n",
       "    </tr>\n",
       "    <tr>\n",
       "      <th>3</th>\n",
       "      <td>Arizona</td>\n",
       "      <td>8296</td>\n",
       "      <td>AZ</td>\n",
       "    </tr>\n",
       "    <tr>\n",
       "      <th>4</th>\n",
       "      <td>Arkansas</td>\n",
       "      <td>10072</td>\n",
       "      <td>AR</td>\n",
       "    </tr>\n",
       "  </tbody>\n",
       "</table>\n",
       "</div>"
      ],
      "text/plain": [
       "            state    ppe abbrv\n",
       "0         Alabama   9697    AL\n",
       "1          Alaska  17726    AK\n",
       "2  American Samoa    NaN    AS\n",
       "3         Arizona   8296    AZ\n",
       "4        Arkansas  10072    AR"
      ]
     },
     "execution_count": 100,
     "metadata": {},
     "output_type": "execute_result"
    }
   ],
   "source": [
    "def get_sppe(path):\n",
    "    states = { 'Alabama': 'AL', 'Alaska': 'AK', 'American Samoa': 'AS', 'Arizona': 'AZ', 'Arkansas': 'AR', 'California': 'CA', 'Colorado': 'CO', 'Connecticut': 'CT', 'Delaware': 'DE', 'District of Columbia': 'DC', 'Florida': 'FL', 'Georgia': 'GA', 'Guam': 'GU', 'Hawaii': 'HI', 'Idaho': 'ID', 'Illinois': 'IL', 'Indiana': 'IN', 'Iowa': 'IA', 'Kansas': 'KS', 'Kentucky': 'KY', 'Louisiana': 'LA', 'Maine': 'ME', 'Maryland': 'MD', 'Massachusetts': 'MA', 'Michigan': 'MI', 'Minnesota': 'MN', 'Mississippi': 'MS', 'Missouri': 'MO', 'Montana': 'MT', 'Nebraska': 'NE', 'Nevada': 'NV', 'New Hampshire': 'NH', 'New Jersey': 'NJ', 'New Mexico': 'NM', 'New York': 'NY', 'North Carolina': 'NC', 'North Dakota': 'ND', 'Northern Mariana Islands':'MP', 'Ohio': 'OH', 'Oklahoma': 'OK', 'Oregon': 'OR', 'Pennsylvania': 'PA', 'Puerto Rico': 'PR', 'Rhode Island': 'RI', 'South Carolina': 'SC', 'South Dakota': 'SD', 'Tennessee': 'TN', 'Texas': 'TX', 'Utah': 'UT', 'Vermont': 'VT', 'Virgin Islands': 'VI', 'Virginia': 'VA', 'Washington': 'WA', 'West Virginia': 'WV', 'Wisconsin': 'WI', 'Wyoming': 'WY' }\n",
    "    states = pd.DataFrame(states.items(), columns=[\"state\", \"abbrv\"])\n",
    "    \n",
    "    # quirk of original data file - need to change DC's name for join\n",
    "    states[states.state == \"District of Columbia\"] = \"District Of Columbia Public Schools\"\n",
    "\n",
    "    sppe = pd.read_excel(path, header=2).rename(columns={\"Unnamed: 0\": \"state\"})[[\"state\", \"ppe\"]]\n",
    "\n",
    "    return sppe.merge(states, on=\"state\", how=\"right\")\n",
    "\n",
    "sppe = get_sppe(\"../data/sppe18.xlsx\")\n",
    "sppe.head()"
   ]
  },
  {
   "cell_type": "markdown",
   "id": "9a5212de",
   "metadata": {},
   "source": [
    "Also need a dict matching district IDs to district names to states. Simplest to use [SAIPE 2019](https://www2.census.gov/programs-surveys/saipe/datasets/2019/2019-school-districts/) ground-truth."
   ]
  },
  {
   "cell_type": "code",
   "execution_count": 123,
   "id": "ce02b202",
   "metadata": {},
   "outputs": [
    {
     "data": {
      "text/html": [
       "<div>\n",
       "<style scoped>\n",
       "    .dataframe tbody tr th:only-of-type {\n",
       "        vertical-align: middle;\n",
       "    }\n",
       "\n",
       "    .dataframe tbody tr th {\n",
       "        vertical-align: top;\n",
       "    }\n",
       "\n",
       "    .dataframe thead th {\n",
       "        text-align: right;\n",
       "    }\n",
       "</style>\n",
       "<table border=\"1\" class=\"dataframe\">\n",
       "  <thead>\n",
       "    <tr style=\"text-align: right;\">\n",
       "      <th></th>\n",
       "      <th>State Postal Code</th>\n",
       "      <th>State FIPS Code</th>\n",
       "      <th>Name</th>\n",
       "      <th>Estimated Total Population</th>\n",
       "      <th>Estimated Population 5-17</th>\n",
       "      <th>Estimated number of relevant children 5 to 17 years old in poverty who are related to the householder</th>\n",
       "    </tr>\n",
       "    <tr>\n",
       "      <th>District ID</th>\n",
       "      <th></th>\n",
       "      <th></th>\n",
       "      <th></th>\n",
       "      <th></th>\n",
       "      <th></th>\n",
       "      <th></th>\n",
       "    </tr>\n",
       "  </thead>\n",
       "  <tbody>\n",
       "    <tr>\n",
       "      <th>190</th>\n",
       "      <td>AL</td>\n",
       "      <td>1</td>\n",
       "      <td>Alabaster City School District</td>\n",
       "      <td>34669</td>\n",
       "      <td>6710</td>\n",
       "      <td>649</td>\n",
       "    </tr>\n",
       "    <tr>\n",
       "      <th>5</th>\n",
       "      <td>AL</td>\n",
       "      <td>1</td>\n",
       "      <td>Albertville City School District</td>\n",
       "      <td>22051</td>\n",
       "      <td>4131</td>\n",
       "      <td>957</td>\n",
       "    </tr>\n",
       "    <tr>\n",
       "      <th>30</th>\n",
       "      <td>AL</td>\n",
       "      <td>1</td>\n",
       "      <td>Alexander City City School District</td>\n",
       "      <td>16920</td>\n",
       "      <td>2575</td>\n",
       "      <td>703</td>\n",
       "    </tr>\n",
       "    <tr>\n",
       "      <th>60</th>\n",
       "      <td>AL</td>\n",
       "      <td>1</td>\n",
       "      <td>Andalusia City School District</td>\n",
       "      <td>8842</td>\n",
       "      <td>1465</td>\n",
       "      <td>406</td>\n",
       "    </tr>\n",
       "    <tr>\n",
       "      <th>90</th>\n",
       "      <td>AL</td>\n",
       "      <td>1</td>\n",
       "      <td>Anniston City School District</td>\n",
       "      <td>22043</td>\n",
       "      <td>3065</td>\n",
       "      <td>1057</td>\n",
       "    </tr>\n",
       "  </tbody>\n",
       "</table>\n",
       "</div>"
      ],
      "text/plain": [
       "            State Postal Code  State FIPS Code  \\\n",
       "District ID                                      \n",
       "190                        AL                1   \n",
       "5                          AL                1   \n",
       "30                         AL                1   \n",
       "60                         AL                1   \n",
       "90                         AL                1   \n",
       "\n",
       "                                            Name  Estimated Total Population  \\\n",
       "District ID                                                                    \n",
       "190               Alabaster City School District                       34669   \n",
       "5               Albertville City School District                       22051   \n",
       "30           Alexander City City School District                       16920   \n",
       "60                Andalusia City School District                        8842   \n",
       "90                 Anniston City School District                       22043   \n",
       "\n",
       "             Estimated Population 5-17  \\\n",
       "District ID                              \n",
       "190                               6710   \n",
       "5                                 4131   \n",
       "30                                2575   \n",
       "60                                1465   \n",
       "90                                3065   \n",
       "\n",
       "             Estimated number of relevant children 5 to 17 years old in poverty who are related to the householder  \n",
       "District ID                                                                                                         \n",
       "190                                                        649                                                      \n",
       "5                                                          957                                                      \n",
       "30                                                         703                                                      \n",
       "60                                                         406                                                      \n",
       "90                                                        1057                                                      "
      ]
     },
     "execution_count": 123,
     "metadata": {},
     "output_type": "execute_result"
    }
   ],
   "source": [
    "saipe = pd.read_excel(\"../data/saipe19.xls\", header=2).set_index(\"District ID\")\n",
    "saipe.head()"
   ]
  },
  {
   "cell_type": "markdown",
   "id": "3f985045",
   "metadata": {},
   "source": [
    "### Code"
   ]
  },
  {
   "cell_type": "code",
   "execution_count": 124,
   "id": "fc4b5d92",
   "metadata": {},
   "outputs": [],
   "source": [
    "import pandas as pd\n",
    "from typing import Tuple\n",
    "\n",
    "class Mechanism:\n",
    "    def __init__(self, epsilon, delta):\n",
    "        self.epsilon = epsilon\n",
    "        self.delta = delta\n",
    "        \n",
    "    def poverty_estimates(self) -> Tuple[pd.DataFrame, pd.DataFrame, pd.DataFrame]:\n",
    "        \"\"\"\n",
    "        Returns dataframe for children in poverty, children total, and total population indexed by district ID.\n",
    "        \"\"\"\n",
    "        raise NotImplementedError\n",
    "        \n",
    "class GroundTruth(Mechanism):\n",
    "    \"\"\"\n",
    "    example mech that just returns the ground truth SAIPE estimates\n",
    "    \"\"\"\n",
    "    def __init__(self, saipe):\n",
    "        self.saipe = saipe\n",
    "        \n",
    "    def poverty_estimates(self):\n",
    "        return (self.saipe[key] for key in [\"Estimated Total Population\", \"Estimated Population 5-17\", \"Estimated number of relevant children 5 to 17 years old in poverty who are related to the householder\"])"
   ]
  },
  {
   "cell_type": "code",
   "execution_count": 238,
   "id": "3f33f24c",
   "metadata": {},
   "outputs": [
    {
     "data": {
      "text/plain": [
       "1993.0"
      ]
     },
     "execution_count": 238,
     "metadata": {},
     "output_type": "execute_result"
    }
   ],
   "source": [
    "from math import floor, ceil\n",
    "\n",
    "def weighting(eligible, pop):\n",
    "    \"\"\"\n",
    "    Gradated weighting algorithm given in [Sonnenberg](https://nces.ed.gov/surveys/annualreports/pdf/titlei20160111.pdf).\n",
    "    \n",
    "    Returns weighted eligibility counts.\n",
    "    \"\"\"\n",
    "    \n",
    "    # calculate weighted count based on counts\n",
    "    wec_counts = 0\n",
    "    for r, w in {(1, 691): 1.0, (692, 2262): 1.5, (2263,7851): 2.0, (7852, 35514): 2.5, (35514, None): 3.0}.items():\n",
    "        if r[1] is not None and eligible > r[1]: \n",
    "            wec_counts += (r[1] - r[0] + 1) * w\n",
    "        elif eligible >= r[0]: \n",
    "            wec_counts += (eligible - r[0] + 1) * w\n",
    "    \n",
    "    # calculate weighted count based on proportions\n",
    "    wec_props = 0\n",
    "    for r, w in {(0, 0.1558): 1.0, (0.1558, 0.2211): 1.75, (0.2211,0.3016): 2.5, (0.3016, 0.3824): 3.25, (0.3824, None): 4.0}.items():\n",
    "        upper = floor(r[1]*pop) if r[1] is not None else None\n",
    "        lower = ceil(r[0]*pop)\n",
    "        \n",
    "        if upper is not None and eligible > upper: \n",
    "            wec_props += (upper - lower) * w\n",
    "        elif eligible >= lower: \n",
    "            wec_props += (eligible - lower) * w\n",
    "    \n",
    "    # take the higher weighted eligibility count\n",
    "    return max(wec_counts, wec_props)\n",
    "    \n",
    "weighting(1559, 10000)"
   ]
  },
  {
   "cell_type": "code",
   "execution_count": 265,
   "id": "7b78d7dc",
   "metadata": {},
   "outputs": [
    {
     "name": "stdout",
     "output_type": "stream",
     "text": [
      "[WARN] Dropping districts with missing SPPE data: ['Puerto Rico']\n"
     ]
    },
    {
     "data": {
      "image/png": "[encoded data removed]",
      "text/plain": [
       "<Figure size 432x288 with 1 Axes>"
      ]
     },
     "metadata": {
      "needs_background": "light"
     },
     "output_type": "display_data"
    },
    {
     "data": {
      "image/png": "[encoded data removed]",
      "text/plain": [
       "<Figure size 432x288 with 1 Axes>"
      ]
     },
     "metadata": {
      "needs_background": "light"
     },
     "output_type": "display_data"
    },
    {
     "data": {
      "image/png": "[encoded data removed]",
      "text/plain": [
       "<Figure size 432x288 with 1 Axes>"
      ]
     },
     "metadata": {
      "needs_background": "light"
     },
     "output_type": "display_data"
    }
   ],
   "source": [
    "import numpy as np\n",
    "\n",
    "def funding(saipe, mechanism, sppe, weighting, adj_sppe_bounds=[0.32, 0.48], adj_sppe_bounds_efig=[0.34, 0.46], congress_cap=0.4, *mech_args, verbose=True, **mech_kwargs):\n",
    "    \"\"\"\n",
    "    congress_cap - proportion of a student's edu congress agrees to fund\n",
    "    \n",
    "    Returns augmented SAIPE dataframe with randomized estimates and true/randomized grant amounts.\n",
    "    \"\"\"\n",
    "    grants = saipe.rename(columns={\n",
    "        \"Estimated Total Population\": \"true_pop_total\",\n",
    "        \"Estimated Population 5-17\": \"true_children_total\",\n",
    "        \"Estimated number of relevant children 5 to 17 years old in poverty who are related to the householder\": \"true_children_poverty\"\n",
    "    })\n",
    "    pop_total, children_total, children_poverty = mechanism.poverty_estimates(*mech_args, **mech_kwargs)\n",
    "    grants[\"est_pop_total\"] = pop_total\n",
    "    grants[\"est_children_total\"] = children_total\n",
    "    grants[\"est_children_poverty\"] = children_poverty\n",
    "\n",
    "    # BIG ASSUMPTION, TODO: revisit later\n",
    "    grants[\"true_children_eligible\"] = grants.true_children_poverty\n",
    "    grants[\"est_children_eligible\"] = grants.est_children_poverty\n",
    "    \n",
    "    # join in SPPE\n",
    "    grants = grants.merge(sppe, left_on=\"State Postal Code\", right_on=\"abbrv\").drop(columns=['abbrv', 'state']).rename(columns={'ppe': 'sppe'})\n",
    "    if verbose: print(\"[WARN] Dropping districts with missing SPPE data:\", grants[grants.sppe.isna()]['Name'].values)\n",
    "    grants = grants.dropna(subset=[\"sppe\"])\n",
    "    grants.sppe = grants.sppe.astype(float)\n",
    "    \n",
    "    # calculate grant amounts for true/randomized values\n",
    "    for prefix in (\"true\", \"est\"):        \n",
    "        # calculate adjusted SPPE\n",
    "        avg_sppe = np.mean(grants.sppe)\n",
    "        adj_sppe = grants.sppe * congress_cap\n",
    "        adj_sppe_trunc = adj_sppe.clip(*np.array(adj_sppe_bounds)*avg_sppe)\n",
    "        adj_sppe_efig = adj_sppe.clip(*np.array(adj_sppe_bounds_efig)*avg_sppe)\n",
    "#         # double check calc\n",
    "#         print(np.array(adj_sppe_bounds)*avg_sppe)\n",
    "#         print(min(adj_sppe_trunc), max(adj_sppe_trunc))\n",
    "            \n",
    "        ## BASIC GRANTS\n",
    "        # authorization calculation\n",
    "        grants[f\"{prefix}_grant_basic\"] = grants[f\"{prefix}_children_eligible\"] * adj_sppe_trunc\n",
    "        # For basic grants, LEA must have >10 eligible children\n",
    "        eligible = grants[f\"{prefix}_children_eligible\"] >= 10\n",
    "#         print(sum(~eligible)/eligible.shape[0])\n",
    "        grants.loc[~eligible, f\"{prefix}_grant_basic\"] = 0.0\n",
    "        \n",
    "        ## CONCENTRATION GRANTS\n",
    "        # For concentration grants, LEAs must meet basic eligibility AND have either\n",
    "        # a) >6500 eligible\n",
    "        # b) 15% of pop. is eligible\n",
    "        grants[f\"{prefix}_grant_concentration\"] = grants[f\"{prefix}_grant_basic\"]\n",
    "        count_eligible = grants[f\"{prefix}_children_eligible\"] >= 6500\n",
    "        prop_eligible = (grants[f\"{prefix}_children_eligible\"] / grants[f\"{prefix}_children_total\"]) >= 0.15\n",
    "        eligible = count_eligible | prop_eligible\n",
    "#         print(sum(~eligible)/eligible.shape[0])\n",
    "        grants.loc[~eligible, f\"{prefix}_grant_concentration\"] = 0.0\n",
    "        \n",
    "        ## TARGETED GRANTS\n",
    "        # weighted by an exogenous step function - see documentation\n",
    "        weighted_eligible = grants[[f\"{prefix}_children_eligible\", f\"{prefix}_children_total\"]].apply(\n",
    "            lambda x: weighting(x[0], x[1])\n",
    "        , axis=1)\n",
    "        grants[f\"{prefix}_grant_targeted\"] = weighted_eligible * adj_sppe_trunc\n",
    "        \n",
    "        # for targeted grants, LEAs must meet basic eligibility AND have >5% eligible\n",
    "        count_eligible = grants[f\"{prefix}_children_eligible\"] >= 10\n",
    "        prop_eligible = (grants[f\"{prefix}_children_eligible\"] / grants[f\"{prefix}_children_total\"]) >= 0.05\n",
    "        eligible = count_eligible & prop_eligible\n",
    "        grants.loc[~eligible, f\"{prefix}_grant_targeted\"] = 0.0\n",
    "        \n",
    "        ## EFIG\n",
    "        # TODO\n",
    "        \n",
    "    \n",
    "    # TODO - calculate *allocation* amounts\n",
    "    return grants\n",
    "\n",
    "\n",
    "# Test with ground truth mechanism\n",
    "grants = funding(saipe, GroundTruth(saipe), get_sppe(\"../data/sppe18.xlsx\"), weighting)\n",
    "grants.boxplot('true_grant_basic')\n",
    "plt.show()\n",
    "grants.boxplot('true_grant_concentration')\n",
    "plt.show()\n",
    "grants.boxplot('true_grant_targeted')\n",
    "plt.show()"
   ]
  },
  {
   "cell_type": "markdown",
   "id": "070da3d5",
   "metadata": {},
   "source": [
    "## Laplace\n",
    "### Data\n",
    "From [SAIPE 2019](https://www2.census.gov/programs-surveys/saipe/datasets/2019/2019-school-districts/) release."
   ]
  },
  {
   "cell_type": "markdown",
   "id": "27ab4a2e",
   "metadata": {},
   "source": [
    "### Mechanism"
   ]
  },
  {
   "cell_type": "code",
   "execution_count": 253,
   "id": "c1d61862",
   "metadata": {},
   "outputs": [
    {
     "data": {
      "text/plain": [
       "(District ID\n",
       " 190     3.467342e+04\n",
       " 5       2.204129e+04\n",
       " 30      1.692139e+04\n",
       " 60      8.839431e+03\n",
       " 90      2.203456e+04\n",
       "             ...     \n",
       " 6240    7.128489e+03\n",
       " 5820    6.600198e+02\n",
       " 4830    5.468558e+03\n",
       " 6090    1.482525e+03\n",
       " 30      3.193698e+06\n",
       " Name: Estimated Total Population, Length: 13184, dtype: float64,\n",
       " District ID\n",
       " 190       6709.002770\n",
       " 5         4134.198189\n",
       " 30        2552.834732\n",
       " 60        1469.151271\n",
       " 90        3062.912105\n",
       "             ...      \n",
       " 6240      1298.393395\n",
       " 5820        99.512903\n",
       " 4830       817.663728\n",
       " 6090       245.715072\n",
       " 30      455240.582161\n",
       " Name: Estimated Population 5-17, Length: 13184, dtype: float64,\n",
       " District ID\n",
       " 190        662.449752\n",
       " 5          955.756806\n",
       " 30         710.940053\n",
       " 60         399.365081\n",
       " 90        1062.022556\n",
       "             ...      \n",
       " 6240       147.398953\n",
       " 5820        17.289530\n",
       " 4830       100.830679\n",
       " 6090        15.060072\n",
       " 30      248583.248013\n",
       " Name: Estimated number of relevant children 5 to 17 years old in poverty who are related to the householder, Length: 13184, dtype: float64)"
      ]
     },
     "execution_count": 253,
     "metadata": {},
     "output_type": "execute_result"
    }
   ],
   "source": [
    "from diffprivlib.mechanisms.laplace import Laplace as LaplaceMech, LaplaceTruncated\n",
    "\n",
    "\"\"\"\n",
    "Following Abowd & Schmutte (2019), return \\hat{E}_l = E_l + e_l, where e_l \\sim Laplace(1/\\epsilon). \n",
    "\n",
    "Recall that the sensitivity of the counts here is simply 1.\n",
    "\"\"\"\n",
    "\n",
    "class Laplace(Mechanism):\n",
    "    def __init__(self, saipe, *args, pos_trunc=False, **kwargs):\n",
    "        super().__init__(*args, **kwargs)\n",
    "        self.saipe = saipe\n",
    "        \n",
    "        self.mechanism = \\\n",
    "            LaplaceTruncated(epsilon=self.epsilon, delta=self.delta, sensitivity=1.0, lower=0.0) if pos_trunc \\\n",
    "            else LaplaceMech(epsilon=self.epsilon, delta=self.delta, sensitivity=1.0)\n",
    "        \n",
    "    def poverty_estimates(self) -> Tuple[pd.DataFrame, pd.DataFrame, pd.DataFrame]:\n",
    "        \n",
    "        pop_total = saipe[\"Estimated Total Population\"].apply(self.mechanism.randomise)\n",
    "        children_total = saipe[\"Estimated Population 5-17\"].apply(self.mechanism.randomise)\n",
    "        children_poverty = saipe[\"Estimated number of relevant children 5 to 17 years old in poverty who are related to the householder\"].apply(self.mechanism.randomise)\n",
    "        \n",
    "        return pop_total, children_total, children_poverty\n",
    "        \n",
    "Laplace(saipe, 0.1, 0).poverty_estimates()"
   ]
  },
  {
   "cell_type": "markdown",
   "id": "68611623",
   "metadata": {},
   "source": [
    "### Testing"
   ]
  },
  {
   "cell_type": "code",
   "execution_count": 259,
   "id": "eca96d2c",
   "metadata": {},
   "outputs": [
    {
     "name": "stdout",
     "output_type": "stream",
     "text": [
      "[WARN] Dropping districts with missing SPPE data: ['Puerto Rico']\n"
     ]
    },
    {
     "data": {
      "text/html": [
       "<div>\n",
       "<style scoped>\n",
       "    .dataframe tbody tr th:only-of-type {\n",
       "        vertical-align: middle;\n",
       "    }\n",
       "\n",
       "    .dataframe tbody tr th {\n",
       "        vertical-align: top;\n",
       "    }\n",
       "\n",
       "    .dataframe thead th {\n",
       "        text-align: right;\n",
       "    }\n",
       "</style>\n",
       "<table border=\"1\" class=\"dataframe\">\n",
       "  <thead>\n",
       "    <tr style=\"text-align: right;\">\n",
       "      <th></th>\n",
       "      <th>State FIPS Code</th>\n",
       "      <th>true_pop_total</th>\n",
       "      <th>true_children_total</th>\n",
       "      <th>true_children_poverty</th>\n",
       "      <th>est_pop_total</th>\n",
       "      <th>est_children_total</th>\n",
       "      <th>est_children_poverty</th>\n",
       "      <th>est_children_eligible</th>\n",
       "      <th>children_eligible</th>\n",
       "      <th>true_children_eligible</th>\n",
       "      <th>sppe</th>\n",
       "      <th>true_grant_basic</th>\n",
       "      <th>true_grant_concentration</th>\n",
       "      <th>true_grant_targeted</th>\n",
       "      <th>est_grant_basic</th>\n",
       "      <th>est_grant_concentration</th>\n",
       "      <th>est_grant_targeted</th>\n",
       "    </tr>\n",
       "  </thead>\n",
       "  <tbody>\n",
       "    <tr>\n",
       "      <th>count</th>\n",
       "      <td>13182.000000</td>\n",
       "      <td>1.318200e+04</td>\n",
       "      <td>1.318200e+04</td>\n",
       "      <td>13182.000000</td>\n",
       "      <td>1.318200e+04</td>\n",
       "      <td>1.318200e+04</td>\n",
       "      <td>13182.000000</td>\n",
       "      <td>13182.000000</td>\n",
       "      <td>13182.000000</td>\n",
       "      <td>13182.000000</td>\n",
       "      <td>13182.000000</td>\n",
       "      <td>1.318200e+04</td>\n",
       "      <td>1.318200e+04</td>\n",
       "      <td>1.318200e+04</td>\n",
       "      <td>1.318200e+04</td>\n",
       "      <td>1.318200e+04</td>\n",
       "      <td>1.318200e+04</td>\n",
       "    </tr>\n",
       "    <tr>\n",
       "      <th>mean</th>\n",
       "      <td>29.561751</td>\n",
       "      <td>2.651938e+04</td>\n",
       "      <td>4.049290e+03</td>\n",
       "      <td>625.253224</td>\n",
       "      <td>2.651938e+04</td>\n",
       "      <td>4.049290e+03</td>\n",
       "      <td>625.252319</td>\n",
       "      <td>625.252319</td>\n",
       "      <td>625.253224</td>\n",
       "      <td>625.253224</td>\n",
       "      <td>13027.845092</td>\n",
       "      <td>3.026463e+06</td>\n",
       "      <td>2.231939e+06</td>\n",
       "      <td>5.062192e+06</td>\n",
       "      <td>3.026331e+06</td>\n",
       "      <td>2.232184e+06</td>\n",
       "      <td>5.062020e+06</td>\n",
       "    </tr>\n",
       "    <tr>\n",
       "      <th>std</th>\n",
       "      <td>14.644764</td>\n",
       "      <td>1.155746e+05</td>\n",
       "      <td>1.728792e+04</td>\n",
       "      <td>3467.140325</td>\n",
       "      <td>1.155746e+05</td>\n",
       "      <td>1.728793e+04</td>\n",
       "      <td>3467.140698</td>\n",
       "      <td>3467.140698</td>\n",
       "      <td>3467.140325</td>\n",
       "      <td>3467.140325</td>\n",
       "      <td>3667.794832</td>\n",
       "      <td>1.912444e+07</td>\n",
       "      <td>1.908713e+07</td>\n",
       "      <td>5.239813e+07</td>\n",
       "      <td>1.912446e+07</td>\n",
       "      <td>1.908716e+07</td>\n",
       "      <td>5.239812e+07</td>\n",
       "    </tr>\n",
       "    <tr>\n",
       "      <th>min</th>\n",
       "      <td>1.000000</td>\n",
       "      <td>0.000000e+00</td>\n",
       "      <td>0.000000e+00</td>\n",
       "      <td>0.000000</td>\n",
       "      <td>-2.299442e-01</td>\n",
       "      <td>-2.847493e-01</td>\n",
       "      <td>-0.376212</td>\n",
       "      <td>-0.376212</td>\n",
       "      <td>0.000000</td>\n",
       "      <td>0.000000</td>\n",
       "      <td>7525.000000</td>\n",
       "      <td>0.000000e+00</td>\n",
       "      <td>0.000000e+00</td>\n",
       "      <td>0.000000e+00</td>\n",
       "      <td>0.000000e+00</td>\n",
       "      <td>0.000000e+00</td>\n",
       "      <td>0.000000e+00</td>\n",
       "    </tr>\n",
       "    <tr>\n",
       "      <th>25%</th>\n",
       "      <td>18.000000</td>\n",
       "      <td>2.802000e+03</td>\n",
       "      <td>4.260000e+02</td>\n",
       "      <td>52.000000</td>\n",
       "      <td>2.801901e+03</td>\n",
       "      <td>4.260598e+02</td>\n",
       "      <td>52.090541</td>\n",
       "      <td>52.090541</td>\n",
       "      <td>52.000000</td>\n",
       "      <td>52.000000</td>\n",
       "      <td>10157.000000</td>\n",
       "      <td>2.617935e+05</td>\n",
       "      <td>0.000000e+00</td>\n",
       "      <td>1.924048e+05</td>\n",
       "      <td>2.606675e+05</td>\n",
       "      <td>0.000000e+00</td>\n",
       "      <td>1.928942e+05</td>\n",
       "    </tr>\n",
       "    <tr>\n",
       "      <th>50%</th>\n",
       "      <td>30.000000</td>\n",
       "      <td>7.911000e+03</td>\n",
       "      <td>1.186000e+03</td>\n",
       "      <td>147.000000</td>\n",
       "      <td>7.910774e+03</td>\n",
       "      <td>1.186007e+03</td>\n",
       "      <td>147.114443</td>\n",
       "      <td>147.114443</td>\n",
       "      <td>147.000000</td>\n",
       "      <td>147.000000</td>\n",
       "      <td>12159.000000</td>\n",
       "      <td>7.504039e+05</td>\n",
       "      <td>0.000000e+00</td>\n",
       "      <td>7.283281e+05</td>\n",
       "      <td>7.499323e+05</td>\n",
       "      <td>0.000000e+00</td>\n",
       "      <td>7.276738e+05</td>\n",
       "    </tr>\n",
       "    <tr>\n",
       "      <th>75%</th>\n",
       "      <td>40.000000</td>\n",
       "      <td>2.101825e+04</td>\n",
       "      <td>3.222000e+03</td>\n",
       "      <td>411.000000</td>\n",
       "      <td>2.101803e+04</td>\n",
       "      <td>3.221940e+03</td>\n",
       "      <td>411.227213</td>\n",
       "      <td>411.227213</td>\n",
       "      <td>411.000000</td>\n",
       "      <td>411.000000</td>\n",
       "      <td>15780.000000</td>\n",
       "      <td>2.076117e+06</td>\n",
       "      <td>9.130432e+05</td>\n",
       "      <td>2.294255e+06</td>\n",
       "      <td>2.077600e+06</td>\n",
       "      <td>9.143967e+05</td>\n",
       "      <td>2.294270e+06</td>\n",
       "    </tr>\n",
       "    <tr>\n",
       "      <th>max</th>\n",
       "      <td>56.000000</td>\n",
       "      <td>8.336817e+06</td>\n",
       "      <td>1.193045e+06</td>\n",
       "      <td>259012.000000</td>\n",
       "      <td>8.336817e+06</td>\n",
       "      <td>1.193045e+06</td>\n",
       "      <td>259011.806086</td>\n",
       "      <td>259011.806086</td>\n",
       "      <td>259012.000000</td>\n",
       "      <td>259012.000000</td>\n",
       "      <td>22845.000000</td>\n",
       "      <td>1.619697e+09</td>\n",
       "      <td>1.619697e+09</td>\n",
       "      <td>4.714287e+09</td>\n",
       "      <td>1.619696e+09</td>\n",
       "      <td>1.619696e+09</td>\n",
       "      <td>4.714284e+09</td>\n",
       "    </tr>\n",
       "  </tbody>\n",
       "</table>\n",
       "</div>"
      ],
      "text/plain": [
       "       State FIPS Code  true_pop_total  true_children_total  \\\n",
       "count     13182.000000    1.318200e+04         1.318200e+04   \n",
       "mean         29.561751    2.651938e+04         4.049290e+03   \n",
       "std          14.644764    1.155746e+05         1.728792e+04   \n",
       "min           1.000000    0.000000e+00         0.000000e+00   \n",
       "25%          18.000000    2.802000e+03         4.260000e+02   \n",
       "50%          30.000000    7.911000e+03         1.186000e+03   \n",
       "75%          40.000000    2.101825e+04         3.222000e+03   \n",
       "max          56.000000    8.336817e+06         1.193045e+06   \n",
       "\n",
       "       true_children_poverty  est_pop_total  est_children_total  \\\n",
       "count           13182.000000   1.318200e+04        1.318200e+04   \n",
       "mean              625.253224   2.651938e+04        4.049290e+03   \n",
       "std              3467.140325   1.155746e+05        1.728793e+04   \n",
       "min                 0.000000  -2.299442e-01       -2.847493e-01   \n",
       "25%                52.000000   2.801901e+03        4.260598e+02   \n",
       "50%               147.000000   7.910774e+03        1.186007e+03   \n",
       "75%               411.000000   2.101803e+04        3.221940e+03   \n",
       "max            259012.000000   8.336817e+06        1.193045e+06   \n",
       "\n",
       "       est_children_poverty  est_children_eligible  children_eligible  \\\n",
       "count          13182.000000           13182.000000       13182.000000   \n",
       "mean             625.252319             625.252319         625.253224   \n",
       "std             3467.140698            3467.140698        3467.140325   \n",
       "min               -0.376212              -0.376212           0.000000   \n",
       "25%               52.090541              52.090541          52.000000   \n",
       "50%              147.114443             147.114443         147.000000   \n",
       "75%              411.227213             411.227213         411.000000   \n",
       "max           259011.806086          259011.806086      259012.000000   \n",
       "\n",
       "       true_children_eligible          sppe  true_grant_basic  \\\n",
       "count            13182.000000  13182.000000      1.318200e+04   \n",
       "mean               625.253224  13027.845092      3.026463e+06   \n",
       "std               3467.140325   3667.794832      1.912444e+07   \n",
       "min                  0.000000   7525.000000      0.000000e+00   \n",
       "25%                 52.000000  10157.000000      2.617935e+05   \n",
       "50%                147.000000  12159.000000      7.504039e+05   \n",
       "75%                411.000000  15780.000000      2.076117e+06   \n",
       "max             259012.000000  22845.000000      1.619697e+09   \n",
       "\n",
       "       true_grant_concentration  true_grant_targeted  est_grant_basic  \\\n",
       "count              1.318200e+04         1.318200e+04     1.318200e+04   \n",
       "mean               2.231939e+06         5.062192e+06     3.026331e+06   \n",
       "std                1.908713e+07         5.239813e+07     1.912446e+07   \n",
       "min                0.000000e+00         0.000000e+00     0.000000e+00   \n",
       "25%                0.000000e+00         1.924048e+05     2.606675e+05   \n",
       "50%                0.000000e+00         7.283281e+05     7.499323e+05   \n",
       "75%                9.130432e+05         2.294255e+06     2.077600e+06   \n",
       "max                1.619697e+09         4.714287e+09     1.619696e+09   \n",
       "\n",
       "       est_grant_concentration  est_grant_targeted  \n",
       "count             1.318200e+04        1.318200e+04  \n",
       "mean              2.232184e+06        5.062020e+06  \n",
       "std               1.908716e+07        5.239812e+07  \n",
       "min               0.000000e+00        0.000000e+00  \n",
       "25%               0.000000e+00        1.928942e+05  \n",
       "50%               0.000000e+00        7.276738e+05  \n",
       "75%               9.143967e+05        2.294270e+06  \n",
       "max               1.619696e+09        4.714284e+09  "
      ]
     },
     "execution_count": 259,
     "metadata": {},
     "output_type": "execute_result"
    }
   ],
   "source": [
    "grants = funding(saipe, Laplace(saipe, 5, 0), get_sppe(\"../data/sppe18.xlsx\"), weighting)\n",
    "grants.describe()"
   ]
  },
  {
   "cell_type": "code",
   "execution_count": 283,
   "id": "1f391b0a",
   "metadata": {},
   "outputs": [
    {
     "name": "stdout",
     "output_type": "stream",
     "text": [
      "0.1 0.2 0.30000000000000004 0.4 0.5 0.6 0.7000000000000001 0.8 0.9 1.0 1.1 1.2000000000000002 1.3000000000000003 1.4000000000000001 1.5000000000000002 1.6 1.7000000000000002 1.8000000000000003 1.9000000000000001 2.0 2.1 2.2 2.3000000000000003 2.4000000000000004 2.5000000000000004 2.6 2.7 2.8000000000000003 2.9000000000000004 3.0000000000000004 3.1 3.2 3.3000000000000003 3.4000000000000004 3.5000000000000004 3.6 3.7 3.8000000000000003 3.9000000000000004 4.0 4.1 4.2 4.3 4.3999999999999995 4.5 4.6 4.7 4.8 4.9 5.0 5.1 5.2 5.3 5.4 5.5 5.6 5.7 5.8 5.9 6.0 6.1 6.2 6.3 6.4 6.5 6.6 6.7 6.8 6.9 7.0 7.1 7.2 7.3 7.4 7.5 7.6 7.7 7.8 7.9 8.0 8.1 8.2 8.3 8.4 8.5 8.6 8.7 8.8 8.9 9.0 9.1 9.2 9.3 9.4 9.5 9.6 9.700000000000001 9.8 9.9 10.0 "
     ]
    }
   ],
   "source": [
    "# rmse basic\n",
    "eps = np.linspace(0.1, 10, 100)\n",
    "allocations = []\n",
    "for e in eps:\n",
    "    print(e, end=\" \")\n",
    "    allocations.append(funding(saipe, Laplace(saipe, e, 0), get_sppe(\"../data/sppe18.xlsx\"), weighting, verbose=False))"
   ]
  },
  {
   "cell_type": "code",
   "execution_count": 346,
   "id": "ce219375",
   "metadata": {},
   "outputs": [
    {
     "name": "stdout",
     "output_type": "stream",
     "text": [
      "RMSE at eps=2.5: 4001.5812184365477\n",
      "RMSE at eps=2.5: 4307.852586561397\n"
     ]
    },
    {
     "data": {
      "image/png": "[encoded data removed]",
      "text/plain": [
       "<Figure size 432x288 with 1 Axes>"
      ]
     },
     "metadata": {
      "needs_background": "light"
     },
     "output_type": "display_data"
    },
    {
     "data": {
      "image/png": "[encoded data removed]",
      "text/plain": [
       "<Figure size 432x288 with 1 Axes>"
      ]
     },
     "metadata": {
      "needs_background": "light"
     },
     "output_type": "display_data"
    },
    {
     "name": "stdout",
     "output_type": "stream",
     "text": [
      "RMSE at eps=2.5: 30288.859102284026\n",
      "RMSE at eps=2.5: 61940.03826250608\n"
     ]
    },
    {
     "data": {
      "image/png": "[encoded data removed]",
      "text/plain": [
       "<Figure size 432x288 with 1 Axes>"
      ]
     },
     "metadata": {
      "needs_background": "light"
     },
     "output_type": "display_data"
    },
    {
     "data": {
      "image/png": "[encoded data removed]",
      "text/plain": [
       "<Figure size 432x288 with 1 Axes>"
      ]
     },
     "metadata": {
      "needs_background": "light"
     },
     "output_type": "display_data"
    },
    {
     "name": "stdout",
     "output_type": "stream",
     "text": [
      "RMSE at eps=2.5: 19175.74060586576\n",
      "RMSE at eps=2.5: 21048.14318244785\n"
     ]
    },
    {
     "data": {
      "image/png": "[encoded data removed]",
      "text/plain": [
       "<Figure size 432x288 with 1 Axes>"
      ]
     },
     "metadata": {
      "needs_background": "light"
     },
     "output_type": "display_data"
    },
    {
     "data": {
      "image/png": "[encoded data removed]",
      "text/plain": [
       "<Figure size 432x288 with 1 Axes>"
      ]
     },
     "metadata": {
      "needs_background": "light"
     },
     "output_type": "display_data"
    }
   ],
   "source": [
    "for grant_type in (\"basic\", \"concentration\", \"targeted\"):\n",
    "    mse = []\n",
    "    for alloc, e in zip(allocations, eps):\n",
    "        error = alloc[f\"true_grant_{grant_type}\"]-alloc[f\"est_grant_{grant_type}\"]\n",
    "        mse.append(np.sqrt(sum(error**2)/alloc.shape[0]))\n",
    "        if (e > 2.4 and e < 2.6):\n",
    "            print(\"RMSE at eps=2.5:\", np.sqrt(sum(error**2)/alloc.shape[0]))\n",
    "\n",
    "    plt.plot(eps, mse)\n",
    "    plt.xlabel(\"Epsilon\")\n",
    "    plt.ylabel(f\"{grant_type} grant RMSE\")\n",
    "    plt.show()\n",
    "    \n",
    "    for i in [0, 9, -1]:\n",
    "        e = eps[i]\n",
    "        alloc = allocations[i]\n",
    "        alloc = alloc[(alloc[\"State Postal Code\"] == \"MI\") | (alloc[\"State Postal Code\"] == \"FL\")].sort_values(f\"est_grant_{grant_type}\")\n",
    "        alloc['err'] = alloc[f\"true_grant_{grant_type}\"]-alloc[f\"est_grant_{grant_type}\"]\n",
    "        alloc = alloc.sort_values('err')\n",
    "        plt.scatter(alloc.index.astype('str'), alloc.err, s=2, alpha=0.3, label=f\"eps={e}\")\n",
    "    ax = plt.gca()\n",
    "    ax.legend()\n",
    "    ax.axes.xaxis.set_ticks([])\n",
    "    plt.xlabel(\"District (sorted by error)\")\n",
    "    plt.ylabel(\"Allocation Error\")\n",
    "    plt.title(f\"{grant_type} grants for Michigan & Florida\")\n",
    "    plt.show()"
   ]
  },
  {
   "cell_type": "code",
   "execution_count": null,
   "id": "b93898d3",
   "metadata": {},
   "outputs": [],
   "source": []
  }
 ],
 "metadata": {
  "kernelspec": {
   "display_name": "Python 3",
   "language": "python",
   "name": "python3"
  },
  "language_info": {
   "codemirror_mode": {
    "name": "ipython",
    "version": 3
   },
   "file_extension": ".py",
   "mimetype": "text/x-python",
   "name": "python",
   "nbconvert_exporter": "python",
   "pygments_lexer": "ipython3",
   "version": "3.9.2"
  }
 },
 "nbformat": 4,
 "nbformat_minor": 5
}
